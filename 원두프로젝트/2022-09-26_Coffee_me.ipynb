{
 "cells": [
  {
   "cell_type": "code",
   "execution_count": 1,
   "metadata": {},
   "outputs": [],
   "source": [
    "from selenium import webdriver\n",
    "from webdriver_manager.chrome import ChromeDriverManager\n",
    "import pandas as pd\n",
    "from bs4 import BeautifulSoup as bs\n",
    "from selenium.webdriver.common.keys import Keys\n",
    "from selenium.webdriver.common.action_chains import ActionChains\n",
    "import time\n",
    "from tqdm import tqdm_notebook as tqdm\n",
    "import requests as req"
   ]
  },
  {
   "cell_type": "code",
   "execution_count": 21,
   "metadata": {},
   "outputs": [],
   "source": [
    "driver = webdriver.Chrome(ChromeDriverManager().install())\n",
    "#driver.get('https://www.amazon.com/Nespresso-VertuoPlus-Espresso-DeLonghi-Aeroccino/dp/B01MTZ419O/ref=sr_1_2?crid=2SMG4SVV7J820&keywords=Nespresso+VertuoPlus+Coffee+and+Espresso+Machine+by+De%27Longhi+with+Milk+Frother%2C+Grey&qid=1664185758&qu=eyJxc2MiOiIwLjAwIiwicXNhIjoiMC4wMCIsInFzcCI6IjAuMDAifQ%3D%3D&sprefix=nespresso+vertuoplus+coffee+and+espresso+machine+by+de%27longhi+with+milk+frother%2C+grey%2Caps%2C232&sr=8-2')\n",
    "driver.get('https://www.amazon.com/Nespresso-VertuoPlus-Espresso-DeLonghi-Aeroccino/product-reviews/B01N1QSB6J/ref=cm_cr_dp_d_show_all_btm?ie=UTF8&reviewerType=all_reviews')\n",
    "time.sleep(1)"
   ]
  },
  {
   "cell_type": "code",
   "execution_count": 22,
   "metadata": {},
   "outputs": [],
   "source": [
    "name_list = []\n",
    "score_list = []\n",
    "date_list = []\n",
    "style_list = []\n",
    "review_list = []\n",
    "\n",
    "while True:\n",
    "    try:\n",
    "        star = bs(driver.page_source, \"html.parser\")\n",
    "        score = star.find_all(\"i\",{'data-hook':\"review-star-rating\"})\n",
    "        date = driver.find_elements_by_css_selector('span.a-size-base.a-color-secondary.review-date')\n",
    "        style = driver.find_elements_by_css_selector('a.a-size-mini.a-link-normal.a-color-secondary')\n",
    "        review = driver.find_elements_by_css_selector(\"div.a-row.a-spacing-small.review-data\")\n",
    "        #time.sleep(1)\n",
    "        for i in score:\n",
    "            score_list.append(i.text)\n",
    "        for i in date:\n",
    "            date_list.append(i.text)\n",
    "        for i in style:\n",
    "            style_list.append(i.text)\n",
    "        for i in review:\n",
    "            review_list.append(i.text)\n",
    "        #time.sleep(1)\n",
    "        btn = driver.find_element_by_css_selector('#cm_cr-pagination_bar > ul > li.a-last')\n",
    "        btn.click()\n",
    "        time.sleep(2)\n",
    "    except:\n",
    "        break"
   ]
  },
  {
   "cell_type": "code",
   "execution_count": 23,
   "metadata": {},
   "outputs": [
    {
     "data": {
      "text/plain": [
       "(1560, 1872, 1560, 1560)"
      ]
     },
     "execution_count": 23,
     "metadata": {},
     "output_type": "execute_result"
    }
   ],
   "source": [
    "len(score_list),len(date_list),len(style_list),len(review_list)"
   ]
  },
  {
   "cell_type": "code",
   "execution_count": 24,
   "metadata": {},
   "outputs": [],
   "source": [
    "Coffee1 = {'Star': score_list, 'Style' : style_list, 'Review' : review_list}"
   ]
  },
  {
   "cell_type": "code",
   "execution_count": 28,
   "metadata": {},
   "outputs": [],
   "source": [
    "Coffee2 = {'Date': date_list}"
   ]
  },
  {
   "cell_type": "code",
   "execution_count": 29,
   "metadata": {},
   "outputs": [],
   "source": [
    "coffee1 = pd.DataFrame(Coffee1)\n",
    "coffee2 = pd.DataFrame(Coffee2)"
   ]
  },
  {
   "cell_type": "code",
   "execution_count": 31,
   "metadata": {},
   "outputs": [],
   "source": [
    "coffee = pd.concat([coffee1, coffee2],axis=1)\n",
    "coffee.to_csv('coffee.csv')"
   ]
  },
  {
   "cell_type": "code",
   "execution_count": 38,
   "metadata": {},
   "outputs": [],
   "source": [
    "date = pd.read_csv('coffee.csv',encoding='utf-8')\n",
    "cafe = date.head(1560)"
   ]
  },
  {
   "cell_type": "code",
   "execution_count": 40,
   "metadata": {},
   "outputs": [],
   "source": [
    "cafe.to_csv('cafe.csv')"
   ]
  },
  {
   "cell_type": "code",
   "execution_count": 41,
   "metadata": {},
   "outputs": [
    {
     "data": {
      "text/html": [
       "<div>\n",
       "<style scoped>\n",
       "    .dataframe tbody tr th:only-of-type {\n",
       "        vertical-align: middle;\n",
       "    }\n",
       "\n",
       "    .dataframe tbody tr th {\n",
       "        vertical-align: top;\n",
       "    }\n",
       "\n",
       "    .dataframe thead th {\n",
       "        text-align: right;\n",
       "    }\n",
       "</style>\n",
       "<table border=\"1\" class=\"dataframe\">\n",
       "  <thead>\n",
       "    <tr style=\"text-align: right;\">\n",
       "      <th></th>\n",
       "      <th>Unnamed: 0</th>\n",
       "      <th>Star</th>\n",
       "      <th>Style</th>\n",
       "      <th>Review</th>\n",
       "      <th>Date</th>\n",
       "    </tr>\n",
       "  </thead>\n",
       "  <tbody>\n",
       "    <tr>\n",
       "      <th>0</th>\n",
       "      <td>0</td>\n",
       "      <td>5.0 out of 5 stars</td>\n",
       "      <td>Style: Machine + AeroColor: Gray</td>\n",
       "      <td>\"Is this a good coffee maker?\" Well, that's go...</td>\n",
       "      <td>Reviewed in the United States on December 15, ...</td>\n",
       "    </tr>\n",
       "    <tr>\n",
       "      <th>1</th>\n",
       "      <td>1</td>\n",
       "      <td>5.0 out of 5 stars</td>\n",
       "      <td>Style: Machine OnlyColor: Black</td>\n",
       "      <td>We have used this machine daily since purchase...</td>\n",
       "      <td>Reviewed in the United States on November 28, ...</td>\n",
       "    </tr>\n",
       "    <tr>\n",
       "      <th>2</th>\n",
       "      <td>2</td>\n",
       "      <td>5.0 out of 5 stars</td>\n",
       "      <td>Style: Machine OnlyColor: Gray</td>\n",
       "      <td>The inside box that the machine came in had be...</td>\n",
       "      <td>Reviewed in the United States on December 10, ...</td>\n",
       "    </tr>\n",
       "    <tr>\n",
       "      <th>3</th>\n",
       "      <td>3</td>\n",
       "      <td>5.0 out of 5 stars</td>\n",
       "      <td>Style: Machine + AeroColor: Titan</td>\n",
       "      <td>I’m loving this machine! I’ve had many differe...</td>\n",
       "      <td>Reviewed in the United States on September 15,...</td>\n",
       "    </tr>\n",
       "    <tr>\n",
       "      <th>4</th>\n",
       "      <td>4</td>\n",
       "      <td>5.0 out of 5 stars</td>\n",
       "      <td>Style: Machine OnlyColor: Black</td>\n",
       "      <td>This is the best purchase! My fiancé and I use...</td>\n",
       "      <td>Reviewed in the United States on September 24,...</td>\n",
       "    </tr>\n",
       "    <tr>\n",
       "      <th>...</th>\n",
       "      <td>...</td>\n",
       "      <td>...</td>\n",
       "      <td>...</td>\n",
       "      <td>...</td>\n",
       "      <td>...</td>\n",
       "    </tr>\n",
       "    <tr>\n",
       "      <th>1555</th>\n",
       "      <td>1555</td>\n",
       "      <td>별 5개 중 1.0</td>\n",
       "      <td>스타일: 머신 + 에어로색상: 블랙</td>\n",
       "      <td>We bought this after hearing great things and ...</td>\n",
       "      <td>미국에서 2019년 2월 28일에 검토됨</td>\n",
       "    </tr>\n",
       "    <tr>\n",
       "      <th>1556</th>\n",
       "      <td>1556</td>\n",
       "      <td>별 5개 중 5.0</td>\n",
       "      <td>스타일: 기계 전용색상: 그레이</td>\n",
       "      <td>Love....Love.....Love my Nespresso!!</td>\n",
       "      <td>미국에서 2018년 2월 21일에 검토됨</td>\n",
       "    </tr>\n",
       "    <tr>\n",
       "      <th>1557</th>\n",
       "      <td>1557</td>\n",
       "      <td>별 5개 중 1.0</td>\n",
       "      <td>스타일: 기계 전용색상: 그레이</td>\n",
       "      <td>Consumer beware\\n\\nDon't be fool like I was .....</td>\n",
       "      <td>미국에서 2019년 4월 3일에 검토됨</td>\n",
       "    </tr>\n",
       "    <tr>\n",
       "      <th>1558</th>\n",
       "      <td>1558</td>\n",
       "      <td>별 5개 중 1.0</td>\n",
       "      <td>스타일: 기계 전용색상: 그레이</td>\n",
       "      <td>Terrible experience with this selller. Product...</td>\n",
       "      <td>미국에서 2018년 12월 12일에 검토됨</td>\n",
       "    </tr>\n",
       "    <tr>\n",
       "      <th>1559</th>\n",
       "      <td>1559</td>\n",
       "      <td>별 5개 중 1.0</td>\n",
       "      <td>스타일: 기계 전용색상: 그레이</td>\n",
       "      <td>Unfortunately my machine broke after not even ...</td>\n",
       "      <td>미국에서 2019년 5월 10일에 검토됨</td>\n",
       "    </tr>\n",
       "  </tbody>\n",
       "</table>\n",
       "<p>1560 rows × 5 columns</p>\n",
       "</div>"
      ],
      "text/plain": [
       "      Unnamed: 0                Star                              Style  \\\n",
       "0              0  5.0 out of 5 stars   Style: Machine + AeroColor: Gray   \n",
       "1              1  5.0 out of 5 stars    Style: Machine OnlyColor: Black   \n",
       "2              2  5.0 out of 5 stars     Style: Machine OnlyColor: Gray   \n",
       "3              3  5.0 out of 5 stars  Style: Machine + AeroColor: Titan   \n",
       "4              4  5.0 out of 5 stars    Style: Machine OnlyColor: Black   \n",
       "...          ...                 ...                                ...   \n",
       "1555        1555          별 5개 중 1.0                스타일: 머신 + 에어로색상: 블랙   \n",
       "1556        1556          별 5개 중 5.0                  스타일: 기계 전용색상: 그레이   \n",
       "1557        1557          별 5개 중 1.0                  스타일: 기계 전용색상: 그레이   \n",
       "1558        1558          별 5개 중 1.0                  스타일: 기계 전용색상: 그레이   \n",
       "1559        1559          별 5개 중 1.0                  스타일: 기계 전용색상: 그레이   \n",
       "\n",
       "                                                 Review  \\\n",
       "0     \"Is this a good coffee maker?\" Well, that's go...   \n",
       "1     We have used this machine daily since purchase...   \n",
       "2     The inside box that the machine came in had be...   \n",
       "3     I’m loving this machine! I’ve had many differe...   \n",
       "4     This is the best purchase! My fiancé and I use...   \n",
       "...                                                 ...   \n",
       "1555  We bought this after hearing great things and ...   \n",
       "1556               Love....Love.....Love my Nespresso!!   \n",
       "1557  Consumer beware\\n\\nDon't be fool like I was .....   \n",
       "1558  Terrible experience with this selller. Product...   \n",
       "1559  Unfortunately my machine broke after not even ...   \n",
       "\n",
       "                                                   Date  \n",
       "0     Reviewed in the United States on December 15, ...  \n",
       "1     Reviewed in the United States on November 28, ...  \n",
       "2     Reviewed in the United States on December 10, ...  \n",
       "3     Reviewed in the United States on September 15,...  \n",
       "4     Reviewed in the United States on September 24,...  \n",
       "...                                                 ...  \n",
       "1555                             미국에서 2019년 2월 28일에 검토됨  \n",
       "1556                             미국에서 2018년 2월 21일에 검토됨  \n",
       "1557                              미국에서 2019년 4월 3일에 검토됨  \n",
       "1558                            미국에서 2018년 12월 12일에 검토됨  \n",
       "1559                             미국에서 2019년 5월 10일에 검토됨  \n",
       "\n",
       "[1560 rows x 5 columns]"
      ]
     },
     "execution_count": 41,
     "metadata": {},
     "output_type": "execute_result"
    }
   ],
   "source": [
    "cafe"
   ]
  },
  {
   "cell_type": "markdown",
   "metadata": {},
   "source": [
    "**star : 한자리숫자  color : 스타일에서 컬러부터 쪼개기   Date : 년 월 일 만 갖고오기 Datetime으로**"
   ]
  }
 ],
 "metadata": {
  "kernelspec": {
   "display_name": "Python 3.9.12 ('base')",
   "language": "python",
   "name": "python3"
  },
  "language_info": {
   "codemirror_mode": {
    "name": "ipython",
    "version": 3
   },
   "file_extension": ".py",
   "mimetype": "text/x-python",
   "name": "python",
   "nbconvert_exporter": "python",
   "pygments_lexer": "ipython3",
   "version": "3.9.12"
  },
  "orig_nbformat": 4,
  "vscode": {
   "interpreter": {
    "hash": "4fb426db0f3ee2be9e5ab359abf5d058c2a19de96b4d6eda446b2c3017042fa6"
   }
  }
 },
 "nbformat": 4,
 "nbformat_minor": 2
}
