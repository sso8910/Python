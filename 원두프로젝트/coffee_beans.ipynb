{
 "cells": [
  {
   "cell_type": "code",
   "execution_count": 1,
   "metadata": {},
   "outputs": [],
   "source": [
    "from selenium import webdriver\n",
    "from webdriver_manager.chrome import ChromeDriverManager\n",
    "import pandas as pd\n",
    "from bs4 import BeautifulSoup as bs\n",
    "from selenium.webdriver.common.keys import Keys\n",
    "from selenium.webdriver.common.action_chains import ActionChains\n",
    "import time\n",
    "from tqdm import tqdm_notebook as tqdm\n",
    "import requests as req"
   ]
  },
  {
   "cell_type": "code",
   "execution_count": 2,
   "metadata": {},
   "outputs": [],
   "source": [
    "driver = webdriver.Chrome(ChromeDriverManager().install())\n",
    "driver.get('https://delphinard.tistory.com/17')\n",
    "time.sleep(3)"
   ]
  },
  {
   "cell_type": "code",
   "execution_count": 3,
   "metadata": {},
   "outputs": [
    {
     "name": "stderr",
     "output_type": "stream",
     "text": [
      "C:\\Users\\user\\AppData\\Local\\Temp\\ipykernel_12180\\1571870877.py:3: TqdmDeprecationWarning: This function will be removed in tqdm==5.0.0\n",
      "Please use `tqdm.notebook.tqdm` instead of `tqdm.tqdm_notebook`\n",
      "  for i in tqdm(range(32,153)):\n"
     ]
    },
    {
     "data": {
      "application/vnd.jupyter.widget-view+json": {
       "model_id": "dbec5e053d1b47d18f88d52268dcb202",
       "version_major": 2,
       "version_minor": 0
      },
      "text/plain": [
       "  0%|          | 0/121 [00:00<?, ?it/s]"
      ]
     },
     "metadata": {},
     "output_type": "display_data"
    }
   ],
   "source": [
    "story_list=[]\n",
    "\n",
    "for i in tqdm(range(32,153)):\n",
    "    story = driver.find_elements_by_css_selector('#content > div.inner > div.entry-content > div > p:nth-child({})'.format(i))\n",
    "    for i in story:\n",
    "        story_list.append(i.text)\n",
    "    time.sleep(1)"
   ]
  },
  {
   "cell_type": "code",
   "execution_count": 6,
   "metadata": {},
   "outputs": [
    {
     "name": "stdout",
     "output_type": "stream",
     "text": [
      "['달콤하면서 독특한 호두 향이 특징', ' ', '가장 대중적인 맛으로 평가되고 마일드 커피의 대명사로 불립니다.', ' ', '대표적인 품종은 콜롬비아 수프리모로 단맛이 강하고 새콤한 맛과 어우러지며 바디감이 부드러워', ' ', '커피 입문자에게 좋다고 합니다.', ' ', ' ', '브라질', ' ', '중성적이면서 부드러운 신맛이 특징', ' ', '산토스 원두는 쓴맛이 적고 부드러워 여러 종류의 원두를 섞는 블렌딩 베이스로 많이 쓰입니다.', ' ', ' ', '과테말라', ' ', '생산 지역마다 개성이 강하며, 스모크 커피의 대명사', ' ', '안티구아 커피는 진한 초콜릿의 달콤 쌉쌀한 맛과 연기가 타는 듯한 향이 특징', ' ', ' ', '하와이 코나', ' ', '풀이나 나무를 연상시키는 달콤한 향과 감귤계 과실향, 파인애플향이 나고, 신맛이 나는 부드러움이 특징', ' ', '커피재배의 최적인 토양과 기후를 구비하고 있어 고급품으로 알려져 있어요', ' ', ' ', '자메이카', ' ', '블루마운틴은 커피의 황제라고 불리며, 커피의 향이 강하면서 은은해서 진하게 추출해도 맛이 부드럽고 ', ' ', '신맛과 초콜릿 맛이 잘 어울어져 있음', ' ', '1년에 3만 포대만 생산되는 만큼 희귀하고, 값비싼 원두로 영국 황실에 납품됩니다.', ' ', ' ', '코스타리카', ' ', '코스타리카 따라주는 단맛을 느끼기 좋은 원두입니다. ', ' ', '상큼한 신맛과 아로마향이 나며 맛이 굉장히 깔끔하다고 합니다.', ' ', ' ', ' ', ' ', '에티오피아', ' ', '아라비카 커피의 원산지이며, 꽃향기가 나고 카페인이 적은편입니다.', ' ', '예가체프는 열대 과일의 진한 향기와 강한 신맛이 특징으로 여성스러운 맛의 커피 입니다.', ' ', '시다모의 경우, 꽃향기가 나고 카페인이 적어 주로 저녁에 마시기 좋습니다.', ' ', ' ', '탄자니아', ' ', '가장 아프리카 커피다운 맛으로 깔끔하면서도 와인 같은 풍미를 냅니다.', ' ', '킬리만자로 산에서 생산되는 커피들은 강한 향과 상쾌함이 곁들어진 풍부한 맛을 자랑합니다.', ' ', ' ', '케냐', ' ', '복합적인 신맛과 바디감이 균형을 이루어, 열대과일을 한입 깨물고 난 후의 풍미, 감귤과 와인을 연상시키는 특징이 있어요,', ' ', '국가에서 커피 품질 관리를 하여 원두가 일정한 품질을 갖고 있어 세계적으로 인정받는 고급 커피중 하나입니다.', ' ', '케냐AA는 강하게 볶을 수록 감미로운 향과 단맛이 강해져 매니아 층이 많다고 합니다.', ' ', ' ', '짐바브웨', ' ', '끝맛이 씁쓸하고 은은한 와인향이 특징으로', ' ', '케냐AA와 비슷한 느낌이 나고, 강하고 풍부한 과일향이 납니다.', ' ', '바디감은 약간 묵직한 편이고, 와인의 향이 나서 아이스 커피로 잘 어울린다고 합니다.', ' ', ' ', '예멘', ' ', '예멘의 모카 마타리는 커피 원두 중 가장 오랜 역사를 가지고 있으며,', ' ', '빈센트 반 고흐가 즐겨 마신걸로 유명합니다.', ' ', '세계 3대 명품 커피로 다크초콜릿 향이 느껴지며 숙성된 레드와인 맛이 특징입니다.', ' ', '산미가 높은 편이여서 새콤하면서 쓴맛이 조화롭게 이루어진 원두 입니다.', ' ', ' ', ' ', ' ', '인도', ' ', '로부스타의 경우 초콜릿 향이 강하고 바디감이 좋아 선호도가 높아요', ' ', '아라비카는 단맛과 약한 산미, 좋은 바디감이 특징이에요', ' ', '유럽에서 에스프레소 블렌딩에 만힝 사용하고 있습니다.', ' ', ' ', '인도네시아', ' ', '수마트라 만델링 커피는 감칠맛이 있고 향신료와 과일을 연상시키는 다양한 요소가 종합된 복합적인 향미가 특징입니다.', '흙맛, 풀맛, 버섯냄새는 수마트라 만델링의 특징으로 스며든 외부의 맛이에요', ' ', '만델링은 유럽에서 인기가 좋고, 굉장히 부드럽지만 강한 커피 농도를 느낄 수 있고,', ' ', '향이 입안에 풍부하게 퍼지며 초콜릿 맛을 느낄 수 있는 단맛 까지 더해져 많은 사랑을 받고 잇어요', ' ', ' ', '베트남', ' ', '세계에서 두번째로 많은 커피 생산량을 자랑합니다.', ' ', '로부스타의 중심으로 불리며, 무거운 바디감과 쓴 맛, 고소한 맛이 특징이에요']\n"
     ]
    }
   ],
   "source": [
    "print(story_list)"
   ]
  },
  {
   "cell_type": "code",
   "execution_count": null,
   "metadata": {},
   "outputs": [],
   "source": [
    "//*[@id=\"content\"]/div[1]/div[2]/div/p[78]/span/u/i\n",
    "//*[@id=\"content\"]/div[1]/div[2]/div/p[87]/span/u/i\n",
    "//*[@id=\"content\"]/div[1]/div[2]/div/p[39]/span/u/i\n",
    "//*[@id=\"content\"]/div[1]/div[2]/div/p[46]/span/u/i\n",
    "//*[@id=\"content\"]/div[1]/div[2]/div/p[28]/u/span/i/b\n",
    "\n",
    "#content > div.inner > div.entry-content > div > p:nth-child(41) > span > u > i\n",
    "#content > div.inner > div.entry-content > div > p:nth-child(48) > span > u > i\n",
    "#content > div.inner > div.entry-content > div > p:nth-child(148) > span > u > i\n",
    "#content > div.inner > div.entry-content > div > p:nth-child(30) > u > span > i > b"
   ]
  },
  {
   "cell_type": "code",
   "execution_count": 10,
   "metadata": {},
   "outputs": [
    {
     "name": "stderr",
     "output_type": "stream",
     "text": [
      "C:\\Users\\user\\AppData\\Local\\Temp\\ipykernel_12180\\24306186.py:3: TqdmDeprecationWarning: This function will be removed in tqdm==5.0.0\n",
      "Please use `tqdm.notebook.tqdm` instead of `tqdm.tqdm_notebook`\n",
      "  for i in tqdm(range(41,149)):\n"
     ]
    },
    {
     "data": {
      "application/vnd.jupyter.widget-view+json": {
       "model_id": "daa327f0c8694966bbf3ad86880d601b",
       "version_major": 2,
       "version_minor": 0
      },
      "text/plain": [
       "  0%|          | 0/108 [00:00<?, ?it/s]"
      ]
     },
     "metadata": {},
     "output_type": "display_data"
    }
   ],
   "source": [
    "city_list=[]\n",
    "\n",
    "for i in tqdm(range(41,149)):\n",
    "    city = driver.find_elements_by_css_selector('#content > div.inner > div.entry-content > div > p:nth-child({}) > span > u > i'.format(i))\n",
    "    for i in city:\n",
    "        city_list.append(i.text)\n",
    "    time.sleep(0.5)"
   ]
  },
  {
   "cell_type": "code",
   "execution_count": 11,
   "metadata": {},
   "outputs": [
    {
     "name": "stdout",
     "output_type": "stream",
     "text": [
      "['브라질', '과테말라', '자메이카', '코스타리카', '에티오피아', '탄자니아', '케냐', '짐바브웨', '예멘', '인도', '인도네시아', '베트남']\n"
     ]
    }
   ],
   "source": [
    "print(city_list)"
   ]
  },
  {
   "cell_type": "code",
   "execution_count": 16,
   "metadata": {},
   "outputs": [],
   "source": [
    "a_list=[]\n",
    "a=driver.find_element_by_css_selector('#content > div.inner > div.entry-content > div > p:nth-child(30) > u > span > i > b')\n",
    "a_list.append(i.text)"
   ]
  },
  {
   "cell_type": "code",
   "execution_count": 17,
   "metadata": {},
   "outputs": [
    {
     "name": "stdout",
     "output_type": "stream",
     "text": [
      "['베트남']\n"
     ]
    }
   ],
   "source": [
    "print(a_list)"
   ]
  }
 ],
 "metadata": {
  "kernelspec": {
   "display_name": "Python 3.9.12 ('base')",
   "language": "python",
   "name": "python3"
  },
  "language_info": {
   "codemirror_mode": {
    "name": "ipython",
    "version": 3
   },
   "file_extension": ".py",
   "mimetype": "text/x-python",
   "name": "python",
   "nbconvert_exporter": "python",
   "pygments_lexer": "ipython3",
   "version": "3.9.12"
  },
  "orig_nbformat": 4,
  "vscode": {
   "interpreter": {
    "hash": "a077222d77dfe082b8f1dd562ad70e458ac2ab76993a0b248ab0476e32e9e8dd"
   }
  }
 },
 "nbformat": 4,
 "nbformat_minor": 2
}
