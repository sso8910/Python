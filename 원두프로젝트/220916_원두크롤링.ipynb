{
 "cells": [
  {
   "cell_type": "code",
   "execution_count": 1,
   "id": "1c37bf39",
   "metadata": {},
   "outputs": [],
   "source": [
    "import requests as req"
   ]
  },
  {
   "cell_type": "code",
   "execution_count": 2,
   "id": "469c0276",
   "metadata": {},
   "outputs": [
    {
     "name": "stdout",
     "output_type": "stream",
     "text": [
      "Requirement already satisfied: bs4 in c:\\users\\user\\anaconda3\\lib\\site-packages (0.0.1)\n",
      "Requirement already satisfied: beautifulsoup4 in c:\\users\\user\\anaconda3\\lib\\site-packages (from bs4) (4.11.1)\n",
      "Requirement already satisfied: soupsieve>1.2 in c:\\users\\user\\anaconda3\\lib\\site-packages (from beautifulsoup4->bs4) (2.3.1)\n"
     ]
    }
   ],
   "source": [
    "!pip install bs4    \n",
    "from bs4 import BeautifulSoup as bs"
   ]
  },
  {
   "cell_type": "code",
   "execution_count": 75,
   "id": "f4eba8d9",
   "metadata": {},
   "outputs": [],
   "source": [
    "from selenium import webdriver\n",
    "from bs4 import BeautifulSoup as bs\n",
    "from webdriver_manager.chrome import ChromeDriverManager\n",
    "from selenium.webdriver.common.keys import Keys\n",
    "from tqdm import tqdm\n",
    "import time\n",
    "import pandas as pd"
   ]
  },
  {
   "cell_type": "code",
   "execution_count": 76,
   "id": "2eecd9f4",
   "metadata": {},
   "outputs": [],
   "source": [
    "driver = webdriver.Chrome(ChromeDriverManager().install())\n",
    "driver.get('https://www.amazon.com/')\n",
    "driver.maximize_window()"
   ]
  },
  {
   "cell_type": "code",
   "execution_count": 77,
   "id": "f6cb8080",
   "metadata": {},
   "outputs": [],
   "source": [
    "search = driver.find_element_by_css_selector('#twotabsearchtextbox')"
   ]
  },
  {
   "cell_type": "code",
   "execution_count": 78,
   "id": "644f8aa9",
   "metadata": {},
   "outputs": [],
   "source": [
    "search.send_keys('coffee beans')\n",
    "search.send_keys(Keys.ENTER)\n",
    "time.sleep(3)"
   ]
  },
  {
   "cell_type": "code",
   "execution_count": 7,
   "id": "c4ca5809",
   "metadata": {},
   "outputs": [],
   "source": [
    "img = driver.find_element_by_css_selector('img.s-image')\n",
    "img.click()\n",
    "time.sleep(1)"
   ]
  },
  {
   "cell_type": "code",
   "execution_count": 8,
   "id": "f91eae67",
   "metadata": {},
   "outputs": [
    {
     "data": {
      "text/plain": [
       "'Mt. Comfort Coffee Costa Rica Medium Roast, 2.5 lb Bag - Sourced From Local, Costa Rican Coffee Farms - Roasted Whole Bean'"
      ]
     },
     "execution_count": 8,
     "metadata": {},
     "output_type": "execute_result"
    }
   ],
   "source": [
    "title = driver.find_element_by_css_selector('#productTitle')\n",
    "title.text"
   ]
  },
  {
   "cell_type": "code",
   "execution_count": 9,
   "id": "d2e80055",
   "metadata": {},
   "outputs": [],
   "source": [
    "product=title.text"
   ]
  },
  {
   "cell_type": "code",
   "execution_count": 27,
   "id": "90e9bd15",
   "metadata": {},
   "outputs": [
    {
     "data": {
      "text/plain": [
       "9"
      ]
     },
     "execution_count": 27,
     "metadata": {},
     "output_type": "execute_result"
    }
   ],
   "source": [
    "review_hd = driver.find_elements_by_css_selector('a > div.a-profile-content > span')\n",
    "len(review_hd)"
   ]
  },
  {
   "cell_type": "code",
   "execution_count": 11,
   "id": "7234342b",
   "metadata": {},
   "outputs": [
    {
     "data": {
      "text/plain": [
       "8"
      ]
     },
     "execution_count": 11,
     "metadata": {},
     "output_type": "execute_result"
    }
   ],
   "source": [
    "review = driver.find_elements_by_css_selector('div.a-expander-content.reviewText.review-text-content.a-expander-partial-collapse-content')\n",
    "len(review)"
   ]
  },
  {
   "cell_type": "code",
   "execution_count": 12,
   "id": "8825f3f9",
   "metadata": {},
   "outputs": [],
   "source": [
    "review_hd_list=[]\n",
    "for i in review_hd:\n",
    "    review_hd_list.append(i.text)"
   ]
  },
  {
   "cell_type": "code",
   "execution_count": 13,
   "id": "d8b19f20",
   "metadata": {},
   "outputs": [],
   "source": [
    "review_list=[]\n",
    "for i in review:\n",
    "    review_list.append(i.text)"
   ]
  },
  {
   "cell_type": "code",
   "execution_count": 14,
   "id": "fc7d02e3",
   "metadata": {},
   "outputs": [],
   "source": [
    "data={'리뷰제목':review_hd_list,'리뷰내용':review_list}"
   ]
  },
  {
   "cell_type": "code",
   "execution_count": 5,
   "id": "7984494a",
   "metadata": {},
   "outputs": [
    {
     "ename": "NameError",
     "evalue": "name 'data' is not defined",
     "output_type": "error",
     "traceback": [
      "\u001b[1;31m---------------------------------------------------------------------------\u001b[0m",
      "\u001b[1;31mNameError\u001b[0m                                 Traceback (most recent call last)",
      "Input \u001b[1;32mIn [5]\u001b[0m, in \u001b[0;36m<cell line: 1>\u001b[1;34m()\u001b[0m\n\u001b[1;32m----> 1\u001b[0m result\u001b[38;5;241m=\u001b[39mpd\u001b[38;5;241m.\u001b[39mDataFrame(\u001b[43mdata\u001b[49m)\n\u001b[0;32m      2\u001b[0m result\n",
      "\u001b[1;31mNameError\u001b[0m: name 'data' is not defined"
     ]
    }
   ],
   "source": [
    "result=pd.DataFrame(data)\n",
    "result"
   ]
  },
  {
   "cell_type": "code",
   "execution_count": 16,
   "id": "2b558e0d",
   "metadata": {
    "scrolled": true
   },
   "outputs": [
    {
     "data": {
      "text/html": [
       "<div>\n",
       "<style scoped>\n",
       "    .dataframe tbody tr th:only-of-type {\n",
       "        vertical-align: middle;\n",
       "    }\n",
       "\n",
       "    .dataframe tbody tr th {\n",
       "        vertical-align: top;\n",
       "    }\n",
       "\n",
       "    .dataframe thead th {\n",
       "        text-align: right;\n",
       "    }\n",
       "</style>\n",
       "<table border=\"1\" class=\"dataframe\">\n",
       "  <thead>\n",
       "    <tr style=\"text-align: right;\">\n",
       "      <th></th>\n",
       "      <th>리뷰제목</th>\n",
       "      <th>리뷰내용</th>\n",
       "      <th>제품명</th>\n",
       "    </tr>\n",
       "  </thead>\n",
       "  <tbody>\n",
       "    <tr>\n",
       "      <th>0</th>\n",
       "      <td>Mt. Comfort backs their product!</td>\n",
       "      <td>We sadly received a broken bag of coffee beans...</td>\n",
       "      <td>Mt. Comfort Coffee Costa Rica Medium Roast, 2....</td>\n",
       "    </tr>\n",
       "    <tr>\n",
       "      <th>1</th>\n",
       "      <td>Wonderful coffee</td>\n",
       "      <td>I’ve seen and purchased this coffee at Costco,...</td>\n",
       "      <td>Mt. Comfort Coffee Costa Rica Medium Roast, 2....</td>\n",
       "    </tr>\n",
       "    <tr>\n",
       "      <th>2</th>\n",
       "      <td>Amazing coffee at an amazing price - finally!</td>\n",
       "      <td>This coffee is so smooth. Amazing coffee shop ...</td>\n",
       "      <td>Mt. Comfort Coffee Costa Rica Medium Roast, 2....</td>\n",
       "    </tr>\n",
       "    <tr>\n",
       "      <th>3</th>\n",
       "      <td>The bag breaks very easily</td>\n",
       "      <td>The bag breaks way too easily</td>\n",
       "      <td>Mt. Comfort Coffee Costa Rica Medium Roast, 2....</td>\n",
       "    </tr>\n",
       "    <tr>\n",
       "      <th>4</th>\n",
       "      <td>More than just coffee beans included.</td>\n",
       "      <td>Was not going to review product, but in every ...</td>\n",
       "      <td>Mt. Comfort Coffee Costa Rica Medium Roast, 2....</td>\n",
       "    </tr>\n",
       "    <tr>\n",
       "      <th>5</th>\n",
       "      <td>Decent quality for inexpensive coffee</td>\n",
       "      <td>Provides a pleasant but not outstanding or dis...</td>\n",
       "      <td>Mt. Comfort Coffee Costa Rica Medium Roast, 2....</td>\n",
       "    </tr>\n",
       "    <tr>\n",
       "      <th>6</th>\n",
       "      <td>My favorite coffee</td>\n",
       "      <td>I had been buying Costa Rican coffee for years...</td>\n",
       "      <td>Mt. Comfort Coffee Costa Rica Medium Roast, 2....</td>\n",
       "    </tr>\n",
       "    <tr>\n",
       "      <th>7</th>\n",
       "      <td>Definitely impressed</td>\n",
       "      <td>When the auto shipment of my usual brand was u...</td>\n",
       "      <td>Mt. Comfort Coffee Costa Rica Medium Roast, 2....</td>\n",
       "    </tr>\n",
       "  </tbody>\n",
       "</table>\n",
       "</div>"
      ],
      "text/plain": [
       "                                            리뷰제목  \\\n",
       "0               Mt. Comfort backs their product!   \n",
       "1                               Wonderful coffee   \n",
       "2  Amazing coffee at an amazing price - finally!   \n",
       "3                     The bag breaks very easily   \n",
       "4          More than just coffee beans included.   \n",
       "5          Decent quality for inexpensive coffee   \n",
       "6                             My favorite coffee   \n",
       "7                           Definitely impressed   \n",
       "\n",
       "                                                리뷰내용  \\\n",
       "0  We sadly received a broken bag of coffee beans...   \n",
       "1  I’ve seen and purchased this coffee at Costco,...   \n",
       "2  This coffee is so smooth. Amazing coffee shop ...   \n",
       "3                      The bag breaks way too easily   \n",
       "4  Was not going to review product, but in every ...   \n",
       "5  Provides a pleasant but not outstanding or dis...   \n",
       "6  I had been buying Costa Rican coffee for years...   \n",
       "7  When the auto shipment of my usual brand was u...   \n",
       "\n",
       "                                                 제품명  \n",
       "0  Mt. Comfort Coffee Costa Rica Medium Roast, 2....  \n",
       "1  Mt. Comfort Coffee Costa Rica Medium Roast, 2....  \n",
       "2  Mt. Comfort Coffee Costa Rica Medium Roast, 2....  \n",
       "3  Mt. Comfort Coffee Costa Rica Medium Roast, 2....  \n",
       "4  Mt. Comfort Coffee Costa Rica Medium Roast, 2....  \n",
       "5  Mt. Comfort Coffee Costa Rica Medium Roast, 2....  \n",
       "6  Mt. Comfort Coffee Costa Rica Medium Roast, 2....  \n",
       "7  Mt. Comfort Coffee Costa Rica Medium Roast, 2....  "
      ]
     },
     "execution_count": 16,
     "metadata": {},
     "output_type": "execute_result"
    }
   ],
   "source": [
    "result['제품명']=product\n",
    "result"
   ]
  },
  {
   "cell_type": "code",
   "execution_count": 72,
   "id": "833d509b",
   "metadata": {},
   "outputs": [],
   "source": [
    "review_head_list=[]\n",
    "review_list=[]\n",
    "\n",
    "soup=bs(driver.page_source,'html.parser')\n",
    "a=soup.find_all('a',{'data-hook':\"review-title\"})\n",
    "b=soup.find_all('span',{'data-hook':\"review-title\"})\n",
    "new = a+b\n",
    "for i in new:\n",
    "    review_head_list.append(i.text)"
   ]
  },
  {
   "cell_type": "code",
   "execution_count": 64,
   "id": "75377797",
   "metadata": {},
   "outputs": [],
   "source": [
    "review_list=[]\n",
    "soup=bs(driver.page_source,'html.parser')\n",
    "a=soup.find_all('div',{'data-hook':\"review-collapsed\"})\n",
    "for i in a:\n",
    "    review_list.append(i.text)"
   ]
  },
  {
   "cell_type": "code",
   "execution_count": 79,
   "id": "d9418525",
   "metadata": {},
   "outputs": [
    {
     "name": "stderr",
     "output_type": "stream",
     "text": [
      "100%|██████████| 3/3 [00:56<00:00, 18.82s/it]\n"
     ]
    }
   ],
   "source": [
    "review_head_list = []\n",
    "review_list = []\n",
    "title_list = []\n",
    "\n",
    "for i in tqdm(range(2, 5)):\n",
    "    img = driver.find_element_by_css_selector('#search > div.s-desktop-width-max.s-desktop-content.s-opposite-dir.sg-row > div.s-matching-dir.sg-col-16-of-20.sg-col.sg-col-8-of-12.sg-col-12-of-16 > div > span:nth-child(4) > div.s-main-slot.s-result-list.s-search-results.sg-row > div:nth-child({})'.format(i))\n",
    "    img.click()\n",
    "    time.sleep(3)\n",
    "    driver.implicitly_wait(5)\n",
    "\n",
    "    title = driver.find_element_by_css_selector('#productTitle')\n",
    "    product = title.text\n",
    "    \n",
    "    soup=bs(driver.page_source,'html.parser')\n",
    "    a=soup.find_all('a',{'data-hook':\"review-title\"})\n",
    "    b=soup.find_all('span',{'data-hook':\"review-title\"})\n",
    "    new = a+b\n",
    "    for i in new:\n",
    "        review_head_list.append(i.text)\n",
    "    time.sleep(3)\n",
    "    \n",
    "    review = driver.find_elements_by_css_selector('div.a-expander-content.reviewText.review-text-content.a-expander-partial-collapse-content > span')\n",
    "    for i in review:\n",
    "        review_list.append(i.text)\n",
    "    time.sleep(3)\n",
    "    for i in range(len(review)):\n",
    "        title_list.append(product)\n",
    "    time.sleep(3)\n",
    "    driver.back()\n",
    "    time.sleep(2)"
   ]
  },
  {
   "cell_type": "code",
   "execution_count": 80,
   "id": "d050c489",
   "metadata": {},
   "outputs": [
    {
     "data": {
      "text/plain": [
       "(29, 29, 29)"
      ]
     },
     "execution_count": 80,
     "metadata": {},
     "output_type": "execute_result"
    }
   ],
   "source": [
    "len(review_head_list), len(title_list), len(review_list)"
   ]
  },
  {
   "cell_type": "code",
   "execution_count": 84,
   "id": "1a71ecfe",
   "metadata": {},
   "outputs": [],
   "source": [
    "data={'제품명':title_list,'닉네임':review_head_list,'리뷰내용':review_list}"
   ]
  },
  {
   "cell_type": "code",
   "execution_count": 85,
   "id": "24759079",
   "metadata": {},
   "outputs": [
    {
     "data": {
      "text/html": [
       "<div>\n",
       "<style scoped>\n",
       "    .dataframe tbody tr th:only-of-type {\n",
       "        vertical-align: middle;\n",
       "    }\n",
       "\n",
       "    .dataframe tbody tr th {\n",
       "        vertical-align: top;\n",
       "    }\n",
       "\n",
       "    .dataframe thead th {\n",
       "        text-align: right;\n",
       "    }\n",
       "</style>\n",
       "<table border=\"1\" class=\"dataframe\">\n",
       "  <thead>\n",
       "    <tr style=\"text-align: right;\">\n",
       "      <th></th>\n",
       "      <th>제품명</th>\n",
       "      <th>닉네임</th>\n",
       "      <th>리뷰내용</th>\n",
       "    </tr>\n",
       "  </thead>\n",
       "  <tbody>\n",
       "    <tr>\n",
       "      <th>0</th>\n",
       "      <td>AmazonFresh Colombia Whole Bean Coffee, Medium...</td>\n",
       "      <td>\\nPretty Good Coffee, Great Price\\n</td>\n",
       "      <td>Like a lot of other reviewers, my usual coffee...</td>\n",
       "    </tr>\n",
       "    <tr>\n",
       "      <th>1</th>\n",
       "      <td>AmazonFresh Colombia Whole Bean Coffee, Medium...</td>\n",
       "      <td>\\nNot a Medium Roast\\n</td>\n",
       "      <td>I think the only real draw to this is that it ...</td>\n",
       "    </tr>\n",
       "    <tr>\n",
       "      <th>2</th>\n",
       "      <td>AmazonFresh Colombia Whole Bean Coffee, Medium...</td>\n",
       "      <td>\\nNothing like fresh coffee\\n</td>\n",
       "      <td>I look forward to drinking coffee every mornin...</td>\n",
       "    </tr>\n",
       "    <tr>\n",
       "      <th>3</th>\n",
       "      <td>AmazonFresh Colombia Whole Bean Coffee, Medium...</td>\n",
       "      <td>\\nGood coffee\\n</td>\n",
       "      <td>I've been buying eight o'clock Columbian roast...</td>\n",
       "    </tr>\n",
       "    <tr>\n",
       "      <th>4</th>\n",
       "      <td>AmazonFresh Colombia Whole Bean Coffee, Medium...</td>\n",
       "      <td>\\nGreat Coffee Beans\\n</td>\n",
       "      <td>When we compare these coffee beans with other ...</td>\n",
       "    </tr>\n",
       "    <tr>\n",
       "      <th>5</th>\n",
       "      <td>AmazonFresh Colombia Whole Bean Coffee, Medium...</td>\n",
       "      <td>\\nTaste is great, price is right!\\n</td>\n",
       "      <td>I'm normally a regular coffee guy, I've been g...</td>\n",
       "    </tr>\n",
       "    <tr>\n",
       "      <th>6</th>\n",
       "      <td>AmazonFresh Colombia Whole Bean Coffee, Medium...</td>\n",
       "      <td>\\nNICE!\\n</td>\n",
       "      <td>This is very flavorful delicious coffee, It's ...</td>\n",
       "    </tr>\n",
       "    <tr>\n",
       "      <th>7</th>\n",
       "      <td>AmazonFresh Colombia Whole Bean Coffee, Medium...</td>\n",
       "      <td>\\nA Great Price for a Great cup of Coffee\\n</td>\n",
       "      <td>My go to Costa Rica coffee beans made a big ju...</td>\n",
       "    </tr>\n",
       "    <tr>\n",
       "      <th>8</th>\n",
       "      <td>Kauai Whole Bean Coffee, Koloa Estate Dark Roa...</td>\n",
       "      <td>\\nBetter than most other whole bean coffees\\n</td>\n",
       "      <td>There is a different flavor to this Hawaiian c...</td>\n",
       "    </tr>\n",
       "    <tr>\n",
       "      <th>9</th>\n",
       "      <td>Kauai Whole Bean Coffee, Koloa Estate Dark Roa...</td>\n",
       "      <td>\\nVery good coffee.\\n</td>\n",
       "      <td>After a trip to Hawaii and having depleted my ...</td>\n",
       "    </tr>\n",
       "    <tr>\n",
       "      <th>10</th>\n",
       "      <td>Kauai Whole Bean Coffee, Koloa Estate Dark Roa...</td>\n",
       "      <td>\\nBest Coffee I've Ever Had!\\n</td>\n",
       "      <td>This has got to be the best coffee I've ever h...</td>\n",
       "    </tr>\n",
       "    <tr>\n",
       "      <th>11</th>\n",
       "      <td>Kauai Whole Bean Coffee, Koloa Estate Dark Roa...</td>\n",
       "      <td>\\nDelicous whole bean coffee, Top Rated just l...</td>\n",
       "      <td>Looked for coffee that didn't taste bitter and...</td>\n",
       "    </tr>\n",
       "    <tr>\n",
       "      <th>12</th>\n",
       "      <td>Kauai Whole Bean Coffee, Koloa Estate Dark Roa...</td>\n",
       "      <td>\\nGreat coffee\\n</td>\n",
       "      <td>I love this coffee, I order every month and so...</td>\n",
       "    </tr>\n",
       "    <tr>\n",
       "      <th>13</th>\n",
       "      <td>Kauai Whole Bean Coffee, Koloa Estate Dark Roa...</td>\n",
       "      <td>\\nExcellent mild flavor\\n</td>\n",
       "      <td>Very good product, Great value for real Hawaii...</td>\n",
       "    </tr>\n",
       "    <tr>\n",
       "      <th>14</th>\n",
       "      <td>Kauai Whole Bean Coffee, Koloa Estate Dark Roa...</td>\n",
       "      <td>\\nBeats the price found locally by a lot.\\n</td>\n",
       "      <td>We like the smooth flavor of this coffee.</td>\n",
       "    </tr>\n",
       "    <tr>\n",
       "      <th>15</th>\n",
       "      <td>Kauai Whole Bean Coffee, Koloa Estate Dark Roa...</td>\n",
       "      <td>\\nRich and flavorful\\n</td>\n",
       "      <td>If you like Kona coffee, you’ll love this!</td>\n",
       "    </tr>\n",
       "    <tr>\n",
       "      <th>16</th>\n",
       "      <td>The Mentalist Whole Bean Coffee, Medium Dark R...</td>\n",
       "      <td>\\ngood clean coffee\\n</td>\n",
       "      <td>This coffee was recommended to me by my nutrit...</td>\n",
       "    </tr>\n",
       "    <tr>\n",
       "      <th>17</th>\n",
       "      <td>The Mentalist Whole Bean Coffee, Medium Dark R...</td>\n",
       "      <td>\\nLove The Coffee\\n</td>\n",
       "      <td>This is the best coffee I have had and even be...</td>\n",
       "    </tr>\n",
       "    <tr>\n",
       "      <th>18</th>\n",
       "      <td>The Mentalist Whole Bean Coffee, Medium Dark R...</td>\n",
       "      <td>\\nGreat coffee!\\n</td>\n",
       "      <td>Love this coffee and love thst it shows up at ...</td>\n",
       "    </tr>\n",
       "    <tr>\n",
       "      <th>19</th>\n",
       "      <td>The Mentalist Whole Bean Coffee, Medium Dark R...</td>\n",
       "      <td>\\nlow mold coffee that is high in flavor\\n</td>\n",
       "      <td>At this point I've ordered about 100 bags of t...</td>\n",
       "    </tr>\n",
       "    <tr>\n",
       "      <th>20</th>\n",
       "      <td>The Mentalist Whole Bean Coffee, Medium Dark R...</td>\n",
       "      <td>\\nGreat coffee\\n</td>\n",
       "      <td>Great coffee and very fresh</td>\n",
       "    </tr>\n",
       "    <tr>\n",
       "      <th>21</th>\n",
       "      <td>The Mentalist Whole Bean Coffee, Medium Dark R...</td>\n",
       "      <td>\\nWasn’t GROUND - it was half beans that were ...</td>\n",
       "      <td>I do love BP Coffee. However, this bag was har...</td>\n",
       "    </tr>\n",
       "    <tr>\n",
       "      <th>22</th>\n",
       "      <td>The Mentalist Whole Bean Coffee, Medium Dark R...</td>\n",
       "      <td>\\nTaste great\\n</td>\n",
       "      <td>Taste was great easy on my stomach most coffee...</td>\n",
       "    </tr>\n",
       "    <tr>\n",
       "      <th>23</th>\n",
       "      <td>The Mentalist Whole Bean Coffee, Medium Dark R...</td>\n",
       "      <td>\\nThey post the expiration date on the bag\\n</td>\n",
       "      <td>Fresh , and smooth flavored with perfect balan...</td>\n",
       "    </tr>\n",
       "    <tr>\n",
       "      <th>24</th>\n",
       "      <td>The Mentalist Whole Bean Coffee, Medium Dark R...</td>\n",
       "      <td>\\nWhatever you’re facing - perform high!!\\n</td>\n",
       "      <td>Whatever you are facing , whether it’s healing...</td>\n",
       "    </tr>\n",
       "    <tr>\n",
       "      <th>25</th>\n",
       "      <td>The Mentalist Whole Bean Coffee, Medium Dark R...</td>\n",
       "      <td>\\nNot recommended\\n</td>\n",
       "      <td>I usually drink Yemeni or Brazilian coffee whi...</td>\n",
       "    </tr>\n",
       "    <tr>\n",
       "      <th>26</th>\n",
       "      <td>The Mentalist Whole Bean Coffee, Medium Dark R...</td>\n",
       "      <td>\\nWay to expensive\\n</td>\n",
       "      <td>Far, far, far too expensive for what it is, fl...</td>\n",
       "    </tr>\n",
       "    <tr>\n",
       "      <th>27</th>\n",
       "      <td>The Mentalist Whole Bean Coffee, Medium Dark R...</td>\n",
       "      <td>\\nOUT OF DATE\\n</td>\n",
       "      <td>I received coffee that was out of date 3months...</td>\n",
       "    </tr>\n",
       "    <tr>\n",
       "      <th>28</th>\n",
       "      <td>The Mentalist Whole Bean Coffee, Medium Dark R...</td>\n",
       "      <td>\\nReceived out of date (BB date was covered up...</td>\n",
       "      <td>I love this coffee but will source it elsewhere</td>\n",
       "    </tr>\n",
       "  </tbody>\n",
       "</table>\n",
       "</div>"
      ],
      "text/plain": [
       "                                                  제품명  \\\n",
       "0   AmazonFresh Colombia Whole Bean Coffee, Medium...   \n",
       "1   AmazonFresh Colombia Whole Bean Coffee, Medium...   \n",
       "2   AmazonFresh Colombia Whole Bean Coffee, Medium...   \n",
       "3   AmazonFresh Colombia Whole Bean Coffee, Medium...   \n",
       "4   AmazonFresh Colombia Whole Bean Coffee, Medium...   \n",
       "5   AmazonFresh Colombia Whole Bean Coffee, Medium...   \n",
       "6   AmazonFresh Colombia Whole Bean Coffee, Medium...   \n",
       "7   AmazonFresh Colombia Whole Bean Coffee, Medium...   \n",
       "8   Kauai Whole Bean Coffee, Koloa Estate Dark Roa...   \n",
       "9   Kauai Whole Bean Coffee, Koloa Estate Dark Roa...   \n",
       "10  Kauai Whole Bean Coffee, Koloa Estate Dark Roa...   \n",
       "11  Kauai Whole Bean Coffee, Koloa Estate Dark Roa...   \n",
       "12  Kauai Whole Bean Coffee, Koloa Estate Dark Roa...   \n",
       "13  Kauai Whole Bean Coffee, Koloa Estate Dark Roa...   \n",
       "14  Kauai Whole Bean Coffee, Koloa Estate Dark Roa...   \n",
       "15  Kauai Whole Bean Coffee, Koloa Estate Dark Roa...   \n",
       "16  The Mentalist Whole Bean Coffee, Medium Dark R...   \n",
       "17  The Mentalist Whole Bean Coffee, Medium Dark R...   \n",
       "18  The Mentalist Whole Bean Coffee, Medium Dark R...   \n",
       "19  The Mentalist Whole Bean Coffee, Medium Dark R...   \n",
       "20  The Mentalist Whole Bean Coffee, Medium Dark R...   \n",
       "21  The Mentalist Whole Bean Coffee, Medium Dark R...   \n",
       "22  The Mentalist Whole Bean Coffee, Medium Dark R...   \n",
       "23  The Mentalist Whole Bean Coffee, Medium Dark R...   \n",
       "24  The Mentalist Whole Bean Coffee, Medium Dark R...   \n",
       "25  The Mentalist Whole Bean Coffee, Medium Dark R...   \n",
       "26  The Mentalist Whole Bean Coffee, Medium Dark R...   \n",
       "27  The Mentalist Whole Bean Coffee, Medium Dark R...   \n",
       "28  The Mentalist Whole Bean Coffee, Medium Dark R...   \n",
       "\n",
       "                                                  닉네임  \\\n",
       "0                 \\nPretty Good Coffee, Great Price\\n   \n",
       "1                              \\nNot a Medium Roast\\n   \n",
       "2                       \\nNothing like fresh coffee\\n   \n",
       "3                                     \\nGood coffee\\n   \n",
       "4                              \\nGreat Coffee Beans\\n   \n",
       "5                 \\nTaste is great, price is right!\\n   \n",
       "6                                           \\nNICE!\\n   \n",
       "7         \\nA Great Price for a Great cup of Coffee\\n   \n",
       "8       \\nBetter than most other whole bean coffees\\n   \n",
       "9                               \\nVery good coffee.\\n   \n",
       "10                     \\nBest Coffee I've Ever Had!\\n   \n",
       "11  \\nDelicous whole bean coffee, Top Rated just l...   \n",
       "12                                   \\nGreat coffee\\n   \n",
       "13                          \\nExcellent mild flavor\\n   \n",
       "14        \\nBeats the price found locally by a lot.\\n   \n",
       "15                             \\nRich and flavorful\\n   \n",
       "16                              \\ngood clean coffee\\n   \n",
       "17                                \\nLove The Coffee\\n   \n",
       "18                                  \\nGreat coffee!\\n   \n",
       "19         \\nlow mold coffee that is high in flavor\\n   \n",
       "20                                   \\nGreat coffee\\n   \n",
       "21  \\nWasn’t GROUND - it was half beans that were ...   \n",
       "22                                    \\nTaste great\\n   \n",
       "23       \\nThey post the expiration date on the bag\\n   \n",
       "24        \\nWhatever you’re facing - perform high!!\\n   \n",
       "25                                \\nNot recommended\\n   \n",
       "26                               \\nWay to expensive\\n   \n",
       "27                                    \\nOUT OF DATE\\n   \n",
       "28  \\nReceived out of date (BB date was covered up...   \n",
       "\n",
       "                                                 리뷰내용  \n",
       "0   Like a lot of other reviewers, my usual coffee...  \n",
       "1   I think the only real draw to this is that it ...  \n",
       "2   I look forward to drinking coffee every mornin...  \n",
       "3   I've been buying eight o'clock Columbian roast...  \n",
       "4   When we compare these coffee beans with other ...  \n",
       "5   I'm normally a regular coffee guy, I've been g...  \n",
       "6   This is very flavorful delicious coffee, It's ...  \n",
       "7   My go to Costa Rica coffee beans made a big ju...  \n",
       "8   There is a different flavor to this Hawaiian c...  \n",
       "9   After a trip to Hawaii and having depleted my ...  \n",
       "10  This has got to be the best coffee I've ever h...  \n",
       "11  Looked for coffee that didn't taste bitter and...  \n",
       "12  I love this coffee, I order every month and so...  \n",
       "13  Very good product, Great value for real Hawaii...  \n",
       "14          We like the smooth flavor of this coffee.  \n",
       "15         If you like Kona coffee, you’ll love this!  \n",
       "16  This coffee was recommended to me by my nutrit...  \n",
       "17  This is the best coffee I have had and even be...  \n",
       "18  Love this coffee and love thst it shows up at ...  \n",
       "19  At this point I've ordered about 100 bags of t...  \n",
       "20                        Great coffee and very fresh  \n",
       "21  I do love BP Coffee. However, this bag was har...  \n",
       "22  Taste was great easy on my stomach most coffee...  \n",
       "23  Fresh , and smooth flavored with perfect balan...  \n",
       "24  Whatever you are facing , whether it’s healing...  \n",
       "25  I usually drink Yemeni or Brazilian coffee whi...  \n",
       "26  Far, far, far too expensive for what it is, fl...  \n",
       "27  I received coffee that was out of date 3months...  \n",
       "28    I love this coffee but will source it elsewhere  "
      ]
     },
     "execution_count": 85,
     "metadata": {},
     "output_type": "execute_result"
    }
   ],
   "source": [
    "result=pd.DataFrame(data)\n",
    "result"
   ]
  }
 ],
 "metadata": {
  "kernelspec": {
   "display_name": "Python 3 (ipykernel)",
   "language": "python",
   "name": "python3"
  },
  "language_info": {
   "codemirror_mode": {
    "name": "ipython",
    "version": 3
   },
   "file_extension": ".py",
   "mimetype": "text/x-python",
   "name": "python",
   "nbconvert_exporter": "python",
   "pygments_lexer": "ipython3",
   "version": "3.9.12"
  }
 },
 "nbformat": 4,
 "nbformat_minor": 5
}
