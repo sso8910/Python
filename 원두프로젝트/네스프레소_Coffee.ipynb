{
 "cells": [
  {
   "cell_type": "code",
   "execution_count": 3,
   "metadata": {},
   "outputs": [],
   "source": [
    "from selenium import webdriver\n",
    "from webdriver_manager.chrome import ChromeDriverManager\n",
    "import pandas as pd\n",
    "from bs4 import BeautifulSoup as bs\n",
    "from selenium.webdriver.common.keys import Keys\n",
    "from selenium.webdriver.common.action_chains import ActionChains\n",
    "import time\n",
    "from tqdm import tqdm_notebook as tqdm\n",
    "import requests as req\n",
    "import numpy as np\n",
    "import pandas as pd\n",
    "import matplotlib.pyplot as plt\n",
    "import seaborn as sns\n",
    "\n",
    "from sklearn.ensemble import RandomForestRegressor\n",
    "from sklearn.linear_model import LinearRegression\n",
    "\n",
    "import warnings\n",
    "warnings.filterwarnings('ignore')\n",
    "\n",
    "from matplotlib.pylab import rcParams\n",
    "rcParams['figure.figsize'] = 17, 8\n",
    "rcParams['font.family'] ='AppleGothic'"
   ]
  },
  {
   "cell_type": "markdown",
   "metadata": {},
   "source": [
    "#### 크롤링"
   ]
  },
  {
   "cell_type": "code",
   "execution_count": 2,
   "metadata": {},
   "outputs": [],
   "source": [
    "driver = webdriver.Chrome(ChromeDriverManager().install())\n",
    "#driver.get('https://www.amazon.com/Nespresso-VertuoPlus-Espresso-DeLonghi-Aeroccino/dp/B01MTZ419O/ref=sr_1_2?crid=2SMG4SVV7J820&keywords=Nespresso+VertuoPlus+Coffee+and+Espresso+Machine+by+De%27Longhi+with+Milk+Frother%2C+Grey&qid=1664185758&qu=eyJxc2MiOiIwLjAwIiwicXNhIjoiMC4wMCIsInFzcCI6IjAuMDAifQ%3D%3D&sprefix=nespresso+vertuoplus+coffee+and+espresso+machine+by+de%27longhi+with+milk+frother%2C+grey%2Caps%2C232&sr=8-2')\n",
    "driver.get('https://www.amazon.com/Nespresso-VertuoPlus-Espresso-DeLonghi-Aeroccino/product-reviews/B01N1QSB6J/ref=cm_cr_dp_d_show_all_btm?ie=UTF8&reviewerType=all_reviews&language=ko_KR')\n",
    "time.sleep(1)"
   ]
  },
  {
   "cell_type": "code",
   "execution_count": 36,
   "metadata": {},
   "outputs": [],
   "source": [
    "name_list = []\n",
    "score_list = []\n",
    "date_list = []\n",
    "style_list = []\n",
    "review_list = []\n",
    "\n",
    "while True:\n",
    "    try:\n",
    "        star = bs(driver.page_source, \"html.parser\")\n",
    "        score = star.find_all(\"i\",{'data-hook':\"review-star-rating\"})\n",
    "        date = driver.find_elements_by_css_selector('span.a-size-base.a-color-secondary.review-date')\n",
    "        style = driver.find_elements_by_css_selector('a.a-size-mini.a-link-normal.a-color-secondary')\n",
    "        review = driver.find_elements_by_css_selector(\"div.a-row.a-spacing-small.review-data\")\n",
    "        #time.sleep(1)\n",
    "        for i in score:\n",
    "            score_list.append(i.text)\n",
    "        for i in date:\n",
    "            date_list.append(i.text)\n",
    "        for i in style:\n",
    "            style_list.append(i.text)\n",
    "        for i in review:\n",
    "            review_list.append(i.text)\n",
    "        #time.sleep(1)\n",
    "        btn = driver.find_element_by_css_selector('#cm_cr-pagination_bar > ul > li.a-last')\n",
    "        btn.click()\n",
    "        time.sleep(2)\n",
    "    except:\n",
    "        break"
   ]
  },
  {
   "cell_type": "code",
   "execution_count": 37,
   "metadata": {},
   "outputs": [
    {
     "data": {
      "text/plain": [
       "(2090, 2652, 2208, 2208)"
      ]
     },
     "execution_count": 37,
     "metadata": {},
     "output_type": "execute_result"
    }
   ],
   "source": [
    "len(score_list),len(date_list),len(style_list),len(review_list)"
   ]
  },
  {
   "cell_type": "code",
   "execution_count": 38,
   "metadata": {},
   "outputs": [],
   "source": [
    "Coffee1 = {'Star': score_list}"
   ]
  },
  {
   "cell_type": "code",
   "execution_count": 39,
   "metadata": {},
   "outputs": [],
   "source": [
    "Coffee2 = {'Date': date_list}"
   ]
  },
  {
   "cell_type": "code",
   "execution_count": 42,
   "metadata": {},
   "outputs": [],
   "source": [
    "Coffee3 = {'Style': style_list, 'Review': review_list}"
   ]
  },
  {
   "cell_type": "code",
   "execution_count": 43,
   "metadata": {},
   "outputs": [],
   "source": [
    "coffee1 = pd.DataFrame(Coffee1)\n",
    "coffee2 = pd.DataFrame(Coffee2)\n",
    "coffee3 = pd.DataFrame(Coffee3)"
   ]
  },
  {
   "cell_type": "code",
   "execution_count": 44,
   "metadata": {},
   "outputs": [],
   "source": [
    "coffee = pd.concat([coffee1, coffee2, coffee3],axis=1)\n",
    "coffee.to_csv('coffee.csv')"
   ]
  },
  {
   "cell_type": "markdown",
   "metadata": {},
   "source": [
    "#### csv파일 불러오기"
   ]
  },
  {
   "cell_type": "code",
   "execution_count": 5,
   "metadata": {},
   "outputs": [],
   "source": [
    "date = pd.read_csv('homecafe.csv',encoding='utf-8')\n",
    "cafe = date.head(2090)"
   ]
  },
  {
   "cell_type": "code",
   "execution_count": 6,
   "metadata": {},
   "outputs": [],
   "source": [
    "cafe.to_csv('homecafe.csv')"
   ]
  },
  {
   "cell_type": "code",
   "execution_count": 7,
   "metadata": {
    "scrolled": true
   },
   "outputs": [
    {
     "data": {
      "text/html": [
       "<div>\n",
       "<style scoped>\n",
       "    .dataframe tbody tr th:only-of-type {\n",
       "        vertical-align: middle;\n",
       "    }\n",
       "\n",
       "    .dataframe tbody tr th {\n",
       "        vertical-align: top;\n",
       "    }\n",
       "\n",
       "    .dataframe thead th {\n",
       "        text-align: right;\n",
       "    }\n",
       "</style>\n",
       "<table border=\"1\" class=\"dataframe\">\n",
       "  <thead>\n",
       "    <tr style=\"text-align: right;\">\n",
       "      <th></th>\n",
       "      <th>Unnamed: 0.2</th>\n",
       "      <th>Unnamed: 0.1</th>\n",
       "      <th>Unnamed: 0</th>\n",
       "      <th>Star</th>\n",
       "      <th>Date</th>\n",
       "      <th>Style</th>\n",
       "      <th>Review</th>\n",
       "    </tr>\n",
       "  </thead>\n",
       "  <tbody>\n",
       "    <tr>\n",
       "      <th>0</th>\n",
       "      <td>0</td>\n",
       "      <td>0</td>\n",
       "      <td>0</td>\n",
       "      <td>별 5개 중 5.0</td>\n",
       "      <td>Reviewed in the United States 🇺🇸 on 2017년 12월 15일</td>\n",
       "      <td>스타일: 머신 + 에어로색상: 그레이</td>\n",
       "      <td>\"Is this a good coffee maker?\" Well, that's go...</td>\n",
       "    </tr>\n",
       "    <tr>\n",
       "      <th>1</th>\n",
       "      <td>1</td>\n",
       "      <td>1</td>\n",
       "      <td>1</td>\n",
       "      <td>별 5개 중 5.0</td>\n",
       "      <td>Reviewed in the United States 🇺🇸 on 2018년 11월 28일</td>\n",
       "      <td>스타일: 기계 전용색상: 블랙</td>\n",
       "      <td>We have used this machine daily since purchase...</td>\n",
       "    </tr>\n",
       "    <tr>\n",
       "      <th>2</th>\n",
       "      <td>2</td>\n",
       "      <td>2</td>\n",
       "      <td>2</td>\n",
       "      <td>별 5개 중 5.0</td>\n",
       "      <td>Reviewed in the United States 🇺🇸 on 2018년 12월 10일</td>\n",
       "      <td>스타일: 기계 전용색상: 그레이</td>\n",
       "      <td>The inside box that the machine came in had be...</td>\n",
       "    </tr>\n",
       "    <tr>\n",
       "      <th>3</th>\n",
       "      <td>3</td>\n",
       "      <td>3</td>\n",
       "      <td>3</td>\n",
       "      <td>별 5개 중 5.0</td>\n",
       "      <td>Reviewed in the United States 🇺🇸 on 2022년 9월 15일</td>\n",
       "      <td>스타일: 머신 + 에어로색상: 타이탄.</td>\n",
       "      <td>I’m loving this machine! I’ve had many differe...</td>\n",
       "    </tr>\n",
       "    <tr>\n",
       "      <th>4</th>\n",
       "      <td>4</td>\n",
       "      <td>4</td>\n",
       "      <td>4</td>\n",
       "      <td>별 5개 중 5.0</td>\n",
       "      <td>Reviewed in the United States 🇺🇸 on 2022년 9월 24일</td>\n",
       "      <td>스타일: 기계 전용색상: 블랙</td>\n",
       "      <td>This is the best purchase! My fiancé and I use...</td>\n",
       "    </tr>\n",
       "    <tr>\n",
       "      <th>...</th>\n",
       "      <td>...</td>\n",
       "      <td>...</td>\n",
       "      <td>...</td>\n",
       "      <td>...</td>\n",
       "      <td>...</td>\n",
       "      <td>...</td>\n",
       "      <td>...</td>\n",
       "    </tr>\n",
       "    <tr>\n",
       "      <th>2085</th>\n",
       "      <td>2085</td>\n",
       "      <td>2085</td>\n",
       "      <td>2085</td>\n",
       "      <td>별 5개 중 5.0</td>\n",
       "      <td>Reviewed in the United States 🇺🇸 on 2018년 1월 14일</td>\n",
       "      <td>스타일: 기계 전용색상: 그레이</td>\n",
       "      <td>SO MUCH FLAVOR.</td>\n",
       "    </tr>\n",
       "    <tr>\n",
       "      <th>2086</th>\n",
       "      <td>2086</td>\n",
       "      <td>2086</td>\n",
       "      <td>2086</td>\n",
       "      <td>별 5개 중 4.0</td>\n",
       "      <td>Reviewed in the United States 🇺🇸 on 2021년 12월 28일</td>\n",
       "      <td>스타일: 머신 + 에어로색상: 그레이</td>\n",
       "      <td>I've only had my Nespresso machine for a short...</td>\n",
       "    </tr>\n",
       "    <tr>\n",
       "      <th>2087</th>\n",
       "      <td>2087</td>\n",
       "      <td>2087</td>\n",
       "      <td>2087</td>\n",
       "      <td>별 5개 중 5.0</td>\n",
       "      <td>Reviewed in the United States 🇺🇸 on 2017년 12월 11일</td>\n",
       "      <td>스타일: 기계 전용색상: 레드</td>\n",
       "      <td>Nice and elegant</td>\n",
       "    </tr>\n",
       "    <tr>\n",
       "      <th>2088</th>\n",
       "      <td>2088</td>\n",
       "      <td>2088</td>\n",
       "      <td>2088</td>\n",
       "      <td>별 5개 중 5.0</td>\n",
       "      <td>Reviewed in the United States 🇺🇸 on 2017년 12월 15일</td>\n",
       "      <td>스타일: 기계 전용색상: 블랙</td>\n",
       "      <td>This machine has changed the way I do mornings...</td>\n",
       "    </tr>\n",
       "    <tr>\n",
       "      <th>2089</th>\n",
       "      <td>2089</td>\n",
       "      <td>2089</td>\n",
       "      <td>2089</td>\n",
       "      <td>별 5개 중 5.0</td>\n",
       "      <td>Reviewed in the United States 🇺🇸 on 2018년 11월 28일</td>\n",
       "      <td>스타일: 머신 + 에어로색상: 그레이</td>\n",
       "      <td>I have waited forever to pull the trigger on t...</td>\n",
       "    </tr>\n",
       "  </tbody>\n",
       "</table>\n",
       "<p>2090 rows × 7 columns</p>\n",
       "</div>"
      ],
      "text/plain": [
       "      Unnamed: 0.2  Unnamed: 0.1  Unnamed: 0        Star  \\\n",
       "0                0             0           0  별 5개 중 5.0   \n",
       "1                1             1           1  별 5개 중 5.0   \n",
       "2                2             2           2  별 5개 중 5.0   \n",
       "3                3             3           3  별 5개 중 5.0   \n",
       "4                4             4           4  별 5개 중 5.0   \n",
       "...            ...           ...         ...         ...   \n",
       "2085          2085          2085        2085  별 5개 중 5.0   \n",
       "2086          2086          2086        2086  별 5개 중 4.0   \n",
       "2087          2087          2087        2087  별 5개 중 5.0   \n",
       "2088          2088          2088        2088  별 5개 중 5.0   \n",
       "2089          2089          2089        2089  별 5개 중 5.0   \n",
       "\n",
       "                                                   Date  \\\n",
       "0     Reviewed in the United States 🇺🇸 on 2017년 12월 15일   \n",
       "1     Reviewed in the United States 🇺🇸 on 2018년 11월 28일   \n",
       "2     Reviewed in the United States 🇺🇸 on 2018년 12월 10일   \n",
       "3      Reviewed in the United States 🇺🇸 on 2022년 9월 15일   \n",
       "4      Reviewed in the United States 🇺🇸 on 2022년 9월 24일   \n",
       "...                                                 ...   \n",
       "2085   Reviewed in the United States 🇺🇸 on 2018년 1월 14일   \n",
       "2086  Reviewed in the United States 🇺🇸 on 2021년 12월 28일   \n",
       "2087  Reviewed in the United States 🇺🇸 on 2017년 12월 11일   \n",
       "2088  Reviewed in the United States 🇺🇸 on 2017년 12월 15일   \n",
       "2089  Reviewed in the United States 🇺🇸 on 2018년 11월 28일   \n",
       "\n",
       "                      Style                                             Review  \n",
       "0      스타일: 머신 + 에어로색상: 그레이  \"Is this a good coffee maker?\" Well, that's go...  \n",
       "1          스타일: 기계 전용색상: 블랙  We have used this machine daily since purchase...  \n",
       "2         스타일: 기계 전용색상: 그레이  The inside box that the machine came in had be...  \n",
       "3     스타일: 머신 + 에어로색상: 타이탄.  I’m loving this machine! I’ve had many differe...  \n",
       "4          스타일: 기계 전용색상: 블랙  This is the best purchase! My fiancé and I use...  \n",
       "...                     ...                                                ...  \n",
       "2085      스타일: 기계 전용색상: 그레이                                    SO MUCH FLAVOR.  \n",
       "2086   스타일: 머신 + 에어로색상: 그레이  I've only had my Nespresso machine for a short...  \n",
       "2087       스타일: 기계 전용색상: 레드                                   Nice and elegant  \n",
       "2088       스타일: 기계 전용색상: 블랙  This machine has changed the way I do mornings...  \n",
       "2089   스타일: 머신 + 에어로색상: 그레이  I have waited forever to pull the trigger on t...  \n",
       "\n",
       "[2090 rows x 7 columns]"
      ]
     },
     "execution_count": 7,
     "metadata": {},
     "output_type": "execute_result"
    }
   ],
   "source": [
    "homecafe = pd.read_csv('homecafe.csv', encoding='utf-8')\n",
    "homecafe"
   ]
  },
  {
   "cell_type": "code",
   "execution_count": 8,
   "metadata": {
    "scrolled": true
   },
   "outputs": [
    {
     "name": "stdout",
     "output_type": "stream",
     "text": [
      "<class 'pandas.core.frame.DataFrame'>\n",
      "RangeIndex: 2090 entries, 0 to 2089\n",
      "Data columns (total 7 columns):\n",
      " #   Column        Non-Null Count  Dtype \n",
      "---  ------        --------------  ----- \n",
      " 0   Unnamed: 0.2  2090 non-null   int64 \n",
      " 1   Unnamed: 0.1  2090 non-null   int64 \n",
      " 2   Unnamed: 0    2090 non-null   int64 \n",
      " 3   Star          2090 non-null   object\n",
      " 4   Date          2090 non-null   object\n",
      " 5   Style         2090 non-null   object\n",
      " 6   Review        2083 non-null   object\n",
      "dtypes: int64(3), object(4)\n",
      "memory usage: 114.4+ KB\n"
     ]
    }
   ],
   "source": [
    "homecafe.info()"
   ]
  },
  {
   "cell_type": "code",
   "execution_count": 5,
   "metadata": {},
   "outputs": [
    {
     "name": "stderr",
     "output_type": "stream",
     "text": [
      "[nltk_data] Downloading package punkt to\n",
      "[nltk_data]     C:\\Users\\82104\\AppData\\Roaming\\nltk_data...\n",
      "[nltk_data]   Package punkt is already up-to-date!\n",
      "[nltk_data] Downloading package averaged_perceptron_tagger to\n",
      "[nltk_data]     C:\\Users\\82104\\AppData\\Roaming\\nltk_data...\n",
      "[nltk_data]   Package averaged_perceptron_tagger is already up-to-\n",
      "[nltk_data]       date!\n",
      "[nltk_data] Downloading package stopwords to\n",
      "[nltk_data]     C:\\Users\\82104\\AppData\\Roaming\\nltk_data...\n",
      "[nltk_data]   Package stopwords is already up-to-date!\n"
     ]
    },
    {
     "data": {
      "text/plain": [
       "True"
      ]
     },
     "execution_count": 5,
     "metadata": {},
     "output_type": "execute_result"
    }
   ],
   "source": [
    "import nltk\n",
    "from nltk import pos_tag\n",
    "from wordcloud import WordCloud\n",
    "from collections import Counter\n",
    "import matplotlib.pyplot as plt\n",
    "import pickle\n",
    "nltk.download('punkt')\n",
    "nltk.download('averaged_perceptron_tagger')\n",
    "nltk.download('stopwords')"
   ]
  },
  {
   "cell_type": "code",
   "execution_count": 9,
   "metadata": {
    "collapsed": true
   },
   "outputs": [
    {
     "ename": "NameError",
     "evalue": "name 'review_list' is not defined",
     "output_type": "error",
     "traceback": [
      "\u001b[1;31m---------------------------------------------------------------------------\u001b[0m",
      "\u001b[1;31mNameError\u001b[0m                                 Traceback (most recent call last)",
      "\u001b[1;32mc:\\Users\\user\\Python\\원두프로젝트\\네스프레소_Coffee.ipynb 셀 17\u001b[0m in \u001b[0;36m<cell line: 2>\u001b[1;34m()\u001b[0m\n\u001b[0;32m      <a href='vscode-notebook-cell:/c%3A/Users/user/Python/%EC%9B%90%EB%91%90%ED%94%84%EB%A1%9C%EC%A0%9D%ED%8A%B8/%EB%84%A4%EC%8A%A4%ED%94%84%EB%A0%88%EC%86%8C_Coffee.ipynb#X20sZmlsZQ%3D%3D?line=0'>1</a>\u001b[0m review_list_nltk \u001b[39m=\u001b[39m \u001b[39m'\u001b[39m\u001b[39m'\u001b[39m\n\u001b[1;32m----> <a href='vscode-notebook-cell:/c%3A/Users/user/Python/%EC%9B%90%EB%91%90%ED%94%84%EB%A1%9C%EC%A0%9D%ED%8A%B8/%EB%84%A4%EC%8A%A4%ED%94%84%EB%A0%88%EC%86%8C_Coffee.ipynb#X20sZmlsZQ%3D%3D?line=1'>2</a>\u001b[0m \u001b[39mfor\u001b[39;00m i \u001b[39min\u001b[39;00m review_list:\n\u001b[0;32m      <a href='vscode-notebook-cell:/c%3A/Users/user/Python/%EC%9B%90%EB%91%90%ED%94%84%EB%A1%9C%EC%A0%9D%ED%8A%B8/%EB%84%A4%EC%8A%A4%ED%94%84%EB%A0%88%EC%86%8C_Coffee.ipynb#X20sZmlsZQ%3D%3D?line=2'>3</a>\u001b[0m     review_list_nltk \u001b[39m=\u001b[39m review_list_nltk \u001b[39m+\u001b[39m i\n",
      "\u001b[1;31mNameError\u001b[0m: name 'review_list' is not defined"
     ]
    }
   ],
   "source": [
    "review_list_nltk = ''\n",
    "for i in review_list:\n",
    "    review_list_nltk = review_list_nltk + i"
   ]
  },
  {
   "cell_type": "code",
   "execution_count": 7,
   "metadata": {
    "collapsed": true
   },
   "outputs": [
    {
     "data": {
      "text/plain": [
       "''"
      ]
     },
     "execution_count": 7,
     "metadata": {},
     "output_type": "execute_result"
    }
   ],
   "source": [
    "review_list_nltk"
   ]
  },
  {
   "cell_type": "code",
   "execution_count": 10,
   "metadata": {},
   "outputs": [],
   "source": [
    "nltk.corpus.stopwords.words('english')\n",
    "stopwords = nltk.corpus.stopwords.words('english')"
   ]
  },
  {
   "cell_type": "code",
   "execution_count": 11,
   "metadata": {},
   "outputs": [],
   "source": [
    "stopwords = ['i', 'be','see','lol.i','see','beans.i',\n",
    "            'have','want','joe','look','bit','continue','winner.this',\n",
    "            '”','t','bulletproof','say','“','do','me.i','coffee','try','use',\n",
    "            '%','way','maker','cup','water','get','love','keurig','work',\n",
    "            'day','amazon','box','year','pod','return','thing']"
   ]
  },
  {
   "cell_type": "code",
   "execution_count": 12,
   "metadata": {},
   "outputs": [],
   "source": [
    "def extract_tags_english(string):\n",
    "    word_list = []\n",
    "    string = string.lower()\n",
    "    string = nltk.word_tokenize(string)\n",
    "    string = nltk.pos_tag(string)\n",
    "       \n",
    "    for word, tag in string:\n",
    "        if tag in ['NN', 'VB']:\n",
    "            if word not in stopwords: #if word not in stopwords:\n",
    "                word_list.append(word)\n",
    "\n",
    "    return word_list"
   ]
  },
  {
   "cell_type": "code",
   "execution_count": 13,
   "metadata": {
    "collapsed": true
   },
   "outputs": [
    {
     "data": {
      "text/plain": [
       "[]"
      ]
     },
     "execution_count": 13,
     "metadata": {},
     "output_type": "execute_result"
    }
   ],
   "source": [
    "review_list_nltk_update = extract_tags_english(review_list_nltk)\n",
    "review_list_nltk_update"
   ]
  },
  {
   "cell_type": "code",
   "execution_count": 14,
   "metadata": {
    "collapsed": true
   },
   "outputs": [
    {
     "data": {
      "text/plain": [
       "Counter()"
      ]
     },
     "execution_count": 14,
     "metadata": {},
     "output_type": "execute_result"
    }
   ],
   "source": [
    "count = Counter(review_list_nltk_update)\n",
    "count"
   ]
  },
  {
   "cell_type": "code",
   "execution_count": 15,
   "metadata": {
    "collapsed": true
   },
   "outputs": [
    {
     "data": {
      "text/plain": [
       "[]"
      ]
     },
     "execution_count": 15,
     "metadata": {},
     "output_type": "execute_result"
    }
   ],
   "source": [
    "count.most_common(10)"
   ]
  },
  {
   "cell_type": "code",
   "execution_count": 83,
   "metadata": {},
   "outputs": [],
   "source": [
    "from PIL import Image\n",
    "import numpy as np"
   ]
  },
  {
   "cell_type": "code",
   "execution_count": 88,
   "metadata": {
    "scrolled": true
   },
   "outputs": [
    {
     "data": {
      "text/plain": [
       "array([[[255, 255, 255],\n",
       "        [255, 255, 255],\n",
       "        [255, 255, 255],\n",
       "        ...,\n",
       "        [255, 255, 255],\n",
       "        [255, 255, 255],\n",
       "        [255, 255, 255]],\n",
       "\n",
       "       [[255, 255, 255],\n",
       "        [255, 255, 255],\n",
       "        [255, 255, 255],\n",
       "        ...,\n",
       "        [255, 255, 255],\n",
       "        [255, 255, 255],\n",
       "        [255, 255, 255]],\n",
       "\n",
       "       [[255, 255, 255],\n",
       "        [255, 255, 255],\n",
       "        [255, 255, 255],\n",
       "        ...,\n",
       "        [255, 255, 255],\n",
       "        [255, 255, 255],\n",
       "        [255, 255, 255]],\n",
       "\n",
       "       ...,\n",
       "\n",
       "       [[255, 255, 255],\n",
       "        [255, 255, 255],\n",
       "        [255, 255, 255],\n",
       "        ...,\n",
       "        [255, 255, 255],\n",
       "        [255, 255, 255],\n",
       "        [255, 255, 255]],\n",
       "\n",
       "       [[255, 255, 255],\n",
       "        [255, 255, 255],\n",
       "        [255, 255, 255],\n",
       "        ...,\n",
       "        [255, 255, 255],\n",
       "        [255, 255, 255],\n",
       "        [255, 255, 255]],\n",
       "\n",
       "       [[255, 255, 255],\n",
       "        [255, 255, 255],\n",
       "        [255, 255, 255],\n",
       "        ...,\n",
       "        [255, 255, 255],\n",
       "        [255, 255, 255],\n",
       "        [255, 255, 255]]], dtype=uint8)"
      ]
     },
     "execution_count": 88,
     "metadata": {},
     "output_type": "execute_result"
    }
   ],
   "source": [
    "mask_image = np.array(Image.open(r\"C:\\Users\\82104\\Desktop\\image\\커피잔.jpg\"))\n",
    "mask_image"
   ]
  },
  {
   "cell_type": "code",
   "execution_count": 108,
   "metadata": {},
   "outputs": [],
   "source": [
    "wordcloud = WordCloud(font_path='C:\\Windows\\Fonts\\gulim.ttc',\n",
    "                     width = 700,height=700\n",
    "                      ,background_color='white',colormap = 'spring'\n",
    "                      ,mask = mask_image\n",
    "                      ,random_state=1).generate_from_frequencies(count)"
   ]
  },
  {
   "cell_type": "code",
   "execution_count": 109,
   "metadata": {
    "scrolled": true
   },
   "outputs": [
    {
     "data": {
      "text/plain": [
       "<function matplotlib.pyplot.show(close=None, block=None)>"
      ]
     },
     "execution_count": 109,
     "metadata": {},
     "output_type": "execute_result"
    },
    {
     "data": {
      "image/png": "[encoded data removed]",
      "text/plain": [
       "<Figure size 720x720 with 1 Axes>"
      ]
     },
     "metadata": {
      "needs_background": "light"
     },
     "output_type": "display_data"
    }
   ],
   "source": [
    "plt.figure(figsize=(10,10))\n",
    "plt.imshow(wordcloud)\n",
    "plt.axis(\"off\")\n",
    "plt.title(\" \", size = 30)\n",
    "plt.show"
   ]
  },
  {
   "cell_type": "code",
   "execution_count": 10,
   "metadata": {
    "scrolled": true
   },
   "outputs": [
    {
     "data": {
      "text/html": [
       "<div>\n",
       "<style scoped>\n",
       "    .dataframe tbody tr th:only-of-type {\n",
       "        vertical-align: middle;\n",
       "    }\n",
       "\n",
       "    .dataframe tbody tr th {\n",
       "        vertical-align: top;\n",
       "    }\n",
       "\n",
       "    .dataframe thead th {\n",
       "        text-align: right;\n",
       "    }\n",
       "</style>\n",
       "<table border=\"1\" class=\"dataframe\">\n",
       "  <thead>\n",
       "    <tr style=\"text-align: right;\">\n",
       "      <th></th>\n",
       "      <th>Unnamed: 0.2</th>\n",
       "      <th>Unnamed: 0.1</th>\n",
       "      <th>Unnamed: 0</th>\n",
       "      <th>Star</th>\n",
       "      <th>Date</th>\n",
       "      <th>Style</th>\n",
       "      <th>Review</th>\n",
       "    </tr>\n",
       "  </thead>\n",
       "  <tbody>\n",
       "    <tr>\n",
       "      <th>0</th>\n",
       "      <td>0</td>\n",
       "      <td>0</td>\n",
       "      <td>0</td>\n",
       "      <td>5.0</td>\n",
       "      <td>Reviewed in the United States 🇺🇸 on 2017년 12월 15일</td>\n",
       "      <td>스타일: 머신 + 에어로색상: 그레이</td>\n",
       "      <td>\"Is this a good coffee maker?\" Well, that's go...</td>\n",
       "    </tr>\n",
       "    <tr>\n",
       "      <th>1</th>\n",
       "      <td>1</td>\n",
       "      <td>1</td>\n",
       "      <td>1</td>\n",
       "      <td>5.0</td>\n",
       "      <td>Reviewed in the United States 🇺🇸 on 2018년 11월 28일</td>\n",
       "      <td>스타일: 기계 전용색상: 블랙</td>\n",
       "      <td>We have used this machine daily since purchase...</td>\n",
       "    </tr>\n",
       "    <tr>\n",
       "      <th>2</th>\n",
       "      <td>2</td>\n",
       "      <td>2</td>\n",
       "      <td>2</td>\n",
       "      <td>5.0</td>\n",
       "      <td>Reviewed in the United States 🇺🇸 on 2018년 12월 10일</td>\n",
       "      <td>스타일: 기계 전용색상: 그레이</td>\n",
       "      <td>The inside box that the machine came in had be...</td>\n",
       "    </tr>\n",
       "    <tr>\n",
       "      <th>3</th>\n",
       "      <td>3</td>\n",
       "      <td>3</td>\n",
       "      <td>3</td>\n",
       "      <td>5.0</td>\n",
       "      <td>Reviewed in the United States 🇺🇸 on 2022년 9월 15일</td>\n",
       "      <td>스타일: 머신 + 에어로색상: 타이탄.</td>\n",
       "      <td>I’m loving this machine! I’ve had many differe...</td>\n",
       "    </tr>\n",
       "    <tr>\n",
       "      <th>4</th>\n",
       "      <td>4</td>\n",
       "      <td>4</td>\n",
       "      <td>4</td>\n",
       "      <td>5.0</td>\n",
       "      <td>Reviewed in the United States 🇺🇸 on 2022년 9월 24일</td>\n",
       "      <td>스타일: 기계 전용색상: 블랙</td>\n",
       "      <td>This is the best purchase! My fiancé and I use...</td>\n",
       "    </tr>\n",
       "    <tr>\n",
       "      <th>...</th>\n",
       "      <td>...</td>\n",
       "      <td>...</td>\n",
       "      <td>...</td>\n",
       "      <td>...</td>\n",
       "      <td>...</td>\n",
       "      <td>...</td>\n",
       "      <td>...</td>\n",
       "    </tr>\n",
       "    <tr>\n",
       "      <th>2085</th>\n",
       "      <td>2085</td>\n",
       "      <td>2085</td>\n",
       "      <td>2085</td>\n",
       "      <td>5.0</td>\n",
       "      <td>Reviewed in the United States 🇺🇸 on 2018년 1월 14일</td>\n",
       "      <td>스타일: 기계 전용색상: 그레이</td>\n",
       "      <td>SO MUCH FLAVOR.</td>\n",
       "    </tr>\n",
       "    <tr>\n",
       "      <th>2086</th>\n",
       "      <td>2086</td>\n",
       "      <td>2086</td>\n",
       "      <td>2086</td>\n",
       "      <td>4.0</td>\n",
       "      <td>Reviewed in the United States 🇺🇸 on 2021년 12월 28일</td>\n",
       "      <td>스타일: 머신 + 에어로색상: 그레이</td>\n",
       "      <td>I've only had my Nespresso machine for a short...</td>\n",
       "    </tr>\n",
       "    <tr>\n",
       "      <th>2087</th>\n",
       "      <td>2087</td>\n",
       "      <td>2087</td>\n",
       "      <td>2087</td>\n",
       "      <td>5.0</td>\n",
       "      <td>Reviewed in the United States 🇺🇸 on 2017년 12월 11일</td>\n",
       "      <td>스타일: 기계 전용색상: 레드</td>\n",
       "      <td>Nice and elegant</td>\n",
       "    </tr>\n",
       "    <tr>\n",
       "      <th>2088</th>\n",
       "      <td>2088</td>\n",
       "      <td>2088</td>\n",
       "      <td>2088</td>\n",
       "      <td>5.0</td>\n",
       "      <td>Reviewed in the United States 🇺🇸 on 2017년 12월 15일</td>\n",
       "      <td>스타일: 기계 전용색상: 블랙</td>\n",
       "      <td>This machine has changed the way I do mornings...</td>\n",
       "    </tr>\n",
       "    <tr>\n",
       "      <th>2089</th>\n",
       "      <td>2089</td>\n",
       "      <td>2089</td>\n",
       "      <td>2089</td>\n",
       "      <td>5.0</td>\n",
       "      <td>Reviewed in the United States 🇺🇸 on 2018년 11월 28일</td>\n",
       "      <td>스타일: 머신 + 에어로색상: 그레이</td>\n",
       "      <td>I have waited forever to pull the trigger on t...</td>\n",
       "    </tr>\n",
       "  </tbody>\n",
       "</table>\n",
       "<p>2090 rows × 7 columns</p>\n",
       "</div>"
      ],
      "text/plain": [
       "      Unnamed: 0.2  Unnamed: 0.1  Unnamed: 0 Star  \\\n",
       "0                0             0           0  5.0   \n",
       "1                1             1           1  5.0   \n",
       "2                2             2           2  5.0   \n",
       "3                3             3           3  5.0   \n",
       "4                4             4           4  5.0   \n",
       "...            ...           ...         ...  ...   \n",
       "2085          2085          2085        2085  5.0   \n",
       "2086          2086          2086        2086  4.0   \n",
       "2087          2087          2087        2087  5.0   \n",
       "2088          2088          2088        2088  5.0   \n",
       "2089          2089          2089        2089  5.0   \n",
       "\n",
       "                                                   Date  \\\n",
       "0     Reviewed in the United States 🇺🇸 on 2017년 12월 15일   \n",
       "1     Reviewed in the United States 🇺🇸 on 2018년 11월 28일   \n",
       "2     Reviewed in the United States 🇺🇸 on 2018년 12월 10일   \n",
       "3      Reviewed in the United States 🇺🇸 on 2022년 9월 15일   \n",
       "4      Reviewed in the United States 🇺🇸 on 2022년 9월 24일   \n",
       "...                                                 ...   \n",
       "2085   Reviewed in the United States 🇺🇸 on 2018년 1월 14일   \n",
       "2086  Reviewed in the United States 🇺🇸 on 2021년 12월 28일   \n",
       "2087  Reviewed in the United States 🇺🇸 on 2017년 12월 11일   \n",
       "2088  Reviewed in the United States 🇺🇸 on 2017년 12월 15일   \n",
       "2089  Reviewed in the United States 🇺🇸 on 2018년 11월 28일   \n",
       "\n",
       "                      Style                                             Review  \n",
       "0      스타일: 머신 + 에어로색상: 그레이  \"Is this a good coffee maker?\" Well, that's go...  \n",
       "1          스타일: 기계 전용색상: 블랙  We have used this machine daily since purchase...  \n",
       "2         스타일: 기계 전용색상: 그레이  The inside box that the machine came in had be...  \n",
       "3     스타일: 머신 + 에어로색상: 타이탄.  I’m loving this machine! I’ve had many differe...  \n",
       "4          스타일: 기계 전용색상: 블랙  This is the best purchase! My fiancé and I use...  \n",
       "...                     ...                                                ...  \n",
       "2085      스타일: 기계 전용색상: 그레이                                    SO MUCH FLAVOR.  \n",
       "2086   스타일: 머신 + 에어로색상: 그레이  I've only had my Nespresso machine for a short...  \n",
       "2087       스타일: 기계 전용색상: 레드                                   Nice and elegant  \n",
       "2088       스타일: 기계 전용색상: 블랙  This machine has changed the way I do mornings...  \n",
       "2089   스타일: 머신 + 에어로색상: 그레이  I have waited forever to pull the trigger on t...  \n",
       "\n",
       "[2090 rows x 7 columns]"
      ]
     },
     "execution_count": 10,
     "metadata": {},
     "output_type": "execute_result"
    }
   ],
   "source": [
    "cafe1 = pd.read_csv(\"homecafe.csv\", encoding = 'utf-8')\n",
    "cafe1['Star'] = cafe1['Star'].str.extract(r'(\\d+.\\d+)')\n",
    "cafe1"
   ]
  },
  {
   "cell_type": "code",
   "execution_count": 11,
   "metadata": {},
   "outputs": [
    {
     "data": {
      "text/html": [
       "<div>\n",
       "<style scoped>\n",
       "    .dataframe tbody tr th:only-of-type {\n",
       "        vertical-align: middle;\n",
       "    }\n",
       "\n",
       "    .dataframe tbody tr th {\n",
       "        vertical-align: top;\n",
       "    }\n",
       "\n",
       "    .dataframe thead th {\n",
       "        text-align: right;\n",
       "    }\n",
       "</style>\n",
       "<table border=\"1\" class=\"dataframe\">\n",
       "  <thead>\n",
       "    <tr style=\"text-align: right;\">\n",
       "      <th></th>\n",
       "      <th>Style</th>\n",
       "      <th>Color</th>\n",
       "    </tr>\n",
       "  </thead>\n",
       "  <tbody>\n",
       "    <tr>\n",
       "      <th>0</th>\n",
       "      <td>머신 + 에어로</td>\n",
       "      <td>그레이</td>\n",
       "    </tr>\n",
       "    <tr>\n",
       "      <th>1</th>\n",
       "      <td>기계 전용</td>\n",
       "      <td>블랙</td>\n",
       "    </tr>\n",
       "    <tr>\n",
       "      <th>2</th>\n",
       "      <td>기계 전용</td>\n",
       "      <td>그레이</td>\n",
       "    </tr>\n",
       "    <tr>\n",
       "      <th>3</th>\n",
       "      <td>머신 + 에어로</td>\n",
       "      <td>타이탄.</td>\n",
       "    </tr>\n",
       "    <tr>\n",
       "      <th>4</th>\n",
       "      <td>기계 전용</td>\n",
       "      <td>블랙</td>\n",
       "    </tr>\n",
       "    <tr>\n",
       "      <th>...</th>\n",
       "      <td>...</td>\n",
       "      <td>...</td>\n",
       "    </tr>\n",
       "    <tr>\n",
       "      <th>2085</th>\n",
       "      <td>기계 전용</td>\n",
       "      <td>그레이</td>\n",
       "    </tr>\n",
       "    <tr>\n",
       "      <th>2086</th>\n",
       "      <td>머신 + 에어로</td>\n",
       "      <td>그레이</td>\n",
       "    </tr>\n",
       "    <tr>\n",
       "      <th>2087</th>\n",
       "      <td>기계 전용</td>\n",
       "      <td>레드</td>\n",
       "    </tr>\n",
       "    <tr>\n",
       "      <th>2088</th>\n",
       "      <td>기계 전용</td>\n",
       "      <td>블랙</td>\n",
       "    </tr>\n",
       "    <tr>\n",
       "      <th>2089</th>\n",
       "      <td>머신 + 에어로</td>\n",
       "      <td>그레이</td>\n",
       "    </tr>\n",
       "  </tbody>\n",
       "</table>\n",
       "<p>2090 rows × 2 columns</p>\n",
       "</div>"
      ],
      "text/plain": [
       "         Style  Color\n",
       "0     머신 + 에어로    그레이\n",
       "1        기계 전용     블랙\n",
       "2        기계 전용    그레이\n",
       "3     머신 + 에어로   타이탄.\n",
       "4        기계 전용     블랙\n",
       "...        ...    ...\n",
       "2085     기계 전용    그레이\n",
       "2086  머신 + 에어로    그레이\n",
       "2087     기계 전용     레드\n",
       "2088     기계 전용     블랙\n",
       "2089  머신 + 에어로    그레이\n",
       "\n",
       "[2090 rows x 2 columns]"
      ]
     },
     "execution_count": 11,
     "metadata": {},
     "output_type": "execute_result"
    }
   ],
   "source": [
    "homecafe = cafe1['Style'].str.split(\"색상:\", expand = True)\n",
    "homecafe[0] = homecafe[0].str.replace(\"스타일: \", \"\")\n",
    "homecafe.rename(columns={0: \"Style\", 1: \"Color\"}, inplace=True)\n",
    "homecafe"
   ]
  },
  {
   "cell_type": "code",
   "execution_count": 12,
   "metadata": {},
   "outputs": [
    {
     "data": {
      "text/plain": [
       "0      2017-12-15\n",
       "1      2018-11-28\n",
       "2      2018-12-10\n",
       "3      2022-09-15\n",
       "4      2022-09-24\n",
       "          ...    \n",
       "2085   2018-01-14\n",
       "2086   2021-12-28\n",
       "2087   2017-12-11\n",
       "2088   2017-12-15\n",
       "2089   2018-11-28\n",
       "Name: Date, Length: 2090, dtype: datetime64[ns]"
      ]
     },
     "execution_count": 12,
     "metadata": {},
     "output_type": "execute_result"
    }
   ],
   "source": [
    "ymd = cafe1['Date'].str.replace(\"Reviewed in the United States 🇺🇸 on \", \"\")\n",
    "ymd = ymd.str.replace(\"년 \", \"-\")\n",
    "ymd = ymd.str.replace(\"월 \", \"-\")\n",
    "ymd = ymd.str.replace(\"일\", \"\")\n",
    "ymdf = pd.to_datetime(ymd)\n",
    "ymdf"
   ]
  },
  {
   "cell_type": "code",
   "execution_count": 13,
   "metadata": {
    "scrolled": true
   },
   "outputs": [],
   "source": [
    "homecafe['Star'] = cafe1['Star']\n",
    "homecafe = homecafe[['Star','Style','Color']]\n",
    "homecafe['Review'] = cafe1['Review']"
   ]
  },
  {
   "cell_type": "code",
   "execution_count": 14,
   "metadata": {},
   "outputs": [
    {
     "data": {
      "text/html": [
       "<div>\n",
       "<style scoped>\n",
       "    .dataframe tbody tr th:only-of-type {\n",
       "        vertical-align: middle;\n",
       "    }\n",
       "\n",
       "    .dataframe tbody tr th {\n",
       "        vertical-align: top;\n",
       "    }\n",
       "\n",
       "    .dataframe thead th {\n",
       "        text-align: right;\n",
       "    }\n",
       "</style>\n",
       "<table border=\"1\" class=\"dataframe\">\n",
       "  <thead>\n",
       "    <tr style=\"text-align: right;\">\n",
       "      <th></th>\n",
       "      <th>Star</th>\n",
       "      <th>Style</th>\n",
       "      <th>Color</th>\n",
       "      <th>Review</th>\n",
       "      <th>Date</th>\n",
       "    </tr>\n",
       "  </thead>\n",
       "  <tbody>\n",
       "    <tr>\n",
       "      <th>0</th>\n",
       "      <td>5.0</td>\n",
       "      <td>머신 + 에어로</td>\n",
       "      <td>그레이</td>\n",
       "      <td>\"Is this a good coffee maker?\" Well, that's go...</td>\n",
       "      <td>2017-12-15</td>\n",
       "    </tr>\n",
       "    <tr>\n",
       "      <th>1</th>\n",
       "      <td>5.0</td>\n",
       "      <td>기계 전용</td>\n",
       "      <td>블랙</td>\n",
       "      <td>We have used this machine daily since purchase...</td>\n",
       "      <td>2018-11-28</td>\n",
       "    </tr>\n",
       "    <tr>\n",
       "      <th>2</th>\n",
       "      <td>5.0</td>\n",
       "      <td>기계 전용</td>\n",
       "      <td>그레이</td>\n",
       "      <td>The inside box that the machine came in had be...</td>\n",
       "      <td>2018-12-10</td>\n",
       "    </tr>\n",
       "    <tr>\n",
       "      <th>3</th>\n",
       "      <td>5.0</td>\n",
       "      <td>머신 + 에어로</td>\n",
       "      <td>타이탄.</td>\n",
       "      <td>I’m loving this machine! I’ve had many differe...</td>\n",
       "      <td>2022-09-15</td>\n",
       "    </tr>\n",
       "    <tr>\n",
       "      <th>4</th>\n",
       "      <td>5.0</td>\n",
       "      <td>기계 전용</td>\n",
       "      <td>블랙</td>\n",
       "      <td>This is the best purchase! My fiancé and I use...</td>\n",
       "      <td>2022-09-24</td>\n",
       "    </tr>\n",
       "    <tr>\n",
       "      <th>...</th>\n",
       "      <td>...</td>\n",
       "      <td>...</td>\n",
       "      <td>...</td>\n",
       "      <td>...</td>\n",
       "      <td>...</td>\n",
       "    </tr>\n",
       "    <tr>\n",
       "      <th>2085</th>\n",
       "      <td>5.0</td>\n",
       "      <td>기계 전용</td>\n",
       "      <td>그레이</td>\n",
       "      <td>SO MUCH FLAVOR.</td>\n",
       "      <td>2018-01-14</td>\n",
       "    </tr>\n",
       "    <tr>\n",
       "      <th>2086</th>\n",
       "      <td>4.0</td>\n",
       "      <td>머신 + 에어로</td>\n",
       "      <td>그레이</td>\n",
       "      <td>I've only had my Nespresso machine for a short...</td>\n",
       "      <td>2021-12-28</td>\n",
       "    </tr>\n",
       "    <tr>\n",
       "      <th>2087</th>\n",
       "      <td>5.0</td>\n",
       "      <td>기계 전용</td>\n",
       "      <td>레드</td>\n",
       "      <td>Nice and elegant</td>\n",
       "      <td>2017-12-11</td>\n",
       "    </tr>\n",
       "    <tr>\n",
       "      <th>2088</th>\n",
       "      <td>5.0</td>\n",
       "      <td>기계 전용</td>\n",
       "      <td>블랙</td>\n",
       "      <td>This machine has changed the way I do mornings...</td>\n",
       "      <td>2017-12-15</td>\n",
       "    </tr>\n",
       "    <tr>\n",
       "      <th>2089</th>\n",
       "      <td>5.0</td>\n",
       "      <td>머신 + 에어로</td>\n",
       "      <td>그레이</td>\n",
       "      <td>I have waited forever to pull the trigger on t...</td>\n",
       "      <td>2018-11-28</td>\n",
       "    </tr>\n",
       "  </tbody>\n",
       "</table>\n",
       "<p>2090 rows × 5 columns</p>\n",
       "</div>"
      ],
      "text/plain": [
       "     Star     Style  Color                                             Review  \\\n",
       "0     5.0  머신 + 에어로    그레이  \"Is this a good coffee maker?\" Well, that's go...   \n",
       "1     5.0     기계 전용     블랙  We have used this machine daily since purchase...   \n",
       "2     5.0     기계 전용    그레이  The inside box that the machine came in had be...   \n",
       "3     5.0  머신 + 에어로   타이탄.  I’m loving this machine! I’ve had many differe...   \n",
       "4     5.0     기계 전용     블랙  This is the best purchase! My fiancé and I use...   \n",
       "...   ...       ...    ...                                                ...   \n",
       "2085  5.0     기계 전용    그레이                                    SO MUCH FLAVOR.   \n",
       "2086  4.0  머신 + 에어로    그레이  I've only had my Nespresso machine for a short...   \n",
       "2087  5.0     기계 전용     레드                                   Nice and elegant   \n",
       "2088  5.0     기계 전용     블랙  This machine has changed the way I do mornings...   \n",
       "2089  5.0  머신 + 에어로    그레이  I have waited forever to pull the trigger on t...   \n",
       "\n",
       "           Date  \n",
       "0    2017-12-15  \n",
       "1    2018-11-28  \n",
       "2    2018-12-10  \n",
       "3    2022-09-15  \n",
       "4    2022-09-24  \n",
       "...         ...  \n",
       "2085 2018-01-14  \n",
       "2086 2021-12-28  \n",
       "2087 2017-12-11  \n",
       "2088 2017-12-15  \n",
       "2089 2018-11-28  \n",
       "\n",
       "[2090 rows x 5 columns]"
      ]
     },
     "execution_count": 14,
     "metadata": {},
     "output_type": "execute_result"
    }
   ],
   "source": [
    "homecafe['Date'] = ymdf\n",
    "homecafe"
   ]
  },
  {
   "cell_type": "code",
   "execution_count": 15,
   "metadata": {},
   "outputs": [
    {
     "data": {
      "text/html": [
       "<div>\n",
       "<style scoped>\n",
       "    .dataframe tbody tr th:only-of-type {\n",
       "        vertical-align: middle;\n",
       "    }\n",
       "\n",
       "    .dataframe tbody tr th {\n",
       "        vertical-align: top;\n",
       "    }\n",
       "\n",
       "    .dataframe thead th {\n",
       "        text-align: right;\n",
       "    }\n",
       "</style>\n",
       "<table border=\"1\" class=\"dataframe\">\n",
       "  <thead>\n",
       "    <tr style=\"text-align: right;\">\n",
       "      <th></th>\n",
       "      <th>Star</th>\n",
       "      <th>Date</th>\n",
       "      <th>Style</th>\n",
       "      <th>Color</th>\n",
       "      <th>Review</th>\n",
       "    </tr>\n",
       "  </thead>\n",
       "  <tbody>\n",
       "    <tr>\n",
       "      <th>0</th>\n",
       "      <td>5.0</td>\n",
       "      <td>2017-12-15</td>\n",
       "      <td>머신 + 에어로</td>\n",
       "      <td>그레이</td>\n",
       "      <td>\"Is this a good coffee maker?\" Well, that's go...</td>\n",
       "    </tr>\n",
       "    <tr>\n",
       "      <th>1</th>\n",
       "      <td>5.0</td>\n",
       "      <td>2018-11-28</td>\n",
       "      <td>기계 전용</td>\n",
       "      <td>블랙</td>\n",
       "      <td>We have used this machine daily since purchase...</td>\n",
       "    </tr>\n",
       "    <tr>\n",
       "      <th>2</th>\n",
       "      <td>5.0</td>\n",
       "      <td>2018-12-10</td>\n",
       "      <td>기계 전용</td>\n",
       "      <td>그레이</td>\n",
       "      <td>The inside box that the machine came in had be...</td>\n",
       "    </tr>\n",
       "    <tr>\n",
       "      <th>3</th>\n",
       "      <td>5.0</td>\n",
       "      <td>2022-09-15</td>\n",
       "      <td>머신 + 에어로</td>\n",
       "      <td>타이탄.</td>\n",
       "      <td>I’m loving this machine! I’ve had many differe...</td>\n",
       "    </tr>\n",
       "    <tr>\n",
       "      <th>4</th>\n",
       "      <td>5.0</td>\n",
       "      <td>2022-09-24</td>\n",
       "      <td>기계 전용</td>\n",
       "      <td>블랙</td>\n",
       "      <td>This is the best purchase! My fiancé and I use...</td>\n",
       "    </tr>\n",
       "    <tr>\n",
       "      <th>...</th>\n",
       "      <td>...</td>\n",
       "      <td>...</td>\n",
       "      <td>...</td>\n",
       "      <td>...</td>\n",
       "      <td>...</td>\n",
       "    </tr>\n",
       "    <tr>\n",
       "      <th>2085</th>\n",
       "      <td>5.0</td>\n",
       "      <td>2018-01-14</td>\n",
       "      <td>기계 전용</td>\n",
       "      <td>그레이</td>\n",
       "      <td>SO MUCH FLAVOR.</td>\n",
       "    </tr>\n",
       "    <tr>\n",
       "      <th>2086</th>\n",
       "      <td>4.0</td>\n",
       "      <td>2021-12-28</td>\n",
       "      <td>머신 + 에어로</td>\n",
       "      <td>그레이</td>\n",
       "      <td>I've only had my Nespresso machine for a short...</td>\n",
       "    </tr>\n",
       "    <tr>\n",
       "      <th>2087</th>\n",
       "      <td>5.0</td>\n",
       "      <td>2017-12-11</td>\n",
       "      <td>기계 전용</td>\n",
       "      <td>레드</td>\n",
       "      <td>Nice and elegant</td>\n",
       "    </tr>\n",
       "    <tr>\n",
       "      <th>2088</th>\n",
       "      <td>5.0</td>\n",
       "      <td>2017-12-15</td>\n",
       "      <td>기계 전용</td>\n",
       "      <td>블랙</td>\n",
       "      <td>This machine has changed the way I do mornings...</td>\n",
       "    </tr>\n",
       "    <tr>\n",
       "      <th>2089</th>\n",
       "      <td>5.0</td>\n",
       "      <td>2018-11-28</td>\n",
       "      <td>머신 + 에어로</td>\n",
       "      <td>그레이</td>\n",
       "      <td>I have waited forever to pull the trigger on t...</td>\n",
       "    </tr>\n",
       "  </tbody>\n",
       "</table>\n",
       "<p>2090 rows × 5 columns</p>\n",
       "</div>"
      ],
      "text/plain": [
       "     Star       Date     Style  Color  \\\n",
       "0     5.0 2017-12-15  머신 + 에어로    그레이   \n",
       "1     5.0 2018-11-28     기계 전용     블랙   \n",
       "2     5.0 2018-12-10     기계 전용    그레이   \n",
       "3     5.0 2022-09-15  머신 + 에어로   타이탄.   \n",
       "4     5.0 2022-09-24     기계 전용     블랙   \n",
       "...   ...        ...       ...    ...   \n",
       "2085  5.0 2018-01-14     기계 전용    그레이   \n",
       "2086  4.0 2021-12-28  머신 + 에어로    그레이   \n",
       "2087  5.0 2017-12-11     기계 전용     레드   \n",
       "2088  5.0 2017-12-15     기계 전용     블랙   \n",
       "2089  5.0 2018-11-28  머신 + 에어로    그레이   \n",
       "\n",
       "                                                 Review  \n",
       "0     \"Is this a good coffee maker?\" Well, that's go...  \n",
       "1     We have used this machine daily since purchase...  \n",
       "2     The inside box that the machine came in had be...  \n",
       "3     I’m loving this machine! I’ve had many differe...  \n",
       "4     This is the best purchase! My fiancé and I use...  \n",
       "...                                                 ...  \n",
       "2085                                    SO MUCH FLAVOR.  \n",
       "2086  I've only had my Nespresso machine for a short...  \n",
       "2087                                   Nice and elegant  \n",
       "2088  This machine has changed the way I do mornings...  \n",
       "2089  I have waited forever to pull the trigger on t...  \n",
       "\n",
       "[2090 rows x 5 columns]"
      ]
     },
     "execution_count": 15,
     "metadata": {},
     "output_type": "execute_result"
    }
   ],
   "source": [
    "homecafe = homecafe[['Star','Date','Style','Color','Review']]\n",
    "homecafe"
   ]
  },
  {
   "cell_type": "code",
   "execution_count": 16,
   "metadata": {},
   "outputs": [],
   "source": [
    "homecafe = pd.DataFrame(homecafe)"
   ]
  },
  {
   "cell_type": "code",
   "execution_count": 17,
   "metadata": {
    "scrolled": true
   },
   "outputs": [
    {
     "data": {
      "text/html": [
       "<div>\n",
       "<style scoped>\n",
       "    .dataframe tbody tr th:only-of-type {\n",
       "        vertical-align: middle;\n",
       "    }\n",
       "\n",
       "    .dataframe tbody tr th {\n",
       "        vertical-align: top;\n",
       "    }\n",
       "\n",
       "    .dataframe thead th {\n",
       "        text-align: right;\n",
       "    }\n",
       "</style>\n",
       "<table border=\"1\" class=\"dataframe\">\n",
       "  <thead>\n",
       "    <tr style=\"text-align: right;\">\n",
       "      <th></th>\n",
       "      <th>Star</th>\n",
       "      <th>Date</th>\n",
       "      <th>Style</th>\n",
       "      <th>Color</th>\n",
       "      <th>Review</th>\n",
       "    </tr>\n",
       "  </thead>\n",
       "  <tbody>\n",
       "    <tr>\n",
       "      <th>0</th>\n",
       "      <td>5.0</td>\n",
       "      <td>2017-12-15</td>\n",
       "      <td>머신 + 에어로</td>\n",
       "      <td>그레이</td>\n",
       "      <td>\"Is this a good coffee maker?\" Well, that's go...</td>\n",
       "    </tr>\n",
       "    <tr>\n",
       "      <th>1</th>\n",
       "      <td>5.0</td>\n",
       "      <td>2018-11-28</td>\n",
       "      <td>기계 전용</td>\n",
       "      <td>블랙</td>\n",
       "      <td>We have used this machine daily since purchase...</td>\n",
       "    </tr>\n",
       "    <tr>\n",
       "      <th>2</th>\n",
       "      <td>5.0</td>\n",
       "      <td>2018-12-10</td>\n",
       "      <td>기계 전용</td>\n",
       "      <td>그레이</td>\n",
       "      <td>The inside box that the machine came in had be...</td>\n",
       "    </tr>\n",
       "    <tr>\n",
       "      <th>3</th>\n",
       "      <td>5.0</td>\n",
       "      <td>2022-09-15</td>\n",
       "      <td>머신 + 에어로</td>\n",
       "      <td>타이탄.</td>\n",
       "      <td>I’m loving this machine! I’ve had many differe...</td>\n",
       "    </tr>\n",
       "    <tr>\n",
       "      <th>4</th>\n",
       "      <td>5.0</td>\n",
       "      <td>2022-09-24</td>\n",
       "      <td>기계 전용</td>\n",
       "      <td>블랙</td>\n",
       "      <td>This is the best purchase! My fiancé and I use...</td>\n",
       "    </tr>\n",
       "    <tr>\n",
       "      <th>...</th>\n",
       "      <td>...</td>\n",
       "      <td>...</td>\n",
       "      <td>...</td>\n",
       "      <td>...</td>\n",
       "      <td>...</td>\n",
       "    </tr>\n",
       "    <tr>\n",
       "      <th>2085</th>\n",
       "      <td>5.0</td>\n",
       "      <td>2018-01-14</td>\n",
       "      <td>기계 전용</td>\n",
       "      <td>그레이</td>\n",
       "      <td>SO MUCH FLAVOR.</td>\n",
       "    </tr>\n",
       "    <tr>\n",
       "      <th>2086</th>\n",
       "      <td>4.0</td>\n",
       "      <td>2021-12-28</td>\n",
       "      <td>머신 + 에어로</td>\n",
       "      <td>그레이</td>\n",
       "      <td>I've only had my Nespresso machine for a short...</td>\n",
       "    </tr>\n",
       "    <tr>\n",
       "      <th>2087</th>\n",
       "      <td>5.0</td>\n",
       "      <td>2017-12-11</td>\n",
       "      <td>기계 전용</td>\n",
       "      <td>레드</td>\n",
       "      <td>Nice and elegant</td>\n",
       "    </tr>\n",
       "    <tr>\n",
       "      <th>2088</th>\n",
       "      <td>5.0</td>\n",
       "      <td>2017-12-15</td>\n",
       "      <td>기계 전용</td>\n",
       "      <td>블랙</td>\n",
       "      <td>This machine has changed the way I do mornings...</td>\n",
       "    </tr>\n",
       "    <tr>\n",
       "      <th>2089</th>\n",
       "      <td>5.0</td>\n",
       "      <td>2018-11-28</td>\n",
       "      <td>머신 + 에어로</td>\n",
       "      <td>그레이</td>\n",
       "      <td>I have waited forever to pull the trigger on t...</td>\n",
       "    </tr>\n",
       "  </tbody>\n",
       "</table>\n",
       "<p>2090 rows × 5 columns</p>\n",
       "</div>"
      ],
      "text/plain": [
       "      Star       Date     Style  Color  \\\n",
       "0      5.0 2017-12-15  머신 + 에어로    그레이   \n",
       "1      5.0 2018-11-28     기계 전용     블랙   \n",
       "2      5.0 2018-12-10     기계 전용    그레이   \n",
       "3      5.0 2022-09-15  머신 + 에어로   타이탄.   \n",
       "4      5.0 2022-09-24     기계 전용     블랙   \n",
       "...    ...        ...       ...    ...   \n",
       "2085   5.0 2018-01-14     기계 전용    그레이   \n",
       "2086   4.0 2021-12-28  머신 + 에어로    그레이   \n",
       "2087   5.0 2017-12-11     기계 전용     레드   \n",
       "2088   5.0 2017-12-15     기계 전용     블랙   \n",
       "2089   5.0 2018-11-28  머신 + 에어로    그레이   \n",
       "\n",
       "                                                 Review  \n",
       "0     \"Is this a good coffee maker?\" Well, that's go...  \n",
       "1     We have used this machine daily since purchase...  \n",
       "2     The inside box that the machine came in had be...  \n",
       "3     I’m loving this machine! I’ve had many differe...  \n",
       "4     This is the best purchase! My fiancé and I use...  \n",
       "...                                                 ...  \n",
       "2085                                    SO MUCH FLAVOR.  \n",
       "2086  I've only had my Nespresso machine for a short...  \n",
       "2087                                   Nice and elegant  \n",
       "2088  This machine has changed the way I do mornings...  \n",
       "2089  I have waited forever to pull the trigger on t...  \n",
       "\n",
       "[2090 rows x 5 columns]"
      ]
     },
     "execution_count": 17,
     "metadata": {},
     "output_type": "execute_result"
    }
   ],
   "source": [
    "homecafe = homecafe.astype({'Star':'float'})\n",
    "homecafe"
   ]
  },
  {
   "cell_type": "code",
   "execution_count": 18,
   "metadata": {
    "scrolled": false
   },
   "outputs": [
    {
     "name": "stdout",
     "output_type": "stream",
     "text": [
      "<class 'pandas.core.frame.DataFrame'>\n",
      "RangeIndex: 2090 entries, 0 to 2089\n",
      "Data columns (total 5 columns):\n",
      " #   Column  Non-Null Count  Dtype         \n",
      "---  ------  --------------  -----         \n",
      " 0   Star    2090 non-null   float64       \n",
      " 1   Date    2090 non-null   datetime64[ns]\n",
      " 2   Style   2090 non-null   object        \n",
      " 3   Color   2090 non-null   object        \n",
      " 4   Review  2083 non-null   object        \n",
      "dtypes: datetime64[ns](1), float64(1), object(3)\n",
      "memory usage: 81.8+ KB\n"
     ]
    }
   ],
   "source": [
    "homecafe.info()"
   ]
  },
  {
   "cell_type": "code",
   "execution_count": 19,
   "metadata": {},
   "outputs": [
    {
     "data": {
      "text/plain": [
       "array(['머신 + 에어로', '기계 전용', '기계 + 캡슐 VertuoLine', '머신 + 에어로치노',\n",
       "       '기계 + 에어로치노 + 캡슐 세트', '기계 + 캡슐 세트'], dtype=object)"
      ]
     },
     "execution_count": 19,
     "metadata": {},
     "output_type": "execute_result"
    }
   ],
   "source": [
    "homecafe.Style.unique()"
   ]
  },
  {
   "cell_type": "code",
   "execution_count": 18,
   "metadata": {},
   "outputs": [
    {
     "data": {
      "text/plain": [
       "array([' 그레이', ' 블랙', ' 타이탄.', ' 레드', ' 잉크 블랙.', ' 매트 블랙.', ' LE 블랙 매트'],\n",
       "      dtype=object)"
      ]
     },
     "execution_count": 18,
     "metadata": {},
     "output_type": "execute_result"
    }
   ],
   "source": [
    "homecafe.Color.unique()"
   ]
  },
  {
   "cell_type": "code",
   "execution_count": 20,
   "metadata": {},
   "outputs": [
    {
     "data": {
      "text/plain": [
       "기계 전용                 1192\n",
       "머신 + 에어로               852\n",
       "기계 + 캡슐 세트              18\n",
       "기계 + 에어로치노 + 캡슐 세트      15\n",
       "기계 + 캡슐 VertuoLine       8\n",
       "머신 + 에어로치노               5\n",
       "Name: Style, dtype: int64"
      ]
     },
     "execution_count": 20,
     "metadata": {},
     "output_type": "execute_result"
    }
   ],
   "source": [
    "style1 = homecafe['Style'].value_counts()\n",
    "style1"
   ]
  },
  {
   "cell_type": "code",
   "execution_count": 21,
   "metadata": {
    "scrolled": true
   },
   "outputs": [
    {
     "data": {
      "text/plain": [
       " 그레이         1106\n",
       " 블랙           440\n",
       " 레드           238\n",
       " 타이탄.         236\n",
       " LE 블랙 매트      54\n",
       " 잉크 블랙.        11\n",
       " 매트 블랙.         5\n",
       "Name: Color, dtype: int64"
      ]
     },
     "execution_count": 21,
     "metadata": {},
     "output_type": "execute_result"
    }
   ],
   "source": [
    "style1 = homecafe['Color'].value_counts()\n",
    "style1"
   ]
  },
  {
   "cell_type": "code",
   "execution_count": null,
   "metadata": {},
   "outputs": [],
   "source": []
  }
 ],
 "metadata": {
  "kernelspec": {
   "display_name": "Python 3.9.12 ('base')",
   "language": "python",
   "name": "python3"
  },
  "language_info": {
   "codemirror_mode": {
    "name": "ipython",
    "version": 3
   },
   "file_extension": ".py",
   "mimetype": "text/x-python",
   "name": "python",
   "nbconvert_exporter": "python",
   "pygments_lexer": "ipython3",
   "version": "3.9.12"
  },
  "vscode": {
   "interpreter": {
    "hash": "a077222d77dfe082b8f1dd562ad70e458ac2ab76993a0b248ab0476e32e9e8dd"
   }
  }
 },
 "nbformat": 4,
 "nbformat_minor": 2
}
