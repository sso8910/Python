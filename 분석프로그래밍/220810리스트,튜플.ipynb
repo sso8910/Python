{
 "cells": [
  {
   "cell_type": "code",
   "execution_count": 1,
   "id": "fe84088b",
   "metadata": {},
   "outputs": [],
   "source": [
    "a=[1,2,3,4] \n",
    "# 하나의 변수에 여러게 값을 넣고 싶을 때, 리스트 []안에 ,로 구분"
   ]
  },
  {
   "cell_type": "code",
   "execution_count": 3,
   "id": "569fe620",
   "metadata": {},
   "outputs": [
    {
     "data": {
      "text/plain": [
       "['My', 'name', 'is', 'ChangHyun']"
      ]
     },
     "execution_count": 3,
     "metadata": {},
     "output_type": "execute_result"
    }
   ],
   "source": [
    "b=[\"My\",\"name\",\"is\",\"ChangHyun\"]\n",
    "b"
   ]
  },
  {
   "cell_type": "code",
   "execution_count": 4,
   "id": "06db1480",
   "metadata": {},
   "outputs": [
    {
     "data": {
      "text/plain": [
       "[1, 2, 'my', 'name']"
      ]
     },
     "execution_count": 4,
     "metadata": {},
     "output_type": "execute_result"
    }
   ],
   "source": [
    "c=[1,2,\"my\",\"name\"]\n",
    "c"
   ]
  },
  {
   "cell_type": "code",
   "execution_count": 11,
   "id": "de1086d2",
   "metadata": {},
   "outputs": [
    {
     "data": {
      "text/plain": [
       "'a'"
      ]
     },
     "execution_count": 11,
     "metadata": {},
     "output_type": "execute_result"
    }
   ],
   "source": [
    "d=[1,2,[\"a\",\"b\"]]\n",
    "d[2][0]"
   ]
  },
  {
   "cell_type": "code",
   "execution_count": 6,
   "id": "a1a503e8",
   "metadata": {},
   "outputs": [
    {
     "data": {
      "text/plain": [
       "[]"
      ]
     },
     "execution_count": 6,
     "metadata": {},
     "output_type": "execute_result"
    }
   ],
   "source": [
    "e=[]\n",
    "e"
   ]
  },
  {
   "cell_type": "code",
   "execution_count": 12,
   "id": "ec374837",
   "metadata": {},
   "outputs": [
    {
     "data": {
      "text/plain": [
       "[7, 8, 9]"
      ]
     },
     "execution_count": 12,
     "metadata": {},
     "output_type": "execute_result"
    }
   ],
   "source": [
    "l=[7,8,9,10]\n",
    "l[0:3] #슬라이싱"
   ]
  },
  {
   "cell_type": "code",
   "execution_count": 10,
   "id": "35b9df3b",
   "metadata": {},
   "outputs": [
    {
     "data": {
      "text/plain": [
       "7"
      ]
     },
     "execution_count": 10,
     "metadata": {},
     "output_type": "execute_result"
    }
   ],
   "source": [
    "[7,8,9,10][0] #뒤에[0]인덱싱을 뜻 함"
   ]
  },
  {
   "cell_type": "markdown",
   "id": "311155d7",
   "metadata": {},
   "source": [
    "#### 튜플 : 소괄호()씀\n",
    "- 원소를 넣고 빼고 순서바꾸고 불가능"
   ]
  },
  {
   "cell_type": "code",
   "execution_count": 14,
   "id": "6ea20b37",
   "metadata": {},
   "outputs": [],
   "source": [
    "a=()\n",
    "b=(1,2,3,4)\n",
    "c=(\"a\",\"b\",\"c\")\n",
    "d=(1,2,\"a\",\"b\")\n",
    "e=(1,2,[\"a\",\"b\"])\n",
    "f=(1,2,(\"a\",\"b\"))"
   ]
  },
  {
   "cell_type": "code",
   "execution_count": 15,
   "id": "55c8f296",
   "metadata": {},
   "outputs": [
    {
     "data": {
      "text/plain": [
       "('a', 'b', 'c')"
      ]
     },
     "execution_count": 15,
     "metadata": {},
     "output_type": "execute_result"
    }
   ],
   "source": [
    "c[0:3]"
   ]
  },
  {
   "cell_type": "code",
   "execution_count": 2,
   "id": "d382d7fa",
   "metadata": {},
   "outputs": [
    {
     "data": {
      "text/plain": [
       "[1, 2, 3, 4, 5, 6, 7, 8]"
      ]
     },
     "execution_count": 2,
     "metadata": {},
     "output_type": "execute_result"
    }
   ],
   "source": [
    "#리스트끼리는 덧셈가능\n",
    "a=[1,2,3,4]\n",
    "b=[5,6,7,8]\n",
    "a+b"
   ]
  },
  {
   "cell_type": "code",
   "execution_count": 3,
   "id": "68a1c1f3",
   "metadata": {},
   "outputs": [
    {
     "data": {
      "text/plain": [
       "[1, 2, 3, 4, 5]"
      ]
     },
     "execution_count": 3,
     "metadata": {},
     "output_type": "execute_result"
    }
   ],
   "source": [
    "#append 값을 하나만 받고 어디에 넣을지만 봄\n",
    "a.append(5)\n",
    "a"
   ]
  },
  {
   "cell_type": "code",
   "execution_count": 4,
   "id": "c98dd70c",
   "metadata": {},
   "outputs": [
    {
     "data": {
      "text/plain": [
       "[8, 1, 2, 3, 4, 5]"
      ]
     },
     "execution_count": 4,
     "metadata": {},
     "output_type": "execute_result"
    }
   ],
   "source": [
    "a.insert(0,8)  # insert(위치,넣을값)\n",
    "a"
   ]
  },
  {
   "cell_type": "code",
   "execution_count": 5,
   "id": "ed05bed1",
   "metadata": {},
   "outputs": [
    {
     "data": {
      "text/plain": [
       "'tell me'"
      ]
     },
     "execution_count": 5,
     "metadata": {},
     "output_type": "execute_result"
    }
   ],
   "source": [
    "t=\"tell me\"\n",
    "t.upper()\n",
    "t"
   ]
  },
  {
   "cell_type": "code",
   "execution_count": 8,
   "id": "e090df26",
   "metadata": {},
   "outputs": [
    {
     "data": {
      "text/plain": [
       "[8, 1, 2, 3, 4, 5, 20, 20, 20, 20]"
      ]
     },
     "execution_count": 8,
     "metadata": {},
     "output_type": "execute_result"
    }
   ],
   "source": [
    "a.append(20)\n",
    "a.insert(-1,20)\n",
    "a"
   ]
  },
  {
   "cell_type": "code",
   "execution_count": 9,
   "id": "1d9890f5",
   "metadata": {},
   "outputs": [
    {
     "data": {
      "text/plain": [
       "[1, 2, 3, 4, 5, 20, 20, 20, 20]"
      ]
     },
     "execution_count": 9,
     "metadata": {},
     "output_type": "execute_result"
    }
   ],
   "source": [
    "#원소를 지우는 방법\n",
    "#1.인덱싱사용\n",
    "del a[0]\n",
    "a"
   ]
  },
  {
   "cell_type": "code",
   "execution_count": 10,
   "id": "2c381eab",
   "metadata": {},
   "outputs": [
    {
     "data": {
      "text/plain": [
       "[1, 2, 3, 4, 5]"
      ]
     },
     "execution_count": 10,
     "metadata": {},
     "output_type": "execute_result"
    }
   ],
   "source": [
    "del a[5:] #del은 인덱싱으로 필요없는거 삭제\n",
    "a"
   ]
  },
  {
   "cell_type": "code",
   "execution_count": 11,
   "id": "88910671",
   "metadata": {},
   "outputs": [
    {
     "data": {
      "text/plain": [
       "[1, 2, 4, 5]"
      ]
     },
     "execution_count": 11,
     "metadata": {},
     "output_type": "execute_result"
    }
   ],
   "source": [
    "a.remove(3) #remove 지우고싶은 값 지정해서 삭제\n",
    "a"
   ]
  },
  {
   "cell_type": "code",
   "execution_count": 12,
   "id": "6de58612",
   "metadata": {},
   "outputs": [
    {
     "data": {
      "text/plain": [
       "[1, 12, 2, 12, 3, 12, 4, 12]"
      ]
     },
     "execution_count": 12,
     "metadata": {},
     "output_type": "execute_result"
    }
   ],
   "source": [
    "a=[1,12,2,12,3,12,4,12]\n",
    "a"
   ]
  },
  {
   "cell_type": "code",
   "execution_count": 18,
   "id": "24a9a08e",
   "metadata": {},
   "outputs": [
    {
     "data": {
      "text/plain": [
       "[1, 2, 3, 4, 5, 12, 12]"
      ]
     },
     "execution_count": 18,
     "metadata": {},
     "output_type": "execute_result"
    }
   ],
   "source": [
    "a.reverse() #내림차순\n",
    "a"
   ]
  },
  {
   "cell_type": "code",
   "execution_count": 14,
   "id": "1e32c204",
   "metadata": {},
   "outputs": [
    {
     "data": {
      "text/plain": [
       "[1, 2, 12, 3, 12, 4, 12]"
      ]
     },
     "execution_count": 14,
     "metadata": {},
     "output_type": "execute_result"
    }
   ],
   "source": [
    "a.remove(12)\n",
    "a\n",
    "#맨 앞의 12만 지워짐, 다지우고 싶으면 반복문 사용해야함"
   ]
  },
  {
   "cell_type": "code",
   "execution_count": 15,
   "id": "5a047709",
   "metadata": {},
   "outputs": [
    {
     "data": {
      "text/plain": [
       "[1, 2, 5, 3, 12, 4, 12]"
      ]
     },
     "execution_count": 15,
     "metadata": {},
     "output_type": "execute_result"
    }
   ],
   "source": [
    "a[2]=5\n",
    "a\n",
    "#바꾸고 싶은 자리 위치 인덱싱으로 지정해서 바꿀 값 넣어주면 바뀜"
   ]
  },
  {
   "cell_type": "code",
   "execution_count": 16,
   "id": "b26b420e",
   "metadata": {},
   "outputs": [
    {
     "data": {
      "text/plain": [
       "[1, 2, 3, 4, 5, 12, 12]"
      ]
     },
     "execution_count": 16,
     "metadata": {},
     "output_type": "execute_result"
    }
   ],
   "source": [
    "a.sort() #오름차순\n",
    "a"
   ]
  },
  {
   "cell_type": "code",
   "execution_count": 17,
   "id": "7f3ea5d3",
   "metadata": {},
   "outputs": [
    {
     "data": {
      "text/plain": [
       "[12, 12, 5, 4, 3, 2, 1]"
      ]
     },
     "execution_count": 17,
     "metadata": {},
     "output_type": "execute_result"
    }
   ],
   "source": [
    "a.sort(reverse=True) #내림차순\n",
    "a "
   ]
  },
  {
   "cell_type": "code",
   "execution_count": 19,
   "id": "faae67b2",
   "metadata": {},
   "outputs": [
    {
     "data": {
      "text/plain": [
       "7"
      ]
     },
     "execution_count": 19,
     "metadata": {},
     "output_type": "execute_result"
    }
   ],
   "source": [
    "#len : 리스트의 길이를 잰다\n",
    "len(a)"
   ]
  },
  {
   "cell_type": "code",
   "execution_count": 20,
   "id": "444ab565",
   "metadata": {},
   "outputs": [
    {
     "data": {
      "text/plain": [
       "[1, 2, 3, 4, 5, 12, 12]"
      ]
     },
     "execution_count": 20,
     "metadata": {},
     "output_type": "execute_result"
    }
   ],
   "source": [
    "a"
   ]
  },
  {
   "cell_type": "code",
   "execution_count": 21,
   "id": "3568f09d",
   "metadata": {},
   "outputs": [
    {
     "data": {
      "text/plain": [
       "int"
      ]
     },
     "execution_count": 21,
     "metadata": {},
     "output_type": "execute_result"
    }
   ],
   "source": [
    "type(1)"
   ]
  },
  {
   "cell_type": "code",
   "execution_count": 22,
   "id": "30ee41ee",
   "metadata": {},
   "outputs": [
    {
     "data": {
      "text/plain": [
       "'TELL ME'"
      ]
     },
     "execution_count": 22,
     "metadata": {},
     "output_type": "execute_result"
    }
   ],
   "source": [
    "\"tell me\".upper()"
   ]
  },
  {
   "cell_type": "code",
   "execution_count": 23,
   "id": "48b38e40",
   "metadata": {},
   "outputs": [
    {
     "data": {
      "text/plain": [
       "['TELL', 'ME']"
      ]
     },
     "execution_count": 23,
     "metadata": {},
     "output_type": "execute_result"
    }
   ],
   "source": [
    "sentence=\"tell me\"\n",
    "sentence.upper().split()"
   ]
  },
  {
   "cell_type": "code",
   "execution_count": 28,
   "id": "06bdb411",
   "metadata": {},
   "outputs": [
    {
     "data": {
      "text/plain": [
       "True"
      ]
     },
     "execution_count": 28,
     "metadata": {},
     "output_type": "execute_result"
    }
   ],
   "source": [
    "cs=[\"사이다\",\"콜라\",\"주스\"]\n",
    "\"콜라\" in cs\n",
    "# \"카프리선\"in cs \n",
    "\"카프리썬\" not in cs  #카프리썬이 cs에 없다면 true"
   ]
  },
  {
   "cell_type": "code",
   "execution_count": 29,
   "id": "f556e5b2",
   "metadata": {},
   "outputs": [
    {
     "data": {
      "text/plain": [
       "True"
      ]
     },
     "execution_count": 29,
     "metadata": {},
     "output_type": "execute_result"
    }
   ],
   "source": [
    "like = \"나는 콜라가 좋아\"\n",
    "\"콜라\" in like"
   ]
  },
  {
   "cell_type": "code",
   "execution_count": 30,
   "id": "e25e43b1",
   "metadata": {},
   "outputs": [],
   "source": [
    "import random"
   ]
  },
  {
   "cell_type": "code",
   "execution_count": 31,
   "id": "24165fc1",
   "metadata": {},
   "outputs": [
    {
     "data": {
      "text/plain": [
       "0.9635948610029953"
      ]
     },
     "execution_count": 31,
     "metadata": {},
     "output_type": "execute_result"
    }
   ],
   "source": [
    "random.random()"
   ]
  },
  {
   "cell_type": "code",
   "execution_count": 32,
   "id": "e5776649",
   "metadata": {},
   "outputs": [
    {
     "data": {
      "text/plain": [
       "1"
      ]
     },
     "execution_count": 32,
     "metadata": {},
     "output_type": "execute_result"
    }
   ],
   "source": [
    "l=[1,2,3,4,5]\n",
    "random.choice(l)"
   ]
  },
  {
   "cell_type": "markdown",
   "id": "afa94a37",
   "metadata": {},
   "source": [
    "#### 가위바위보 게임 만들기\n",
    "- 플레이어에게 가위,바위,보 중 하나를 입력하게 합니다.\n",
    "- 플레이어가 말을 안 듣고, 가위,바위,보 중 어는것도 내지 않았을 때에는 잘못된 입력입니다.\"를 출력하세요.\n",
    "- 컴퓨터는 동일한 확률로 가위,바위,보 중 하나를 냅니다.\n",
    "- 플레이어의 입력과, 컴퓨터의 입력을 비교하여 승부를 결정합니다.\n",
    "- 출력문은 \"당신은 가위를 냈고, 컴퓨터는 보를 냈습니다. 당신이 이겼습니다.\"와 같은 형식으로 합니다.와 같은 형식으로 합니다."
   ]
  },
  {
   "cell_type": "code",
   "execution_count": 39,
   "id": "6456d216",
   "metadata": {},
   "outputs": [
    {
     "name": "stdout",
     "output_type": "stream",
     "text": [
      "가위,바위,보 중 하나를 입력하세요: 가위\n"
     ]
    }
   ],
   "source": [
    "player = str(input(\"가위,바위,보 중 하나를 입력하세요: \"))\n",
    "play = [\"가위\",\"바위\",\"보\"]\n",
    "if  player in play :\n",
    "    pass\n",
    "else :\n",
    "    print(\"잘못된 입력입니다\")\n",
    "# com=[\"가위\",\"바위\",\"보\"]\n",
    "# random.choice(com)"
   ]
  },
  {
   "cell_type": "code",
   "execution_count": 40,
   "id": "8a658f52",
   "metadata": {},
   "outputs": [
    {
     "name": "stdout",
     "output_type": "stream",
     "text": [
      "가위,바위,보 중 하나를 선택하세요: 가위\n"
     ]
    }
   ],
   "source": [
    "#쌤 답\n",
    "possible_choice=[\"가위\",\"바위\",\"보\"]\n",
    "player_choice=input(\"가위,바위,보 중 하나를 선택하세요: \")\n",
    "if player_choice not in possible_choice:\n",
    "    print(\"잘못된 입력입니다.\")\n",
    "else:\n",
    "    pass"
   ]
  },
  {
   "cell_type": "code",
   "execution_count": 51,
   "id": "feedbc43",
   "metadata": {},
   "outputs": [
    {
     "name": "stdout",
     "output_type": "stream",
     "text": [
      "가위,바위,보 중 하나를 선택하세요: 가위\n",
      "당신은 가위를 냈고, 컴퓨터는 보를 냈습니다. 당신이 이겼습니다.\n"
     ]
    }
   ],
   "source": [
    "#쌤 최종 답\n",
    "possible_choice=[\"가위\",\"바위\",\"보\"]\n",
    "player_choice=input(\"가위,바위,보 중 하나를 선택하세요: \")\n",
    "if player_choice not in possible_choice:\n",
    "    print(\"잘못된 입력입니다.\")\n",
    "else:\n",
    "    computer_choice=random.choice(possible_choice)\n",
    "    if (player_choice == \"가위\" and computer_choice == \"보\") or(player_choice == \"바위\" and computer_choice == \"가위\") or(player_choice == \"보\" and computer_choice == \"바위\"):\n",
    "        print(f\"당신은 {player_choice}를 냈고, 컴퓨터는 {computer_choice}를 냈습니다. 당신이 이겼습니다.\")\n",
    "    elif player_choice == computer_choice:\n",
    "          print(f\"당신은 {player_choice}를 냈고, 컴퓨터는 {computer_choice}를 냈습니다.비겼습니다.\")\n",
    "    else:\n",
    "          print(f\"당신은 {player_choice}를 냈고, 컴퓨터는 {computer_choice}를 냈습니다. 당신이 졌습니다.\")"
   ]
  }
 ],
 "metadata": {
  "kernelspec": {
   "display_name": "Python 3 (ipykernel)",
   "language": "python",
   "name": "python3"
  },
  "language_info": {
   "codemirror_mode": {
    "name": "ipython",
    "version": 3
   },
   "file_extension": ".py",
   "mimetype": "text/x-python",
   "name": "python",
   "nbconvert_exporter": "python",
   "pygments_lexer": "ipython3",
   "version": "3.9.12"
  }
 },
 "nbformat": 4,
 "nbformat_minor": 5
}
