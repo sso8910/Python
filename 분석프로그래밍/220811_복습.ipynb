{
 "cells": [
  {
   "cell_type": "markdown",
   "id": "16d7e985",
   "metadata": {},
   "source": [
    "### 변수에 할당 될 수 있는 자료형\n",
    "- 정수형\n",
    "- 실수형\n",
    "- 문자형\n",
    "- 논리형"
   ]
  },
  {
   "cell_type": "markdown",
   "id": "ee4e0d41",
   "metadata": {},
   "source": [
    "### 숫자"
   ]
  },
  {
   "cell_type": "code",
   "execution_count": 1,
   "id": "8bf319aa",
   "metadata": {},
   "outputs": [
    {
     "data": {
      "text/plain": [
       "int"
      ]
     },
     "execution_count": 1,
     "metadata": {},
     "output_type": "execute_result"
    }
   ],
   "source": [
    "jeongsu = 1\n",
    "type(jeongsu)"
   ]
  },
  {
   "cell_type": "code",
   "execution_count": 2,
   "id": "73d7b369",
   "metadata": {},
   "outputs": [
    {
     "data": {
      "text/plain": [
       "float"
      ]
     },
     "execution_count": 2,
     "metadata": {},
     "output_type": "execute_result"
    }
   ],
   "source": [
    "silsu=1.2\n",
    "type(silsu)"
   ]
  },
  {
   "cell_type": "code",
   "execution_count": 3,
   "id": "e20ef1bf",
   "metadata": {},
   "outputs": [
    {
     "data": {
      "text/plain": [
       "1.0"
      ]
     },
     "execution_count": 3,
     "metadata": {},
     "output_type": "execute_result"
    }
   ],
   "source": [
    "float(jeongsu)"
   ]
  },
  {
   "cell_type": "code",
   "execution_count": 4,
   "id": "4d4ad148",
   "metadata": {},
   "outputs": [
    {
     "data": {
      "text/plain": [
       "2"
      ]
     },
     "execution_count": 4,
     "metadata": {},
     "output_type": "execute_result"
    }
   ],
   "source": [
    "1+1"
   ]
  },
  {
   "cell_type": "code",
   "execution_count": 5,
   "id": "ce764c8e",
   "metadata": {},
   "outputs": [
    {
     "data": {
      "text/plain": [
       "0"
      ]
     },
     "execution_count": 5,
     "metadata": {},
     "output_type": "execute_result"
    }
   ],
   "source": [
    "1-1"
   ]
  },
  {
   "cell_type": "code",
   "execution_count": 6,
   "id": "4ad912e8",
   "metadata": {},
   "outputs": [
    {
     "data": {
      "text/plain": [
       "6"
      ]
     },
     "execution_count": 6,
     "metadata": {},
     "output_type": "execute_result"
    }
   ],
   "source": [
    "2*3"
   ]
  },
  {
   "cell_type": "code",
   "execution_count": 7,
   "id": "b0154d5b",
   "metadata": {},
   "outputs": [
    {
     "data": {
      "text/plain": [
       "0.6666666666666666"
      ]
     },
     "execution_count": 7,
     "metadata": {},
     "output_type": "execute_result"
    }
   ],
   "source": [
    "2/3"
   ]
  },
  {
   "cell_type": "code",
   "execution_count": 8,
   "id": "e9cb7286",
   "metadata": {},
   "outputs": [
    {
     "data": {
      "text/plain": [
       "8"
      ]
     },
     "execution_count": 8,
     "metadata": {},
     "output_type": "execute_result"
    }
   ],
   "source": [
    "2**3"
   ]
  },
  {
   "cell_type": "code",
   "execution_count": 9,
   "id": "ea70a0dd",
   "metadata": {},
   "outputs": [
    {
     "data": {
      "text/plain": [
       "2"
      ]
     },
     "execution_count": 9,
     "metadata": {},
     "output_type": "execute_result"
    }
   ],
   "source": [
    "7//3"
   ]
  },
  {
   "cell_type": "code",
   "execution_count": 10,
   "id": "b056f7bf",
   "metadata": {},
   "outputs": [
    {
     "data": {
      "text/plain": [
       "1"
      ]
     },
     "execution_count": 10,
     "metadata": {},
     "output_type": "execute_result"
    }
   ],
   "source": [
    "7%3"
   ]
  },
  {
   "cell_type": "markdown",
   "id": "71ae7a5b",
   "metadata": {},
   "source": [
    "### 문자"
   ]
  },
  {
   "cell_type": "code",
   "execution_count": 12,
   "id": "52bdbf7a",
   "metadata": {},
   "outputs": [
    {
     "data": {
      "text/plain": [
       "str"
      ]
     },
     "execution_count": 12,
     "metadata": {},
     "output_type": "execute_result"
    }
   ],
   "source": [
    "b = 'banana'\n",
    "type(b)"
   ]
  },
  {
   "cell_type": "code",
   "execution_count": 13,
   "id": "151cc918",
   "metadata": {},
   "outputs": [
    {
     "data": {
      "text/plain": [
       "'N'"
      ]
     },
     "execution_count": 13,
     "metadata": {},
     "output_type": "execute_result"
    }
   ],
   "source": [
    "#인덱싱과 슬라이싱 : 순서가 있는 자료형을 대상으로 처음부터 마지막까지 0,1,2 순서로 카운트, 역으로 -1,-2 카운트\n",
    "\"BaNaNa\"[2]"
   ]
  },
  {
   "cell_type": "code",
   "execution_count": 15,
   "id": "37c0d5da",
   "metadata": {},
   "outputs": [
    {
     "data": {
      "text/plain": [
       "'y'"
      ]
     },
     "execution_count": 15,
     "metadata": {},
     "output_type": "execute_result"
    }
   ],
   "source": [
    "\"my name is stephany\"[-1]"
   ]
  },
  {
   "cell_type": "code",
   "execution_count": 16,
   "id": "cedc3f03",
   "metadata": {},
   "outputs": [
    {
     "data": {
      "text/plain": [
       "'name'"
      ]
     },
     "execution_count": 16,
     "metadata": {},
     "output_type": "execute_result"
    }
   ],
   "source": [
    "#인덱싱은 단어 하나, 슬라이싱은 콜론[:] 사용해서 구간지정\n",
    "\"my name is stephany\"[3:7]"
   ]
  },
  {
   "cell_type": "code",
   "execution_count": 19,
   "id": "79175577",
   "metadata": {},
   "outputs": [
    {
     "name": "stdout",
     "output_type": "stream",
     "text": [
      "오늘 점심은 초밥 입니다\n"
     ]
    }
   ],
   "source": [
    "#포맷팅 : 변수명에 할당된 문자열을 특정 문자열을 넣음 3가지 방법이 있고, 젤 마지막 방법이 가독성이 좋음\n",
    "menu = \"초밥\"\n",
    "# menu = \"짜장면\"\n",
    "# menu=\"국밥\"\n",
    "print(\"오늘 점심은 %s 입니다\"%menu)"
   ]
  },
  {
   "cell_type": "code",
   "execution_count": 22,
   "id": "69e8cd24",
   "metadata": {},
   "outputs": [
    {
     "name": "stdout",
     "output_type": "stream",
     "text": [
      "오늘 점심은 초밥과 국밥 입니다\n"
     ]
    }
   ],
   "source": [
    "menu1 = \"초밥\"\n",
    "menu2 = \"짜장면\"\n",
    "menu3=\"국밥\"\n",
    "print(\"오늘 점심은 %s과 %s 입니다\"%(menu1,menu3))"
   ]
  },
  {
   "cell_type": "code",
   "execution_count": 24,
   "id": "9a60cdef",
   "metadata": {},
   "outputs": [
    {
     "name": "stdout",
     "output_type": "stream",
     "text": [
      "오늘 점심은 짜장면과 초밥입니다\n"
     ]
    }
   ],
   "source": [
    "menu1 = \"초밥\"\n",
    "menu2 = \"짜장면\"\n",
    "menu3=\"국밥\"\n",
    "print(\"오늘 점심은 {1}과 {0}입니다\".format(menu1,menu2))"
   ]
  },
  {
   "cell_type": "code",
   "execution_count": 26,
   "id": "e9ae2b68",
   "metadata": {},
   "outputs": [
    {
     "name": "stdout",
     "output_type": "stream",
     "text": [
      "오늘 점심은 짜장면과 국밥입니다\n"
     ]
    }
   ],
   "source": [
    "menu1 = \"초밥\"\n",
    "menu2 = \"짜장면\"\n",
    "menu3=\"국밥\"\n",
    "print(f\"오늘 점심은 {menu2}과 {menu3}입니다\")"
   ]
  },
  {
   "cell_type": "code",
   "execution_count": 27,
   "id": "c99ff4db",
   "metadata": {},
   "outputs": [],
   "source": [
    "song = \"tell me tell me tetetete tell me\""
   ]
  },
  {
   "cell_type": "code",
   "execution_count": 28,
   "id": "f01fc039",
   "metadata": {},
   "outputs": [
    {
     "data": {
      "text/plain": [
       "3"
      ]
     },
     "execution_count": 28,
     "metadata": {},
     "output_type": "execute_result"
    }
   ],
   "source": [
    "song.count(\"tell me\")"
   ]
  },
  {
   "cell_type": "code",
   "execution_count": 29,
   "id": "45021ad3",
   "metadata": {},
   "outputs": [
    {
     "data": {
      "text/plain": [
       "0"
      ]
     },
     "execution_count": 29,
     "metadata": {},
     "output_type": "execute_result"
    }
   ],
   "source": [
    "song.find(\"tell me\")"
   ]
  },
  {
   "cell_type": "code",
   "execution_count": 30,
   "id": "06975d44",
   "metadata": {},
   "outputs": [
    {
     "name": "stdout",
     "output_type": "stream",
     "text": [
      "TELL ME TELL ME TETETETE TELL ME\n",
      "tell me tell me tetetete tell me\n",
      "Tell Me Tell Me Tetetete Tell Me\n"
     ]
    }
   ],
   "source": [
    "print(song.upper()) #대문자 치환\n",
    "print(song.lower()) #소문자 치환\n",
    "print(song.title()) #앞문자 치환"
   ]
  },
  {
   "cell_type": "code",
   "execution_count": 31,
   "id": "20ec878d",
   "metadata": {},
   "outputs": [
    {
     "data": {
      "text/plain": [
       "['tell', 'me', 'tell', 'me', 'tetetete', 'tell', 'me']"
      ]
     },
     "execution_count": 31,
     "metadata": {},
     "output_type": "execute_result"
    }
   ],
   "source": [
    "song.split()"
   ]
  },
  {
   "cell_type": "code",
   "execution_count": 32,
   "id": "4efc4dc3",
   "metadata": {},
   "outputs": [
    {
     "data": {
      "text/plain": [
       "['', 'll me ', 'll me ', '', '', '', ' ', 'll me']"
      ]
     },
     "execution_count": 32,
     "metadata": {},
     "output_type": "execute_result"
    }
   ],
   "source": [
    "song.split(\"te\")"
   ]
  },
  {
   "cell_type": "code",
   "execution_count": 33,
   "id": "b5f01d09",
   "metadata": {},
   "outputs": [
    {
     "data": {
      "text/plain": [
       "'tell him tell him tetetete tell him'"
      ]
     },
     "execution_count": 33,
     "metadata": {},
     "output_type": "execute_result"
    }
   ],
   "source": [
    "song.replace(\"me\",\"him\")"
   ]
  },
  {
   "cell_type": "code",
   "execution_count": 34,
   "id": "c3ab2a69",
   "metadata": {},
   "outputs": [
    {
     "data": {
      "text/plain": [
       "'안녕하세용'"
      ]
     },
     "execution_count": 34,
     "metadata": {},
     "output_type": "execute_result"
    }
   ],
   "source": [
    "\"안녕\"+\"하세용\""
   ]
  },
  {
   "cell_type": "code",
   "execution_count": 35,
   "id": "988208da",
   "metadata": {},
   "outputs": [
    {
     "data": {
      "text/plain": [
       "'안녕안녕안녕'"
      ]
     },
     "execution_count": 35,
     "metadata": {},
     "output_type": "execute_result"
    }
   ],
   "source": [
    "\"안녕\"*3"
   ]
  },
  {
   "cell_type": "markdown",
   "id": "8f6eb518",
   "metadata": {},
   "source": [
    "### 논리형"
   ]
  },
  {
   "cell_type": "code",
   "execution_count": 37,
   "id": "68e98178",
   "metadata": {},
   "outputs": [
    {
     "data": {
      "text/plain": [
       "True"
      ]
     },
     "execution_count": 37,
     "metadata": {},
     "output_type": "execute_result"
    }
   ],
   "source": [
    "#참또는거짓을 만드는 문장(같다==,같지않다!=,<=,>=, and or)\n",
    "1!=2"
   ]
  },
  {
   "cell_type": "code",
   "execution_count": 38,
   "id": "ae6c0437",
   "metadata": {},
   "outputs": [
    {
     "data": {
      "text/plain": [
       "True"
      ]
     },
     "execution_count": 38,
     "metadata": {},
     "output_type": "execute_result"
    }
   ],
   "source": [
    "6%3 ==0 and 6%2==0 # and 는 둘다 참이어야 true"
   ]
  },
  {
   "cell_type": "code",
   "execution_count": 40,
   "id": "35085832",
   "metadata": {},
   "outputs": [
    {
     "data": {
      "text/plain": [
       "True"
      ]
     },
     "execution_count": 40,
     "metadata": {},
     "output_type": "execute_result"
    }
   ],
   "source": [
    "6%3==0 or 6%5==0 # or는 둘 중 하나만 참이어도 true"
   ]
  },
  {
   "cell_type": "markdown",
   "id": "8b87b073",
   "metadata": {},
   "source": [
    "### 조건문\n",
    "- if,try,def,class,for,while -> 블록사용(드려쓰기)"
   ]
  },
  {
   "cell_type": "markdown",
   "id": "7b07c386",
   "metadata": {},
   "source": [
    "if 명제 :\n",
    "    명제가 참일 경우에 실행되는 코드\n",
    "else:\n",
    "    명제가 거짓일 경우에 실행되는 코드"
   ]
  },
  {
   "cell_type": "code",
   "execution_count": 43,
   "id": "e315d494",
   "metadata": {},
   "outputs": [
    {
     "name": "stdout",
     "output_type": "stream",
     "text": [
      "택시~\n",
      "홈스윗홈\n"
     ]
    }
   ],
   "source": [
    "money=40000\n",
    "if money>=4000:\n",
    "    print(\"택시~\")\n",
    "else :\n",
    "    print(\"버스~\")\n",
    "\n",
    "print(\"홈스윗홈~\")"
   ]
  },
  {
   "cell_type": "code",
   "execution_count": 45,
   "id": "3b3ffa90",
   "metadata": {},
   "outputs": [
    {
     "name": "stdout",
     "output_type": "stream",
     "text": [
      "홈스윗홈~\n"
     ]
    }
   ],
   "source": [
    "money=200\n",
    "if money>=4000:\n",
    "    print(\"택시~\")\n",
    "else :\n",
    "    pass  #출력안한다는 뜻\n",
    "\n",
    "print(\"홈스윗홈~\")"
   ]
  },
  {
   "cell_type": "markdown",
   "id": "c50edd80",
   "metadata": {},
   "source": [
    "if 명제1 :\n",
    "    명제1이 참일 경우에 실행되는 코드(명제1,2둘다 참이면 if문 실행,근데 이런 명제는 지양해야함)\n",
    "elif 명제2:\n",
    "    명제1은 거짓이지만, 명제2는 참일 경우에 실행되는 코드\n",
    "else:\n",
    "    명제1과 명제2가 모두 거짓일 경우에 실행되는 코드"
   ]
  },
  {
   "cell_type": "code",
   "execution_count": 47,
   "id": "5057400f",
   "metadata": {},
   "outputs": [
    {
     "name": "stdout",
     "output_type": "stream",
     "text": [
      "버스~\n",
      "홈스윗홈~\n"
     ]
    }
   ],
   "source": [
    "money=2000\n",
    "if money>=4000:\n",
    "    print(\"택시~\")\n",
    "elif money<4000 and money>=1250:\n",
    "    print(\"버스~\")\n",
    "else :\n",
    "    pass  #출력안한다는 뜻\n",
    "\n",
    "print(\"홈스윗홈~\")"
   ]
  },
  {
   "cell_type": "markdown",
   "id": "2920c136",
   "metadata": {},
   "source": [
    "### 리스트,튜플\n",
    "- 순서가 있는 데이터로 인덱싱과 슬라이싱 가능\n",
    "- 리스트는 데이터 조작 가능, 튜플은 조작불가능"
   ]
  },
  {
   "cell_type": "code",
   "execution_count": 51,
   "id": "b194bc56",
   "metadata": {},
   "outputs": [],
   "source": [
    "list1=[\"a\",\"b\",\"c\",\"d\",\"e\"]\n",
    "tuple1=(\"a\",\"b\",\"c\",\"d\",\"e\")"
   ]
  },
  {
   "cell_type": "code",
   "execution_count": 52,
   "id": "668c90f9",
   "metadata": {},
   "outputs": [
    {
     "data": {
      "text/plain": [
       "'a'"
      ]
     },
     "execution_count": 52,
     "metadata": {},
     "output_type": "execute_result"
    }
   ],
   "source": [
    "list1[0]"
   ]
  },
  {
   "cell_type": "code",
   "execution_count": 53,
   "id": "2ff262d1",
   "metadata": {},
   "outputs": [
    {
     "data": {
      "text/plain": [
       "['a', 'b', 'c', 'd', 'e', 'f']"
      ]
     },
     "execution_count": 53,
     "metadata": {},
     "output_type": "execute_result"
    }
   ],
   "source": [
    "#원소 추가\n",
    "list1.append('f')\n",
    "list1"
   ]
  },
  {
   "cell_type": "code",
   "execution_count": 58,
   "id": "fd7e2a02",
   "metadata": {},
   "outputs": [
    {
     "data": {
      "text/plain": [
       "['a', 'b', 'c', 'g', 'e', 'f']"
      ]
     },
     "execution_count": 58,
     "metadata": {},
     "output_type": "execute_result"
    }
   ],
   "source": [
    "list1.insert(3,'g')\n",
    "list1"
   ]
  },
  {
   "cell_type": "code",
   "execution_count": 59,
   "id": "de2695d7",
   "metadata": {},
   "outputs": [
    {
     "data": {
      "text/plain": [
       "['a', 'b', 'c', 'e', 'f']"
      ]
     },
     "execution_count": 59,
     "metadata": {},
     "output_type": "execute_result"
    }
   ],
   "source": [
    "#원소 제거\n",
    "del list1[3]\n",
    "list1"
   ]
  },
  {
   "cell_type": "code",
   "execution_count": 60,
   "id": "e6ae26a5",
   "metadata": {},
   "outputs": [
    {
     "data": {
      "text/plain": [
       "['a', 'b', 'c', 'e']"
      ]
     },
     "execution_count": 60,
     "metadata": {},
     "output_type": "execute_result"
    }
   ],
   "source": [
    "list1.remove('f') #문자 지정해서 삭제\n",
    "list1"
   ]
  },
  {
   "cell_type": "code",
   "execution_count": 61,
   "id": "6df924c8",
   "metadata": {},
   "outputs": [
    {
     "data": {
      "text/plain": [
       "['a', 'b', 'c']"
      ]
     },
     "execution_count": 61,
     "metadata": {},
     "output_type": "execute_result"
    }
   ],
   "source": [
    "list1.pop() #맨 뒤의 문자 삭제\n",
    "list1"
   ]
  },
  {
   "cell_type": "code",
   "execution_count": 63,
   "id": "a4084caa",
   "metadata": {},
   "outputs": [
    {
     "data": {
      "text/plain": [
       "['e', 'b', 'c']"
      ]
     },
     "execution_count": 63,
     "metadata": {},
     "output_type": "execute_result"
    }
   ],
   "source": [
    "#원소 교체\n",
    "list1 [0]='e'\n",
    "list1"
   ]
  },
  {
   "cell_type": "code",
   "execution_count": 64,
   "id": "619b38ea",
   "metadata": {},
   "outputs": [
    {
     "data": {
      "text/plain": [
       "['c', 'b', 'e']"
      ]
     },
     "execution_count": 64,
     "metadata": {},
     "output_type": "execute_result"
    }
   ],
   "source": [
    "#원소들의 배열을 거꾸로 \n",
    "list1.reverse()\n",
    "list1"
   ]
  },
  {
   "cell_type": "code",
   "execution_count": 65,
   "id": "e1e12aec",
   "metadata": {},
   "outputs": [
    {
     "data": {
      "text/plain": [
       "['b', 'c', 'e']"
      ]
     },
     "execution_count": 65,
     "metadata": {},
     "output_type": "execute_result"
    }
   ],
   "source": [
    "list1.sort() #오름차순 정렬\n",
    "list1"
   ]
  },
  {
   "cell_type": "code",
   "execution_count": 66,
   "id": "52fc82a6",
   "metadata": {},
   "outputs": [
    {
     "data": {
      "text/plain": [
       "0.34629198850619325"
      ]
     },
     "execution_count": 66,
     "metadata": {},
     "output_type": "execute_result"
    }
   ],
   "source": [
    "import random\n",
    "random.random()"
   ]
  },
  {
   "cell_type": "code",
   "execution_count": 67,
   "id": "f8690763",
   "metadata": {},
   "outputs": [
    {
     "data": {
      "text/plain": [
       "'c'"
      ]
     },
     "execution_count": 67,
     "metadata": {},
     "output_type": "execute_result"
    }
   ],
   "source": [
    "random.choice(list1)"
   ]
  },
  {
   "cell_type": "markdown",
   "id": "8e66f097",
   "metadata": {},
   "source": [
    "### 아이템 강화 시스템\n",
    "- 플레이어로부터 아이템의 강화 등급을 입력받습니다.(0~10)\n",
    "- 강화 성공률은 0등급일때 70%, 1등급일때 65%.. 1등급이 올라갈수록 5%씩 하락합니다.\n",
    "- 강화 실패 시 50%확률로 아이템이 파괴됩니다.\n",
    "- 강화 성공시 \"강화 성공\", 강화 실패 시\"강화 실패\"를 출력해주세요."
   ]
  },
  {
   "cell_type": "code",
   "execution_count": 85,
   "id": "b3935f08",
   "metadata": {},
   "outputs": [
    {
     "name": "stdout",
     "output_type": "stream",
     "text": [
      "강화 등급(0~10)을 입력하세요: 6\n",
      "강화 성공\n"
     ]
    }
   ],
   "source": [
    "item=int(input(\"강화 등급(0~10)을 입력하세요: \"))\n",
    "prob1=random.random()\n",
    "prob2=random.random()\n",
    "\n",
    "if prob<=0.7-(0.05*item):\n",
    "    print(\"강화 성공\")\n",
    "else :\n",
    "    if prob2<=0.5:\n",
    "        print(\"강화 실패\")\n",
    "    else :\n",
    "        print(\"아이템 파괴\")"
   ]
  }
 ],
 "metadata": {
  "kernelspec": {
   "display_name": "Python 3 (ipykernel)",
   "language": "python",
   "name": "python3"
  },
  "language_info": {
   "codemirror_mode": {
    "name": "ipython",
    "version": 3
   },
   "file_extension": ".py",
   "mimetype": "text/x-python",
   "name": "python",
   "nbconvert_exporter": "python",
   "pygments_lexer": "ipython3",
   "version": "3.9.12"
  }
 },
 "nbformat": 4,
 "nbformat_minor": 5
}
