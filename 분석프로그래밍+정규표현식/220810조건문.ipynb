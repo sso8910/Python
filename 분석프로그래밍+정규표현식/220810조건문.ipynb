{
 "cells": [
  {
   "cell_type": "markdown",
   "id": "b5e0a6ab",
   "metadata": {},
   "source": [
    "#### 조건문 : 조건에 따라 실행 흐름을 다르게하는 문법\n",
    "- if 조건식:\n",
    "     실행문장(tab,space4번)\n",
    "- elif\n",
    "- "
   ]
  },
  {
   "cell_type": "code",
   "execution_count": null,
   "id": "d93c9c28",
   "metadata": {},
   "outputs": [],
   "source": [
    "if 나는 부자다 :\n",
    "    택시를 타고 가자.\n",
    "else:\n",
    "    버스를 타고 가자.\n",
    "    \n",
    "와 집에 도착했다!"
   ]
  },
  {
   "cell_type": "code",
   "execution_count": 18,
   "id": "063cfe32",
   "metadata": {},
   "outputs": [
    {
     "name": "stdout",
     "output_type": "stream",
     "text": [
      "내가 가진 돈: 100000\n",
      "리무진을 타고 가자\n",
      "우와 집이다\n"
     ]
    }
   ],
   "source": [
    "money=int(input(\"내가 가진 돈: \"))\n",
    "if money >= 4000 and money<100000:\n",
    "    print(\"택시를 타고 가자\")\n",
    "elif money >= 1300 and money<4000 :\n",
    "    print(\"버스타자\")\n",
    "elif money>=100000:\n",
    "    print(\"리무진을 타고 가자\")\n",
    "else:\n",
    "    print(\"걸어가자\")\n",
    "print(\"우와 집이다\")"
   ]
  },
  {
   "cell_type": "markdown",
   "id": "9e9911d9",
   "metadata": {},
   "source": [
    "- Input 함수로 정수를 받습니다.\n",
    "- 만약 주어진 수가 3의 배수라면 \"3의 배수입니다.\"를 출력합니다.\n",
    "- 만약 주어진 수가 3의 배수가 아니라면, \"3의 배수가 아닙니다.\"를 출력합니다."
   ]
  },
  {
   "cell_type": "code",
   "execution_count": 7,
   "id": "a16cf240",
   "metadata": {},
   "outputs": [
    {
     "name": "stdout",
     "output_type": "stream",
     "text": [
      "정수를 입력하세요: 32\n",
      "3의 배수가 아닙니다\n"
     ]
    }
   ],
   "source": [
    "num=int(input(\"정수를 입력하세요: \"))\n",
    "if num%3==0:\n",
    "    print(\"3의 배수입니다\")\n",
    "else :\n",
    "    print(\"3의 배수가 아닙니다\")"
   ]
  },
  {
   "cell_type": "markdown",
   "id": "bb801b44",
   "metadata": {},
   "source": [
    "### 추석 선물세트구매\n",
    "- 추석 선물 세트는 1개에 1만원입니다.\n",
    "- 추석 선물 세트를 11개 이상 사면, 11개째부터 10%할인됩니다.\n",
    "- 추석 선물 세트를 몇 개 샀는지 input 함수로 받아, 총 얼마인지를 출력해주세요."
   ]
  },
  {
   "cell_type": "code",
   "execution_count": 18,
   "id": "3c286dc0",
   "metadata": {},
   "outputs": [
    {
     "name": "stdout",
     "output_type": "stream",
     "text": [
      "구입 한 선물 세트 수 : 11\n",
      "109000.0\n"
     ]
    }
   ],
   "source": [
    "gift=int(input(\"구입 한 선물 세트 수 : \"))\n",
    "\n",
    "price=10000\n",
    "\n",
    "if gift>0 and gift<=10:\n",
    "    print (gift*price)\n",
    "else :\n",
    "    print ((10*price)+((gift-10)*price*0.9))"
   ]
  },
  {
   "cell_type": "code",
   "execution_count": 19,
   "id": "106db2ed",
   "metadata": {},
   "outputs": [
    {
     "name": "stdout",
     "output_type": "stream",
     "text": [
      "개수를 입력하세요: 12\n",
      "118000\n"
     ]
    }
   ],
   "source": [
    "#쌤답\n",
    "chooseok=int(input(\"개수를 입력하세요: \"))\n",
    "gift_price=10000\n",
    "if chooseok <=10:\n",
    "    price=chooseok*gift_price\n",
    "else :\n",
    "    price=chooseok*gift_price-((chooseok-10)*gift_price*0.1)\n",
    "print(int(price))"
   ]
  }
 ],
 "metadata": {
  "kernelspec": {
   "display_name": "Python 3 (ipykernel)",
   "language": "python",
   "name": "python3"
  },
  "language_info": {
   "codemirror_mode": {
    "name": "ipython",
    "version": 3
   },
   "file_extension": ".py",
   "mimetype": "text/x-python",
   "name": "python",
   "nbconvert_exporter": "python",
   "pygments_lexer": "ipython3",
   "version": "3.9.12"
  }
 },
 "nbformat": 4,
 "nbformat_minor": 5
}
