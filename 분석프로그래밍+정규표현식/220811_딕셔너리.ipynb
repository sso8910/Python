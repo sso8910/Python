{
 "cells": [
  {
   "cell_type": "markdown",
   "id": "841c5d85",
   "metadata": {},
   "source": [
    "### 딕셔너리\n",
    "- 딕셔너리명={key:value,key:value,...}\n",
    "- key에는 변하지 않는 값을 사용, value에는 변하는 값과 변하지 않는 값 모두 사용 할 수 있다.\n",
    "- 순서는 중요하지 않음"
   ]
  },
  {
   "cell_type": "code",
   "execution_count": 1,
   "id": "365b006f",
   "metadata": {},
   "outputs": [],
   "source": [
    "csb={\"이름\":\"홍길동\",\"나이\":20,\"키\":168}\n",
    "\n",
    "class1_4={\"이름\":[\"홍길동\",\"김철수\",\"최영희\"],\n",
    "          \"나이\":[20,21,22],\n",
    "          \"키\":[168,177,204]}"
   ]
  },
  {
   "cell_type": "code",
   "execution_count": 2,
   "id": "a73863c0",
   "metadata": {},
   "outputs": [
    {
     "data": {
      "text/plain": [
       "['홍길동', '김철수', '최영희']"
      ]
     },
     "execution_count": 2,
     "metadata": {},
     "output_type": "execute_result"
    }
   ],
   "source": [
    "class1_4[\"이름\"]"
   ]
  },
  {
   "cell_type": "code",
   "execution_count": 4,
   "id": "432acd9d",
   "metadata": {},
   "outputs": [
    {
     "data": {
      "text/plain": [
       "{'이름': ['홍길동', '김철수', '최영희'],\n",
       " '나이': [20, 21, 22],\n",
       " '키': [168, 177, 204],\n",
       " '발사이즈': [290, 275, 240]}"
      ]
     },
     "execution_count": 4,
     "metadata": {},
     "output_type": "execute_result"
    }
   ],
   "source": [
    "class1_4[\"발사이즈\"]=[290,275,240]\n",
    "class1_4"
   ]
  },
  {
   "cell_type": "code",
   "execution_count": 5,
   "id": "e4109b6c",
   "metadata": {},
   "outputs": [
    {
     "data": {
      "text/plain": [
       "{'이름': ['홍길동', '김철수', '최영희'], '나이': [20, 21, 22], '키': [168, 177, 204]}"
      ]
     },
     "execution_count": 5,
     "metadata": {},
     "output_type": "execute_result"
    }
   ],
   "source": [
    "del class1_4[\"발사이즈\"]\n",
    "class1_4"
   ]
  },
  {
   "cell_type": "code",
   "execution_count": 6,
   "id": "d9ef75b4",
   "metadata": {},
   "outputs": [
    {
     "data": {
      "text/plain": [
       "dict_keys(['이름', '나이', '키'])"
      ]
     },
     "execution_count": 6,
     "metadata": {},
     "output_type": "execute_result"
    }
   ],
   "source": [
    "class1_4.keys()"
   ]
  },
  {
   "cell_type": "code",
   "execution_count": 7,
   "id": "1af3420d",
   "metadata": {},
   "outputs": [
    {
     "data": {
      "text/plain": [
       "dict_values([['홍길동', '김철수', '최영희'], [20, 21, 22], [168, 177, 204]])"
      ]
     },
     "execution_count": 7,
     "metadata": {},
     "output_type": "execute_result"
    }
   ],
   "source": [
    "class1_4.values()"
   ]
  },
  {
   "cell_type": "code",
   "execution_count": 8,
   "id": "c793df2d",
   "metadata": {},
   "outputs": [
    {
     "name": "stdout",
     "output_type": "stream",
     "text": [
      "이름\n",
      "나이\n",
      "키\n"
     ]
    }
   ],
   "source": [
    "for i in class1_4:\n",
    "    print(i)"
   ]
  },
  {
   "cell_type": "code",
   "execution_count": 9,
   "id": "0e3b88f2",
   "metadata": {},
   "outputs": [
    {
     "data": {
      "text/plain": [
       "True"
      ]
     },
     "execution_count": 9,
     "metadata": {},
     "output_type": "execute_result"
    }
   ],
   "source": [
    "1 in [1,2,3,4]"
   ]
  },
  {
   "cell_type": "code",
   "execution_count": 10,
   "id": "eb7cc587",
   "metadata": {},
   "outputs": [
    {
     "data": {
      "text/plain": [
       "False"
      ]
     },
     "execution_count": 10,
     "metadata": {},
     "output_type": "execute_result"
    }
   ],
   "source": [
    "\"홍길동\" in class1_4"
   ]
  },
  {
   "cell_type": "markdown",
   "id": "14417d08",
   "metadata": {},
   "source": [
    "### class1_4의 \"이름\"key에 할당된 value들을 전부 성을 뺀 이름들로 출력하고 싶습니다.\n",
    "- 홍길동>길동\n",
    "- 김철수>철수\n",
    "- 김영희>영희"
   ]
  },
  {
   "cell_type": "code",
   "execution_count": 19,
   "id": "c9d4d9a7",
   "metadata": {},
   "outputs": [
    {
     "data": {
      "text/plain": [
       "['홍길동', '김철수', '최영희']"
      ]
     },
     "execution_count": 19,
     "metadata": {},
     "output_type": "execute_result"
    }
   ],
   "source": [
    "class1_4[\"이름\"]"
   ]
  },
  {
   "cell_type": "code",
   "execution_count": 20,
   "id": "864ce9a3",
   "metadata": {},
   "outputs": [
    {
     "name": "stdout",
     "output_type": "stream",
     "text": [
      "길동\n",
      "철수\n",
      "영희\n"
     ]
    }
   ],
   "source": [
    "for i in class1_4[\"이름\"]:\n",
    "    print(i[1:])\n"
   ]
  },
  {
   "cell_type": "code",
   "execution_count": 21,
   "id": "4dc7ea14",
   "metadata": {},
   "outputs": [
    {
     "data": {
      "text/plain": [
       "{'이름': ['길동', '철수', '영희'], '나이': [20, 21, 22], '키': [168, 177, 204]}"
      ]
     },
     "execution_count": 21,
     "metadata": {},
     "output_type": "execute_result"
    }
   ],
   "source": [
    "class1_4[\"이름\"]=[\"길동\",\"철수\",\"영희\"]\n",
    "class1_4\n",
    "#데이터가 많으면 for 문으로 일괄처리하는게 효율적"
   ]
  },
  {
   "cell_type": "code",
   "execution_count": 22,
   "id": "61fcc30c",
   "metadata": {},
   "outputs": [
    {
     "data": {
      "text/plain": [
       "{'이름': ['동', '수', '희'], '나이': [20, 21, 22], '키': [168, 177, 204]}"
      ]
     },
     "execution_count": 22,
     "metadata": {},
     "output_type": "execute_result"
    }
   ],
   "source": [
    "new_name=[]\n",
    "for i in class1_4[\"이름\"]:\n",
    "    new_name.append(i[1:])\n",
    "class1_4[\"이름\"]=new_name\n",
    "class1_4"
   ]
  },
  {
   "cell_type": "code",
   "execution_count": 23,
   "id": "4d7c852b",
   "metadata": {},
   "outputs": [
    {
     "data": {
      "text/plain": [
       "[0, 1, 4, 9, 16, 25, 36, 49, 64, 81]"
      ]
     },
     "execution_count": 23,
     "metadata": {},
     "output_type": "execute_result"
    }
   ],
   "source": [
    "jegop=[]\n",
    "for i in range(10):\n",
    "    jegop.append(i**2)\n",
    "jegop"
   ]
  },
  {
   "cell_type": "code",
   "execution_count": 24,
   "id": "c8b564d1",
   "metadata": {},
   "outputs": [
    {
     "data": {
      "text/plain": [
       "[0, 1, 4, 9, 16, 25, 36, 49, 64, 81]"
      ]
     },
     "execution_count": 24,
     "metadata": {},
     "output_type": "execute_result"
    }
   ],
   "source": [
    "jegop=[i**2 for i in range(10)]\n",
    "jegop"
   ]
  },
  {
   "cell_type": "markdown",
   "id": "7a11f865",
   "metadata": {},
   "source": [
    "- 여러 학생의 성적 점수가 다음과 같은 dictionary로 구성되어 있다."
   ]
  },
  {
   "cell_type": "code",
   "execution_count": 36,
   "id": "acd57a63",
   "metadata": {},
   "outputs": [],
   "source": [
    "scores = {'홍길동':{'수학':99,'영어':80,'국어':75},\n",
    "          '김미정':{'영어':67,'국어':87,'수학':55},\n",
    "          '정수진':{'수학':67,'국어':41,'영어':23}}"
   ]
  },
  {
   "cell_type": "markdown",
   "id": "176f0be7",
   "metadata": {},
   "source": [
    "- 이 때, 학생들의 평균을 저장하는 새로운 항목을 추가하고 싶다.\n",
    "- scores에 학생들의 과목별 수학, 영어, 국어 평균 성적을 기록한 \"성적\" 정보를 추가해주세요.\n",
    "- 예)수학평균:(99+55+67)/3"
   ]
  },
  {
   "cell_type": "code",
   "execution_count": 37,
   "id": "261176e2",
   "metadata": {},
   "outputs": [
    {
     "name": "stdout",
     "output_type": "stream",
     "text": [
      "99\n",
      "55\n",
      "67\n"
     ]
    }
   ],
   "source": [
    "# scores[\"홍길동\"]=[\"수학\"]\n",
    "for i in scores:\n",
    "    print(scores[i][\"수학\"])"
   ]
  },
  {
   "cell_type": "code",
   "execution_count": 40,
   "id": "e280d3d2",
   "metadata": {},
   "outputs": [
    {
     "data": {
      "text/plain": [
       "{'홍길동': {'수학': 99, '영어': 80, '국어': 75},\n",
       " '김미정': {'영어': 67, '국어': 87, '수학': 55},\n",
       " '정수진': {'수학': 67, '국어': 41, '영어': 23},\n",
       " '평균점수': {'국어': 97.54166666666667,\n",
       "  '영어': 97.16666666666667,\n",
       "  '수학': 73.66666666666667}}"
      ]
     },
     "execution_count": 40,
     "metadata": {},
     "output_type": "execute_result"
    }
   ],
   "source": [
    "math=0\n",
    "eng=0\n",
    "kor=0\n",
    "for i in scores:\n",
    "    math=math+scores[i][\"수학\"]\n",
    "    eng=math+scores[i][\"영어\"]\n",
    "    kor=math+scores[i][\"국어\"]\n",
    "scores[\"평균점수\"]={\"국어\":kor/len(scores),\"영어\":eng/len(scores),\"수학\":math/len(scores)}\n",
    "scores"
   ]
  },
  {
   "cell_type": "code",
   "execution_count": 41,
   "id": "ff2ad035",
   "metadata": {},
   "outputs": [
    {
     "data": {
      "text/plain": [
       "74"
      ]
     },
     "execution_count": 41,
     "metadata": {},
     "output_type": "execute_result"
    }
   ],
   "source": [
    "dirty = 73.66666666\n",
    "round(dirty)"
   ]
  },
  {
   "cell_type": "code",
   "execution_count": 42,
   "id": "531ad53d",
   "metadata": {},
   "outputs": [],
   "source": [
    "import math"
   ]
  },
  {
   "cell_type": "code",
   "execution_count": 44,
   "id": "1699a7c5",
   "metadata": {},
   "outputs": [
    {
     "data": {
      "text/plain": [
       "74"
      ]
     },
     "execution_count": 44,
     "metadata": {},
     "output_type": "execute_result"
    }
   ],
   "source": [
    "math.ceil(dirty)"
   ]
  },
  {
   "cell_type": "code",
   "execution_count": 45,
   "id": "74bff575",
   "metadata": {},
   "outputs": [
    {
     "data": {
      "text/plain": [
       "73"
      ]
     },
     "execution_count": 45,
     "metadata": {},
     "output_type": "execute_result"
    }
   ],
   "source": [
    "math.floor(dirty)"
   ]
  },
  {
   "cell_type": "code",
   "execution_count": 46,
   "id": "a363c237",
   "metadata": {},
   "outputs": [
    {
     "data": {
      "text/plain": [
       "73.67"
      ]
     },
     "execution_count": 46,
     "metadata": {},
     "output_type": "execute_result"
    }
   ],
   "source": [
    "round(dirty,2)"
   ]
  },
  {
   "cell_type": "code",
   "execution_count": 47,
   "id": "19ea55fc",
   "metadata": {},
   "outputs": [
    {
     "data": {
      "text/plain": [
       "1"
      ]
     },
     "execution_count": 47,
     "metadata": {},
     "output_type": "execute_result"
    }
   ],
   "source": [
    "int(1.6)"
   ]
  }
 ],
 "metadata": {
  "kernelspec": {
   "display_name": "Python 3 (ipykernel)",
   "language": "python",
   "name": "python3"
  },
  "language_info": {
   "codemirror_mode": {
    "name": "ipython",
    "version": 3
   },
   "file_extension": ".py",
   "mimetype": "text/x-python",
   "name": "python",
   "nbconvert_exporter": "python",
   "pygments_lexer": "ipython3",
   "version": "3.9.12"
  }
 },
 "nbformat": 4,
 "nbformat_minor": 5
}
