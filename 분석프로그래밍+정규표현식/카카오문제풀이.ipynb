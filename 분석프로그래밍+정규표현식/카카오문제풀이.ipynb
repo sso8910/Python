{
 "cells": [
  {
   "cell_type": "code",
   "execution_count": 13,
   "id": "a6255345",
   "metadata": {},
   "outputs": [
    {
     "name": "stdout",
     "output_type": "stream",
     "text": [
      "new_id를 입력하세요:dgah..4%Y\n",
      "dgah.4y\n"
     ]
    }
   ],
   "source": [
    "new_id=input(\"new_id를 입력하세요:\")\n",
    "allowed=['a', 'b', 'c', 'd', 'e', 'f', 'g', 'h', 'i', 'j', 'k', 'l', 'm', 'n', 'o', 'p' ,'q', 'r', 's', 't', 'u', 'v', 'w', 'x', 'y', 'z', \"0\", \"1\", \"2\", \"3\", \"4\", \"5\", \"6\", \"7\", \"8\", \"9\", \"0\",  \"-\", \"_\", \".\"]\n",
    "\n",
    "#1단계\n",
    "new_id=new_id.lower()\n",
    "\n",
    "#2단계\n",
    "for i in new_id:\n",
    "    if i not in allowed:\n",
    "        new_id=new_id.replace(i,\"\")\n",
    "\n",
    "#3단계\n",
    "n=1\n",
    "while True:\n",
    "    if\"..\" in new_id :\n",
    "        new_id=new_id.replace(\"..\",\".\")\n",
    "    else:\n",
    "        break\n",
    "print(new_id)\n",
    "    "
   ]
  },
  {
   "cell_type": "code",
   "execution_count": 4,
   "id": "e7a2b0f5",
   "metadata": {},
   "outputs": [
    {
     "name": "stdout",
     "output_type": "stream",
     "text": [
      "new_id를 입력하세요:drit79..#$R\n",
      "drit79.r\n"
     ]
    }
   ],
   "source": [
    "new_id=input(\"new_id를 입력하세요:\")\n",
    "allowed=['a', 'b', 'c', 'd', 'e', 'f', 'g', 'h', 'i', 'j', 'k', 'l', 'm', 'n', 'o', 'p' ,'q', 'r', 's', 't', 'u', 'v', 'w', 'x', 'y', 'z', \"0\", \"1\", \"2\", \"3\", \"4\", \"5\", \"6\", \"7\", \"8\", \"9\", \"0\",  \"-\", \"_\", \".\"]\n",
    "\n",
    "#1단계\n",
    "new_id=new_id.lower()\n",
    "\n",
    "#2단계\n",
    "for i in new_id:\n",
    "    if i not in allowed:\n",
    "        new_id=new_id.replace(i,\"\")\n",
    "\n",
    "#3단계\n",
    "# while\"..\" in new_id:\n",
    "#     new_id=new_id.replace(\"..\",\".\")\n",
    "\n",
    "\n",
    "#3단계_1\n",
    "while True:\n",
    "    new_id=new_id.replace(\"..\",\".\")\n",
    "    if \"..\"not in new_id:\n",
    "        break\n",
    "print(new_id)"
   ]
  },
  {
   "cell_type": "code",
   "execution_count": null,
   "id": "5829ca9c",
   "metadata": {},
   "outputs": [],
   "source": []
  }
 ],
 "metadata": {
  "kernelspec": {
   "display_name": "Python 3 (ipykernel)",
   "language": "python",
   "name": "python3"
  },
  "language_info": {
   "codemirror_mode": {
    "name": "ipython",
    "version": 3
   },
   "file_extension": ".py",
   "mimetype": "text/x-python",
   "name": "python",
   "nbconvert_exporter": "python",
   "pygments_lexer": "ipython3",
   "version": "3.9.12"
  }
 },
 "nbformat": 4,
 "nbformat_minor": 5
}
