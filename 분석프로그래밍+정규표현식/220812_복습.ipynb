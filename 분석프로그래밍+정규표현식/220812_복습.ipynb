{
 "cells": [
  {
   "cell_type": "markdown",
   "id": "fbd749c5",
   "metadata": {},
   "source": [
    "#### 변수\n",
    "- 정수형(int)\n",
    "- 논리형(boolean)\n",
    "- 실수형(float)\n",
    "- 문자형(str)"
   ]
  },
  {
   "cell_type": "markdown",
   "id": "27d0c9d1",
   "metadata": {},
   "source": [
    "#### 인덱싱과 슬라이싱"
   ]
  },
  {
   "cell_type": "code",
   "execution_count": 1,
   "id": "901adb0a",
   "metadata": {},
   "outputs": [
    {
     "data": {
      "text/plain": [
       "'a'"
      ]
     },
     "execution_count": 1,
     "metadata": {},
     "output_type": "execute_result"
    }
   ],
   "source": [
    "\"apple\"[0]"
   ]
  },
  {
   "cell_type": "code",
   "execution_count": 5,
   "id": "1a056b29",
   "metadata": {},
   "outputs": [
    {
     "data": {
      "text/plain": [
       "'apple'"
      ]
     },
     "execution_count": 5,
     "metadata": {},
     "output_type": "execute_result"
    }
   ],
   "source": [
    "[\"apple\",\"banana\",\"melon\"][0]\n",
    "#리스트 바구니 안에서는 \"\" 한개"
   ]
  },
  {
   "cell_type": "code",
   "execution_count": 6,
   "id": "57e1aa94",
   "metadata": {},
   "outputs": [
    {
     "data": {
      "text/plain": [
       "'a'"
      ]
     },
     "execution_count": 6,
     "metadata": {},
     "output_type": "execute_result"
    }
   ],
   "source": [
    "[\"apple\",\"banana\",\"melon\"][0][0]\n",
    "#리스트 단어 안에서 또 인덱싱 하고싶으면 뒤에 []한번더갖다붙임"
   ]
  },
  {
   "cell_type": "code",
   "execution_count": 7,
   "id": "09ed765d",
   "metadata": {},
   "outputs": [
    {
     "data": {
      "text/plain": [
       "['melon', 'watermelon']"
      ]
     },
     "execution_count": 7,
     "metadata": {},
     "output_type": "execute_result"
    }
   ],
   "source": [
    "#리스트 안에는 리스트도 들어갈 수 있음\n",
    "[\"apple\",\"banana\",[\"melon\",\"watermelon\"]][2]"
   ]
  },
  {
   "cell_type": "code",
   "execution_count": 14,
   "id": "a86747c2",
   "metadata": {},
   "outputs": [
    {
     "data": {
      "text/plain": [
       "'w'"
      ]
     },
     "execution_count": 14,
     "metadata": {},
     "output_type": "execute_result"
    }
   ],
   "source": [
    "#리스트 안에는 리스트도 들어갈 수 있음\n",
    "[\"apple\",\"banana\",[\"melon\",\"watermelon\"]][2][1][0]"
   ]
  },
  {
   "cell_type": "code",
   "execution_count": 22,
   "id": "e9910d82",
   "metadata": {},
   "outputs": [
    {
     "data": {
      "text/plain": [
       "'o'"
      ]
     },
     "execution_count": 22,
     "metadata": {},
     "output_type": "execute_result"
    }
   ],
   "source": [
    "fruit=[[\"mango\",\"grape\"],[\"apple\",\"banana\",[\"melon\",\"watermelon\"]]]\n",
    "fruit[1][2][0][3]"
   ]
  },
  {
   "cell_type": "code",
   "execution_count": 23,
   "id": "81cf0fb5",
   "metadata": {},
   "outputs": [
    {
     "data": {
      "text/plain": [
       "'r'"
      ]
     },
     "execution_count": 23,
     "metadata": {},
     "output_type": "execute_result"
    }
   ],
   "source": [
    "fruit=[[\"mango\",\"grape\"],[\"apple\",\"banana\",[\"melon\",\"watermelon\"]]]\n",
    "fruit[0][1][1]"
   ]
  },
  {
   "cell_type": "code",
   "execution_count": 26,
   "id": "a77450b0",
   "metadata": {},
   "outputs": [
    {
     "data": {
      "text/plain": [
       "'melon'"
      ]
     },
     "execution_count": 26,
     "metadata": {},
     "output_type": "execute_result"
    }
   ],
   "source": [
    "\"watermelon\"[5:10]"
   ]
  },
  {
   "cell_type": "code",
   "execution_count": 33,
   "id": "b94c15c1",
   "metadata": {},
   "outputs": [
    {
     "data": {
      "text/plain": [
       "'melon'"
      ]
     },
     "execution_count": 33,
     "metadata": {},
     "output_type": "execute_result"
    }
   ],
   "source": [
    "\"watermelon\"[-5:]"
   ]
  },
  {
   "cell_type": "code",
   "execution_count": null,
   "id": "de16b884",
   "metadata": {},
   "outputs": [],
   "source": [
    "fruit=[[\"mango\",\"grape\"],[\"apple\",\"banana\",[\"melon\",\"watermelon\"]]]\n",
    "fruit[1][2][1][0:5]"
   ]
  },
  {
   "cell_type": "code",
   "execution_count": 65,
   "id": "62dbdceb",
   "metadata": {},
   "outputs": [
    {
     "data": {
      "text/plain": [
       "6"
      ]
     },
     "execution_count": 65,
     "metadata": {},
     "output_type": "execute_result"
    }
   ],
   "source": [
    "fruit=[\"mango\",\"grape\",\"apple\",\"banana\",\"melon\",\"watermelon\"]\n",
    "len(fruit) #6개 단어"
   ]
  },
  {
   "cell_type": "code",
   "execution_count": 66,
   "id": "cecfcdfe",
   "metadata": {},
   "outputs": [
    {
     "data": {
      "text/plain": [
       "5"
      ]
     },
     "execution_count": 66,
     "metadata": {},
     "output_type": "execute_result"
    }
   ],
   "source": [
    "fruit=[\"mango\",\"grape\",\"apple\",\"banana\",\"melon\",\"watermelon\"]\n",
    "len(fruit[0]) #망고의 길이 5"
   ]
  },
  {
   "cell_type": "markdown",
   "id": "a4b27111",
   "metadata": {},
   "source": [
    "#### 포멧팅"
   ]
  },
  {
   "cell_type": "code",
   "execution_count": 41,
   "id": "5ce0c4c3",
   "metadata": {},
   "outputs": [
    {
     "name": "stdout",
     "output_type": "stream",
     "text": [
      "시장에 가면 망고이 있다\n"
     ]
    }
   ],
   "source": [
    "fruit1=\"망고\"\n",
    "fruit2=\"파인애플\"\n",
    "fruit3=\"멜론\"\n",
    "\n",
    "# print(\"시장에 가면 {}이 있다\".format(fruit1))\n",
    "print(f\"시장에 가면 {fruit1}이 있다\")"
   ]
  },
  {
   "cell_type": "code",
   "execution_count": 47,
   "id": "76f04469",
   "metadata": {},
   "outputs": [
    {
     "name": "stdout",
     "output_type": "stream",
     "text": [
      "There is a mangoin the market\n"
     ]
    }
   ],
   "source": [
    "fruit=[\"mango\",\"grape\",\"apple\",\"banana\",\"melon\",\"watermelon\"]\n",
    "# print(\"There is a {}in the market\".format(fruit[0]))\n",
    "print(f\"There is a {fruit[0]} in the market\")"
   ]
  },
  {
   "cell_type": "code",
   "execution_count": 48,
   "id": "0b57ce08",
   "metadata": {},
   "outputs": [
    {
     "data": {
      "text/plain": [
       "3"
      ]
     },
     "execution_count": 48,
     "metadata": {},
     "output_type": "execute_result"
    }
   ],
   "source": [
    "sentence=\"There is a mango in the market\"\n",
    "sentence.count(\"a\")"
   ]
  },
  {
   "cell_type": "code",
   "execution_count": 49,
   "id": "0258813b",
   "metadata": {},
   "outputs": [
    {
     "data": {
      "text/plain": [
       "9"
      ]
     },
     "execution_count": 49,
     "metadata": {},
     "output_type": "execute_result"
    }
   ],
   "source": [
    "sentence.find(\"a\")"
   ]
  },
  {
   "cell_type": "code",
   "execution_count": 50,
   "id": "9d0e3e8c",
   "metadata": {},
   "outputs": [
    {
     "data": {
      "text/plain": [
       "'THERE IS A MANGO IN THE MARKET'"
      ]
     },
     "execution_count": 50,
     "metadata": {},
     "output_type": "execute_result"
    }
   ],
   "source": [
    "sentence.upper()"
   ]
  },
  {
   "cell_type": "code",
   "execution_count": 51,
   "id": "e2e37f70",
   "metadata": {},
   "outputs": [
    {
     "data": {
      "text/plain": [
       "'there is a mango in the market'"
      ]
     },
     "execution_count": 51,
     "metadata": {},
     "output_type": "execute_result"
    }
   ],
   "source": [
    "sentence.lower()"
   ]
  },
  {
   "cell_type": "code",
   "execution_count": 52,
   "id": "f8eb63ff",
   "metadata": {},
   "outputs": [
    {
     "data": {
      "text/plain": [
       "['There', 'is', 'a', 'mango', 'in', 'the', 'market']"
      ]
     },
     "execution_count": 52,
     "metadata": {},
     "output_type": "execute_result"
    }
   ],
   "source": [
    "sentence.split()"
   ]
  },
  {
   "cell_type": "code",
   "execution_count": 54,
   "id": "8f3f2d6d",
   "metadata": {},
   "outputs": [
    {
     "data": {
      "text/plain": [
       "['There is ', ' m', 'ngo in the m', 'rket']"
      ]
     },
     "execution_count": 54,
     "metadata": {},
     "output_type": "execute_result"
    }
   ],
   "source": [
    "sentence.split(\"a\")"
   ]
  },
  {
   "cell_type": "code",
   "execution_count": 55,
   "id": "32b9b489",
   "metadata": {},
   "outputs": [
    {
     "data": {
      "text/plain": [
       "'There is a grape in the market'"
      ]
     },
     "execution_count": 55,
     "metadata": {},
     "output_type": "execute_result"
    }
   ],
   "source": [
    "fruit=[\"mango\",\"grape\",\"apple\",\"banana\",\"melon\",\"watermelon\"]\n",
    "sentence=\"There is a mango in the market\"\n",
    "sentence.replace(\"mango\",\"grape\")"
   ]
  },
  {
   "cell_type": "code",
   "execution_count": 56,
   "id": "ae74a00c",
   "metadata": {},
   "outputs": [
    {
     "data": {
      "text/plain": [
       "'There is a grape in the market'"
      ]
     },
     "execution_count": 56,
     "metadata": {},
     "output_type": "execute_result"
    }
   ],
   "source": [
    "sentence.replace(fruit[0],fruit[1])"
   ]
  },
  {
   "cell_type": "code",
   "execution_count": 57,
   "id": "a2c4ba0c",
   "metadata": {},
   "outputs": [
    {
     "data": {
      "text/plain": [
       "'There is a  in the market'"
      ]
     },
     "execution_count": 57,
     "metadata": {},
     "output_type": "execute_result"
    }
   ],
   "source": [
    "fruit=[\"mango\",\"grape\",\"apple\",\"banana\",\"melon\",\"watermelon\"]\n",
    "sentence=\"There is a mango in the market\"\n",
    "sentence.replace(\"mango\",\"\")"
   ]
  },
  {
   "cell_type": "markdown",
   "id": "0a34ddf0",
   "metadata": {},
   "source": [
    "#### 연산자\n",
    "- 숫자는 +,-,*,/\n",
    "- 몫// 나머지% 지수** \n",
    "- 비교연산자>,<,>=,<="
   ]
  },
  {
   "cell_type": "code",
   "execution_count": 59,
   "id": "7144e34f",
   "metadata": {},
   "outputs": [
    {
     "data": {
      "text/plain": [
       "14"
      ]
     },
     "execution_count": 59,
     "metadata": {},
     "output_type": "execute_result"
    }
   ],
   "source": [
    "num=7\n",
    "num=num+7\n",
    "num"
   ]
  },
  {
   "cell_type": "code",
   "execution_count": 60,
   "id": "96bf81a9",
   "metadata": {},
   "outputs": [
    {
     "data": {
      "text/plain": [
       "21"
      ]
     },
     "execution_count": 60,
     "metadata": {},
     "output_type": "execute_result"
    }
   ],
   "source": [
    "num+=7\n",
    "num"
   ]
  },
  {
   "cell_type": "code",
   "execution_count": 61,
   "id": "3b78f867",
   "metadata": {},
   "outputs": [
    {
     "data": {
      "text/plain": [
       "'안녕하세요'"
      ]
     },
     "execution_count": 61,
     "metadata": {},
     "output_type": "execute_result"
    }
   ],
   "source": [
    "a=\"안녕\"\n",
    "b=\"하세요\"\n",
    "a+b"
   ]
  },
  {
   "cell_type": "code",
   "execution_count": 63,
   "id": "c7eab2de",
   "metadata": {},
   "outputs": [
    {
     "data": {
      "text/plain": [
       "'안녕안녕'"
      ]
     },
     "execution_count": 63,
     "metadata": {},
     "output_type": "execute_result"
    }
   ],
   "source": [
    "a=\"안녕\"\n",
    "a*2 #문자는 곱하기만 됨"
   ]
  },
  {
   "cell_type": "code",
   "execution_count": 64,
   "id": "9a28120c",
   "metadata": {},
   "outputs": [
    {
     "name": "stdout",
     "output_type": "stream",
     "text": [
      "14\n",
      "14\n"
     ]
    }
   ],
   "source": [
    "print(7+7)\n",
    "print(int(\"7\")+int(\"7\"))"
   ]
  },
  {
   "cell_type": "markdown",
   "id": "639af1b3",
   "metadata": {},
   "source": [
    "#### 다음중 결과 값이 다른 하나는?5\n",
    "- 1.5+6\n",
    "- 2.int(5)+int(6)\n",
    "- 3.int(5+6)\n",
    "- 4.int(\"5\")+int(\"6\")\n",
    "- 5.int(\"5\"+\"6\")"
   ]
  },
  {
   "cell_type": "markdown",
   "id": "f5758aa5",
   "metadata": {},
   "source": [
    "#### 논리형\n",
    "- 참 거짓으로 비교 가능\n",
    "- 같다 ==, 같지않다 !="
   ]
  },
  {
   "cell_type": "markdown",
   "id": "3dd655b0",
   "metadata": {},
   "source": [
    "#### 조건문(if-else)"
   ]
  },
  {
   "cell_type": "code",
   "execution_count": null,
   "id": "b744149a",
   "metadata": {},
   "outputs": [],
   "source": [
    "if 명제:\n",
    "    명제가 참일 때 실행하는 코드\n",
    "else :\n",
    "    명제가 거짓일 때 실행하는 코드"
   ]
  },
  {
   "cell_type": "code",
   "execution_count": 69,
   "id": "b62d0b61",
   "metadata": {},
   "outputs": [
    {
     "name": "stdout",
     "output_type": "stream",
     "text": [
      "홀수\n"
     ]
    }
   ],
   "source": [
    "sutja=3\n",
    "#sutja=4\n",
    "#sutja=5\n",
    "\n",
    "if sutja%2==0:\n",
    "    print(\"짝수\")\n",
    "else :\n",
    "    print(\"홀수\")"
   ]
  },
  {
   "cell_type": "code",
   "execution_count": 70,
   "id": "e2690a73",
   "metadata": {},
   "outputs": [
    {
     "data": {
      "text/plain": [
       "True"
      ]
     },
     "execution_count": 70,
     "metadata": {},
     "output_type": "execute_result"
    }
   ],
   "source": [
    "fruit=[\"mango\",\"grape\",\"apple\",\"banana\",\"melon\",\"watermelon\"]\n",
    "\n",
    "\"mango\" in fruit #오른족에 있는 건 인덱싱 가능해야함. 즉 문자열에 대한 것 "
   ]
  },
  {
   "cell_type": "code",
   "execution_count": 71,
   "id": "8a58fe53",
   "metadata": {},
   "outputs": [
    {
     "data": {
      "text/plain": [
       "True"
      ]
     },
     "execution_count": 71,
     "metadata": {},
     "output_type": "execute_result"
    }
   ],
   "source": [
    "\"m\" in \"mango\""
   ]
  },
  {
   "cell_type": "code",
   "execution_count": 72,
   "id": "0ba709cc",
   "metadata": {},
   "outputs": [
    {
     "data": {
      "text/plain": [
       "True"
      ]
     },
     "execution_count": 72,
     "metadata": {},
     "output_type": "execute_result"
    }
   ],
   "source": [
    "\"man\" in \"mango\"\n",
    "#슬라이싱으로 지칭할 수 있는건 문자열만 가능"
   ]
  },
  {
   "cell_type": "code",
   "execution_count": 73,
   "id": "2a211cbb",
   "metadata": {},
   "outputs": [
    {
     "data": {
      "text/plain": [
       "False"
      ]
     },
     "execution_count": 73,
     "metadata": {},
     "output_type": "execute_result"
    }
   ],
   "source": [
    "fruit=[\"mango\",\"grape\",\"apple\",\"banana\",\"melon\",\"watermelon\"]\n",
    "\n",
    "[\"mango\",\"grape\"] in fruit\n",
    "#리스트 안에 리스트가 있을 수 있기 때문에 안됨."
   ]
  },
  {
   "cell_type": "code",
   "execution_count": 77,
   "id": "a1f1bfb7",
   "metadata": {},
   "outputs": [
    {
     "data": {
      "text/plain": [
       "True"
      ]
     },
     "execution_count": 77,
     "metadata": {},
     "output_type": "execute_result"
    }
   ],
   "source": [
    "fruit=[\"mango\",\"grape\",\"apple\",\"banana\",\"melon\",\"watermelon\"]\n",
    "\n",
    "(\"mango\" in fruit) and (\"grape\" in fruit)"
   ]
  },
  {
   "cell_type": "code",
   "execution_count": 75,
   "id": "0195d336",
   "metadata": {},
   "outputs": [
    {
     "data": {
      "text/plain": [
       "True"
      ]
     },
     "execution_count": 75,
     "metadata": {},
     "output_type": "execute_result"
    }
   ],
   "source": [
    "\"mango\" and \"grape\" in fruit"
   ]
  },
  {
   "cell_type": "code",
   "execution_count": 76,
   "id": "e996e7aa",
   "metadata": {},
   "outputs": [
    {
     "data": {
      "text/plain": [
       "'mango'"
      ]
     },
     "execution_count": 76,
     "metadata": {},
     "output_type": "execute_result"
    }
   ],
   "source": [
    "fruit=[\"mango\",\"grape\",\"apple\",\"banana\",\"melon\",\"watermelon\"]\n",
    "\n",
    "\"mango\" or \"grape\" in fruit\n",
    "\n",
    "# 중의적표현으로 유발함. 괄호써서 문장 깔끔하게 만들기"
   ]
  },
  {
   "cell_type": "code",
   "execution_count": 2,
   "id": "4b717c85",
   "metadata": {},
   "outputs": [
    {
     "data": {
      "text/plain": [
       "'\\n\\n너도 날 좋아할 줄은 몰랐어\\n\\n어쩌면 좋아 너무나 좋아\\n꿈만 같아서 \\n나 내 자신을 자꾸 꼬집어봐\\n\\n너무나 좋아 니가 날 혹시 안 좋아할까 봐\\n\\n혼자 얼마나 애태운 지 몰라\\n그런데 너도 날 사랑한다니\\n\\n어머나 다시 한 번 말해봐\\n\\n\\nTell me, tell me, tell tell tell tell tell tell me\\n나를 사랑한다고 날 기다려왔다고\\nTell me, tell me, tell tell tell tell tell tell me\\n내가 필요하다 말해 말해줘요\\nTell me tell me, tell tell tell tell tell tell me\\n자꾸만 듣고 싶어 계속 내게 말해줘\\nTell me, tell me, tell tell tell tell tell tell me\\n꿈이 아니라고 말해 말해줘요\\n\\n어쩜 내 가슴이 이렇게 뛰니\\n가슴이 정말 터질 것 같아 니가 날 볼 때면\\n전기에 감전된 사람처럼 전기가 올라\\n\\n얼마나 오래 기다린 지 몰라\\n얼마나 오래 꿈 꿨는지 몰라\\n그런데 너도 날 사랑한다니\\n어머나 다시 한 번 말해봐\\n\\nTell me, tell me, tell tell tell tell tell tell me\\n나를 사랑한다고 날 기다려왔다고\\nTell me, tell me, tell tell tell tell tell tell me\\n내가 필요하다 말해 말해줘요\\nTell me tell me, tell tell tell tell tell tell me\\n자꾸만 듣고 싶어 계속 내게 말해줘\\nTell me, tell me, tell tell tell tell tell tell me\\n꿈이 아니라고 말해 말해줘요\\n\\n♬\\n\\nTell me, tell me, tell me you want me\\nwant me, want me too. Tell me, tell me\\ntell me you love me too, love me too.\\n\\nHit me one time baby 다시 한번\\nOkay 방금한 건 알지만 또 한번\\n예 계속 말해줘 들어도 들어도 듣고 싶어\\n어쩜 이런 일이 꿈인가 싶어\\n어머나 좋아서 어쩌나 Baby baby\\n\\nTell me, tell me, tell tell tell tell tell tell me\\n나를 사랑한다고 날 기다려왔다고\\nTell me, tell me, tell tell tell tell tell tell me\\n내가 필요하다 말해 말해줘요\\nTell me tell me, tell tell tell tell tell tell me\\n자꾸만 듣고 싶어 계속 내게 말해줘\\nTell me, tell me, tell tell tell tell tell tell me\\n꿈이 아니라고 말해 말해줘요\\nTell me, tell me, tell tell tell tell tell tell me\\n\\n'"
      ]
     },
     "execution_count": 2,
     "metadata": {},
     "output_type": "execute_result"
    }
   ],
   "source": [
    "lyrics = \"\"\"\n",
    "\\n너도 날 좋아할 줄은 몰랐어\\n\n",
    "어쩌면 좋아 너무나 좋아\\n꿈만 같아서 \n",
    "나 내 자신을 자꾸 꼬집어봐\\n\n",
    "너무나 좋아 니가 날 혹시 안 좋아할까 봐\\n\n",
    "혼자 얼마나 애태운 지 몰라\\n그런데 너도 날 사랑한다니\n",
    "\\n어머나 다시 한 번 말해봐\\n\n",
    "\\nTell me, tell me, tell tell tell tell tell tell me\\n나를 사랑한다고 날 기다려왔다고\\nTell me, tell me, tell tell tell tell tell tell me\\n내가 필요하다 말해 말해줘요\\nTell me tell me, tell tell tell tell tell tell me\\n자꾸만 듣고 싶어 계속 내게 말해줘\\nTell me, tell me, tell tell tell tell tell tell me\\n꿈이 아니라고 말해 말해줘요\\n\\n어쩜 내 가슴이 이렇게 뛰니\\n가슴이 정말 터질 것 같아 니가 날 볼 때면\\n전기에 감전된 사람처럼 전기가 올라\\n\\n얼마나 오래 기다린 지 몰라\\n얼마나 오래 꿈 꿨는지 몰라\\n그런데 너도 날 사랑한다니\\n어머나 다시 한 번 말해봐\\n\\nTell me, tell me, tell tell tell tell tell tell me\\n나를 사랑한다고 날 기다려왔다고\\nTell me, tell me, tell tell tell tell tell tell me\\n내가 필요하다 말해 말해줘요\\nTell me tell me, tell tell tell tell tell tell me\\n자꾸만 듣고 싶어 계속 내게 말해줘\\nTell me, tell me, tell tell tell tell tell tell me\\n꿈이 아니라고 말해 말해줘요\\n\\n♬\\n\\nTell me, tell me, tell me you want me\\nwant me, want me too. Tell me, tell me\\ntell me you love me too, love me too.\\n\\nHit me one time baby 다시 한번\\nOkay 방금한 건 알지만 또 한번\\n예 계속 말해줘 들어도 들어도 듣고 싶어\\n어쩜 이런 일이 꿈인가 싶어\\n어머나 좋아서 어쩌나 Baby baby\\n\\nTell me, tell me, tell tell tell tell tell tell me\\n나를 사랑한다고 날 기다려왔다고\\nTell me, tell me, tell tell tell tell tell tell me\\n내가 필요하다 말해 말해줘요\\nTell me tell me, tell tell tell tell tell tell me\\n자꾸만 듣고 싶어 계속 내게 말해줘\\nTell me, tell me, tell tell tell tell tell tell me\\n꿈이 아니라고 말해 말해줘요\\nTell me, tell me, tell tell tell tell tell tell me\\n\n",
    "\"\"\"\n",
    "\n",
    "lyrics"
   ]
  },
  {
   "cell_type": "code",
   "execution_count": 8,
   "id": "f0d3575d",
   "metadata": {},
   "outputs": [
    {
     "name": "stdout",
     "output_type": "stream",
     "text": [
      "제목 안들어있어\n"
     ]
    },
    {
     "data": {
      "text/plain": [
       "'  너도 날 좋아할 줄은 몰랐어  어쩌면 좋아 너무나 좋아 꿈만 같아서  나 내 자신을 자꾸 꼬집어봐  너무나 좋아 니가 날 혹시 안 좋아할까 봐  혼자 얼마나 애태운 지 몰라 그런데 너도 날 사랑한다니  어머나 다시 한 번 말해봐   @@@@@@, @@@@@@, tell tell tell tell tell @@@@@@ 나를 사랑한다고 날 기다려왔다고 @@@@@@, @@@@@@, tell tell tell tell tell @@@@@@ 내가 필요하다 말해 말해줘요 @@@@@@ @@@@@@, tell tell tell tell tell @@@@@@ 자꾸만 듣고 싶어 계속 내게 말해줘 @@@@@@, @@@@@@, tell tell tell tell tell @@@@@@ 꿈이 아니라고 말해 말해줘요  어쩜 내 가슴이 이렇게 뛰니 가슴이 정말 터질 것 같아 니가 날 볼 때면 전기에 감전된 사람처럼 전기가 올라  얼마나 오래 기다린 지 몰라 얼마나 오래 꿈 꿨는지 몰라 그런데 너도 날 사랑한다니 어머나 다시 한 번 말해봐  @@@@@@, @@@@@@, tell tell tell tell tell @@@@@@ 나를 사랑한다고 날 기다려왔다고 @@@@@@, @@@@@@, tell tell tell tell tell @@@@@@ 내가 필요하다 말해 말해줘요 @@@@@@ @@@@@@, tell tell tell tell tell @@@@@@ 자꾸만 듣고 싶어 계속 내게 말해줘 @@@@@@, @@@@@@, tell tell tell tell tell @@@@@@ 꿈이 아니라고 말해 말해줘요  ♬  @@@@@@, @@@@@@, @@@@@@ you want me want me, want me too. @@@@@@, @@@@@@ @@@@@@ you love me too, love me too.  hit me one time baby 다시 한번 okay 방금한 건 알지만 또 한번 예 계속 말해줘 들어도 들어도 듣고 싶어 어쩜 이런 일이 꿈인가 싶어 어머나 좋아서 어쩌나 baby baby  @@@@@@, @@@@@@, tell tell tell tell tell @@@@@@ 나를 사랑한다고 날 기다려왔다고 @@@@@@, @@@@@@, tell tell tell tell tell @@@@@@ 내가 필요하다 말해 말해줘요 @@@@@@ @@@@@@, tell tell tell tell tell @@@@@@ 자꾸만 듣고 싶어 계속 내게 말해줘 @@@@@@, @@@@@@, tell tell tell tell tell @@@@@@ 꿈이 아니라고 말해 말해줘요 @@@@@@, @@@@@@, tell tell tell tell tell @@@@@@  '"
      ]
     },
     "execution_count": 8,
     "metadata": {},
     "output_type": "execute_result"
    }
   ],
   "source": [
    "if (\"tell me\" in lyrics) :\n",
    "    print(\"제목이 들어있습니다\")\n",
    "else :\n",
    "    print(\"제목 안들어있어\")\n",
    "lyrics=lyrics.lower()\n",
    "lyrics=lyrics.replace(\"\\n\",\" \")\n",
    "lyrics.replace(\"tell me\",\"\")"
   ]
  },
  {
   "cell_type": "code",
   "execution_count": 7,
   "id": "000d893c",
   "metadata": {},
   "outputs": [
    {
     "data": {
      "text/plain": [
       "'  너도 날 좋아할 줄은 몰랐어  어쩌면 좋아 너무나 좋아 꿈만 같아서  나 내 자신을 자꾸 꼬집어봐  너무나 좋아 니가 날 혹시 안 좋아할까 봐  혼자 얼마나 애태운 지 몰라 그런데 너도 날 사랑한다니  어머나 다시 한 번 말해봐   @@@@@@, @@@@@@, tell tell tell tell tell @@@@@@ 나를 사랑한다고 날 기다려왔다고 @@@@@@, @@@@@@, tell tell tell tell tell @@@@@@ 내가 필요하다 말해 말해줘요 @@@@@@ @@@@@@, tell tell tell tell tell @@@@@@ 자꾸만 듣고 싶어 계속 내게 말해줘 @@@@@@, @@@@@@, tell tell tell tell tell @@@@@@ 꿈이 아니라고 말해 말해줘요  어쩜 내 가슴이 이렇게 뛰니 가슴이 정말 터질 것 같아 니가 날 볼 때면 전기에 감전된 사람처럼 전기가 올라  얼마나 오래 기다린 지 몰라 얼마나 오래 꿈 꿨는지 몰라 그런데 너도 날 사랑한다니 어머나 다시 한 번 말해봐  @@@@@@, @@@@@@, tell tell tell tell tell @@@@@@ 나를 사랑한다고 날 기다려왔다고 @@@@@@, @@@@@@, tell tell tell tell tell @@@@@@ 내가 필요하다 말해 말해줘요 @@@@@@ @@@@@@, tell tell tell tell tell @@@@@@ 자꾸만 듣고 싶어 계속 내게 말해줘 @@@@@@, @@@@@@, tell tell tell tell tell @@@@@@ 꿈이 아니라고 말해 말해줘요  ♬  @@@@@@, @@@@@@, @@@@@@ you want me want me, want me too. @@@@@@, @@@@@@ @@@@@@ you love me too, love me too.  hit me one time baby 다시 한번 okay 방금한 건 알지만 또 한번 예 계속 말해줘 들어도 들어도 듣고 싶어 어쩜 이런 일이 꿈인가 싶어 어머나 좋아서 어쩌나 baby baby  @@@@@@, @@@@@@, tell tell tell tell tell @@@@@@ 나를 사랑한다고 날 기다려왔다고 @@@@@@, @@@@@@, tell tell tell tell tell @@@@@@ 내가 필요하다 말해 말해줘요 @@@@@@ @@@@@@, tell tell tell tell tell @@@@@@ 자꾸만 듣고 싶어 계속 내게 말해줘 @@@@@@, @@@@@@, tell tell tell tell tell @@@@@@ 꿈이 아니라고 말해 말해줘요 @@@@@@, @@@@@@, tell tell tell tell tell @@@@@@  '"
      ]
     },
     "execution_count": 7,
     "metadata": {},
     "output_type": "execute_result"
    }
   ],
   "source": [
    "#tell me를 @@@@로 가리고 싶은 경우\n",
    "lyrics=lyrics.lower()\n",
    "lyrics=lyrics.replace(\"\\n\",\" \")\n",
    "lyrics=lyrics.replace(\"tell me\",\"@@@@@@\")\n",
    "lyrics"
   ]
  },
  {
   "cell_type": "code",
   "execution_count": 9,
   "id": "67a5fbfa",
   "metadata": {},
   "outputs": [],
   "source": [
    "#빈칸 없애기\n",
    "\n",
    "lyrics=lyrics.replace(\"  \",\" \")"
   ]
  },
  {
   "cell_type": "code",
   "execution_count": 11,
   "id": "dfa2c3db",
   "metadata": {},
   "outputs": [
    {
     "data": {
      "text/plain": [
       "'너도 날 좋아할 줄은 몰랐어 어쩌면 좋아 너무나 좋아 꿈만 같아서 나 내 자신을 자꾸 꼬집어봐 너무나 좋아 니가 날 혹시 안 좋아할까 봐 혼자 얼마나 애태운 지 몰라 그런데 너도 날 사랑한다니 어머나 다시 한 번 말해봐  @@@@@@, @@@@@@, tell tell tell tell tell @@@@@@ 나를 사랑한다고 날 기다려왔다고 @@@@@@, @@@@@@, tell tell tell tell tell @@@@@@ 내가 필요하다 말해 말해줘요 @@@@@@ @@@@@@, tell tell tell tell tell @@@@@@ 자꾸만 듣고 싶어 계속 내게 말해줘 @@@@@@, @@@@@@, tell tell tell tell tell @@@@@@ 꿈이 아니라고 말해 말해줘요 어쩜 내 가슴이 이렇게 뛰니 가슴이 정말 터질 것 같아 니가 날 볼 때면 전기에 감전된 사람처럼 전기가 올라 얼마나 오래 기다린 지 몰라 얼마나 오래 꿈 꿨는지 몰라 그런데 너도 날 사랑한다니 어머나 다시 한 번 말해봐 @@@@@@, @@@@@@, tell tell tell tell tell @@@@@@ 나를 사랑한다고 날 기다려왔다고 @@@@@@, @@@@@@, tell tell tell tell tell @@@@@@ 내가 필요하다 말해 말해줘요 @@@@@@ @@@@@@, tell tell tell tell tell @@@@@@ 자꾸만 듣고 싶어 계속 내게 말해줘 @@@@@@, @@@@@@, tell tell tell tell tell @@@@@@ 꿈이 아니라고 말해 말해줘요 ♬ @@@@@@, @@@@@@, @@@@@@ you want me want me, want me too. @@@@@@, @@@@@@ @@@@@@ you love me too, love me too. hit me one time baby 다시 한번 okay 방금한 건 알지만 또 한번 예 계속 말해줘 들어도 들어도 듣고 싶어 어쩜 이런 일이 꿈인가 싶어 어머나 좋아서 어쩌나 baby baby @@@@@@, @@@@@@, tell tell tell tell tell @@@@@@ 나를 사랑한다고 날 기다려왔다고 @@@@@@, @@@@@@, tell tell tell tell tell @@@@@@ 내가 필요하다 말해 말해줘요 @@@@@@ @@@@@@, tell tell tell tell tell @@@@@@ 자꾸만 듣고 싶어 계속 내게 말해줘 @@@@@@, @@@@@@, tell tell tell tell tell @@@@@@ 꿈이 아니라고 말해 말해줘요 @@@@@@, @@@@@@, tell tell tell tell tell @@@@@@'"
      ]
     },
     "execution_count": 11,
     "metadata": {},
     "output_type": "execute_result"
    }
   ],
   "source": [
    "lyrics.strip()"
   ]
  },
  {
   "cell_type": "code",
   "execution_count": 12,
   "id": "5f8f9f7f",
   "metadata": {},
   "outputs": [
    {
     "data": {
      "text/plain": [
       "'너도 날 좋아할 줄은 몰랐어 어쩌면 좋아 너무나 좋아 꿈만 같아서 나 내 자신을 자꾸 꼬집어봐 너무나 좋아 니가 날 혹시 안 좋아할까 봐 혼자 얼마나 애태운 지 몰라 그런데 너도 날 사랑한다니 어머나 다시 한 번 말해봐  @@@@@@, @@@@@@, tell tell tell tell tell @@@@@@ 나를 사랑한다고 날 기다려왔다고 @@@@@@, @@@@@@, tell tell tell tell tell @@@@@@ 내가 필요하다 말해 말해줘요 @@@@@@ @@@@@@, tell tell tell tell tell @@@@@@ 자꾸만 듣고 싶어 계속 내게 말해줘 @@@@@@, @@@@@@, tell tell tell tell tell @@@@@@ 꿈이 아니라고 말해 말해줘요 어쩜 내 가슴이 이렇게 뛰니 가슴이 정말 터질 것 같아 니가 날 볼 때면 전기에 감전된 사람처럼 전기가 올라 얼마나 오래 기다린 지 몰라 얼마나 오래 꿈 꿨는지 몰라 그런데 너도 날 사랑한다니 어머나 다시 한 번 말해봐 @@@@@@, @@@@@@, tell tell tell tell tell @@@@@@ 나를 사랑한다고 날 기다려왔다고 @@@@@@, @@@@@@, tell tell tell tell tell @@@@@@ 내가 필요하다 말해 말해줘요 @@@@@@ @@@@@@, tell tell tell tell tell @@@@@@ 자꾸만 듣고 싶어 계속 내게 말해줘 @@@@@@, @@@@@@, tell tell tell tell tell @@@@@@ 꿈이 아니라고 말해 말해줘요 ♬ @@@@@@, @@@@@@, @@@@@@ you want me want me, want me too. @@@@@@, @@@@@@ @@@@@@ you love me too, love me too. hit me one time baby 다시 한번 okay 방금한 건 알지만 또 한번 예 계속 말해줘 들어도 들어도 듣고 싶어 어쩜 이런 일이 꿈인가 싶어 어머나 좋아서 어쩌나 baby baby @@@@@@, @@@@@@, tell tell tell tell tell @@@@@@ 나를 사랑한다고 날 기다려왔다고 @@@@@@, @@@@@@, tell tell tell tell tell @@@@@@ 내가 필요하다 말해 말해줘요 @@@@@@ @@@@@@, tell tell tell tell tell @@@@@@ 자꾸만 듣고 싶어 계속 내게 말해줘 @@@@@@, @@@@@@, tell tell tell tell tell @@@@@@ 꿈이 아니라고 말해 말해줘요 @@@@@@, @@@@@@, tell tell tell tell tell @@@@@@'"
      ]
     },
     "execution_count": 12,
     "metadata": {},
     "output_type": "execute_result"
    }
   ],
   "source": [
    "lyrics[1:-1]"
   ]
  },
  {
   "cell_type": "markdown",
   "id": "94e1784a",
   "metadata": {},
   "source": [
    "#### 리스트 & 튜플\n",
    "- 튜플은 데이터의 조작이 불가능\n",
    "- 리스트는 데이터의 조작이 가능\n",
    "- 데이터 조작 : 원소 추가, 삭제"
   ]
  },
  {
   "cell_type": "markdown",
   "id": "cad48512",
   "metadata": {},
   "source": [
    "##### 데이터 추가\n",
    "- 문자열 : 덧셈연산\n",
    "- 리스트 : append, insert\n",
    "    /insert 위치 지정가능\n",
    "    append 맨 뒤에 추가됨"
   ]
  },
  {
   "cell_type": "code",
   "execution_count": 15,
   "id": "c8de320a",
   "metadata": {},
   "outputs": [
    {
     "data": {
      "text/plain": [
       "'짜장면,짬뽕,탕수육,군만두'"
      ]
     },
     "execution_count": 15,
     "metadata": {},
     "output_type": "execute_result"
    }
   ],
   "source": [
    "menu = \"짜장면,짬뽕,탕수육\"\n",
    "menu = menu+\",군만두\"\n",
    "menu"
   ]
  },
  {
   "cell_type": "code",
   "execution_count": 20,
   "id": "4a01ccdf",
   "metadata": {},
   "outputs": [
    {
     "data": {
      "text/plain": [
       "['짜장면', '짬뽕', '탕수육', '군만두']"
      ]
     },
     "execution_count": 20,
     "metadata": {},
     "output_type": "execute_result"
    }
   ],
   "source": [
    "menu =[\"짜장면\",\"짬뽕\",\"탕수육\"]\n",
    "menu.append(\"군만두\")\n",
    "menu"
   ]
  },
  {
   "cell_type": "code",
   "execution_count": 22,
   "id": "9a64b70a",
   "metadata": {},
   "outputs": [
    {
     "data": {
      "text/plain": [
       "['짜장면', '팔보채', '팔보채', '짬뽕', '탕수육', '군만두']"
      ]
     },
     "execution_count": 22,
     "metadata": {},
     "output_type": "execute_result"
    }
   ],
   "source": [
    "menu.insert(1,\"팔보채\")\n",
    "menu"
   ]
  },
  {
   "cell_type": "markdown",
   "id": "36f3ab07",
   "metadata": {},
   "source": [
    "#### 데이터제거\n",
    "1. 문자열 - replace\n",
    "2. 리스트 - del,remove,pop"
   ]
  },
  {
   "cell_type": "code",
   "execution_count": 1,
   "id": "c4856a09",
   "metadata": {},
   "outputs": [
    {
     "data": {
      "text/plain": [
       "'짜장면,짬뽕,탕수육'"
      ]
     },
     "execution_count": 1,
     "metadata": {},
     "output_type": "execute_result"
    }
   ],
   "source": [
    "menu = \"짜장면,짬뽕,탕수육,군만두\"\n",
    "menu=menu.replace(\",군만두\",\"\")\n",
    "menu"
   ]
  },
  {
   "cell_type": "code",
   "execution_count": 5,
   "id": "c21e397b",
   "metadata": {},
   "outputs": [
    {
     "data": {
      "text/plain": [
       "['짜장면', '팔보채', '짬뽕', '탕수육']"
      ]
     },
     "execution_count": 5,
     "metadata": {},
     "output_type": "execute_result"
    }
   ],
   "source": [
    "menu =[\"짜장면\",\"팔보채\",\"짬뽕\",\"탕수육\",\"군만두\"]\n",
    "del menu[-1]  #del은 인덱싱으로 삭제\n",
    "menu"
   ]
  },
  {
   "cell_type": "code",
   "execution_count": 6,
   "id": "fd8f39ea",
   "metadata": {},
   "outputs": [
    {
     "data": {
      "text/plain": [
       "['짜장면', '짬뽕', '탕수육']"
      ]
     },
     "execution_count": 6,
     "metadata": {},
     "output_type": "execute_result"
    }
   ],
   "source": [
    "menu.remove(\"팔보채\") #지우고싶은거 지정\n",
    "menu"
   ]
  },
  {
   "cell_type": "code",
   "execution_count": 7,
   "id": "296981cf",
   "metadata": {},
   "outputs": [
    {
     "data": {
      "text/plain": [
       "['짜장면', '짬뽕']"
      ]
     },
     "execution_count": 7,
     "metadata": {},
     "output_type": "execute_result"
    }
   ],
   "source": [
    "menu.pop()  #맨뒤 삭제, append반대\n",
    "menu"
   ]
  },
  {
   "cell_type": "markdown",
   "id": "9e98773f",
   "metadata": {},
   "source": [
    "#### 데이터 교체\n",
    "1. 문자열 - replace\n",
    "2. 리스트 - 딱히 함수 없음"
   ]
  },
  {
   "cell_type": "code",
   "execution_count": 8,
   "id": "ee68bb12",
   "metadata": {},
   "outputs": [
    {
     "data": {
      "text/plain": [
       "'짜장면,짬뽕,탕수육,팔보채'"
      ]
     },
     "execution_count": 8,
     "metadata": {},
     "output_type": "execute_result"
    }
   ],
   "source": [
    "menu = \"짜장면,짬뽕,탕수육,군만두\"\n",
    "menu=menu.replace(\"군만두\",\"팔보채\")\n",
    "menu"
   ]
  },
  {
   "cell_type": "code",
   "execution_count": 10,
   "id": "4a5ee93d",
   "metadata": {},
   "outputs": [
    {
     "data": {
      "text/plain": [
       "['짜장면', '유산슬', '짬뽕', '탕수육', '군만두']"
      ]
     },
     "execution_count": 10,
     "metadata": {},
     "output_type": "execute_result"
    }
   ],
   "source": [
    "menu =[\"짜장면\",\"팔보채\",\"짬뽕\",\"탕수육\",\"군만두\"]\n",
    "menu[1]=\"유산슬\" #새로 인덱싱 설정\n",
    "menu"
   ]
  },
  {
   "cell_type": "code",
   "execution_count": 12,
   "id": "2b4a8cd0",
   "metadata": {},
   "outputs": [
    {
     "data": {
      "text/plain": [
       "[['mango', 'grape'], ['pineapple', 'banana', ['melon', 'watermelon']]]"
      ]
     },
     "execution_count": 12,
     "metadata": {},
     "output_type": "execute_result"
    }
   ],
   "source": [
    "fruit=[[\"mango\",\"grape\"],[\"apple\",\"banana\",[\"melon\",\"watermelon\"]]]\n",
    "fruit[1][0]=\"pineapple\"\n",
    "fruit"
   ]
  },
  {
   "cell_type": "markdown",
   "id": "5440a4e4",
   "metadata": {},
   "source": [
    "#### 반복문\n",
    "1. for문\n",
    "2. while문"
   ]
  },
  {
   "cell_type": "code",
   "execution_count": null,
   "id": "80bcf348",
   "metadata": {},
   "outputs": [],
   "source": [
    "while 명제:\n",
    "    명제가 참인 한 실행되는 코드 #무한반복지옥....."
   ]
  },
  {
   "cell_type": "markdown",
   "id": "2bd87148",
   "metadata": {},
   "source": [
    "#### 무한루프를 피하는 방법\n",
    "1. 특정조건에서 while문에 걸려있는 명제가 거짓이 되도록 설계한다.\n",
    "2. break를 사용한다."
   ]
  },
  {
   "cell_type": "code",
   "execution_count": 14,
   "id": "3a88f10c",
   "metadata": {},
   "outputs": [
    {
     "name": "stdout",
     "output_type": "stream",
     "text": [
      "0\n",
      "1\n",
      "2\n"
     ]
    }
   ],
   "source": [
    "n=0\n",
    "while n<3:\n",
    "    print(n)\n",
    "    n=n+1"
   ]
  },
  {
   "cell_type": "code",
   "execution_count": 15,
   "id": "adadb419",
   "metadata": {},
   "outputs": [
    {
     "name": "stdout",
     "output_type": "stream",
     "text": [
      "0\n",
      "1\n",
      "2\n"
     ]
    }
   ],
   "source": [
    "n=0\n",
    "while True :     #무한으로 돌려~    \n",
    "    print(n)\n",
    "    n=n+1\n",
    "    if n>=3:\n",
    "        break     #강제종료해\n",
    "    else:\n",
    "        pass      #과정을무시해"
   ]
  },
  {
   "cell_type": "markdown",
   "id": "86cecb3e",
   "metadata": {},
   "source": [
    "### 1000이 넘는 43의 배수 중 가장 작은 수를 찾고 싶습니다."
   ]
  },
  {
   "cell_type": "code",
   "execution_count": 2,
   "id": "e7a1adc7",
   "metadata": {},
   "outputs": [
    {
     "name": "stdout",
     "output_type": "stream",
     "text": [
      "1032\n"
     ]
    }
   ],
   "source": [
    "n=1000\n",
    "while True :\n",
    "    n=n+1\n",
    "    if n%43==0:\n",
    "        print(n)\n",
    "        break        \n",
    "    else:\n",
    "        pass"
   ]
  },
  {
   "cell_type": "code",
   "execution_count": 3,
   "id": "b80993bd",
   "metadata": {},
   "outputs": [
    {
     "name": "stdout",
     "output_type": "stream",
     "text": [
      "1032\n"
     ]
    }
   ],
   "source": [
    "#쌤 답\n",
    "n=1000\n",
    "while n%43!=0:\n",
    "    n=n+1\n",
    "print(n)"
   ]
  },
  {
   "cell_type": "code",
   "execution_count": 4,
   "id": "f375f868",
   "metadata": {},
   "outputs": [
    {
     "name": "stdout",
     "output_type": "stream",
     "text": [
      "1032\n"
     ]
    }
   ],
   "source": [
    "#쌤답2\n",
    "n=0\n",
    "while n*43<1000:\n",
    "    n=n+1\n",
    "print(n*43)"
   ]
  },
  {
   "cell_type": "code",
   "execution_count": 5,
   "id": "a7537cfc",
   "metadata": {},
   "outputs": [
    {
     "name": "stdout",
     "output_type": "stream",
     "text": [
      "1032\n"
     ]
    }
   ],
   "source": [
    "#쌤답3\n",
    "n=0\n",
    "while True:\n",
    "    n=n+1\n",
    "    if n*43>=1000:\n",
    "        print(43*n)\n",
    "        break\n",
    "    else:\n",
    "        pass"
   ]
  },
  {
   "cell_type": "markdown",
   "id": "4134adbb",
   "metadata": {},
   "source": [
    "### 10,000이 넘는 수 중에서, 가장 작은 43과 67의 공배수를 구해주세요\n",
    "- 43과67의 공배수란, 43과 67을 모두 약수로 가지고 있는 수"
   ]
  },
  {
   "cell_type": "code",
   "execution_count": 10,
   "id": "75273ef1",
   "metadata": {},
   "outputs": [
    {
     "name": "stdout",
     "output_type": "stream",
     "text": [
      "11524\n"
     ]
    }
   ],
   "source": [
    "n=10000\n",
    "while True :\n",
    "    n=n+1\n",
    "    if (n%43==0) and (n%67==0):\n",
    "        print(n)\n",
    "        break        \n",
    "    else:\n",
    "        pass"
   ]
  },
  {
   "cell_type": "code",
   "execution_count": 12,
   "id": "ef5fb09e",
   "metadata": {},
   "outputs": [
    {
     "name": "stdout",
     "output_type": "stream",
     "text": [
      "11524\n"
     ]
    }
   ],
   "source": [
    "n=10000\n",
    "while (n%43!=0) or(n%67!=0):\n",
    "    n=n+1\n",
    "print(n)"
   ]
  },
  {
   "cell_type": "code",
   "execution_count": null,
   "id": "40091cd3",
   "metadata": {},
   "outputs": [],
   "source": [
    "for 변수 in 순서가_있는_자료형:\n",
    "    코드"
   ]
  },
  {
   "cell_type": "code",
   "execution_count": 14,
   "id": "404b242b",
   "metadata": {},
   "outputs": [
    {
     "name": "stdout",
     "output_type": "stream",
     "text": [
      "1\n",
      "4\n",
      "9\n",
      "16\n"
     ]
    }
   ],
   "source": [
    "for i in [1,2,3,4]:\n",
    "    print(i**2)"
   ]
  },
  {
   "cell_type": "code",
   "execution_count": 16,
   "id": "38085a40",
   "metadata": {},
   "outputs": [
    {
     "name": "stdout",
     "output_type": "stream",
     "text": [
      "1\n",
      "4\n",
      "9\n",
      "16\n"
     ]
    }
   ],
   "source": [
    "#반복문 안쓰면 이렇게 노가다해야함\n",
    "i=1\n",
    "print(i**2)\n",
    "i=2\n",
    "print(i**2)\n",
    "i=3\n",
    "print(i**2)\n",
    "i=4\n",
    "print(i**2)"
   ]
  },
  {
   "cell_type": "markdown",
   "id": "ff8b058e",
   "metadata": {},
   "source": [
    "### 구구단 3단 뽑아보세요"
   ]
  },
  {
   "cell_type": "code",
   "execution_count": 23,
   "id": "e0ebf0d7",
   "metadata": {},
   "outputs": [
    {
     "name": "stdout",
     "output_type": "stream",
     "text": [
      "3x1=3\n",
      "3x2=3\n",
      "3x3=3\n",
      "3x4=3\n",
      "3x5=3\n",
      "3x6=3\n",
      "3x7=3\n",
      "3x8=3\n",
      "3x9=3\n"
     ]
    }
   ],
   "source": [
    "for i in [1,2,3,4,5,6,7,8,9]:\n",
    "    print(f\"3x{i}={k}\")"
   ]
  },
  {
   "cell_type": "code",
   "execution_count": 24,
   "id": "cf2d5db2",
   "metadata": {},
   "outputs": [
    {
     "name": "stdout",
     "output_type": "stream",
     "text": [
      "3x1=3\n",
      "3x2=6\n",
      "3x3=9\n",
      "3x4=12\n",
      "3x5=15\n",
      "3x6=18\n",
      "3x7=21\n",
      "3x8=24\n",
      "3x9=27\n"
     ]
    }
   ],
   "source": [
    "for i in [1,2,3,4,5,6,7,8,9]:\n",
    "    print(\"3x{}={}\".format(i,3*i))"
   ]
  },
  {
   "cell_type": "code",
   "execution_count": 25,
   "id": "8abb4b1a",
   "metadata": {},
   "outputs": [
    {
     "data": {
      "text/plain": [
       "[0, 1, 2, 3, 4, 5, 6, 7, 8]"
      ]
     },
     "execution_count": 25,
     "metadata": {},
     "output_type": "execute_result"
    }
   ],
   "source": [
    "list(range(9))"
   ]
  },
  {
   "cell_type": "code",
   "execution_count": 26,
   "id": "9f2f0de7",
   "metadata": {},
   "outputs": [
    {
     "name": "stdout",
     "output_type": "stream",
     "text": [
      "hello python!\n",
      "hello python!\n",
      "hello python!\n",
      "hello python!\n",
      "hello python!\n",
      "hello python!\n",
      "hello python!\n",
      "hello python!\n",
      "hello python!\n"
     ]
    }
   ],
   "source": [
    "for i in range(9):\n",
    "    print(\"hello python!\")"
   ]
  },
  {
   "cell_type": "code",
   "execution_count": 27,
   "id": "37eaf053",
   "metadata": {},
   "outputs": [
    {
     "data": {
      "text/plain": [
       "[1, 2, 3, 4, 5, 6, 7, 8]"
      ]
     },
     "execution_count": 27,
     "metadata": {},
     "output_type": "execute_result"
    }
   ],
   "source": [
    "list(range(1,9))"
   ]
  },
  {
   "cell_type": "code",
   "execution_count": 36,
   "id": "d8e9b80a",
   "metadata": {},
   "outputs": [
    {
     "name": "stdout",
     "output_type": "stream",
     "text": [
      "3\n"
     ]
    }
   ],
   "source": [
    "n=0\n",
    "a=[1,2,3,4,5,6,7]\n",
    "b=[2,4,3,6,5,3,7]\n",
    "\n",
    "for i in range(7):\n",
    "    if a[i]==b[i]:\n",
    "        n=n+1\n",
    "    else:\n",
    "        pass\n",
    "print(n)"
   ]
  },
  {
   "cell_type": "code",
   "execution_count": 37,
   "id": "d4763798",
   "metadata": {},
   "outputs": [
    {
     "name": "stdout",
     "output_type": "stream",
     "text": [
      "3\n"
     ]
    }
   ],
   "source": [
    "n=0\n",
    "a=[1,2,3,4,5,6,7]\n",
    "b=[2,4,3,6,5,3,7]\n",
    "\n",
    "for i in range(len(a)):               #range(len()) : 문자열의 길이와 몰라도 돌아감\n",
    "    if a[i]==b[i]:\n",
    "        n=n+1\n",
    "    else:\n",
    "        pass\n",
    "print(n)"
   ]
  },
  {
   "cell_type": "code",
   "execution_count": 39,
   "id": "6d1504d7",
   "metadata": {},
   "outputs": [
    {
     "name": "stdout",
     "output_type": "stream",
     "text": [
      "3\n"
     ]
    }
   ],
   "source": [
    "n=0\n",
    "a=[\"가\",\"나\",\"다\",\"라\",\"마\",\"바\",\"사\"]\n",
    "b=[\"나\",\"라\",\"다\",\"바\",\"마\",\"나\",\"사\"]\n",
    "for w, i in enumerate(a):\n",
    "    if i==b[w]:\n",
    "        n=n+1\n",
    "    else:\n",
    "        pass\n",
    "print(n)"
   ]
  },
  {
   "cell_type": "code",
   "execution_count": 52,
   "id": "320e5d41",
   "metadata": {},
   "outputs": [
    {
     "name": "stdout",
     "output_type": "stream",
     "text": [
      "1단 시작!\n",
      "\n",
      "1x1=1\n",
      "1x2=2\n",
      "1x3=3\n",
      "1x4=4\n",
      "1x5=5\n",
      "1x6=6\n",
      "1x7=7\n",
      "1x8=8\n",
      "1x9=9\n",
      "2단 시작!\n",
      "\n",
      "2x1=2\n",
      "2x2=4\n",
      "2x3=6\n",
      "2x4=8\n",
      "2x5=10\n",
      "2x6=12\n",
      "2x7=14\n",
      "2x8=16\n",
      "2x9=18\n",
      "3단 시작!\n",
      "\n",
      "3x1=3\n",
      "3x2=6\n",
      "3x3=9\n",
      "3x4=12\n",
      "3x5=15\n",
      "3x6=18\n",
      "3x7=21\n",
      "3x8=24\n",
      "3x9=27\n",
      "4단 시작!\n",
      "\n",
      "4x1=4\n",
      "4x2=8\n",
      "4x3=12\n",
      "4x4=16\n",
      "4x5=20\n",
      "4x6=24\n",
      "4x7=28\n",
      "4x8=32\n",
      "4x9=36\n",
      "5단 시작!\n",
      "\n",
      "5x1=5\n",
      "5x2=10\n",
      "5x3=15\n",
      "5x4=20\n",
      "5x5=25\n",
      "5x6=30\n",
      "5x7=35\n",
      "5x8=40\n",
      "5x9=45\n",
      "6단 시작!\n",
      "\n",
      "6x1=6\n",
      "6x2=12\n",
      "6x3=18\n",
      "6x4=24\n",
      "6x5=30\n",
      "6x6=36\n",
      "6x7=42\n",
      "6x8=48\n",
      "6x9=54\n",
      "7단 시작!\n",
      "\n",
      "7x1=7\n",
      "7x2=14\n",
      "7x3=21\n",
      "7x4=28\n",
      "7x5=35\n",
      "7x6=42\n",
      "7x7=49\n",
      "7x8=56\n",
      "7x9=63\n",
      "8단 시작!\n",
      "\n",
      "8x1=8\n",
      "8x2=16\n",
      "8x3=24\n",
      "8x4=32\n",
      "8x5=40\n",
      "8x6=48\n",
      "8x7=56\n",
      "8x8=64\n",
      "8x9=72\n",
      "9단 시작!\n",
      "\n",
      "9x1=9\n",
      "9x2=18\n",
      "9x3=27\n",
      "9x4=36\n",
      "9x5=45\n",
      "9x6=54\n",
      "9x7=63\n",
      "9x8=72\n",
      "9x9=81\n"
     ]
    }
   ],
   "source": [
    "for i in range(1,10):      #이중 포문은 밑에 있는 포문이 먼저 돌아가고 올라감\n",
    "        print(f\"{i}단 시작!\")\n",
    "        for j in range(1,10):\n",
    "            times=i*j\n",
    "            print(f\"{i}x{j}={times}\")\n",
    "#         print(\"----------------\")"
   ]
  },
  {
   "cell_type": "markdown",
   "id": "8dbb9e58",
   "metadata": {},
   "source": [
    "#### try,except문"
   ]
  },
  {
   "cell_type": "code",
   "execution_count": 53,
   "id": "13a94a14",
   "metadata": {},
   "outputs": [
    {
     "name": "stdout",
     "output_type": "stream",
     "text": [
      "0.14285714285714285\n",
      "0.16666666666666666\n",
      "0.2\n",
      "0.25\n",
      "0.3333333333333333\n",
      "0.5\n",
      "1.0\n"
     ]
    },
    {
     "ename": "ZeroDivisionError",
     "evalue": "division by zero",
     "output_type": "error",
     "traceback": [
      "\u001b[1;31m---------------------------------------------------------------------------\u001b[0m",
      "\u001b[1;31mZeroDivisionError\u001b[0m                         Traceback (most recent call last)",
      "Input \u001b[1;32mIn [53]\u001b[0m, in \u001b[0;36m<cell line: 1>\u001b[1;34m()\u001b[0m\n\u001b[0;32m      1\u001b[0m \u001b[38;5;28;01mfor\u001b[39;00m i \u001b[38;5;129;01min\u001b[39;00m \u001b[38;5;28mrange\u001b[39m(\u001b[38;5;241m10\u001b[39m):\n\u001b[1;32m----> 2\u001b[0m     \u001b[38;5;28mprint\u001b[39m(\u001b[38;5;241;43m1\u001b[39;49m\u001b[38;5;241;43m/\u001b[39;49m\u001b[43m(\u001b[49m\u001b[38;5;241;43m7\u001b[39;49m\u001b[38;5;241;43m-\u001b[39;49m\u001b[43mi\u001b[49m\u001b[43m)\u001b[49m)\n",
      "\u001b[1;31mZeroDivisionError\u001b[0m: division by zero"
     ]
    }
   ],
   "source": [
    "for i in range(10):\n",
    "    print(1/(7-i))"
   ]
  },
  {
   "cell_type": "code",
   "execution_count": null,
   "id": "3a65b76c",
   "metadata": {},
   "outputs": [],
   "source": [
    "try:\n",
    "    에러가 날 수도 있는 코드가 에러가 나지 않을 경우에 실행될 코드\n",
    "except:\n",
    "    에러가 날 수도 있는 코드가 에러가 났을 때 실행될 코드"
   ]
  },
  {
   "cell_type": "code",
   "execution_count": 54,
   "id": "b3466c08",
   "metadata": {},
   "outputs": [
    {
     "name": "stdout",
     "output_type": "stream",
     "text": [
      "0.14285714285714285\n",
      "0.16666666666666666\n",
      "0.2\n",
      "0.25\n",
      "0.3333333333333333\n",
      "0.5\n",
      "1.0\n",
      "에러가 났습니다\n",
      "-1.0\n",
      "-0.5\n"
     ]
    }
   ],
   "source": [
    "for i in range(10):\n",
    "    try:\n",
    "        print(1/(7-i))\n",
    "    except:\n",
    "        print(\"에러가 났습니다\")"
   ]
  },
  {
   "cell_type": "code",
   "execution_count": 58,
   "id": "034afbff",
   "metadata": {},
   "outputs": [
    {
     "name": "stdout",
     "output_type": "stream",
     "text": [
      "3의 배수를 입력하세요: 1\n"
     ]
    },
    {
     "ename": "Exception",
     "evalue": "Value Error",
     "output_type": "error",
     "traceback": [
      "\u001b[1;31m---------------------------------------------------------------------------\u001b[0m",
      "\u001b[1;31mException\u001b[0m                                 Traceback (most recent call last)",
      "Input \u001b[1;32mIn [58]\u001b[0m, in \u001b[0;36m<cell line: 2>\u001b[1;34m()\u001b[0m\n\u001b[0;32m      1\u001b[0m a \u001b[38;5;241m=\u001b[39m \u001b[38;5;28mint\u001b[39m(\u001b[38;5;28minput\u001b[39m(\u001b[38;5;124m\"\u001b[39m\u001b[38;5;124m3의 배수를 입력하세요: \u001b[39m\u001b[38;5;124m\"\u001b[39m))\n\u001b[0;32m      2\u001b[0m \u001b[38;5;28;01mif\u001b[39;00m a\u001b[38;5;241m%\u001b[39m\u001b[38;5;241m3\u001b[39m\u001b[38;5;241m!=\u001b[39m\u001b[38;5;241m0\u001b[39m:\n\u001b[1;32m----> 3\u001b[0m     \u001b[38;5;28;01mraise\u001b[39;00m \u001b[38;5;167;01mException\u001b[39;00m(\u001b[38;5;124m\"\u001b[39m\u001b[38;5;124mValue Error\u001b[39m\u001b[38;5;124m\"\u001b[39m)\n\u001b[0;32m      4\u001b[0m \u001b[38;5;28;01melse\u001b[39;00m :\n\u001b[0;32m      5\u001b[0m     \u001b[38;5;28mprint\u001b[39m(a)\n",
      "\u001b[1;31mException\u001b[0m: Value Error"
     ]
    }
   ],
   "source": [
    "a = int(input(\"3의 배수를 입력하세요: \"))\n",
    "if a%3!=0:\n",
    "    raise Exception(\"Value Error\")\n",
    "else :\n",
    "    print(a)"
   ]
  },
  {
   "cell_type": "markdown",
   "id": "fbbfba1f",
   "metadata": {},
   "source": [
    "#### 오류코드"
   ]
  },
  {
   "cell_type": "code",
   "execution_count": 59,
   "id": "e12657e6",
   "metadata": {
    "scrolled": true
   },
   "outputs": [
    {
     "ename": "IndexError",
     "evalue": "range object index out of range",
     "output_type": "error",
     "traceback": [
      "\u001b[1;31m---------------------------------------------------------------------------\u001b[0m",
      "\u001b[1;31mIndexError\u001b[0m                                Traceback (most recent call last)",
      "Input \u001b[1;32mIn [59]\u001b[0m, in \u001b[0;36m<cell line: 1>\u001b[1;34m()\u001b[0m\n\u001b[1;32m----> 1\u001b[0m a\u001b[38;5;241m=\u001b[39m\u001b[38;5;28;43mrange\u001b[39;49m\u001b[43m(\u001b[49m\u001b[38;5;241;43m10\u001b[39;49m\u001b[43m)\u001b[49m\u001b[43m[\u001b[49m\u001b[38;5;241;43m12\u001b[39;49m\u001b[43m]\u001b[49m\n",
      "\u001b[1;31mIndexError\u001b[0m: range object index out of range"
     ]
    }
   ],
   "source": [
    "a=range(10)[12]"
   ]
  },
  {
   "cell_type": "code",
   "execution_count": 60,
   "id": "d065d5fd",
   "metadata": {},
   "outputs": [
    {
     "name": "stdout",
     "output_type": "stream",
     "text": [
      "1\n",
      "1\n",
      "1\n",
      "1\n",
      "1\n",
      "1\n",
      "1\n",
      "1\n",
      "1\n",
      "1\n"
     ]
    }
   ],
   "source": [
    "for i in range(10):\n",
    "    if 2==2:\n",
    "        print(1)\n",
    "    else :\n",
    "        print(3)"
   ]
  },
  {
   "cell_type": "markdown",
   "id": "07e8dee1",
   "metadata": {},
   "source": [
    "stackoverflow 들어가면 왠만한 오류 해결법 나옴"
   ]
  },
  {
   "cell_type": "markdown",
   "id": "41b373f9",
   "metadata": {},
   "source": [
    "#### 1부터 100까지 합의 제곱과 제곱의 합의 차이를 구하시오"
   ]
  },
  {
   "cell_type": "code",
   "execution_count": 73,
   "id": "1e08dd49",
   "metadata": {},
   "outputs": [
    {
     "name": "stdout",
     "output_type": "stream",
     "text": [
      "25164150\n"
     ]
    }
   ],
   "source": [
    "#제곱의 합\n",
    "n= 0\n",
    "m =0\n",
    "for c in range(1,101):\n",
    "    n=c+n\n",
    "    m=m+c**2\n",
    "print(n**2 - m)"
   ]
  },
  {
   "cell_type": "markdown",
   "id": "112f6c68",
   "metadata": {},
   "source": [
    "### 딕셔너리\n",
    "- 인덱싱 불가\n",
    "- 키를 중심으로 선언하기 때문에 순서가 딱히 없다"
   ]
  },
  {
   "cell_type": "code",
   "execution_count": 74,
   "id": "efa224e5",
   "metadata": {},
   "outputs": [
    {
     "data": {
      "text/plain": [
       "['사과', '바나나', '포도']"
      ]
     },
     "execution_count": 74,
     "metadata": {},
     "output_type": "execute_result"
    }
   ],
   "source": [
    "gg=[\"사과\",\"바나나\",\"포도\"]\n",
    "gg"
   ]
  },
  {
   "cell_type": "code",
   "execution_count": 80,
   "id": "4a7e49e1",
   "metadata": {},
   "outputs": [
    {
     "data": {
      "text/plain": [
       "[['사과', '800원'], ['바나나', '1000원'], ['포도', '8000원']]"
      ]
     },
     "execution_count": 80,
     "metadata": {},
     "output_type": "execute_result"
    }
   ],
   "source": [
    "gg=[[\"사과\",\"800원\"],[\"바나나\",\"1000원\"],[\"포도\",\"8000원\"]]\n",
    "gg"
   ]
  },
  {
   "cell_type": "code",
   "execution_count": 2,
   "id": "93a58225",
   "metadata": {},
   "outputs": [
    {
     "data": {
      "text/plain": [
       "800"
      ]
     },
     "execution_count": 2,
     "metadata": {},
     "output_type": "execute_result"
    }
   ],
   "source": [
    "#딕셔너리 나열\n",
    "gg={\"사과\":800,\"바나나\":1000,\"포도\":8000} # 키(변수,조작불가): 값(조작가능)\n",
    "gg[\"사과\"]"
   ]
  },
  {
   "cell_type": "code",
   "execution_count": 3,
   "id": "0af3aadf",
   "metadata": {},
   "outputs": [
    {
     "data": {
      "text/plain": [
       "{'사과': 800, '바나나': 1000, '포도': 8000, '파인애플': 1200}"
      ]
     },
     "execution_count": 3,
     "metadata": {},
     "output_type": "execute_result"
    }
   ],
   "source": [
    "gg[\"파인애플\"]=1200\n",
    "gg"
   ]
  },
  {
   "cell_type": "code",
   "execution_count": 4,
   "id": "f3cbaa87",
   "metadata": {},
   "outputs": [
    {
     "data": {
      "text/plain": [
       "{'사과': 800, '바나나': 1000, '포도': 8000}"
      ]
     },
     "execution_count": 4,
     "metadata": {},
     "output_type": "execute_result"
    }
   ],
   "source": [
    "del gg[\"파인애플\"]\n",
    "gg"
   ]
  },
  {
   "cell_type": "code",
   "execution_count": 5,
   "id": "f3d4cd6a",
   "metadata": {},
   "outputs": [
    {
     "name": "stdout",
     "output_type": "stream",
     "text": [
      "사과\n",
      "바나나\n",
      "포도\n"
     ]
    }
   ],
   "source": [
    "for i in gg:\n",
    "    print(i)   #키 값에 출력됨"
   ]
  },
  {
   "cell_type": "code",
   "execution_count": 6,
   "id": "1bbe17f9",
   "metadata": {},
   "outputs": [
    {
     "data": {
      "text/plain": [
       "dict_values([800, 1000, 8000])"
      ]
     },
     "execution_count": 6,
     "metadata": {},
     "output_type": "execute_result"
    }
   ],
   "source": [
    "gg.keys()\n",
    "gg.values()"
   ]
  },
  {
   "cell_type": "markdown",
   "id": "e30b363a",
   "metadata": {},
   "source": [
    "### 물가가 10%올랐습니다.\n",
    "- gg 딕셔너리의 각 과일의 가격을 10% 올려주세요."
   ]
  },
  {
   "cell_type": "code",
   "execution_count": 7,
   "id": "e114fdab",
   "metadata": {},
   "outputs": [
    {
     "data": {
      "text/plain": [
       "{'사과': 880, '바나나': 1100, '포도': 8800}"
      ]
     },
     "execution_count": 7,
     "metadata": {},
     "output_type": "execute_result"
    }
   ],
   "source": [
    "for i in gg:\n",
    "    gg[i]=int(gg[i]*1.1)\n",
    "gg"
   ]
  },
  {
   "cell_type": "markdown",
   "id": "4255462a",
   "metadata": {},
   "source": [
    "### 전국 사과 가격의 평균을 구해주세요."
   ]
  },
  {
   "cell_type": "code",
   "execution_count": 30,
   "id": "c0b33bc6",
   "metadata": {},
   "outputs": [
    {
     "data": {
      "text/plain": [
       "{'서울점': {'사과': 800, '바나나': 1000, '포도': 800},\n",
       " '부산점': {'사과': 700, '바나나': 900, '포도': 900},\n",
       " '대구점': {'사과': 750, '바나나': 800, '포도': 1000}}"
      ]
     },
     "execution_count": 30,
     "metadata": {},
     "output_type": "execute_result"
    }
   ],
   "source": [
    "ggg={\"서울점\":{\"사과\":800,\"바나나\":1000,\"포도\":800},\n",
    "    \"부산점\":{\"사과\":700,\"바나나\":900,\"포도\":900},\n",
    "     \"대구점\":{\"사과\":750,\"바나나\":800,\"포도\":1000}}\n",
    "ggg"
   ]
  },
  {
   "cell_type": "code",
   "execution_count": 26,
   "id": "6305cc77",
   "metadata": {},
   "outputs": [
    {
     "name": "stdout",
     "output_type": "stream",
     "text": [
      "750.0\n"
     ]
    }
   ],
   "source": [
    "n=0\n",
    "for i in ggg:\n",
    "    n=n+(ggg[i][\"사과\"])\n",
    "print(n/3)    "
   ]
  },
  {
   "cell_type": "code",
   "execution_count": 27,
   "id": "78c8b010",
   "metadata": {},
   "outputs": [
    {
     "data": {
      "text/plain": [
       "800"
      ]
     },
     "execution_count": 27,
     "metadata": {},
     "output_type": "execute_result"
    }
   ],
   "source": [
    "#쌤답\n",
    "ggg[\"서울점\"][\"사과\"]"
   ]
  },
  {
   "cell_type": "code",
   "execution_count": 28,
   "id": "6e1527b3",
   "metadata": {},
   "outputs": [
    {
     "name": "stdout",
     "output_type": "stream",
     "text": [
      "서울점\n",
      "부산점\n",
      "대구점\n"
     ]
    }
   ],
   "source": [
    "for i in ggg:\n",
    "    print(i)"
   ]
  },
  {
   "cell_type": "code",
   "execution_count": 33,
   "id": "a3e748e7",
   "metadata": {},
   "outputs": [
    {
     "name": "stdout",
     "output_type": "stream",
     "text": [
      "750.0\n"
     ]
    }
   ],
   "source": [
    "n=0\n",
    "for i in ggg:\n",
    "    n=n+ggg[i][\"사과\"]\n",
    "# print(n/len(ggg))\n",
    "print(n/len(ggg.keys()))"
   ]
  },
  {
   "cell_type": "markdown",
   "id": "ffcc9264",
   "metadata": {},
   "source": [
    "### def함수(디파인함수:함수를정의한다)"
   ]
  },
  {
   "cell_type": "code",
   "execution_count": 43,
   "id": "f78dece8",
   "metadata": {},
   "outputs": [],
   "source": [
    "def add(x,y):\n",
    "    return x+y"
   ]
  },
  {
   "cell_type": "code",
   "execution_count": 44,
   "id": "5e40e455",
   "metadata": {},
   "outputs": [
    {
     "data": {
      "text/plain": [
       "5"
      ]
     },
     "execution_count": 44,
     "metadata": {},
     "output_type": "execute_result"
    }
   ],
   "source": [
    "add(2, 3)"
   ]
  },
  {
   "cell_type": "code",
   "execution_count": 47,
   "id": "32fbedfa",
   "metadata": {},
   "outputs": [],
   "source": [
    "def jegop(a,b):\n",
    "    n=0\n",
    "    m=0\n",
    "    for i in range(a,b+1):\n",
    "        n=n+i\n",
    "        m=m+i**2\n",
    "    return n**2-m"
   ]
  },
  {
   "cell_type": "code",
   "execution_count": 48,
   "id": "e0a2d493",
   "metadata": {},
   "outputs": [
    {
     "data": {
      "text/plain": [
       "25164150"
      ]
     },
     "execution_count": 48,
     "metadata": {},
     "output_type": "execute_result"
    }
   ],
   "source": [
    "jegop(1,100)"
   ]
  }
 ],
 "metadata": {
  "kernelspec": {
   "display_name": "Python 3 (ipykernel)",
   "language": "python",
   "name": "python3"
  },
  "language_info": {
   "codemirror_mode": {
    "name": "ipython",
    "version": 3
   },
   "file_extension": ".py",
   "mimetype": "text/x-python",
   "name": "python",
   "nbconvert_exporter": "python",
   "pygments_lexer": "ipython3",
   "version": "3.9.12"
  }
 },
 "nbformat": 4,
 "nbformat_minor": 5
}
