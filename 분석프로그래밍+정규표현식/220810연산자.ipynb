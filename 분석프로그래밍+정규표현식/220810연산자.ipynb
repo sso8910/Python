{
 "cells": [
  {
   "cell_type": "code",
   "execution_count": 2,
   "id": "ff482225",
   "metadata": {},
   "outputs": [
    {
     "data": {
      "text/plain": [
       "2"
      ]
     },
     "execution_count": 2,
     "metadata": {},
     "output_type": "execute_result"
    }
   ],
   "source": [
    "1+1"
   ]
  },
  {
   "cell_type": "code",
   "execution_count": 3,
   "id": "f2f5627c",
   "metadata": {},
   "outputs": [
    {
     "data": {
      "text/plain": [
       "0"
      ]
     },
     "execution_count": 3,
     "metadata": {},
     "output_type": "execute_result"
    }
   ],
   "source": [
    "1-1"
   ]
  },
  {
   "cell_type": "code",
   "execution_count": 4,
   "id": "f1e845cb",
   "metadata": {},
   "outputs": [
    {
     "data": {
      "text/plain": [
       "4"
      ]
     },
     "execution_count": 4,
     "metadata": {},
     "output_type": "execute_result"
    }
   ],
   "source": [
    "2*2"
   ]
  },
  {
   "cell_type": "code",
   "execution_count": 5,
   "id": "fb78bc4c",
   "metadata": {},
   "outputs": [
    {
     "data": {
      "text/plain": [
       "1.0"
      ]
     },
     "execution_count": 5,
     "metadata": {},
     "output_type": "execute_result"
    }
   ],
   "source": [
    "2/2"
   ]
  },
  {
   "cell_type": "code",
   "execution_count": 6,
   "id": "96c24eac",
   "metadata": {},
   "outputs": [
    {
     "data": {
      "text/plain": [
       "1"
      ]
     },
     "execution_count": 6,
     "metadata": {},
     "output_type": "execute_result"
    }
   ],
   "source": [
    "int(2/2)"
   ]
  },
  {
   "cell_type": "code",
   "execution_count": 7,
   "id": "1d14ed3b",
   "metadata": {},
   "outputs": [
    {
     "data": {
      "text/plain": [
       "1.0"
      ]
     },
     "execution_count": 7,
     "metadata": {},
     "output_type": "execute_result"
    }
   ],
   "source": [
    "float(2/2)"
   ]
  },
  {
   "cell_type": "markdown",
   "id": "1db206db",
   "metadata": {},
   "source": [
    "#### 지수연산"
   ]
  },
  {
   "cell_type": "code",
   "execution_count": 8,
   "id": "79029976",
   "metadata": {},
   "outputs": [
    {
     "data": {
      "text/plain": [
       "27"
      ]
     },
     "execution_count": 8,
     "metadata": {},
     "output_type": "execute_result"
    }
   ],
   "source": [
    "3**3"
   ]
  },
  {
   "cell_type": "markdown",
   "id": "3fb4a286",
   "metadata": {},
   "source": [
    "#### 몫 연산, 나머지 연산\n"
   ]
  },
  {
   "cell_type": "code",
   "execution_count": 9,
   "id": "a93744f3",
   "metadata": {},
   "outputs": [
    {
     "data": {
      "text/plain": [
       "2"
      ]
     },
     "execution_count": 9,
     "metadata": {},
     "output_type": "execute_result"
    }
   ],
   "source": [
    "7//3 #몫"
   ]
  },
  {
   "cell_type": "code",
   "execution_count": 10,
   "id": "83fdf86d",
   "metadata": {},
   "outputs": [
    {
     "data": {
      "text/plain": [
       "1"
      ]
     },
     "execution_count": 10,
     "metadata": {},
     "output_type": "execute_result"
    }
   ],
   "source": [
    "7%3 #나머지"
   ]
  },
  {
   "cell_type": "code",
   "execution_count": 11,
   "id": "be5197a0",
   "metadata": {},
   "outputs": [
    {
     "data": {
      "text/plain": [
       "6.0"
      ]
     },
     "execution_count": 11,
     "metadata": {},
     "output_type": "execute_result"
    }
   ],
   "source": [
    "#정수&실수 계산가능 ->실수는 정수에 대한 덧셈 열려있고, 정수는 실수의 덧셈에 닫혀있음\n",
    "3+3.0"
   ]
  },
  {
   "cell_type": "code",
   "execution_count": 12,
   "id": "54d819b7",
   "metadata": {},
   "outputs": [
    {
     "data": {
      "text/plain": [
       "'안녕하세요'"
      ]
     },
     "execution_count": 12,
     "metadata": {},
     "output_type": "execute_result"
    }
   ],
   "source": [
    "\"안녕\"+\"하세요\" #문자열은 오직 덧셈만 가능 쭉 이어짐"
   ]
  },
  {
   "cell_type": "code",
   "execution_count": 13,
   "id": "d1e66ac2",
   "metadata": {},
   "outputs": [
    {
     "ename": "TypeError",
     "evalue": "can't multiply sequence by non-int of type 'str'",
     "output_type": "error",
     "traceback": [
      "\u001b[1;31m---------------------------------------------------------------------------\u001b[0m",
      "\u001b[1;31mTypeError\u001b[0m                                 Traceback (most recent call last)",
      "Input \u001b[1;32mIn [13]\u001b[0m, in \u001b[0;36m<cell line: 1>\u001b[1;34m()\u001b[0m\n\u001b[1;32m----> 1\u001b[0m \u001b[38;5;124;43m\"\u001b[39;49m\u001b[38;5;124;43m안녕\u001b[39;49m\u001b[38;5;124;43m\"\u001b[39;49m\u001b[38;5;241;43m*\u001b[39;49m\u001b[38;5;124;43m\"\u001b[39;49m\u001b[38;5;124;43m하세요\u001b[39;49m\u001b[38;5;124;43m\"\u001b[39;49m\n",
      "\u001b[1;31mTypeError\u001b[0m: can't multiply sequence by non-int of type 'str'"
     ]
    }
   ],
   "source": [
    "\"안녕\"*\"하세요\""
   ]
  },
  {
   "cell_type": "code",
   "execution_count": 15,
   "id": "37ae1227",
   "metadata": {},
   "outputs": [
    {
     "data": {
      "text/plain": [
       "'안녕안녕안녕'"
      ]
     },
     "execution_count": 15,
     "metadata": {},
     "output_type": "execute_result"
    }
   ],
   "source": [
    "# \"안녕\"+3 #문자열이랑 숫자 덧셈뺄셈불가, 곱하기만 가능\n",
    "\"안녕\"*3"
   ]
  },
  {
   "cell_type": "code",
   "execution_count": 16,
   "id": "df13606c",
   "metadata": {},
   "outputs": [
    {
     "data": {
      "text/plain": [
       "'2107'"
      ]
     },
     "execution_count": 16,
     "metadata": {},
     "output_type": "execute_result"
    }
   ],
   "source": [
    "#2+\"10\"+7 계산하고싶을때\n",
    "str(2)+str(\"10\")+str(7) #문자로 변경"
   ]
  },
  {
   "cell_type": "code",
   "execution_count": 1,
   "id": "e3be243f",
   "metadata": {},
   "outputs": [
    {
     "data": {
      "text/plain": [
       "19"
      ]
     },
     "execution_count": 1,
     "metadata": {},
     "output_type": "execute_result"
    }
   ],
   "source": [
    "int(2)+int(\"10\")+int(7) #숫자로 변경"
   ]
  },
  {
   "cell_type": "markdown",
   "id": "d0a09a2c",
   "metadata": {},
   "source": [
    "#### input함수"
   ]
  },
  {
   "cell_type": "code",
   "execution_count": 2,
   "id": "6d5ebc24",
   "metadata": {},
   "outputs": [
    {
     "name": "stdout",
     "output_type": "stream",
     "text": [
      "아이디를 입력하세요: 12345\n"
     ]
    }
   ],
   "source": [
    "a = input(\"아이디를 입력하세요: \")"
   ]
  },
  {
   "cell_type": "code",
   "execution_count": 3,
   "id": "afd6a952",
   "metadata": {},
   "outputs": [
    {
     "name": "stdout",
     "output_type": "stream",
     "text": [
      "아이디를 입력하세요: 12345\n"
     ]
    }
   ],
   "source": [
    "a = int(input(\"아이디를 입력하세요: \"))"
   ]
  },
  {
   "cell_type": "code",
   "execution_count": 4,
   "id": "35a67bdb",
   "metadata": {},
   "outputs": [
    {
     "data": {
      "text/plain": [
       "12345"
      ]
     },
     "execution_count": 4,
     "metadata": {},
     "output_type": "execute_result"
    }
   ],
   "source": [
    "a"
   ]
  },
  {
   "cell_type": "markdown",
   "id": "ea2b6d70",
   "metadata": {},
   "source": [
    "#### 현재시간 파싱하기\n",
    " - \"2022년 08월 10일 14시33분09초\""
   ]
  },
  {
   "cell_type": "code",
   "execution_count": 8,
   "id": "0d7dd877",
   "metadata": {},
   "outputs": [
    {
     "data": {
      "text/plain": [
       "'2022-08-10 14:45:21'"
      ]
     },
     "execution_count": 8,
     "metadata": {},
     "output_type": "execute_result"
    }
   ],
   "source": [
    "import datetime\n",
    "datetime.datetime.now().strftime(\"%Y-%m-%d %H:%M:%S\")"
   ]
  },
  {
   "cell_type": "code",
   "execution_count": 12,
   "id": "be7b8545",
   "metadata": {},
   "outputs": [
    {
     "name": "stdout",
     "output_type": "stream",
     "text": [
      "2022년08월10일14시46분55초\n"
     ]
    }
   ],
   "source": [
    "now=datetime.datetime.now().strftime(\"%Y-%m-%d %H:%M:%S\")\n",
    "year=now[:4]\n",
    "month=now[5:7]\n",
    "day=now[8:10]\n",
    "hour=now[11:13]\n",
    "minute=now[14:16]\n",
    "second=now[17:]\n",
    "\n",
    "# print(\"{}년{}월{}일{}시{}분{}초\".format(year,month,day,hour,minute,second))\n",
    "print(f\"{year}년{month}월{day}일{hour}시{minute}분{second}초\")"
   ]
  },
  {
   "cell_type": "code",
   "execution_count": 10,
   "id": "639e57cb",
   "metadata": {},
   "outputs": [
    {
     "data": {
      "text/plain": [
       "'2022-08-10 14:41:51'"
      ]
     },
     "execution_count": 10,
     "metadata": {},
     "output_type": "execute_result"
    }
   ],
   "source": [
    "now"
   ]
  },
  {
   "cell_type": "markdown",
   "id": "c4d0306e",
   "metadata": {},
   "source": [
    "- input 함수로 초 단위의 시간을 받습니다\n",
    "-  그 시간을 시간, 분, 초로 나누어서 출력합니다.\n",
    "- 예시) 3653을 받으면, 1시간 0분 53초를 출력"
   ]
  },
  {
   "cell_type": "code",
   "execution_count": 2,
   "id": "a41699ba",
   "metadata": {},
   "outputs": [
    {
     "name": "stdout",
     "output_type": "stream",
     "text": [
      "초 단위의 시간을 입력하세요: 3653\n",
      "1시0분53초\n"
     ]
    }
   ],
   "source": [
    "#쌤 답\n",
    "time=int(input(\"초 단위의 시간을 입력하세요: \"))\n",
    "hour=time//3600\n",
    "minute=time%3600//60\n",
    "second=time%60\n",
    "\n",
    "print(f\"{hour}시{minute}분{second}초\")"
   ]
  },
  {
   "cell_type": "code",
   "execution_count": 9,
   "id": "1145250e",
   "metadata": {},
   "outputs": [
    {
     "data": {
      "text/plain": [
       "0"
      ]
     },
     "execution_count": 9,
     "metadata": {},
     "output_type": "execute_result"
    }
   ],
   "source": [
    "num = 3\n",
    "# num = num+3\n",
    "# num+=3\n",
    "# num*=3\n",
    "# num/=3\n",
    "# num**=3  #제곱\n",
    "num-=3\n",
    "num"
   ]
  },
  {
   "cell_type": "markdown",
   "id": "e0371b64",
   "metadata": {},
   "source": [
    "#### 비교연산자\n",
    " - == 같다 / != 같지않다"
   ]
  },
  {
   "cell_type": "code",
   "execution_count": 17,
   "id": "f807fb05",
   "metadata": {},
   "outputs": [
    {
     "data": {
      "text/plain": [
       "bool"
      ]
     },
     "execution_count": 17,
     "metadata": {},
     "output_type": "execute_result"
    }
   ],
   "source": [
    "type(1!=2) #bool은 명제를 다룬다. and/or 사용 가능, bool은 연산이 된다  true=1,false=0 , 많은 응용이 가능함\n"
   ]
  },
  {
   "cell_type": "code",
   "execution_count": 20,
   "id": "41151db7",
   "metadata": {},
   "outputs": [
    {
     "data": {
      "text/plain": [
       "True"
      ]
     },
     "execution_count": 20,
     "metadata": {},
     "output_type": "execute_result"
    }
   ],
   "source": [
    "# True+1 \n",
    "# True==1\n",
    "1.0==1"
   ]
  },
  {
   "cell_type": "code",
   "execution_count": 23,
   "id": "9e37df7c",
   "metadata": {},
   "outputs": [
    {
     "name": "stdout",
     "output_type": "stream",
     "text": [
      "정수를 입력하세요: 2\n"
     ]
    },
    {
     "data": {
      "text/plain": [
       "False"
      ]
     },
     "execution_count": 23,
     "metadata": {},
     "output_type": "execute_result"
    }
   ],
   "source": [
    "num=int(input(\"정수를 입력하세요: \"))\n",
    "\n",
    "num == 0 or num == 1"
   ]
  },
  {
   "cell_type": "markdown",
   "id": "204bb729",
   "metadata": {},
   "source": [
    "- input 함수로 num에 임의의 정수를 입력받습니다.\n",
    "- 입력된 수가 2의 배수이자, 3의 배수이면 true, 아니면 false를 출력합니다."
   ]
  },
  {
   "cell_type": "code",
   "execution_count": 26,
   "id": "6edaf57e",
   "metadata": {},
   "outputs": [
    {
     "name": "stdout",
     "output_type": "stream",
     "text": [
      "정수를 입력하세요: 15\n"
     ]
    },
    {
     "data": {
      "text/plain": [
       "False"
      ]
     },
     "execution_count": 26,
     "metadata": {},
     "output_type": "execute_result"
    }
   ],
   "source": [
    "num=int(input(\"정수를 입력하세요: \"))\n",
    "num%2==0 and num%3==0"
   ]
  },
  {
   "cell_type": "markdown",
   "id": "2adda5df",
   "metadata": {},
   "source": [
    "- input 함수로 num에 임의의 정수를 입력받습니다.\n",
    "- 입력된 수가 2의 배수이거나, 3의 배수이면 true, 아니면 false를 출력합니다."
   ]
  },
  {
   "cell_type": "code",
   "execution_count": 28,
   "id": "61bc9e83",
   "metadata": {},
   "outputs": [
    {
     "name": "stdout",
     "output_type": "stream",
     "text": [
      "정수를 입력하세요: 27\n"
     ]
    },
    {
     "data": {
      "text/plain": [
       "True"
      ]
     },
     "execution_count": 28,
     "metadata": {},
     "output_type": "execute_result"
    }
   ],
   "source": [
    "num=int(input(\"정수를 입력하세요: \"))\n",
    "num%2==0 or num%3==0"
   ]
  }
 ],
 "metadata": {
  "kernelspec": {
   "display_name": "Python 3 (ipykernel)",
   "language": "python",
   "name": "python3"
  },
  "language_info": {
   "codemirror_mode": {
    "name": "ipython",
    "version": 3
   },
   "file_extension": ".py",
   "mimetype": "text/x-python",
   "name": "python",
   "nbconvert_exporter": "python",
   "pygments_lexer": "ipython3",
   "version": "3.9.12"
  }
 },
 "nbformat": 4,
 "nbformat_minor": 5
}
