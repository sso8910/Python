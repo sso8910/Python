{
 "cells": [
  {
   "cell_type": "markdown",
   "id": "f958c238",
   "metadata": {},
   "source": [
    "### 반복문\n",
    "- 똑같은 명령을 일정 횟수만큼 반복하여 수행하도록 제어하는 명령문\n",
    "- while문 , for 문\n",
    "- while문 : 반복 횟수가 명확하지 않을 때\n",
    "- for문 : 반복 횟수가 명확할 때"
   ]
  },
  {
   "cell_type": "code",
   "execution_count": null,
   "id": "ea0bfe22",
   "metadata": {},
   "outputs": [],
   "source": [
    "while 명제 :\n",
    "    명제가 참인 한 영원히 반복하는 코드"
   ]
  },
  {
   "cell_type": "code",
   "execution_count": 2,
   "id": "e24c6121",
   "metadata": {},
   "outputs": [
    {
     "name": "stdout",
     "output_type": "stream",
     "text": [
      "1\n",
      "1\n",
      "1\n"
     ]
    }
   ],
   "source": [
    "n=0\n",
    "while n<3:\n",
    "    print(1)\n",
    "    n=n+1"
   ]
  },
  {
   "cell_type": "markdown",
   "id": "e0185172",
   "metadata": {},
   "source": [
    "### while문을 사용해서 \"Hello Python\"을 10번 출력합니다."
   ]
  },
  {
   "cell_type": "code",
   "execution_count": 4,
   "id": "09e6c8ec",
   "metadata": {},
   "outputs": [
    {
     "name": "stdout",
     "output_type": "stream",
     "text": [
      "Hello Python\n",
      "Hello Python\n",
      "Hello Python\n",
      "Hello Python\n",
      "Hello Python\n",
      "Hello Python\n",
      "Hello Python\n",
      "Hello Python\n",
      "Hello Python\n",
      "Hello Python\n"
     ]
    }
   ],
   "source": [
    "n=0\n",
    "while n<10:\n",
    "    print(\"Hello Python\")\n",
    "    n=n+1"
   ]
  },
  {
   "cell_type": "code",
   "execution_count": 5,
   "id": "9d573611",
   "metadata": {},
   "outputs": [
    {
     "name": "stdout",
     "output_type": "stream",
     "text": [
      "1\n"
     ]
    }
   ],
   "source": [
    "while 1<2:\n",
    "    print(1)\n",
    "    break #묻지도 따지지도 않고 while문 깨뜨림. 무한루프 종결시킴"
   ]
  },
  {
   "cell_type": "code",
   "execution_count": null,
   "id": "7ffccea3",
   "metadata": {},
   "outputs": [],
   "source": [
    "while True:                 #별도의 조건문 없이 계속 영원히 반복"
   ]
  },
  {
   "cell_type": "code",
   "execution_count": 6,
   "id": "09ca5ee7",
   "metadata": {},
   "outputs": [
    {
     "name": "stdout",
     "output_type": "stream",
     "text": [
      "1\n",
      "2\n",
      "3\n",
      "4\n",
      "5\n",
      "6\n",
      "7\n",
      "8\n",
      "9\n",
      "10\n",
      "11\n",
      "12\n",
      "13\n",
      "14\n",
      "15\n",
      "16\n",
      "17\n",
      "18\n",
      "19\n",
      "20\n",
      "21\n",
      "22\n",
      "23\n",
      "24\n",
      "25\n",
      "26\n",
      "27\n",
      "28\n",
      "29\n",
      "30\n",
      "31\n",
      "32\n",
      "33\n",
      "34\n",
      "35\n",
      "36\n",
      "37\n",
      "38\n",
      "39\n",
      "40\n",
      "41\n",
      "42\n",
      "43\n",
      "44\n",
      "45\n",
      "46\n",
      "47\n",
      "48\n",
      "49\n",
      "50\n",
      "51\n",
      "52\n",
      "53\n",
      "54\n",
      "55\n",
      "56\n",
      "57\n",
      "58\n",
      "59\n",
      "60\n",
      "61\n",
      "62\n",
      "63\n",
      "64\n",
      "65\n",
      "66\n",
      "67\n",
      "68\n",
      "69\n",
      "70\n",
      "71\n",
      "72\n",
      "73\n",
      "74\n",
      "75\n",
      "76\n",
      "77\n",
      "78\n",
      "79\n",
      "80\n",
      "81\n",
      "82\n",
      "83\n",
      "84\n",
      "85\n",
      "86\n",
      "87\n",
      "88\n",
      "89\n",
      "90\n",
      "91\n",
      "92\n",
      "93\n",
      "94\n",
      "95\n",
      "96\n",
      "97\n",
      "98\n",
      "99\n",
      "100\n"
     ]
    }
   ],
   "source": [
    "n=1\n",
    "while True:\n",
    "    print(n)\n",
    "    if n<100:\n",
    "        n=n+1\n",
    "    else :\n",
    "        break"
   ]
  },
  {
   "cell_type": "code",
   "execution_count": 7,
   "id": "76976cb6",
   "metadata": {},
   "outputs": [
    {
     "name": "stdout",
     "output_type": "stream",
     "text": [
      "1\n",
      "2\n",
      "3\n",
      "4\n",
      "5\n",
      "6\n",
      "7\n",
      "8\n",
      "9\n",
      "10\n",
      "11\n",
      "12\n",
      "13\n",
      "14\n",
      "15\n",
      "16\n",
      "17\n",
      "18\n",
      "19\n",
      "20\n",
      "21\n",
      "22\n",
      "23\n",
      "24\n",
      "25\n",
      "26\n",
      "27\n",
      "28\n",
      "29\n",
      "30\n",
      "31\n",
      "32\n",
      "33\n",
      "34\n",
      "35\n",
      "36\n",
      "37\n",
      "38\n",
      "39\n",
      "40\n",
      "41\n",
      "42\n",
      "43\n",
      "44\n",
      "45\n",
      "46\n",
      "47\n",
      "48\n",
      "49\n",
      "50\n",
      "51\n",
      "52\n",
      "53\n",
      "54\n",
      "55\n",
      "56\n",
      "57\n",
      "58\n",
      "59\n",
      "60\n",
      "61\n",
      "62\n",
      "63\n",
      "64\n",
      "65\n",
      "66\n",
      "67\n",
      "68\n",
      "69\n",
      "70\n",
      "71\n",
      "72\n",
      "73\n",
      "74\n",
      "75\n",
      "76\n",
      "77\n",
      "78\n",
      "79\n",
      "80\n",
      "81\n",
      "82\n",
      "83\n",
      "84\n",
      "85\n",
      "86\n",
      "87\n",
      "88\n",
      "89\n",
      "90\n",
      "91\n",
      "92\n",
      "93\n",
      "94\n",
      "95\n",
      "96\n",
      "97\n",
      "98\n",
      "99\n",
      "100\n"
     ]
    }
   ],
   "source": [
    "n=1\n",
    "while n<101:\n",
    "    print(n)\n",
    "    n=n+1"
   ]
  },
  {
   "cell_type": "markdown",
   "id": "0ebd2cac",
   "metadata": {},
   "source": [
    "- 두개의 정수를 입력받습니다.\n",
    "- 입력받은 두 정수의 합을 출력합니다.\n",
    "- 두 개의 정수로 0과 0을 입력받은 경우, 반복문에서 이탈합니다."
   ]
  },
  {
   "cell_type": "code",
   "execution_count": 1,
   "id": "f48115c2",
   "metadata": {},
   "outputs": [
    {
     "name": "stdout",
     "output_type": "stream",
     "text": [
      "첫번째 정수: 3\n",
      "두번째 정수: 4\n",
      "두 수의 합은 7 \n",
      "첫번째 정수: 0\n",
      "두번째 정수: 0\n"
     ]
    }
   ],
   "source": [
    "while True:\n",
    "    num1=int(input(\"첫번째 정수: \"))\n",
    "    num2=int(input(\"두번째 정수: \"))\n",
    "\n",
    "    sum=num1+num2\n",
    "    \n",
    "    if num1!=num2!=0:\n",
    "        print(f\"두 수의 합은 {sum} \")    \n",
    "    else :\n",
    "        break"
   ]
  },
  {
   "cell_type": "code",
   "execution_count": 4,
   "id": "78c8d2e2",
   "metadata": {},
   "outputs": [
    {
     "name": "stdout",
     "output_type": "stream",
     "text": [
      "첫번째 정수: 0\n",
      "두번째 정수: 0\n"
     ]
    }
   ],
   "source": [
    "#쌤 답\n",
    "while True:\n",
    "    num1=int(input(\"첫번째 정수: \"))\n",
    "    num2=int(input(\"두번째 정수: \"))\n",
    "\n",
    "    if num1==0 and num2==0:\n",
    "        break\n",
    "            \n",
    "    else :\n",
    "        print(num1+num2)"
   ]
  },
  {
   "cell_type": "markdown",
   "id": "26965767",
   "metadata": {},
   "source": [
    "### 다이어트관리 프로그램\n",
    "- 목표 몸무게를 입력합니다.\n",
    "- 현재 몸무게를 입력합니다.\n",
    "- 매 주 감량한 몸무게를 입력한 뒤, 현재 몸무게가 목표 몸무게보다 적어지면, 프로그램을 종료합니다.\n",
    "- 출력값은 \" 축하합니다!_____주 걸렸습니다.\" 형태입니다."
   ]
  },
  {
   "cell_type": "code",
   "execution_count": 4,
   "id": "c910d379",
   "metadata": {},
   "outputs": [
    {
     "name": "stdout",
     "output_type": "stream",
     "text": [
      "현재 몸무게: 30\n",
      "목표 몸무게: 20\n",
      "감량한 몸무게: 2\n",
      "감량한 몸무게: 3\n",
      "감량한 몸무게: 4\n",
      "감량한 몸무게: 1\n",
      "축하합니다! 4주 걸렸습니다\n"
     ]
    }
   ],
   "source": [
    "weight=int(input(\"현재 몸무게: \"))\n",
    "goal=int(input(\"목표 몸무게: \"))\n",
    "n=0\n",
    "\n",
    "while weight>goal:\n",
    "    lost_weight=int(input(\"감량한 몸무게: \"))\n",
    "    n=n+1\n",
    "    weight=weight-lost_weight\n",
    "    \n",
    "print(f\"축하합니다! {n}주 걸렸습니다\")"
   ]
  },
  {
   "cell_type": "code",
   "execution_count": 8,
   "id": "5431b79a",
   "metadata": {},
   "outputs": [
    {
     "data": {
      "text/plain": [
       "[0, 1, 2, 3, 4, 5, 6, 7, 8, 9]"
      ]
     },
     "execution_count": 8,
     "metadata": {},
     "output_type": "execute_result"
    }
   ],
   "source": [
    "r=range(10) #0부터 9까지 있는 리스트와 같다\n",
    "r[-1]\n",
    "list(r)"
   ]
  },
  {
   "cell_type": "markdown",
   "id": "755e96f0",
   "metadata": {},
   "source": [
    "### for문"
   ]
  },
  {
   "cell_type": "code",
   "execution_count": 9,
   "id": "f3767d69",
   "metadata": {},
   "outputs": [
    {
     "name": "stdout",
     "output_type": "stream",
     "text": [
      "초밥은 맛있어\n",
      "짜장면은 맛있어\n",
      "짬뽕은 맛있어\n"
     ]
    }
   ],
   "source": [
    "food_list=[\"초밥\",\"짜장면\",\"짬뽕\"]\n",
    "for i in food_list :\n",
    "    print(i+\"은 맛있어\")"
   ]
  },
  {
   "cell_type": "code",
   "execution_count": 10,
   "id": "2ada0cd5",
   "metadata": {},
   "outputs": [
    {
     "name": "stdout",
     "output_type": "stream",
     "text": [
      "짜은 맛있어\n",
      "장은 맛있어\n",
      "면은 맛있어\n"
     ]
    }
   ],
   "source": [
    "food_list=\"짜장면\"\n",
    "for i in food_list :\n",
    "    print(i+\"은 맛있어\")"
   ]
  },
  {
   "cell_type": "code",
   "execution_count": 11,
   "id": "c31065ad",
   "metadata": {},
   "outputs": [
    {
     "name": "stdout",
     "output_type": "stream",
     "text": [
      "초\n",
      "짜\n",
      "짬\n"
     ]
    }
   ],
   "source": [
    "food_list=[\"초밥\",\"짜장면\",\"짬뽕\"]\n",
    "for i in food_list :\n",
    "    print(i[0])"
   ]
  },
  {
   "cell_type": "code",
   "execution_count": 13,
   "id": "511842a2",
   "metadata": {},
   "outputs": [
    {
     "name": "stdout",
     "output_type": "stream",
     "text": [
      "5050\n"
     ]
    }
   ],
   "source": [
    "n=0\n",
    "for i in range(100):\n",
    "    n=n+i+1\n",
    "print(n)"
   ]
  },
  {
   "cell_type": "markdown",
   "id": "ee3baa10",
   "metadata": {},
   "source": [
    "### 1에서 100사이의 숫자 중 3의 배수인 값들의 합을 구하세요. \n",
    "- 정답 : 1683"
   ]
  },
  {
   "cell_type": "code",
   "execution_count": 19,
   "id": "0e9f3e88",
   "metadata": {},
   "outputs": [
    {
     "name": "stdout",
     "output_type": "stream",
     "text": [
      "1683\n"
     ]
    }
   ],
   "source": [
    "n=0\n",
    "for i in range(34):\n",
    "    n=n+(i*3)\n",
    "print(n)"
   ]
  },
  {
   "cell_type": "code",
   "execution_count": 2,
   "id": "093b6c7e",
   "metadata": {},
   "outputs": [
    {
     "data": {
      "text/plain": [
       "1683"
      ]
     },
     "execution_count": 2,
     "metadata": {},
     "output_type": "execute_result"
    }
   ],
   "source": [
    "#쌤 답\n",
    "result =0\n",
    "for i in range(100) :\n",
    "    if (i+1)%3==0:\n",
    "        result=result+i+1\n",
    "    else:\n",
    "        pass\n",
    "result"
   ]
  },
  {
   "cell_type": "code",
   "execution_count": 3,
   "id": "b807127d",
   "metadata": {},
   "outputs": [
    {
     "data": {
      "text/plain": [
       "1683"
      ]
     },
     "execution_count": 3,
     "metadata": {},
     "output_type": "execute_result"
    }
   ],
   "source": [
    "#쌤 답\n",
    "result =0\n",
    "for i in range(1,101) :\n",
    "    if i%3==0:\n",
    "        result=result+i\n",
    "    else:\n",
    "        pass\n",
    "result"
   ]
  },
  {
   "cell_type": "markdown",
   "id": "02261e5f",
   "metadata": {},
   "source": [
    "### 1부터 100사이의 숫자 중 소수의 합을 구하시오\n",
    "- 1060"
   ]
  },
  {
   "cell_type": "code",
   "execution_count": 2,
   "id": "e5c646d4",
   "metadata": {},
   "outputs": [
    {
     "data": {
      "text/plain": [
       "1060"
      ]
     },
     "execution_count": 2,
     "metadata": {},
     "output_type": "execute_result"
    }
   ],
   "source": [
    "result=0\n",
    "for i in range(2,101):\n",
    "    nmj=[]\n",
    "    for w in range(2,i):\n",
    "        nmj.append(i%w)\n",
    "    if 0 not in nmj:\n",
    "            result=result+i\n",
    "result"
   ]
  },
  {
   "cell_type": "markdown",
   "id": "fc1d9892",
   "metadata": {},
   "source": [
    "### 구구단 출력\n",
    "- 3단부터 19단까지 출력해주세요.\n",
    "- 출력은 \"2X2=4\"형식입니다."
   ]
  },
  {
   "cell_type": "code",
   "execution_count": 10,
   "id": "b39c6a69",
   "metadata": {},
   "outputs": [
    {
     "name": "stdout",
     "output_type": "stream",
     "text": [
      "3x1=3\n",
      "3x2=6\n",
      "3x3=9\n",
      "3x4=12\n",
      "3x5=15\n",
      "3x6=18\n",
      "3x7=21\n",
      "3x8=24\n",
      "3x9=27\n",
      "3x10=30\n",
      "3x11=33\n",
      "3x12=36\n",
      "3x13=39\n",
      "3x14=42\n",
      "3x15=45\n",
      "3x16=48\n",
      "3x17=51\n",
      "3x18=54\n",
      "3x19=57\n",
      "--------------\n",
      "4x1=4\n",
      "4x2=8\n",
      "4x3=12\n",
      "4x4=16\n",
      "4x5=20\n",
      "4x6=24\n",
      "4x7=28\n",
      "4x8=32\n",
      "4x9=36\n",
      "4x10=40\n",
      "4x11=44\n",
      "4x12=48\n",
      "4x13=52\n",
      "4x14=56\n",
      "4x15=60\n",
      "4x16=64\n",
      "4x17=68\n",
      "4x18=72\n",
      "4x19=76\n",
      "--------------\n",
      "5x1=5\n",
      "5x2=10\n",
      "5x3=15\n",
      "5x4=20\n",
      "5x5=25\n",
      "5x6=30\n",
      "5x7=35\n",
      "5x8=40\n",
      "5x9=45\n",
      "5x10=50\n",
      "5x11=55\n",
      "5x12=60\n",
      "5x13=65\n",
      "5x14=70\n",
      "5x15=75\n",
      "5x16=80\n",
      "5x17=85\n",
      "5x18=90\n",
      "5x19=95\n",
      "--------------\n",
      "6x1=6\n",
      "6x2=12\n",
      "6x3=18\n",
      "6x4=24\n",
      "6x5=30\n",
      "6x6=36\n",
      "6x7=42\n",
      "6x8=48\n",
      "6x9=54\n",
      "6x10=60\n",
      "6x11=66\n",
      "6x12=72\n",
      "6x13=78\n",
      "6x14=84\n",
      "6x15=90\n",
      "6x16=96\n",
      "6x17=102\n",
      "6x18=108\n",
      "6x19=114\n",
      "--------------\n",
      "7x1=7\n",
      "7x2=14\n",
      "7x3=21\n",
      "7x4=28\n",
      "7x5=35\n",
      "7x6=42\n",
      "7x7=49\n",
      "7x8=56\n",
      "7x9=63\n",
      "7x10=70\n",
      "7x11=77\n",
      "7x12=84\n",
      "7x13=91\n",
      "7x14=98\n",
      "7x15=105\n",
      "7x16=112\n",
      "7x17=119\n",
      "7x18=126\n",
      "7x19=133\n",
      "--------------\n",
      "8x1=8\n",
      "8x2=16\n",
      "8x3=24\n",
      "8x4=32\n",
      "8x5=40\n",
      "8x6=48\n",
      "8x7=56\n",
      "8x8=64\n",
      "8x9=72\n",
      "8x10=80\n",
      "8x11=88\n",
      "8x12=96\n",
      "8x13=104\n",
      "8x14=112\n",
      "8x15=120\n",
      "8x16=128\n",
      "8x17=136\n",
      "8x18=144\n",
      "8x19=152\n",
      "--------------\n",
      "9x1=9\n",
      "9x2=18\n",
      "9x3=27\n",
      "9x4=36\n",
      "9x5=45\n",
      "9x6=54\n",
      "9x7=63\n",
      "9x8=72\n",
      "9x9=81\n",
      "9x10=90\n",
      "9x11=99\n",
      "9x12=108\n",
      "9x13=117\n",
      "9x14=126\n",
      "9x15=135\n",
      "9x16=144\n",
      "9x17=153\n",
      "9x18=162\n",
      "9x19=171\n",
      "--------------\n",
      "10x1=10\n",
      "10x2=20\n",
      "10x3=30\n",
      "10x4=40\n",
      "10x5=50\n",
      "10x6=60\n",
      "10x7=70\n",
      "10x8=80\n",
      "10x9=90\n",
      "10x10=100\n",
      "10x11=110\n",
      "10x12=120\n",
      "10x13=130\n",
      "10x14=140\n",
      "10x15=150\n",
      "10x16=160\n",
      "10x17=170\n",
      "10x18=180\n",
      "10x19=190\n",
      "--------------\n",
      "11x1=11\n",
      "11x2=22\n",
      "11x3=33\n",
      "11x4=44\n",
      "11x5=55\n",
      "11x6=66\n",
      "11x7=77\n",
      "11x8=88\n",
      "11x9=99\n",
      "11x10=110\n",
      "11x11=121\n",
      "11x12=132\n",
      "11x13=143\n",
      "11x14=154\n",
      "11x15=165\n",
      "11x16=176\n",
      "11x17=187\n",
      "11x18=198\n",
      "11x19=209\n",
      "--------------\n",
      "12x1=12\n",
      "12x2=24\n",
      "12x3=36\n",
      "12x4=48\n",
      "12x5=60\n",
      "12x6=72\n",
      "12x7=84\n",
      "12x8=96\n",
      "12x9=108\n",
      "12x10=120\n",
      "12x11=132\n",
      "12x12=144\n",
      "12x13=156\n",
      "12x14=168\n",
      "12x15=180\n",
      "12x16=192\n",
      "12x17=204\n",
      "12x18=216\n",
      "12x19=228\n",
      "--------------\n",
      "13x1=13\n",
      "13x2=26\n",
      "13x3=39\n",
      "13x4=52\n",
      "13x5=65\n",
      "13x6=78\n",
      "13x7=91\n",
      "13x8=104\n",
      "13x9=117\n",
      "13x10=130\n",
      "13x11=143\n",
      "13x12=156\n",
      "13x13=169\n",
      "13x14=182\n",
      "13x15=195\n",
      "13x16=208\n",
      "13x17=221\n",
      "13x18=234\n",
      "13x19=247\n",
      "--------------\n",
      "14x1=14\n",
      "14x2=28\n",
      "14x3=42\n",
      "14x4=56\n",
      "14x5=70\n",
      "14x6=84\n",
      "14x7=98\n",
      "14x8=112\n",
      "14x9=126\n",
      "14x10=140\n",
      "14x11=154\n",
      "14x12=168\n",
      "14x13=182\n",
      "14x14=196\n",
      "14x15=210\n",
      "14x16=224\n",
      "14x17=238\n",
      "14x18=252\n",
      "14x19=266\n",
      "--------------\n",
      "15x1=15\n",
      "15x2=30\n",
      "15x3=45\n",
      "15x4=60\n",
      "15x5=75\n",
      "15x6=90\n",
      "15x7=105\n",
      "15x8=120\n",
      "15x9=135\n",
      "15x10=150\n",
      "15x11=165\n",
      "15x12=180\n",
      "15x13=195\n",
      "15x14=210\n",
      "15x15=225\n",
      "15x16=240\n",
      "15x17=255\n",
      "15x18=270\n",
      "15x19=285\n",
      "--------------\n",
      "16x1=16\n",
      "16x2=32\n",
      "16x3=48\n",
      "16x4=64\n",
      "16x5=80\n",
      "16x6=96\n",
      "16x7=112\n",
      "16x8=128\n",
      "16x9=144\n",
      "16x10=160\n",
      "16x11=176\n",
      "16x12=192\n",
      "16x13=208\n",
      "16x14=224\n",
      "16x15=240\n",
      "16x16=256\n",
      "16x17=272\n",
      "16x18=288\n",
      "16x19=304\n",
      "--------------\n",
      "17x1=17\n",
      "17x2=34\n",
      "17x3=51\n",
      "17x4=68\n",
      "17x5=85\n",
      "17x6=102\n",
      "17x7=119\n",
      "17x8=136\n",
      "17x9=153\n",
      "17x10=170\n",
      "17x11=187\n",
      "17x12=204\n",
      "17x13=221\n",
      "17x14=238\n",
      "17x15=255\n",
      "17x16=272\n",
      "17x17=289\n",
      "17x18=306\n",
      "17x19=323\n",
      "--------------\n",
      "18x1=18\n",
      "18x2=36\n",
      "18x3=54\n",
      "18x4=72\n",
      "18x5=90\n",
      "18x6=108\n",
      "18x7=126\n",
      "18x8=144\n",
      "18x9=162\n",
      "18x10=180\n",
      "18x11=198\n",
      "18x12=216\n",
      "18x13=234\n",
      "18x14=252\n",
      "18x15=270\n",
      "18x16=288\n",
      "18x17=306\n",
      "18x18=324\n",
      "18x19=342\n",
      "--------------\n",
      "19x1=19\n",
      "19x2=38\n",
      "19x3=57\n",
      "19x4=76\n",
      "19x5=95\n",
      "19x6=114\n",
      "19x7=133\n",
      "19x8=152\n",
      "19x9=171\n",
      "19x10=190\n",
      "19x11=209\n",
      "19x12=228\n",
      "19x13=247\n",
      "19x14=266\n",
      "19x15=285\n",
      "19x16=304\n",
      "19x17=323\n",
      "19x18=342\n",
      "19x19=361\n",
      "--------------\n"
     ]
    }
   ],
   "source": [
    "for i in range(3,20):\n",
    "    for w in range(1,20):\n",
    "        result=i*w\n",
    "        print(f\"{i}x{w}={result}\")\n",
    "    print(\"--------------\") "
   ]
  },
  {
   "cell_type": "markdown",
   "id": "2667eab6",
   "metadata": {},
   "source": [
    "### 업다운게임\n",
    "- 컴퓨터는 1부터 100 사이의 임의의 자연수를 생각합니다.\n",
    "- 플레이어는 1부터 100사이의 임의의 자연수를 input으로 입력합니다.\n",
    "- 컴퓨터가 생각한 수가 플레이어가 입력한 수보다 크면 Up, 작다면 Down을 출력합니다.\n",
    "- 플레이어가 입력한 수가 컴퓨터가 생각한 수와 일치하면 몇번만에 맞췄는지 출력하고 프로그램을 종료합니다."
   ]
  },
  {
   "cell_type": "code",
   "execution_count": 2,
   "id": "f6aaff6d",
   "metadata": {},
   "outputs": [
    {
     "name": "stdout",
     "output_type": "stream",
     "text": [
      "1부터 100사이의 수를 입력하세요 : 40\n",
      "Down\n",
      "1부터 100사이의 수를 입력하세요 : 30\n",
      "2번만에 맞췄습니다\n"
     ]
    }
   ],
   "source": [
    "import random\n",
    "num=random.randint(1,100)\n",
    "n=0\n",
    "while True:\n",
    "    player=int(input(\"1부터 100사이의 수를 입력하세요 : \"))\n",
    "    n=n+1\n",
    "    if num>player:\n",
    "        print(\"Up\")\n",
    "         \n",
    "    elif num<player:\n",
    "        print(\"Down\")\n",
    "    else :\n",
    "        print(f\"{n}번만에 맞췄습니다\") \n",
    "        break\n"
   ]
  },
  {
   "cell_type": "code",
   "execution_count": 3,
   "id": "fbaee271",
   "metadata": {},
   "outputs": [
    {
     "name": "stdout",
     "output_type": "stream",
     "text": [
      "숫자를 입력하세요 : 50\n",
      "down\n",
      "숫자를 입력하세요 : 40\n",
      "down\n",
      "숫자를 입력하세요 : 30\n",
      "down\n",
      "숫자를 입력하세요 : 20\n",
      "down\n",
      "숫자를 입력하세요 : 10\n",
      "up\n",
      "숫자를 입력하세요 : 15\n",
      "up\n",
      "숫자를 입력하세요 : 18\n",
      "up\n",
      "숫자를 입력하세요 : 19\n",
      "축하합니다!8번만에 정답을 맞췄습니다\n"
     ]
    }
   ],
   "source": [
    "#쌤 답\n",
    "import random\n",
    "num=random.randint(1,100)\n",
    "n=1\n",
    "while True:\n",
    "    a = int(input(\"숫자를 입력하세요 : \"))\n",
    "    \n",
    "    if num>a:\n",
    "        print(\"up\")\n",
    "        n=n+1\n",
    "    elif num<a:\n",
    "        print(\"down\")\n",
    "        n=n+1\n",
    "    else:\n",
    "        print(f\"축하합니다!{n}번만에 정답을 맞췄습니다\")\n",
    "        break"
   ]
  },
  {
   "cell_type": "code",
   "execution_count": null,
   "id": "c9ccabd8",
   "metadata": {},
   "outputs": [],
   "source": []
  }
 ],
 "metadata": {
  "kernelspec": {
   "display_name": "Python 3 (ipykernel)",
   "language": "python",
   "name": "python3"
  },
  "language_info": {
   "codemirror_mode": {
    "name": "ipython",
    "version": 3
   },
   "file_extension": ".py",
   "mimetype": "text/x-python",
   "name": "python",
   "nbconvert_exporter": "python",
   "pygments_lexer": "ipython3",
   "version": "3.9.12"
  }
 },
 "nbformat": 4,
 "nbformat_minor": 5
}
