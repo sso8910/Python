{
 "cells": [
  {
   "cell_type": "markdown",
   "id": "5f0e56e9",
   "metadata": {},
   "source": [
    "### 변수설정\n",
    "- 정수(Integer)\n",
    "- 실수(float)\n",
    "- 문자(String)\n",
    "- 논리(Boolean)"
   ]
  },
  {
   "cell_type": "code",
   "execution_count": 1,
   "id": "29c4af7a",
   "metadata": {},
   "outputs": [
    {
     "name": "stdout",
     "output_type": "stream",
     "text": [
      "10\n"
     ]
    }
   ],
   "source": [
    "num=10\n",
    "print(num)"
   ]
  },
  {
   "cell_type": "code",
   "execution_count": 2,
   "id": "fe8cfa59",
   "metadata": {},
   "outputs": [
    {
     "name": "stdout",
     "output_type": "stream",
     "text": [
      "20\n"
     ]
    }
   ],
   "source": [
    "num=20\n",
    "print(num)"
   ]
  },
  {
   "cell_type": "code",
   "execution_count": 4,
   "id": "54473e5b",
   "metadata": {},
   "outputs": [
    {
     "name": "stdout",
     "output_type": "stream",
     "text": [
      "30\n"
     ]
    }
   ],
   "source": [
    "num=num+5  #num+=5와 같은 결과\n",
    "print(num)"
   ]
  },
  {
   "cell_type": "code",
   "execution_count": 5,
   "id": "1ccd7751",
   "metadata": {},
   "outputs": [
    {
     "name": "stdout",
     "output_type": "stream",
     "text": [
      "35\n"
     ]
    }
   ],
   "source": [
    "num+=5\n",
    "print(num)"
   ]
  },
  {
   "cell_type": "code",
   "execution_count": 10,
   "id": "7493ad46",
   "metadata": {},
   "outputs": [
    {
     "data": {
      "text/plain": [
       "str"
      ]
     },
     "execution_count": 10,
     "metadata": {},
     "output_type": "execute_result"
    }
   ],
   "source": [
    "string = \" 오늘 점심 뭐먹지?\"\n",
    "type(string)"
   ]
  },
  {
   "cell_type": "code",
   "execution_count": 11,
   "id": "758beaf5",
   "metadata": {},
   "outputs": [
    {
     "data": {
      "text/plain": [
       "True"
      ]
     },
     "execution_count": 11,
     "metadata": {},
     "output_type": "execute_result"
    }
   ],
   "source": [
    "\"점심\"*3==\"점심\"+\"점심\"+\"점심\""
   ]
  },
  {
   "cell_type": "markdown",
   "id": "de7f95a0",
   "metadata": {},
   "source": [
    "### 슬라이싱&인덱싱"
   ]
  },
  {
   "cell_type": "markdown",
   "id": "67326bdb",
   "metadata": {},
   "source": [
    "\"오늘 점심 뭐먹지\"\n",
    "  0123456789 / -10,-9,-8,......,-2,-1\n",
    "- 파이썬 순서체계 0번부터 시작, 띄어쓰기도 1칸으로 카운트 "
   ]
  },
  {
   "cell_type": "code",
   "execution_count": 12,
   "id": "c35a5ea4",
   "metadata": {},
   "outputs": [
    {
     "data": {
      "text/plain": [
       "'뭐'"
      ]
     },
     "execution_count": 12,
     "metadata": {},
     "output_type": "execute_result"
    }
   ],
   "source": [
    "\"오늘 점심 뭐먹지\"[6] #인덱싱: 음운 하나 지칭 , 슬라이싱: 구간 지칭[이상:미만]"
   ]
  },
  {
   "cell_type": "code",
   "execution_count": 14,
   "id": "9d69e62a",
   "metadata": {},
   "outputs": [
    {
     "data": {
      "text/plain": [
       "'점심'"
      ]
     },
     "execution_count": 14,
     "metadata": {},
     "output_type": "execute_result"
    }
   ],
   "source": [
    "\"오늘 점심 뭐먹지\"[3:5]"
   ]
  },
  {
   "cell_type": "code",
   "execution_count": 1,
   "id": "d09b3175",
   "metadata": {},
   "outputs": [
    {
     "data": {
      "text/plain": [
       "0"
      ]
     },
     "execution_count": 1,
     "metadata": {},
     "output_type": "execute_result"
    }
   ],
   "source": [
    "lyrics=\"sorry sorry 내가 내가 내게 빠져\"\n",
    "lyrics.find(\"sorry\") #0나오면 있는거, -1나오면 없는거"
   ]
  },
  {
   "cell_type": "code",
   "execution_count": 2,
   "id": "9b8fac94",
   "metadata": {},
   "outputs": [
    {
     "data": {
      "text/plain": [
       "['sorry', 'sorry', '내가', '내가', '내게', '빠져']"
      ]
     },
     "execution_count": 2,
     "metadata": {},
     "output_type": "execute_result"
    }
   ],
   "source": [
    "lyrics.split() # 공백단위로 쪼개라는 뜻"
   ]
  },
  {
   "cell_type": "code",
   "execution_count": 7,
   "id": "ec6ffbe2",
   "metadata": {},
   "outputs": [
    {
     "name": "stdout",
     "output_type": "stream",
     "text": [
      "sorry sorry 네게 네게 내게 빠져\n"
     ]
    }
   ],
   "source": [
    "lyrics=lyrics.replace(\"내가\",\"내게\")\n",
    "print(lyrics)"
   ]
  },
  {
   "cell_type": "code",
   "execution_count": 8,
   "id": "0af972a8",
   "metadata": {},
   "outputs": [
    {
     "data": {
      "text/plain": [
       "bool"
      ]
     },
     "execution_count": 8,
     "metadata": {},
     "output_type": "execute_result"
    }
   ],
   "source": [
    "type(1+1==2)"
   ]
  },
  {
   "cell_type": "code",
   "execution_count": 9,
   "id": "cb804945",
   "metadata": {},
   "outputs": [
    {
     "data": {
      "text/plain": [
       "False"
      ]
     },
     "execution_count": 9,
     "metadata": {},
     "output_type": "execute_result"
    }
   ],
   "source": [
    "not 1+2 != 2"
   ]
  },
  {
   "cell_type": "code",
   "execution_count": 11,
   "id": "cb7325fe",
   "metadata": {},
   "outputs": [],
   "source": [
    "a=1+1==2"
   ]
  },
  {
   "cell_type": "code",
   "execution_count": 14,
   "id": "c41f35f8",
   "metadata": {},
   "outputs": [
    {
     "data": {
      "text/plain": [
       "2"
      ]
     },
     "execution_count": 14,
     "metadata": {},
     "output_type": "execute_result"
    }
   ],
   "source": [
    "a+a"
   ]
  },
  {
   "cell_type": "code",
   "execution_count": 15,
   "id": "f811f962",
   "metadata": {},
   "outputs": [
    {
     "data": {
      "text/plain": [
       "True"
      ]
     },
     "execution_count": 15,
     "metadata": {},
     "output_type": "execute_result"
    }
   ],
   "source": [
    "1+1==2 or 1+2==2"
   ]
  },
  {
   "cell_type": "markdown",
   "id": "b97fef41",
   "metadata": {},
   "source": [
    "### 조건문(if )"
   ]
  },
  {
   "cell_type": "code",
   "execution_count": null,
   "id": "f41e5b22",
   "metadata": {},
   "outputs": [],
   "source": [
    "if 명제 : \n",
    "    명제가 참일 경우에 실행되는 코드\n",
    "else :\n",
    "    명제가 거짓일 경우에 실행되는 코드"
   ]
  },
  {
   "cell_type": "code",
   "execution_count": null,
   "id": "df9924da",
   "metadata": {},
   "outputs": [],
   "source": [
    "if 명제:\n",
    "    명제1이 참일 경우에 실행되는 코드\n",
    "elif 명제2:\n",
    "    명제1은 거짓이지만, 명제2가 참일 경우에 실행되는 코드\n",
    "else :\n",
    "    명제1과 명제2가 모두 거짓일 경우에 실행되는 코드\n",
    "\n",
    "#if부터 처리하고 순서대로 내려옴, and연산자를 사용해서 교집합이 없도록 설계하는 것이 가장 좋음"
   ]
  },
  {
   "cell_type": "code",
   "execution_count": 16,
   "id": "c196a096",
   "metadata": {},
   "outputs": [
    {
     "name": "stdout",
     "output_type": "stream",
     "text": [
      "택시를탄다\n"
     ]
    }
   ],
   "source": [
    "money=999999999\n",
    "if money>=5000:\n",
    "    print(\"택시를탄다\")\n",
    "elif(money>=1250) and (money<5000): # 수식은 괄호()로 묶어서 작성하는걸 습관으로 해야한다\n",
    "    print(\"버스탄다\")\n",
    "else:\n",
    "    print(\"걸어\")"
   ]
  },
  {
   "cell_type": "code",
   "execution_count": 17,
   "id": "f9eedb2a",
   "metadata": {},
   "outputs": [
    {
     "name": "stdout",
     "output_type": "stream",
     "text": [
      "버스\n"
     ]
    }
   ],
   "source": [
    "threshold_taxi=5000\n",
    "threshold_bus=1250\n",
    "\n",
    "money=2000\n",
    "if money>=threshold_taxi:\n",
    "    print(\"택시\")\n",
    "elif (money>=threshold_bus) and (money<threshold_taxi):\n",
    "    print(\"버스\")\n",
    "else:\n",
    "    print(\"걸어\")"
   ]
  },
  {
   "cell_type": "markdown",
   "id": "6e406edb",
   "metadata": {},
   "source": [
    "### 리스트, 튜플\n",
    "-리스트[a,b,c], 튜플(a,b,c)\n",
    "-리스트는 조작할 수 있지만, 튜플은 조작할 수 없다.\n",
    "-조작 : 원소를 추가,삭제,교체,순서변경"
   ]
  },
  {
   "cell_type": "code",
   "execution_count": 18,
   "id": "9d7b466d",
   "metadata": {},
   "outputs": [
    {
     "name": "stdout",
     "output_type": "stream",
     "text": [
      "[1, 2]\n",
      "('가', '나')\n"
     ]
    }
   ],
   "source": [
    "a=[1,2]\n",
    "b=(\"가\",\"나\")\n",
    "print(a)\n",
    "print(b)"
   ]
  },
  {
   "cell_type": "code",
   "execution_count": 20,
   "id": "a38875fa",
   "metadata": {},
   "outputs": [
    {
     "name": "stdout",
     "output_type": "stream",
     "text": [
      "[1, 2, [1, 2]]\n"
     ]
    }
   ],
   "source": [
    "c=[1,2,a]\n",
    "print(c)"
   ]
  },
  {
   "cell_type": "markdown",
   "id": "e702accd",
   "metadata": {},
   "source": [
    "### 원소추가"
   ]
  },
  {
   "cell_type": "code",
   "execution_count": 21,
   "id": "dc72880b",
   "metadata": {},
   "outputs": [
    {
     "data": {
      "text/plain": [
       "'짜장면'"
      ]
     },
     "execution_count": 21,
     "metadata": {},
     "output_type": "execute_result"
    }
   ],
   "source": [
    "\"짜장\"+\"면\""
   ]
  },
  {
   "cell_type": "code",
   "execution_count": 22,
   "id": "4f9da137",
   "metadata": {},
   "outputs": [
    {
     "data": {
      "text/plain": [
       "['짜', '장', '면']"
      ]
     },
     "execution_count": 22,
     "metadata": {},
     "output_type": "execute_result"
    }
   ],
   "source": [
    "a=[\"짜\",\"장\"]\n",
    "a.append(\"면\")\n",
    "a"
   ]
  },
  {
   "cell_type": "code",
   "execution_count": 23,
   "id": "13d73ccc",
   "metadata": {},
   "outputs": [
    {
     "data": {
      "text/plain": [
       "['간', '짜', '장', '면']"
      ]
     },
     "execution_count": 23,
     "metadata": {},
     "output_type": "execute_result"
    }
   ],
   "source": [
    "a.insert(0,\"간\")\n",
    "a"
   ]
  },
  {
   "cell_type": "code",
   "execution_count": 24,
   "id": "fa0f16ce",
   "metadata": {},
   "outputs": [
    {
     "data": {
      "text/plain": [
       "4"
      ]
     },
     "execution_count": 24,
     "metadata": {},
     "output_type": "execute_result"
    }
   ],
   "source": [
    "b=[1,2,[3,4]]\n",
    "b[2][1]"
   ]
  },
  {
   "cell_type": "code",
   "execution_count": 25,
   "id": "76ac20d7",
   "metadata": {},
   "outputs": [
    {
     "data": {
      "text/plain": [
       "['마', '라', '다', '나', '가']"
      ]
     },
     "execution_count": 25,
     "metadata": {},
     "output_type": "execute_result"
    }
   ],
   "source": [
    "k=[\"가\",\"나\",\"다\",\"라\",\"마\"]\n",
    "k.reverse()\n",
    "k"
   ]
  },
  {
   "cell_type": "code",
   "execution_count": 26,
   "id": "d7cc8b90",
   "metadata": {},
   "outputs": [
    {
     "data": {
      "text/plain": [
       "['마', '라', '다', '나', '가']"
      ]
     },
     "execution_count": 26,
     "metadata": {},
     "output_type": "execute_result"
    }
   ],
   "source": [
    "k.sort()\n",
    "k.reverse()\n",
    "k"
   ]
  },
  {
   "cell_type": "code",
   "execution_count": 27,
   "id": "76f3a530",
   "metadata": {},
   "outputs": [
    {
     "data": {
      "text/plain": [
       "['마', '라', '다', '나', '가']"
      ]
     },
     "execution_count": 27,
     "metadata": {},
     "output_type": "execute_result"
    }
   ],
   "source": [
    "k.sort(reverse=True)\n",
    "k"
   ]
  },
  {
   "cell_type": "code",
   "execution_count": 30,
   "id": "ce7fc602",
   "metadata": {},
   "outputs": [],
   "source": [
    "fruit=[\"사과\",\"바나나\",\"키위\",\"망고\",\"파인애플\",[\"사과\",\"바나나\"]]"
   ]
  },
  {
   "cell_type": "code",
   "execution_count": 29,
   "id": "e34a602b",
   "metadata": {},
   "outputs": [
    {
     "data": {
      "text/plain": [
       "False"
      ]
     },
     "execution_count": 29,
     "metadata": {},
     "output_type": "execute_result"
    }
   ],
   "source": [
    "[\"사과\",\"바나나\"] in fruit"
   ]
  },
  {
   "cell_type": "code",
   "execution_count": 31,
   "id": "a77a541e",
   "metadata": {},
   "outputs": [
    {
     "data": {
      "text/plain": [
       "True"
      ]
     },
     "execution_count": 31,
     "metadata": {},
     "output_type": "execute_result"
    }
   ],
   "source": [
    "[\"사과\",\"바나나\"] in fruit"
   ]
  },
  {
   "cell_type": "code",
   "execution_count": 33,
   "id": "798c4e1a",
   "metadata": {},
   "outputs": [
    {
     "data": {
      "text/plain": [
       "True"
      ]
     },
     "execution_count": 33,
     "metadata": {},
     "output_type": "execute_result"
    }
   ],
   "source": [
    "(\"사과\"in fruit) and (\"바나나\" in fruit)"
   ]
  },
  {
   "cell_type": "markdown",
   "id": "7f8616c1",
   "metadata": {},
   "source": [
    "### while문"
   ]
  },
  {
   "cell_type": "markdown",
   "id": "94d6a75b",
   "metadata": {},
   "source": [
    "while 명제:\n",
    "    명제가 참인 한 실행되는 코드"
   ]
  },
  {
   "cell_type": "code",
   "execution_count": 34,
   "id": "24992214",
   "metadata": {},
   "outputs": [
    {
     "name": "stdout",
     "output_type": "stream",
     "text": [
      "1\n",
      "2\n"
     ]
    }
   ],
   "source": [
    "n=1\n",
    "while n<3:\n",
    "    print(n)\n",
    "    n=n+1"
   ]
  },
  {
   "cell_type": "code",
   "execution_count": null,
   "id": "ef4d5f56",
   "metadata": {},
   "outputs": [],
   "source": [
    "n=1\n",
    "while True:\n",
    "    print(1)\n",
    "    n=n+1\n",
    "    if n==100:\n",
    "        break\n",
    "    else:\n",
    "        pass\n"
   ]
  },
  {
   "cell_type": "markdown",
   "id": "89a51cfb",
   "metadata": {},
   "source": [
    "for 변수 int 인덱싱이 가능한 자료형:\n",
    "    코드"
   ]
  },
  {
   "cell_type": "code",
   "execution_count": 36,
   "id": "5f132f00",
   "metadata": {},
   "outputs": [
    {
     "name": "stdout",
     "output_type": "stream",
     "text": [
      "가\n",
      "나\n",
      "다\n"
     ]
    }
   ],
   "source": [
    "for i in(\"가\",\"나\",\"다\"):\n",
    "    print(i)"
   ]
  },
  {
   "cell_type": "code",
   "execution_count": 37,
   "id": "30f8818a",
   "metadata": {},
   "outputs": [
    {
     "name": "stdout",
     "output_type": "stream",
     "text": [
      "3X1=3\n",
      "3X2=6\n",
      "3X3=9\n",
      "3X4=12\n",
      "3X5=15\n",
      "3X6=18\n",
      "3X7=21\n",
      "3X8=24\n",
      "3X9=27\n"
     ]
    }
   ],
   "source": [
    "for num in range(1,10):\n",
    "    print(\"3X{}={}\".format(num,3*num))"
   ]
  },
  {
   "cell_type": "code",
   "execution_count": 38,
   "id": "b8888c0e",
   "metadata": {},
   "outputs": [
    {
     "name": "stdout",
     "output_type": "stream",
     "text": [
      "3X1=3\n",
      "3X2=6\n",
      "3X3=9\n",
      "3X4=12\n",
      "3X5=15\n",
      "3X6=18\n",
      "3X7=21\n",
      "3X8=24\n",
      "3X9=27\n"
     ]
    }
   ],
   "source": [
    "for num in range(1,10):\n",
    "     print(\"3X{}={}\".format(num,3*num))"
   ]
  },
  {
   "cell_type": "code",
   "execution_count": 41,
   "id": "75adda3b",
   "metadata": {},
   "outputs": [
    {
     "name": "stdout",
     "output_type": "stream",
     "text": [
      "1x1=1\n",
      "1x2=2\n",
      "1x3=3\n",
      "1x4=4\n",
      "1x5=5\n",
      "1x6=6\n",
      "1x7=7\n",
      "1x8=8\n",
      "1x9=9\n",
      "2x1=2\n",
      "2x2=4\n",
      "2x3=6\n",
      "2x4=8\n",
      "2x5=10\n",
      "2x6=12\n",
      "2x7=14\n",
      "2x8=16\n",
      "2x9=18\n",
      "3x1=3\n",
      "3x2=6\n",
      "3x3=9\n",
      "3x4=12\n",
      "3x5=15\n",
      "3x6=18\n",
      "3x7=21\n",
      "3x8=24\n",
      "3x9=27\n",
      "4x1=4\n",
      "4x2=8\n",
      "4x3=12\n",
      "4x4=16\n",
      "4x5=20\n",
      "4x6=24\n",
      "4x7=28\n",
      "4x8=32\n",
      "4x9=36\n",
      "5x1=5\n",
      "5x2=10\n",
      "5x3=15\n",
      "5x4=20\n",
      "5x5=25\n",
      "5x6=30\n",
      "5x7=35\n",
      "5x8=40\n",
      "5x9=45\n",
      "6x1=6\n",
      "6x2=12\n",
      "6x3=18\n",
      "6x4=24\n",
      "6x5=30\n",
      "6x6=36\n",
      "6x7=42\n",
      "6x8=48\n",
      "6x9=54\n",
      "7x1=7\n",
      "7x2=14\n",
      "7x3=21\n",
      "7x4=28\n",
      "7x5=35\n",
      "7x6=42\n",
      "7x7=49\n",
      "7x8=56\n",
      "7x9=63\n",
      "8x1=8\n",
      "8x2=16\n",
      "8x3=24\n",
      "8x4=32\n",
      "8x5=40\n",
      "8x6=48\n",
      "8x7=56\n",
      "8x8=64\n",
      "8x9=72\n",
      "9x1=9\n",
      "9x2=18\n",
      "9x3=27\n",
      "9x4=36\n",
      "9x5=45\n",
      "9x6=54\n",
      "9x7=63\n",
      "9x8=72\n",
      "9x9=81\n"
     ]
    }
   ],
   "source": [
    "for i in range(1,10):\n",
    "    for w in range(1,10):\n",
    "        print(\"{}x{}={}\".format(i,w,i*w))"
   ]
  },
  {
   "cell_type": "markdown",
   "id": "ec64c6ae",
   "metadata": {},
   "source": [
    "#### 너무너무 중요한 반복문\n",
    "- 10,000보다 큰 57과 83의 공배수 중 가장 작은 수를 출력해주세요\n",
    "- 공배수 : 57과 83을 모두 약수로 가지는 수\n",
    "- 정답 : 14193"
   ]
  },
  {
   "cell_type": "code",
   "execution_count": 63,
   "id": "8f1ba00b",
   "metadata": {},
   "outputs": [
    {
     "name": "stdout",
     "output_type": "stream",
     "text": [
      "10001\n"
     ]
    }
   ],
   "source": [
    "i=10000\n",
    "for i in range(10000,20000):\n",
    "    if (i%57==0) and (i%83==0):\n",
    "        break이\n",
    "    else:\n",
    "        i=i+1\n",
    "print(i)"
   ]
  },
  {
   "cell_type": "code",
   "execution_count": 59,
   "id": "c0247d95",
   "metadata": {
    "scrolled": true
   },
   "outputs": [
    {
     "name": "stdout",
     "output_type": "stream",
     "text": [
      "14193\n"
     ]
    }
   ],
   "source": [
    "n=10000\n",
    "while (n%57!=0) or (n%83!=0):\n",
    "    n=n+1\n",
    "print(n)"
   ]
  },
  {
   "cell_type": "code",
   "execution_count": 58,
   "id": "ea2e9751",
   "metadata": {},
   "outputs": [
    {
     "name": "stdout",
     "output_type": "stream",
     "text": [
      "14193\n"
     ]
    }
   ],
   "source": [
    "n=10000\n",
    "while True:\n",
    "    if(n%57==0)and(n%83==0):\n",
    "        break\n",
    "    else:\n",
    "        n=n+1\n",
    "print(n)"
   ]
  },
  {
   "cell_type": "markdown",
   "id": "79b09863",
   "metadata": {},
   "source": [
    "### 예외처리"
   ]
  },
  {
   "cell_type": "code",
   "execution_count": 64,
   "id": "5914d17a",
   "metadata": {},
   "outputs": [
    {
     "name": "stdout",
     "output_type": "stream",
     "text": [
      "-0.14285714285714285\n",
      "-0.16666666666666666\n",
      "-0.2\n",
      "-0.25\n",
      "-0.3333333333333333\n",
      "-0.5\n",
      "-1.0\n"
     ]
    },
    {
     "ename": "ZeroDivisionError",
     "evalue": "division by zero",
     "output_type": "error",
     "traceback": [
      "\u001b[1;31m---------------------------------------------------------------------------\u001b[0m",
      "\u001b[1;31mZeroDivisionError\u001b[0m                         Traceback (most recent call last)",
      "Input \u001b[1;32mIn [64]\u001b[0m, in \u001b[0;36m<cell line: 1>\u001b[1;34m()\u001b[0m\n\u001b[0;32m      1\u001b[0m \u001b[38;5;28;01mfor\u001b[39;00m i \u001b[38;5;129;01min\u001b[39;00m \u001b[38;5;28mrange\u001b[39m(\u001b[38;5;241m10\u001b[39m):\n\u001b[1;32m----> 2\u001b[0m     \u001b[38;5;28mprint\u001b[39m(\u001b[38;5;241;43m1\u001b[39;49m\u001b[38;5;241;43m/\u001b[39;49m\u001b[43m(\u001b[49m\u001b[43mi\u001b[49m\u001b[38;5;241;43m-\u001b[39;49m\u001b[38;5;241;43m7\u001b[39;49m\u001b[43m)\u001b[49m)\n",
      "\u001b[1;31mZeroDivisionError\u001b[0m: division by zero"
     ]
    }
   ],
   "source": [
    "for i in range(10):\n",
    "    print(1/(i-7))"
   ]
  },
  {
   "cell_type": "code",
   "execution_count": null,
   "id": "3e75fcfc",
   "metadata": {},
   "outputs": [],
   "source": [
    "#try-except\n",
    "try:\n",
    "    코드\n",
    "except:\n",
    "    코드가 에러가 날 경우 실행되는 코드"
   ]
  },
  {
   "cell_type": "code",
   "execution_count": 65,
   "id": "adfcea9b",
   "metadata": {},
   "outputs": [
    {
     "name": "stdout",
     "output_type": "stream",
     "text": [
      "-0.14285714285714285\n",
      "-0.16666666666666666\n",
      "-0.2\n",
      "-0.25\n",
      "-0.3333333333333333\n",
      "-0.5\n",
      "-1.0\n",
      "삐용삐용\n",
      "1.0\n",
      "0.5\n"
     ]
    }
   ],
   "source": [
    "for i in range(10):\n",
    "    try:\n",
    "        print(1/(i-7))\n",
    "    except:\n",
    "        print(\"삐용삐용\")\n",
    "#크롤링할때 많이 씀"
   ]
  },
  {
   "cell_type": "code",
   "execution_count": 67,
   "id": "7b302eb4",
   "metadata": {},
   "outputs": [
    {
     "name": "stdout",
     "output_type": "stream",
     "text": [
      "3의 배수를 입력하시오: 5\n"
     ]
    },
    {
     "ename": "Exception",
     "evalue": "3의 배수가 아닙니다",
     "output_type": "error",
     "traceback": [
      "\u001b[1;31m---------------------------------------------------------------------------\u001b[0m",
      "\u001b[1;31mException\u001b[0m                                 Traceback (most recent call last)",
      "Input \u001b[1;32mIn [67]\u001b[0m, in \u001b[0;36m<cell line: 2>\u001b[1;34m()\u001b[0m\n\u001b[0;32m      3\u001b[0m     \u001b[38;5;28;01mpass\u001b[39;00m\n\u001b[0;32m      4\u001b[0m \u001b[38;5;28;01melse\u001b[39;00m:\n\u001b[1;32m----> 5\u001b[0m     \u001b[38;5;28;01mraise\u001b[39;00m \u001b[38;5;167;01mException\u001b[39;00m(\u001b[38;5;124m\"\u001b[39m\u001b[38;5;124m3의 배수가 아닙니다\u001b[39m\u001b[38;5;124m\"\u001b[39m)\n\u001b[0;32m      6\u001b[0m \u001b[38;5;28mprint\u001b[39m(a)\n",
      "\u001b[1;31mException\u001b[0m: 3의 배수가 아닙니다"
     ]
    }
   ],
   "source": [
    "a=int(input(\"3의 배수를 입력하시오: \"))\n",
    "if a%3==0:\n",
    "    pass\n",
    "else:\n",
    "    raise Exception(\"3의 배수가 아닙니다\")\n",
    "print(a)"
   ]
  },
  {
   "cell_type": "markdown",
   "id": "af28a0b5",
   "metadata": {},
   "source": [
    "### 딕셔너리\n",
    "- 순서는 중요하지 않음, 슬라이싱이 안됨(구간이 없음)\n",
    "- 리스트,튜플 순서 중요"
   ]
  },
  {
   "cell_type": "code",
   "execution_count": 69,
   "id": "9fd9be6d",
   "metadata": {},
   "outputs": [],
   "source": [
    "dictionary={\"A\":\"가\",\"B\":\"나\",\"C\":\"다\",\"D\":\"라\"}"
   ]
  },
  {
   "cell_type": "code",
   "execution_count": 70,
   "id": "e8aa2e73",
   "metadata": {},
   "outputs": [],
   "source": [
    "lst=[\"가\",\"나\",\"다\",\"라\"]"
   ]
  },
  {
   "cell_type": "code",
   "execution_count": 71,
   "id": "8728d8c9",
   "metadata": {},
   "outputs": [
    {
     "data": {
      "text/plain": [
       "'가'"
      ]
     },
     "execution_count": 71,
     "metadata": {},
     "output_type": "execute_result"
    }
   ],
   "source": [
    "lst[0]"
   ]
  },
  {
   "cell_type": "markdown",
   "id": "a3db03ad",
   "metadata": {},
   "source": [
    "키는 중복될 수 없고, 벨류는 중복될수있으니까 딕셔너리는 remove에서 쓰면 안좋고 del로 표현"
   ]
  },
  {
   "cell_type": "code",
   "execution_count": 95,
   "id": "3264d0d5",
   "metadata": {},
   "outputs": [],
   "source": [
    "csb={\"이름\" :[\"홍길동\",\"임꺽정\",\"장길산\"],\n",
    "     \"나이\":[20,35,52],\n",
    "     \"키\":[160,200,180],\n",
    "     \"발사이즈\":[260,290,270]}"
   ]
  },
  {
   "cell_type": "markdown",
   "id": "5ebffed1",
   "metadata": {},
   "source": [
    "- for문을 활용해서 홍길동, 임꺽정, 장길산의 나이,키,발사이즈, 평균을 구해주세요."
   ]
  },
  {
   "cell_type": "code",
   "execution_count": 84,
   "id": "0dcdaa3e",
   "metadata": {},
   "outputs": [
    {
     "name": "stdout",
     "output_type": "stream",
     "text": [
      "['홍길동', '임꺽정', '장길산']\n",
      "[20, 35, 52]\n",
      "[160, 200, 180]\n",
      "[260, 290, 270]\n"
     ]
    }
   ],
   "source": [
    "for i in csb:\n",
    "    print(csb[i])  "
   ]
  },
  {
   "cell_type": "code",
   "execution_count": 107,
   "id": "c96bd7e9",
   "metadata": {},
   "outputs": [
    {
     "data": {
      "text/plain": [
       "{'이름': ['홍길동', '임꺽정', '장길산'],\n",
       " '나이': [20, 35, 52],\n",
       " '키': [160, 200, 180],\n",
       " '발사이즈': [260, 290, 270],\n",
       " '평균들': [35.666666666666664, 180.0, 273.3333333333333, 122.70584045584044]}"
      ]
     },
     "execution_count": 107,
     "metadata": {},
     "output_type": "execute_result"
    }
   ],
   "source": [
    "averages=[]\n",
    "for i in csb:\n",
    "    try:\n",
    "        n=0\n",
    "        for w in csb[i]:\n",
    "            n=n+w\n",
    "        averages.append(n/len(csb[i]))\n",
    "    except:\n",
    "        pass\n",
    "csb[\"평균들\"]=averages\n",
    "csb"
   ]
  },
  {
   "cell_type": "code",
   "execution_count": 100,
   "id": "c592b1ff",
   "metadata": {},
   "outputs": [
    {
     "data": {
      "text/plain": [
       "{'이름': ['홍길동', '임꺽정', '장길산'],\n",
       " '나이': [20, 35, 52],\n",
       " '키': [160, 200, 180],\n",
       " '발사이즈': [260, 290, 270],\n",
       " '평균들': [35.666666666666664, 180.0, 273.3333333333333, 106.37037037037037]}"
      ]
     },
     "execution_count": 100,
     "metadata": {},
     "output_type": "execute_result"
    }
   ],
   "source": [
    "averages=[]\n",
    "for i in list(csb.keys())[1:]:    #리스로 변경시켜서 슬라이싱 시킴\n",
    "    n=0                           \n",
    "    for w in csb[i]:\n",
    "        n=n+w\n",
    "    averages.append(n/len(csb[i]))\n",
    "csb[\"평균들\"]=averages\n",
    "csb"
   ]
  },
  {
   "cell_type": "code",
   "execution_count": 88,
   "id": "a36d1c1d",
   "metadata": {},
   "outputs": [
    {
     "name": "stdout",
     "output_type": "stream",
     "text": [
      "35.666666666666664\n"
     ]
    }
   ],
   "source": [
    "nai=[20,35,52]\n",
    "n=0\n",
    "for i in nai:\n",
    "    n=n+i\n",
    "print(n/len(nai))"
   ]
  },
  {
   "cell_type": "markdown",
   "id": "2bd226d4",
   "metadata": {},
   "source": [
    "### 정규표현식(문자열에만 해당)"
   ]
  },
  {
   "cell_type": "code",
   "execution_count": 109,
   "id": "4bdd4b1e",
   "metadata": {},
   "outputs": [],
   "source": [
    "import re  #정규표현식을 사용하려면 제일 먼저 import re를 입력하여 re모듈을 추가하고 시작"
   ]
  },
  {
   "cell_type": "code",
   "execution_count": 110,
   "id": "05a6bf59",
   "metadata": {},
   "outputs": [
    {
     "data": {
      "text/plain": [
       "re.compile(r'배고파', re.UNICODE)"
      ]
     },
     "execution_count": 110,
     "metadata": {},
     "output_type": "execute_result"
    }
   ],
   "source": [
    "a=re.compile(\"배고파\")\n",
    "a"
   ]
  },
  {
   "cell_type": "code",
   "execution_count": 113,
   "id": "f8982163",
   "metadata": {},
   "outputs": [
    {
     "data": {
      "text/plain": [
       "['배고파', '배고파', '배고파']"
      ]
     },
     "execution_count": 113,
     "metadata": {},
     "output_type": "execute_result"
    }
   ],
   "source": [
    "a.findall(\"배고파서 아 배고파 배고파 노래를 불렀다.\")"
   ]
  },
  {
   "cell_type": "code",
   "execution_count": 114,
   "id": "7d3f76b6",
   "metadata": {},
   "outputs": [
    {
     "data": {
      "text/plain": [
       "<re.Match object; span=(0, 3), match='배고파'>"
      ]
     },
     "execution_count": 114,
     "metadata": {},
     "output_type": "execute_result"
    }
   ],
   "source": [
    "a.search(\"배고파서 아 배고파 배고파 노래를 불렀다.\") #맨 앞에서 한 번만 찾고, 위치로 출력"
   ]
  },
  {
   "cell_type": "code",
   "execution_count": 111,
   "id": "a38b65e5",
   "metadata": {},
   "outputs": [],
   "source": [
    "a.match(\"배고파\")"
   ]
  },
  {
   "cell_type": "code",
   "execution_count": 112,
   "id": "02e1bba1",
   "metadata": {},
   "outputs": [
    {
     "name": "stdout",
     "output_type": "stream",
     "text": [
      "<re.Match object; span=(0, 3), match='배고파'>\n",
      "<re.Match object; span=(0, 3), match='배아파'>\n"
     ]
    }
   ],
   "source": [
    "a=re.compile(\"배.파\")\n",
    "print(a.match(\"배고파\"))\n",
    "print(a.match(\"배아파\"))"
   ]
  },
  {
   "cell_type": "markdown",
   "id": "29bfb262",
   "metadata": {},
   "source": [
    "### 정규표현식 기본문법 1\n",
    "1. .:모든것\n",
    "2. *: 0번이상 반복\n",
    "3. +: 1번이상 반복\n",
    "4. {m}:m번 반복\n",
    "5. {m,n}: m번이상, n번 이하 반복\n",
    "6. ?: 있어도 되고, 없어도 됨"
   ]
  },
  {
   "cell_type": "code",
   "execution_count": 121,
   "id": "8ec8a378",
   "metadata": {},
   "outputs": [
    {
     "name": "stdout",
     "output_type": "stream",
     "text": [
      "None\n"
     ]
    }
   ],
   "source": [
    "b=re.compile(\"배..파\")\n",
    "print(b.match(\"배고파\"))  #특정 문자로 시작하는 자료를 찾을때는 re.match를 이용해서 찾음\n",
    "                          #특정 숫자로 시작하는 자료를 찾을때는 re.search를 이용"
   ]
  },
  {
   "cell_type": "markdown",
   "id": "dbef5311",
   "metadata": {},
   "source": [
    "[0-9]:0~9/ [^0-9]: 숫자를 제외한 구성요소, [a-z]소문자 ,[A-Z]:대문자,[a-zA-Z]대소문자 다 ,[가-힣]:한글"
   ]
  },
  {
   "cell_type": "code",
   "execution_count": 122,
   "id": "a51e0813",
   "metadata": {},
   "outputs": [
    {
     "name": "stdout",
     "output_type": "stream",
     "text": [
      "<re.Match object; span=(0, 2), match='배파'>\n",
      "<re.Match object; span=(0, 3), match='배고파'>\n",
      "<re.Match object; span=(0, 4), match='배고고파'>\n",
      "<re.Match object; span=(0, 5), match='배고고고파'>\n"
     ]
    }
   ],
   "source": [
    "b=re.compile(\"배고*파\")\n",
    "print(b.match(\"배파\"))\n",
    "print(b.match(\"배고파\"))\n",
    "print(b.match(\"배고고파\"))\n",
    "print(b.match(\"배고고고파\"))"
   ]
  },
  {
   "cell_type": "code",
   "execution_count": 123,
   "id": "346f1051",
   "metadata": {},
   "outputs": [
    {
     "name": "stdout",
     "output_type": "stream",
     "text": [
      "None\n",
      "<re.Match object; span=(0, 3), match='배고파'>\n",
      "<re.Match object; span=(0, 4), match='배고고파'>\n",
      "<re.Match object; span=(0, 5), match='배고고고파'>\n"
     ]
    }
   ],
   "source": [
    "b=re.compile(\"배고+파\") #'고'가 1번이상 반복되길 원함\n",
    "print(b.match(\"배파\"))\n",
    "print(b.match(\"배고파\"))\n",
    "print(b.match(\"배고고파\"))\n",
    "print(b.match(\"배고고고파\"))"
   ]
  },
  {
   "cell_type": "code",
   "execution_count": 125,
   "id": "762d2480",
   "metadata": {},
   "outputs": [
    {
     "name": "stdout",
     "output_type": "stream",
     "text": [
      "None\n",
      "None\n",
      "<re.Match object; span=(0, 4), match='배고고파'>\n",
      "None\n"
     ]
    }
   ],
   "source": [
    "b=re.compile(\"배고{2}파\")     #{n} 반복숫자 지정가능\n",
    "print(b.match(\"배파\"))\n",
    "print(b.match(\"배고파\"))\n",
    "print(b.match(\"배고고파\"))\n",
    "print(b.match(\"배고고고파\"))"
   ]
  },
  {
   "cell_type": "code",
   "execution_count": 126,
   "id": "0dec240f",
   "metadata": {
    "scrolled": true
   },
   "outputs": [
    {
     "name": "stdout",
     "output_type": "stream",
     "text": [
      "None\n",
      "<re.Match object; span=(0, 3), match='배고파'>\n",
      "<re.Match object; span=(0, 4), match='배고고파'>\n",
      "None\n"
     ]
    }
   ],
   "source": [
    "b=re.compile(\"배고{1,2}파\")     #{m,n} 이상 이하\n",
    "print(b.match(\"배파\"))\n",
    "print(b.match(\"배고파\"))\n",
    "print(b.match(\"배고고파\"))\n",
    "print(b.match(\"배고고고파\"))"
   ]
  },
  {
   "cell_type": "code",
   "execution_count": 127,
   "id": "ec1d4715",
   "metadata": {},
   "outputs": [
    {
     "name": "stdout",
     "output_type": "stream",
     "text": [
      "<re.Match object; span=(0, 2), match='배파'>\n",
      "<re.Match object; span=(0, 3), match='배고파'>\n",
      "None\n",
      "None\n"
     ]
    }
   ],
   "source": [
    "b=re.compile(\"배고?파\")     #등장할 수 있고 안할수도 있고, 반복의미 없다\n",
    "print(b.match(\"배파\"))\n",
    "print(b.match(\"배고파\"))\n",
    "print(b.match(\"배고고파\"))\n",
    "print(b.match(\"배고고고파\"))"
   ]
  },
  {
   "cell_type": "code",
   "execution_count": 128,
   "id": "cee05ac7",
   "metadata": {},
   "outputs": [
    {
     "name": "stdout",
     "output_type": "stream",
     "text": [
      "<re.Match object; span=(0, 10), match='나는 밥을 먹었다.'>\n",
      "None\n"
     ]
    }
   ],
   "source": [
    "b=re.compile(\"나는 밥을 먹었다\\.\")\n",
    "print(b.match(\"나는 밥을 먹었다.\"))\n",
    "print(b.match(\"나는 밥을 먹었다ㅋ\"))"
   ]
  },
  {
   "cell_type": "markdown",
   "id": "ff32ce9a",
   "metadata": {},
   "source": [
    "### 괄호의 활용"
   ]
  },
  {
   "cell_type": "code",
   "execution_count": 131,
   "id": "294ab82e",
   "metadata": {},
   "outputs": [
    {
     "name": "stdout",
     "output_type": "stream",
     "text": [
      "None\n",
      "<re.Match object; span=(0, 3), match='배고파'>\n",
      "<re.Match object; span=(0, 5), match='배고파고파'>\n",
      "None\n"
     ]
    }
   ],
   "source": [
    "c=re.compile(\"배(고파)+\")     #1번이상 반복\n",
    "print(c.match(\"배\"))\n",
    "print(c.match(\"배고파\"))\n",
    "print(c.match(\"배고파고파\"))\n",
    "print(c.match(\"배고고파\"))"
   ]
  },
  {
   "cell_type": "code",
   "execution_count": 132,
   "id": "361299ff",
   "metadata": {},
   "outputs": [
    {
     "name": "stdout",
     "output_type": "stream",
     "text": [
      "None\n",
      "<re.Match object; span=(0, 2), match='배고'>\n",
      "<re.Match object; span=(0, 2), match='배파'>\n",
      "<re.Match object; span=(0, 2), match='배고'>\n"
     ]
    }
   ],
   "source": [
    "#():and / []:or\n",
    "c=re.compile(\"배[고파]\")     #[]안의 글자 1개만 포함되는 걸로 나옴 , 경우의 수를 나타냄\n",
    "print(c.match(\"배\"))\n",
    "print(c.match(\"배고\"))\n",
    "print(c.match(\"배파\"))\n",
    "print(c.match(\"배고파\"))"
   ]
  },
  {
   "cell_type": "code",
   "execution_count": 133,
   "id": "c0f22e8c",
   "metadata": {},
   "outputs": [
    {
     "name": "stdout",
     "output_type": "stream",
     "text": [
      "None\n",
      "<re.Match object; span=(0, 2), match='배고'>\n",
      "<re.Match object; span=(0, 2), match='배파'>\n",
      "<re.Match object; span=(0, 3), match='배고파'>\n"
     ]
    }
   ],
   "source": [
    "c=re.compile(\"배[고파]+\")     #[]안의 글자 1개만 포함되는 걸로 나옴 , 경우의 수를 나타냄\n",
    "print(c.match(\"배\"))\n",
    "print(c.match(\"배고\"))\n",
    "print(c.match(\"배파\"))\n",
    "print(c.match(\"배고파\"))"
   ]
  },
  {
   "cell_type": "code",
   "execution_count": 135,
   "id": "9df6511d",
   "metadata": {},
   "outputs": [
    {
     "name": "stdout",
     "output_type": "stream",
     "text": [
      "<re.Match object; span=(0, 3), match='남공고'>\n"
     ]
    }
   ],
   "source": [
    "c=re.compile(\"[여남공외]{2}고\") #[]안에 들어가있는 애들은 기본적으로 한글자만 지칭한다.\n",
    "print(c.match(\"남공고\"))"
   ]
  },
  {
   "cell_type": "code",
   "execution_count": 136,
   "id": "f68339a4",
   "metadata": {},
   "outputs": [
    {
     "name": "stdout",
     "output_type": "stream",
     "text": [
      "<re.Match object; span=(0, 7), match='외국어고등학교'>\n"
     ]
    }
   ],
   "source": [
    "c=re.compile(\"(여자|외국어|남자|공업)고등학교\")   #두글자 이상 포함된 단어를 합치려면 소괄호 소환\n",
    "print(c.match(\"외국어고등학교\"))"
   ]
  },
  {
   "cell_type": "code",
   "execution_count": 138,
   "id": "fbe871e5",
   "metadata": {},
   "outputs": [
    {
     "name": "stdout",
     "output_type": "stream",
     "text": [
      "<re.Match object; span=(0, 8), match='여자여자고등학교'>\n"
     ]
    }
   ],
   "source": [
    "c=re.compile(\"(여자|외국어|남자|공업){2}고등학교\")   #반복을 넣어주면 됨\n",
    "print(c.match(\"여자여자고등학교\"))"
   ]
  },
  {
   "cell_type": "code",
   "execution_count": null,
   "id": "8c3c832d",
   "metadata": {},
   "outputs": [],
   "source": [
    "c=re.compile(\"[0-9]\")=re.compile(\"[0123456789]\")"
   ]
  },
  {
   "cell_type": "code",
   "execution_count": 139,
   "id": "fe83c382",
   "metadata": {},
   "outputs": [
    {
     "name": "stdout",
     "output_type": "stream",
     "text": [
      "<re.Match object; span=(0, 2), match='10'>\n"
     ]
    }
   ],
   "source": [
    "c=re.compile(\"[0-9]+\")\n",
    "print(c.match(\"10\"))"
   ]
  },
  {
   "cell_type": "code",
   "execution_count": 140,
   "id": "96c39874",
   "metadata": {},
   "outputs": [
    {
     "name": "stdout",
     "output_type": "stream",
     "text": [
      "<re.Match object; span=(0, 1), match='k'>\n"
     ]
    }
   ],
   "source": [
    "c=re.compile(\"[a-z]\")\n",
    "print(c.match(\"k\"))"
   ]
  },
  {
   "cell_type": "code",
   "execution_count": 142,
   "id": "956c6f8f",
   "metadata": {},
   "outputs": [
    {
     "name": "stdout",
     "output_type": "stream",
     "text": [
      "<re.Match object; span=(0, 1), match='K'>\n"
     ]
    }
   ],
   "source": [
    "c=re.compile(\"[A-Z]\")\n",
    "print(c.match(\"K\"))"
   ]
  },
  {
   "cell_type": "code",
   "execution_count": 143,
   "id": "78c75361",
   "metadata": {},
   "outputs": [
    {
     "name": "stdout",
     "output_type": "stream",
     "text": [
      "<re.Match object; span=(0, 1), match='뺡'>\n"
     ]
    }
   ],
   "source": [
    "c=re.compile(\"[가-힣]\")    # 자음,모음 가능\n",
    "print(c.match(\"뺡\"))"
   ]
  },
  {
   "cell_type": "code",
   "execution_count": 144,
   "id": "991df32c",
   "metadata": {},
   "outputs": [
    {
     "name": "stdout",
     "output_type": "stream",
     "text": [
      "<re.Match object; span=(0, 1), match='3'>\n"
     ]
    }
   ],
   "source": [
    "c = re.compile(\"[a-zA-Z0-9]\")\n",
    "print(c.match(\"3\"))"
   ]
  },
  {
   "cell_type": "markdown",
   "id": "7ac90471",
   "metadata": {},
   "source": [
    "### 여집합 : 얘네말고~~"
   ]
  },
  {
   "cell_type": "code",
   "execution_count": 145,
   "id": "37ec65c2",
   "metadata": {},
   "outputs": [
    {
     "name": "stdout",
     "output_type": "stream",
     "text": [
      "<re.Match object; span=(0, 1), match='가'>\n"
     ]
    }
   ],
   "source": [
    "c=re.compile(\"[^0~9]\") #숫자말고 다른거랑 다 매칭됨\n",
    "print(c.match(\"가\"))"
   ]
  },
  {
   "cell_type": "markdown",
   "id": "9aa943fd",
   "metadata": {},
   "source": [
    "### 정규표현식 특수문법"
   ]
  },
  {
   "cell_type": "code",
   "execution_count": 146,
   "id": "0f6929e3",
   "metadata": {},
   "outputs": [
    {
     "name": "stdout",
     "output_type": "stream",
     "text": [
      "<re.Match object; span=(0, 1), match='9'>\n"
     ]
    }
   ],
   "source": [
    "d=re.compile(\"\\d\")   #[0-9]와 같은 표현식\n",
    "print(d.match(\"9\"))"
   ]
  },
  {
   "cell_type": "code",
   "execution_count": 147,
   "id": "2c2674f1",
   "metadata": {},
   "outputs": [
    {
     "name": "stdout",
     "output_type": "stream",
     "text": [
      "<re.Match object; span=(0, 1), match='가'>\n"
     ]
    }
   ],
   "source": [
    "d=re.compile(\"\\D\")   #[^0-9]와 같은 표현식: 숫자뺀 나머지와 매치\n",
    "print(d.match(\"가\"))"
   ]
  },
  {
   "cell_type": "code",
   "execution_count": 148,
   "id": "751c7bd0",
   "metadata": {},
   "outputs": [
    {
     "name": "stdout",
     "output_type": "stream",
     "text": [
      "<re.Match object; span=(0, 1), match=' '>\n"
     ]
    }
   ],
   "source": [
    "d=re.compile(\"\\s\")  #공백  \\S : 띄어쓰기빼고 다, 이게 더 중요\n",
    "print(d.match(\" \"))a"
   ]
  },
  {
   "cell_type": "code",
   "execution_count": 149,
   "id": "3e4909d8",
   "metadata": {},
   "outputs": [
    {
     "name": "stdout",
     "output_type": "stream",
     "text": [
      "<re.Match object; span=(0, 1), match='_'>\n"
     ]
    }
   ],
   "source": [
    "d=re.compile(\"\\w\")   #문자,숫자,'_'랑 매치 / \\W특수문자(띄어쓰기 포함)매치\n",
    "print(d.match(\"_\"))"
   ]
  },
  {
   "cell_type": "markdown",
   "id": "70f8adc7",
   "metadata": {},
   "source": [
    "### 이메일 지칭하기\n",
    "- abcdefg1121@gmail.com\n",
    "- abcdefg1121@daum.net\n",
    "- abcdefg1121@yahoo.co.kr"
   ]
  },
  {
   "cell_type": "code",
   "execution_count": 179,
   "id": "909e3147",
   "metadata": {},
   "outputs": [
    {
     "name": "stdout",
     "output_type": "stream",
     "text": [
      "<re.Match object; span=(0, 21), match='abcdefg1121@gmail.com'>\n"
     ]
    }
   ],
   "source": [
    "# mail=re.compile(\"([a-zA-Z0-9_]+)@([a-z]+)\\.([a-z]+)\")\n",
    "# print(mail.match(\"abcdefg1121@yahoo.co.kr\"))\n",
    "\n",
    "#창현쌤 답\n",
    "e=re.compile(\"\\S+@[a-zA-Z0-9]+\\.[a-zA-Z0-9]+\\.?[a-zA-Z0-9]*\")\n",
    "print(e.match(\"abcdefg1121@gmail.com\"))"
   ]
  },
  {
   "cell_type": "code",
   "execution_count": 165,
   "id": "1102e734",
   "metadata": {},
   "outputs": [
    {
     "name": "stdout",
     "output_type": "stream",
     "text": [
      "<re.Match object; span=(0, 20), match='abcdefg1121@daum.net'>\n"
     ]
    }
   ],
   "source": [
    "d = re.compile(\".*[@].*\")\n",
    "d = re.compile(\"[\\S]*[@][\\S]*\")\n",
    "print(d.match(\"abcdefg1121@daum.net\"))"
   ]
  },
  {
   "cell_type": "markdown",
   "id": "726d5025",
   "metadata": {},
   "source": [
    "전화번호 지칭하기\n",
    "- 010-1234-5678\n",
    "- 02-123-4567\n",
    "- 031)1234567\n",
    "- 0321234567\n",
    "- 112\n",
    "- 1588-5588"
   ]
  },
  {
   "cell_type": "code",
   "execution_count": 181,
   "id": "fa29b1ac",
   "metadata": {},
   "outputs": [
    {
     "name": "stdout",
     "output_type": "stream",
     "text": [
      "<re.Match object; span=(0, 11), match='02.123.4567'>\n"
     ]
    }
   ],
   "source": [
    "tel = re.compile(\"\\d*\\W*\\d*\\W*\\d*\")\n",
    "print(tel.match(\"02.123.4567\"))"
   ]
  },
  {
   "cell_type": "code",
   "execution_count": 180,
   "id": "fe553578",
   "metadata": {},
   "outputs": [
    {
     "name": "stdout",
     "output_type": "stream",
     "text": [
      "<re.Match object; span=(0, 11), match='02-123-4567'>\n"
     ]
    }
   ],
   "source": [
    "d = re.compile(\"[.*[\\W]*.*[\\W]*.*\")\n",
    "d = re.compile(\"[\\d]*[\\W]*[\\d]*[\\W]*[\\d]*\")\n",
    "print(d.match(\"02-123-4567\"))"
   ]
  },
  {
   "cell_type": "code",
   "execution_count": 182,
   "id": "f0384dde",
   "metadata": {},
   "outputs": [
    {
     "name": "stdout",
     "output_type": "stream",
     "text": [
      "<re.Match object; span=(0, 13), match='010-1234-5678'>\n"
     ]
    }
   ],
   "source": [
    "#창현쌤~~\n",
    "t=re.compile(\"[0-9]+\\W?[0-9]+-?[0-9]+\")\n",
    "print(t.match(\"010-1234-5678\"))"
   ]
  }
 ],
 "metadata": {
  "kernelspec": {
   "display_name": "Python 3 (ipykernel)",
   "language": "python",
   "name": "python3"
  },
  "language_info": {
   "codemirror_mode": {
    "name": "ipython",
    "version": 3
   },
   "file_extension": ".py",
   "mimetype": "text/x-python",
   "name": "python",
   "nbconvert_exporter": "python",
   "pygments_lexer": "ipython3",
   "version": "3.9.12"
  }
 },
 "nbformat": 4,
 "nbformat_minor": 5
}
