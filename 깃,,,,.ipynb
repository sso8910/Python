{
 "cells": [
  {
   "cell_type": "code",
   "execution_count": 1,
   "id": "242930b9",
   "metadata": {},
   "outputs": [
    {
     "name": "stderr",
     "output_type": "stream",
     "text": [
      "Cloning into 'neural-networks-and-deep-learning'...\n"
     ]
    }
   ],
   "source": [
    "!git clone https://github.com/fanghao6666/neural-networks-and-deep-learning.git"
   ]
  },
  {
   "cell_type": "code",
   "execution_count": null,
   "id": "8cf476b4",
   "metadata": {},
   "outputs": [],
   "source": []
  }
 ],
 "metadata": {
  "kernelspec": {
   "display_name": "Python 3 (ipykernel)",
   "language": "python",
   "name": "python3"
  },
  "language_info": {
   "codemirror_mode": {
    "name": "ipython",
    "version": 3
   },
   "file_extension": ".py",
   "mimetype": "text/x-python",
   "name": "python",
   "nbconvert_exporter": "python",
   "pygments_lexer": "ipython3",
   "version": "3.9.12"
  }
 },
 "nbformat": 4,
 "nbformat_minor": 5
}
