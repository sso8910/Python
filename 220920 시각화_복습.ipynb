{
 "cells": [
  {
   "cell_type": "markdown",
   "id": "871f9efc",
   "metadata": {},
   "source": [
    "#### 데이터를 시각화하기 위해서는 리스트의 개념이 중요해"
   ]
  },
  {
   "cell_type": "code",
   "execution_count": 4,
   "id": "27cc0fb0",
   "metadata": {},
   "outputs": [
    {
     "data": {
      "text/plain": [
       "'파이썬'"
      ]
     },
     "execution_count": 4,
     "metadata": {},
     "output_type": "execute_result"
    }
   ],
   "source": [
    "a = '파이썬'\n",
    "a"
   ]
  },
  {
   "cell_type": "code",
   "execution_count": 5,
   "id": "4e76699a",
   "metadata": {},
   "outputs": [
    {
     "data": {
      "text/plain": [
       "['윤석렬', '문재인', '박근혜', '노무현', '김대중']"
      ]
     },
     "execution_count": 5,
     "metadata": {},
     "output_type": "execute_result"
    }
   ],
   "source": [
    "korean_presidents=['윤석렬','문재인','박근혜','노무현','김대중']\n",
    "korean_presidents"
   ]
  },
  {
   "cell_type": "code",
   "execution_count": 7,
   "id": "b57d0c03",
   "metadata": {},
   "outputs": [
    {
     "data": {
      "text/plain": [
       "['윤석렬', '문재인', '박근혜', '노무현', '김대중', '이명박', '이명박']"
      ]
     },
     "execution_count": 7,
     "metadata": {},
     "output_type": "execute_result"
    }
   ],
   "source": [
    "korean_presidents.append ('이명박')\n",
    "korean_presidents"
   ]
  },
  {
   "cell_type": "code",
   "execution_count": 11,
   "id": "d8d6a0a2",
   "metadata": {},
   "outputs": [
    {
     "data": {
      "text/plain": [
       "['윤석렬', '문재인', '박근혜', '노무현', '김대중']"
      ]
     },
     "execution_count": 11,
     "metadata": {},
     "output_type": "execute_result"
    }
   ],
   "source": [
    "korean_presidents.remove('이명박')\n",
    "korean_presidents"
   ]
  },
  {
   "cell_type": "code",
   "execution_count": 12,
   "id": "eddf99ea",
   "metadata": {},
   "outputs": [],
   "source": [
    "from random import randint"
   ]
  },
  {
   "cell_type": "code",
   "execution_count": 13,
   "id": "a86ada99",
   "metadata": {},
   "outputs": [
    {
     "data": {
      "text/plain": [
       "4"
      ]
     },
     "execution_count": 13,
     "metadata": {},
     "output_type": "execute_result"
    }
   ],
   "source": [
    "randint(0,10)"
   ]
  },
  {
   "cell_type": "markdown",
   "id": "820a6304",
   "metadata": {},
   "source": [
    "#### randint함수를 사용해서 korean_presidents 리스트의 대통령을 랜덤하게 출력해주세요."
   ]
  },
  {
   "cell_type": "code",
   "execution_count": 21,
   "id": "8cc6ef0d",
   "metadata": {},
   "outputs": [
    {
     "data": {
      "text/plain": [
       "'노무현'"
      ]
     },
     "execution_count": 21,
     "metadata": {},
     "output_type": "execute_result"
    }
   ],
   "source": [
    "korean_presidents[randint(0,4)]"
   ]
  },
  {
   "cell_type": "code",
   "execution_count": 22,
   "id": "f780069c",
   "metadata": {},
   "outputs": [
    {
     "data": {
      "text/plain": [
       "['윤석렬', '문재인', '박근혜', '이명박', '노무현', '김대중']"
      ]
     },
     "execution_count": 22,
     "metadata": {},
     "output_type": "execute_result"
    }
   ],
   "source": [
    "korean_presidents.insert(3,'이명박')\n",
    "korean_presidents"
   ]
  },
  {
   "cell_type": "markdown",
   "id": "7f833e67",
   "metadata": {},
   "source": [
    "#### 포맷팅"
   ]
  },
  {
   "cell_type": "code",
   "execution_count": 23,
   "id": "a295fdef",
   "metadata": {},
   "outputs": [
    {
     "data": {
      "text/plain": [
       "'소정은 바나나 5개와 사과 6개를 7일동안 먹었다.'"
      ]
     },
     "execution_count": 23,
     "metadata": {},
     "output_type": "execute_result"
    }
   ],
   "source": [
    "name = \"소정\"\n",
    "banana = 5\n",
    "apples = 6\n",
    "days = 7\n",
    "\"%s은 바나나 %d개와 사과 %d개를 %d일동안 먹었다.\"%(name,banana,apples,days)"
   ]
  },
  {
   "cell_type": "code",
   "execution_count": 24,
   "id": "5f0eee3c",
   "metadata": {},
   "outputs": [
    {
     "data": {
      "text/plain": [
       "'소정은 바나나 5개와 사과 6개를 7일동안 먹었다.'"
      ]
     },
     "execution_count": 24,
     "metadata": {},
     "output_type": "execute_result"
    }
   ],
   "source": [
    "name = \"소정\"\n",
    "banana = 5\n",
    "apples = 6\n",
    "days = 7\n",
    "\"{0}은 바나나 {1}개와 사과 {2}개를 {3}일동안 먹었다.\".format(name,banana,apples,days)"
   ]
  },
  {
   "cell_type": "markdown",
   "id": "3314106f",
   "metadata": {},
   "source": [
    "#### 논리형 : 변수에 true,false할당"
   ]
  },
  {
   "cell_type": "code",
   "execution_count": 26,
   "id": "e0c26f58",
   "metadata": {},
   "outputs": [],
   "source": [
    "a = True\n",
    "b = False"
   ]
  },
  {
   "cell_type": "code",
   "execution_count": 27,
   "id": "72699fb9",
   "metadata": {},
   "outputs": [
    {
     "data": {
      "text/plain": [
       "1"
      ]
     },
     "execution_count": 27,
     "metadata": {},
     "output_type": "execute_result"
    }
   ],
   "source": [
    "a+b"
   ]
  },
  {
   "cell_type": "code",
   "execution_count": 28,
   "id": "64f640f4",
   "metadata": {},
   "outputs": [
    {
     "data": {
      "text/plain": [
       "False"
      ]
     },
     "execution_count": 28,
     "metadata": {},
     "output_type": "execute_result"
    }
   ],
   "source": [
    "a and b"
   ]
  },
  {
   "cell_type": "code",
   "execution_count": 29,
   "id": "9af7d48b",
   "metadata": {},
   "outputs": [
    {
     "data": {
      "text/plain": [
       "True"
      ]
     },
     "execution_count": 29,
     "metadata": {},
     "output_type": "execute_result"
    }
   ],
   "source": [
    "a or b"
   ]
  },
  {
   "cell_type": "code",
   "execution_count": 30,
   "id": "2987aa53",
   "metadata": {},
   "outputs": [
    {
     "data": {
      "text/plain": [
       "False"
      ]
     },
     "execution_count": 30,
     "metadata": {},
     "output_type": "execute_result"
    }
   ],
   "source": [
    "not a"
   ]
  },
  {
   "cell_type": "code",
   "execution_count": 31,
   "id": "492705ff",
   "metadata": {},
   "outputs": [
    {
     "data": {
      "text/plain": [
       "False"
      ]
     },
     "execution_count": 31,
     "metadata": {},
     "output_type": "execute_result"
    }
   ],
   "source": [
    "a == b"
   ]
  },
  {
   "cell_type": "code",
   "execution_count": 32,
   "id": "1a5a9cf2",
   "metadata": {},
   "outputs": [
    {
     "data": {
      "text/plain": [
       "True"
      ]
     },
     "execution_count": 32,
     "metadata": {},
     "output_type": "execute_result"
    }
   ],
   "source": [
    "a != b"
   ]
  },
  {
   "cell_type": "markdown",
   "id": "37497092",
   "metadata": {},
   "source": [
    "#### 반복문과 조건문\n",
    "while : 반복횟수를 모를 때, for : 반복횟수를 알 때"
   ]
  },
  {
   "cell_type": "markdown",
   "id": "afae35b2",
   "metadata": {},
   "source": [
    "현재 i의 값은 0입니다.\n",
    "현재 i의 값은 1입니다.\n",
    "...\n",
    "현재 i의 값은 9입니다."
   ]
  },
  {
   "cell_type": "code",
   "execution_count": 36,
   "id": "abb66ae1",
   "metadata": {},
   "outputs": [
    {
     "name": "stdout",
     "output_type": "stream",
     "text": [
      "현재 i의 값은 0입니다\n",
      "현재 i의 값은 1입니다\n",
      "현재 i의 값은 2입니다\n",
      "현재 i의 값은 3입니다\n",
      "현재 i의 값은 4입니다\n",
      "현재 i의 값은 5입니다\n",
      "현재 i의 값은 6입니다\n",
      "현재 i의 값은 7입니다\n",
      "현재 i의 값은 8입니다\n",
      "현재 i의 값은 9입니다\n"
     ]
    }
   ],
   "source": [
    "i= 0\n",
    "while i<10:\n",
    "    print(\"현재 i의 값은 %d입니다\"%i)\n",
    "    i+= 1"
   ]
  },
  {
   "cell_type": "code",
   "execution_count": 41,
   "id": "8e31b609",
   "metadata": {},
   "outputs": [
    {
     "name": "stdout",
     "output_type": "stream",
     "text": [
      "현재 i의 값은 0입니다\n",
      "현재 i의 값은 1입니다\n",
      "현재 i의 값은 2입니다\n",
      "현재 i의 값은 3입니다\n",
      "현재 i의 값은 4입니다\n",
      "현재 i의 값은 5입니다\n",
      "현재 i의 값은 6입니다\n",
      "현재 i의 값은 7입니다\n",
      "현재 i의 값은 8입니다\n",
      "현재 i의 값은 9입니다\n"
     ]
    }
   ],
   "source": [
    "for i in range(0,10):\n",
    "    print(\"현재 i의 값은 %d입니다\"%i)"
   ]
  },
  {
   "cell_type": "markdown",
   "id": "b418800a",
   "metadata": {},
   "source": [
    "#### for문을 사용해서 대통령들의 이름 출력하기\n",
    "ex)대통령의 이름은 윤석렬입니다."
   ]
  },
  {
   "cell_type": "code",
   "execution_count": 42,
   "id": "e9cb2ab7",
   "metadata": {},
   "outputs": [
    {
     "name": "stdout",
     "output_type": "stream",
     "text": [
      "대통령의 이름은 윤석렬입니다\n",
      "대통령의 이름은 문재인입니다\n",
      "대통령의 이름은 박근혜입니다\n",
      "대통령의 이름은 이명박입니다\n",
      "대통령의 이름은 노무현입니다\n",
      "대통령의 이름은 김대중입니다\n"
     ]
    }
   ],
   "source": [
    "for i in korean_presidents:\n",
    "    print(\"대통령의 이름은 %s입니다\"%i)"
   ]
  },
  {
   "cell_type": "markdown",
   "id": "1af538be",
   "metadata": {},
   "source": [
    "#### 구구단 3단과 4단을 출력해주세요."
   ]
  },
  {
   "cell_type": "markdown",
   "id": "18786f5e",
   "metadata": {},
   "source": [
    "==3단 시작==\n",
    "3x1=3\n",
    "3x2=6\n",
    "..."
   ]
  },
  {
   "cell_type": "code",
   "execution_count": 44,
   "id": "d928e424",
   "metadata": {},
   "outputs": [
    {
     "name": "stdout",
     "output_type": "stream",
     "text": [
      "==3단 시작==\n",
      "3 x 1 = 3\n",
      "3 x 2 = 6\n",
      "3 x 3 = 9\n",
      "3 x 4 = 12\n",
      "3 x 5 = 15\n",
      "3 x 6 = 18\n",
      "3 x 7 = 21\n",
      "3 x 8 = 24\n",
      "3 x 9 = 27\n",
      "==4단 시작==\n",
      "4 x 1 = 4\n",
      "4 x 2 = 8\n",
      "4 x 3 = 12\n",
      "4 x 4 = 16\n",
      "4 x 5 = 20\n",
      "4 x 6 = 24\n",
      "4 x 7 = 28\n",
      "4 x 8 = 32\n",
      "4 x 9 = 36\n"
     ]
    }
   ],
   "source": [
    "for a in range(3,5):\n",
    "    print(\"==%d단 시작==\"%a)\n",
    "    for b in range(1,10):\n",
    "        print(\"%d x %d = %d\"%(a,b,a*b))"
   ]
  }
 ],
 "metadata": {
  "kernelspec": {
   "display_name": "Python 3 (ipykernel)",
   "language": "python",
   "name": "python3"
  },
  "language_info": {
   "codemirror_mode": {
    "name": "ipython",
    "version": 3
   },
   "file_extension": ".py",
   "mimetype": "text/x-python",
   "name": "python",
   "nbconvert_exporter": "python",
   "pygments_lexer": "ipython3",
   "version": "3.9.12"
  }
 },
 "nbformat": 4,
 "nbformat_minor": 5
}
