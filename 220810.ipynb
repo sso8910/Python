{
 "cells": [
  {
   "cell_type": "code",
   "execution_count": 3,
   "id": "023ef368",
   "metadata": {},
   "outputs": [
    {
     "name": "stdout",
     "output_type": "stream",
     "text": [
      "오늘의 메뉴는 꽈배기와 짬뽕입니다.\n"
     ]
    }
   ],
   "source": [
    "# lunch_menu = \"곱창볶음\"\n",
    "lunch_menu2 = \"꽈배기\"\n",
    "lunch_menu3 = \"짬뽕\"\n",
    "sutja=7\n",
    "\n",
    "#print(\"오늘의 메뉴는 곱창볶음입니다.\")\n",
    "# print(\"오늘의 메뉴는 %s입니다.\"%lunch_menu)\n",
    "#%s는 문자열 , %d는 숫자 \n",
    "print(\"오늘의 메뉴는 %s와 %s입니다.\"%(lunch_menu2,lunch_menu3))"
   ]
  },
  {
   "cell_type": "markdown",
   "id": "c2028570",
   "metadata": {},
   "source": [
    "# 포맷함수"
   ]
  },
  {
   "cell_type": "code",
   "execution_count": null,
   "id": "ffc1ca12",
   "metadata": {},
   "outputs": [],
   "source": [
    "lunch_menu1 = \"곱창볶음\"\n",
    "lunch_menu2 = \"꽈배기\"\n",
    "# lunch_menu = \"짬뽕\"\n",
    "#포맷은 문자열에 상관없음\n",
    "#print(\"오늘의 메뉴는 {}입니다.\".format(lunch_menu))\n",
    "#print(\"오늘의 메뉴는 {}와 {}입니다.\".format(lunch_menu1,lunch_menu2))\n",
    "#print(\"오늘의 메뉴는 {1}와 {0}입니다.\".format(lunch_menu1,lunch_menu2))\n",
    "print(f\"오늘의 메뉴는 {lunch_menu1}와 {lunch_menu2}입니다.\")"
   ]
  },
  {
   "cell_type": "markdown",
   "id": "71a92340",
   "metadata": {},
   "source": [
    "#### 변수 x에 100을 대입하고, 변수 y에 200을 대입한 뒤, 변수 add에 x와 y의 합을 대입합니다.\n",
    "   - 그 후, 대입한 변수를 바탕으로 아래 문자를 출력합니다.\n",
    "   - \"100과 200의 합은 300입니다.\""
   ]
  },
  {
   "cell_type": "code",
   "execution_count": 13,
   "id": "9e9ac39d",
   "metadata": {},
   "outputs": [
    {
     "name": "stdout",
     "output_type": "stream",
     "text": [
      "100과200의 합은300입니다.\n"
     ]
    }
   ],
   "source": [
    "x = 100\n",
    "y = 200\n",
    "add= x+y\n",
    "# print(f\"{x}과{y}의 합은{add}입니다.\")\n",
    "print(\"{}과{}의 합은{}입니다.\".format(x,y,add))"
   ]
  },
  {
   "cell_type": "code",
   "execution_count": 36,
   "id": "2da4910b",
   "metadata": {},
   "outputs": [
    {
     "data": {
      "text/plain": [
       "3"
      ]
     },
     "execution_count": 36,
     "metadata": {},
     "output_type": "execute_result"
    }
   ],
   "source": [
    "song=\"tell me tell me tetetete tell me\"\n",
    "song.count(\"tell me\")"
   ]
  },
  {
   "cell_type": "code",
   "execution_count": 37,
   "id": "ff030b30",
   "metadata": {},
   "outputs": [
    {
     "data": {
      "text/plain": [
       "16"
      ]
     },
     "execution_count": 37,
     "metadata": {},
     "output_type": "execute_result"
    }
   ],
   "source": [
    "song.find(\"tetete\")\n",
    "#te의 t가 시작되는 인덱스지점"
   ]
  },
  {
   "cell_type": "code",
   "execution_count": 38,
   "id": "970ec88b",
   "metadata": {},
   "outputs": [
    {
     "data": {
      "text/plain": [
       "'TELL ME TELL ME TETETETE TELL ME'"
      ]
     },
     "execution_count": 38,
     "metadata": {},
     "output_type": "execute_result"
    }
   ],
   "source": [
    "song.upper()\n",
    "#대문자 변환"
   ]
  },
  {
   "cell_type": "code",
   "execution_count": 39,
   "id": "9d4952a0",
   "metadata": {},
   "outputs": [
    {
     "data": {
      "text/plain": [
       "'tell me tell me tetetete tell me'"
      ]
     },
     "execution_count": 39,
     "metadata": {},
     "output_type": "execute_result"
    }
   ],
   "source": [
    "# song=song.upper()\n",
    "song\n",
    "#upper로 바꿔줘야 song을 출력해도 대문자로 나옴"
   ]
  },
  {
   "cell_type": "code",
   "execution_count": 40,
   "id": "b09ca7f4",
   "metadata": {},
   "outputs": [
    {
     "data": {
      "text/plain": [
       "'tell me tell me tetetete tell me'"
      ]
     },
     "execution_count": 40,
     "metadata": {},
     "output_type": "execute_result"
    }
   ],
   "source": [
    "song.lower()\n",
    "#소문자 변환"
   ]
  },
  {
   "cell_type": "code",
   "execution_count": 41,
   "id": "f55e8cc0",
   "metadata": {},
   "outputs": [
    {
     "data": {
      "text/plain": [
       "'Tell Me Tell Me Tetetete Tell Me'"
      ]
     },
     "execution_count": 41,
     "metadata": {},
     "output_type": "execute_result"
    }
   ],
   "source": [
    "song.title()\n",
    "#첫번째 단어만 대문자로 바꿔줌"
   ]
  },
  {
   "cell_type": "markdown",
   "id": "10f766df",
   "metadata": {},
   "source": [
    "텍스트 데이터 사용시 많이 쓸 함수"
   ]
  },
  {
   "cell_type": "code",
   "execution_count": 42,
   "id": "8036a9c1",
   "metadata": {},
   "outputs": [
    {
     "data": {
      "text/plain": [
       "'yell me yell me yeyeyeye yell me'"
      ]
     },
     "execution_count": 42,
     "metadata": {},
     "output_type": "execute_result"
    }
   ],
   "source": [
    "song.replace(\"t\" , \"y\")"
   ]
  },
  {
   "cell_type": "code",
   "execution_count": 43,
   "id": "ce10b7c9",
   "metadata": {},
   "outputs": [
    {
     "data": {
      "text/plain": [
       "['tell', 'me', 'tell', 'me', 'tetetete', 'tell', 'me']"
      ]
     },
     "execution_count": 43,
     "metadata": {},
     "output_type": "execute_result"
    }
   ],
   "source": [
    "song.split(\" \")"
   ]
  },
  {
   "cell_type": "code",
   "execution_count": 46,
   "id": "f0371aa9",
   "metadata": {},
   "outputs": [
    {
     "data": {
      "text/plain": [
       "['나는 밥을 먹었다', '아주 맛이 있었다.']"
      ]
     },
     "execution_count": 46,
     "metadata": {},
     "output_type": "execute_result"
    }
   ],
   "source": [
    "sentence = \"나는 밥을 먹었다. 아주 맛이 있었다.\"\n",
    "sentence.split(\". \")\n",
    "#문장단위로 끊으려면 .+space"
   ]
  },
  {
   "cell_type": "code",
   "execution_count": 50,
   "id": "a5722c12",
   "metadata": {},
   "outputs": [
    {
     "data": {
      "text/plain": [
       "'tell'"
      ]
     },
     "execution_count": 50,
     "metadata": {},
     "output_type": "execute_result"
    }
   ],
   "source": [
    "ah_ryeon = \"     tell    \"\n",
    "ah_ryeon.strip() #양끝공백지움"
   ]
  },
  {
   "cell_type": "code",
   "execution_count": 51,
   "id": "b482fba5",
   "metadata": {},
   "outputs": [
    {
     "data": {
      "text/plain": [
       "'     tell'"
      ]
     },
     "execution_count": 51,
     "metadata": {},
     "output_type": "execute_result"
    }
   ],
   "source": [
    "ah_ryeon = \"     tell    \"\n",
    "ah_ryeon.rstrip() #오른쪽공백삭제"
   ]
  },
  {
   "cell_type": "code",
   "execution_count": 52,
   "id": "d21601b5",
   "metadata": {},
   "outputs": [
    {
     "data": {
      "text/plain": [
       "'tell    '"
      ]
     },
     "execution_count": 52,
     "metadata": {},
     "output_type": "execute_result"
    }
   ],
   "source": [
    "ah_ryeon = \"     tell    \"\n",
    "ah_ryeon.lstrip()  #왼쪽공백삭제"
   ]
  },
  {
   "cell_type": "code",
   "execution_count": 57,
   "id": "4aa315ef",
   "metadata": {},
   "outputs": [
    {
     "data": {
      "text/plain": [
       "'tell'"
      ]
     },
     "execution_count": 57,
     "metadata": {},
     "output_type": "execute_result"
    }
   ],
   "source": [
    "ah_ryeon = \"....tell....\"\n",
    "ah_ryeon.strip(\".\") #.삭제"
   ]
  }
 ],
 "metadata": {
  "kernelspec": {
   "display_name": "Python 3 (ipykernel)",
   "language": "python",
   "name": "python3"
  },
  "language_info": {
   "codemirror_mode": {
    "name": "ipython",
    "version": 3
   },
   "file_extension": ".py",
   "mimetype": "text/x-python",
   "name": "python",
   "nbconvert_exporter": "python",
   "pygments_lexer": "ipython3",
   "version": "3.9.12"
  }
 },
 "nbformat": 4,
 "nbformat_minor": 5
}
