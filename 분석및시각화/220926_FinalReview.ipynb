{
 "cells": [
  {
   "cell_type": "code",
   "execution_count": 1,
   "id": "51e24350",
   "metadata": {},
   "outputs": [],
   "source": [
    "import numpy as np\n",
    "import pandas as pd\n",
    "import matplotlib.pyplot as plt\n",
    "import seaborn as sns\n",
    "\n",
    "from sklearn.ensemble import RandomForestRegressor\n",
    "from sklearn.linear_model import LinearRegression\n",
    "\n",
    "import warnings\n",
    "warnings.filterwarnings('ignore')\n",
    "\n",
    "from matplotlib.pylab import rcParams\n",
    "rcParams['figure.figsize'] = 17, 8\n",
    "rcParams['font.family'] ='AppleGothic'"
   ]
  },
  {
   "cell_type": "code",
   "execution_count": 2,
   "id": "25e0c978",
   "metadata": {},
   "outputs": [
    {
     "name": "stdout",
     "output_type": "stream",
     "text": [
      "       발생년      발생년월일시  발생분  주야 요일  사망자수  사상자수  중상자수  경상자수  부상신고자수  ...  \\\n",
      "0     2017  2017010101   15  야간  일     1     2     1     0       0  ...   \n",
      "1     2017  2017010102   28  야간  일     1     1     0     0       0  ...   \n",
      "2     2017  2017010102   43  야간  일     1     2     0     1       0  ...   \n",
      "3     2017  2017010102   22  야간  일     1     1     0     0       0  ...   \n",
      "4     2017  2017010104   37  야간  일     1     1     0     0       0  ...   \n",
      "...    ...         ...  ...  .. ..   ...   ...   ...   ...     ...  ...   \n",
      "4060  2017  2017123118   10  야간  일     1     4     1     0       2  ...   \n",
      "4061  2017  2017123118   25  야간  일     1     1     0     0       0  ...   \n",
      "4062  2017  2017123119   55  야간  일     1     1     0     0       0  ...   \n",
      "4063  2017  2017123120   40  야간  일     1    11     1     9       0  ...   \n",
      "4064  2017  2017123123   15  야간  일     1     1     0     0       0  ...   \n",
      "\n",
      "     도로형태_대분류   도로형태 당사자종별_1당_대분류  당사자종별_1당 당사자종별_2당_대분류 당사자종별_2당 발생위치X_UTMK  \\\n",
      "0         단일로  기타단일로          승용차       승용차          승용차      승용차     933501   \n",
      "1         교차로  교차로부근          승용차       승용차          보행자      보행자     967570   \n",
      "2         단일로  기타단일로          승용차       승용차          승용차      승용차     916497   \n",
      "3         단일로  기타단일로          승용차       승용차           없음       없음     961608   \n",
      "4         단일로  기타단일로          승용차       승용차          보행자      보행자     946778   \n",
      "...       ...    ...          ...       ...          ...      ...        ...   \n",
      "4060      단일로  기타단일로          화물차       화물차          화물차      화물차    1044531   \n",
      "4061      단일로  기타단일로     원동기장치자전거  원동기장치자전거           없음       없음    1160683   \n",
      "4062      단일로  기타단일로          화물차       화물차           없음       없음    1067639   \n",
      "4063      단일로  기타단일로          승용차       승용차          승용차      승용차     961004   \n",
      "4064      단일로  기타단일로          이륜차       이륜차          보행자      보행자     995304   \n",
      "\n",
      "     발생위치Y_UTMK          경도         위도  \n",
      "0       1700129  126.768634  35.294464  \n",
      "1       1944453  127.133107  37.498741  \n",
      "2       1842880  126.566631  36.580069  \n",
      "3       1864573  127.069759  36.778505  \n",
      "4       1941695  126.898094  37.472946  \n",
      "...         ...         ...        ...  \n",
      "4060    1682838  127.988833  35.139774  \n",
      "4061    1704380  129.267745  35.322087  \n",
      "4062    1980346  128.268522  37.820351  \n",
      "4063    1987481  127.056525  37.886331  \n",
      "4064    1814453  127.447679  36.327435  \n",
      "\n",
      "[4065 rows x 27 columns]\n"
     ]
    }
   ],
   "source": [
    "test=pd.read_csv('Traffic_Accident_2017.csv',encoding='euc-kr')\n",
    "print(test)"
   ]
  },
  {
   "cell_type": "code",
   "execution_count": 4,
   "id": "ce72c445",
   "metadata": {},
   "outputs": [
    {
     "data": {
      "text/plain": [
       "Index(['발생년', '발생년월일시', '발생분', '주야', '요일', '사망자수', '사상자수', '중상자수', '경상자수',\n",
       "       '부상신고자수', '발생지시도', '발생지시군구', '사고유형_대분류', '사고유형_중분류', '사고유형', '법규위반_대분류',\n",
       "       '법규위반', '도로형태_대분류', '도로형태', '당사자종별_1당_대분류', '당사자종별_1당', '당사자종별_2당_대분류',\n",
       "       '당사자종별_2당', '발생위치X_UTMK', '발생위치Y_UTMK', '경도', '위도'],\n",
       "      dtype='object')"
      ]
     },
     "execution_count": 4,
     "metadata": {},
     "output_type": "execute_result"
    }
   ],
   "source": [
    "test.columns"
   ]
  },
  {
   "cell_type": "code",
   "execution_count": 13,
   "id": "bb410813",
   "metadata": {},
   "outputs": [
    {
     "data": {
      "text/html": [
       "<div>\n",
       "<style scoped>\n",
       "    .dataframe tbody tr th:only-of-type {\n",
       "        vertical-align: middle;\n",
       "    }\n",
       "\n",
       "    .dataframe tbody tr th {\n",
       "        vertical-align: top;\n",
       "    }\n",
       "\n",
       "    .dataframe thead th {\n",
       "        text-align: right;\n",
       "    }\n",
       "</style>\n",
       "<table border=\"1\" class=\"dataframe\">\n",
       "  <thead>\n",
       "    <tr style=\"text-align: right;\">\n",
       "      <th></th>\n",
       "      <th>경도</th>\n",
       "      <th>위도</th>\n",
       "    </tr>\n",
       "  </thead>\n",
       "  <tbody>\n",
       "    <tr>\n",
       "      <th>0</th>\n",
       "      <td>126.768634</td>\n",
       "      <td>35.294464</td>\n",
       "    </tr>\n",
       "    <tr>\n",
       "      <th>1</th>\n",
       "      <td>127.133107</td>\n",
       "      <td>37.498741</td>\n",
       "    </tr>\n",
       "    <tr>\n",
       "      <th>2</th>\n",
       "      <td>126.566631</td>\n",
       "      <td>36.580069</td>\n",
       "    </tr>\n",
       "    <tr>\n",
       "      <th>3</th>\n",
       "      <td>127.069759</td>\n",
       "      <td>36.778505</td>\n",
       "    </tr>\n",
       "    <tr>\n",
       "      <th>4</th>\n",
       "      <td>126.898094</td>\n",
       "      <td>37.472946</td>\n",
       "    </tr>\n",
       "    <tr>\n",
       "      <th>...</th>\n",
       "      <td>...</td>\n",
       "      <td>...</td>\n",
       "    </tr>\n",
       "    <tr>\n",
       "      <th>4060</th>\n",
       "      <td>127.988833</td>\n",
       "      <td>35.139774</td>\n",
       "    </tr>\n",
       "    <tr>\n",
       "      <th>4061</th>\n",
       "      <td>129.267745</td>\n",
       "      <td>35.322087</td>\n",
       "    </tr>\n",
       "    <tr>\n",
       "      <th>4062</th>\n",
       "      <td>128.268522</td>\n",
       "      <td>37.820351</td>\n",
       "    </tr>\n",
       "    <tr>\n",
       "      <th>4063</th>\n",
       "      <td>127.056525</td>\n",
       "      <td>37.886331</td>\n",
       "    </tr>\n",
       "    <tr>\n",
       "      <th>4064</th>\n",
       "      <td>127.447679</td>\n",
       "      <td>36.327435</td>\n",
       "    </tr>\n",
       "  </tbody>\n",
       "</table>\n",
       "<p>4065 rows × 2 columns</p>\n",
       "</div>"
      ],
      "text/plain": [
       "              경도         위도\n",
       "0     126.768634  35.294464\n",
       "1     127.133107  37.498741\n",
       "2     126.566631  36.580069\n",
       "3     127.069759  36.778505\n",
       "4     126.898094  37.472946\n",
       "...          ...        ...\n",
       "4060  127.988833  35.139774\n",
       "4061  129.267745  35.322087\n",
       "4062  128.268522  37.820351\n",
       "4063  127.056525  37.886331\n",
       "4064  127.447679  36.327435\n",
       "\n",
       "[4065 rows x 2 columns]"
      ]
     },
     "execution_count": 13,
     "metadata": {},
     "output_type": "execute_result"
    }
   ],
   "source": [
    "test[['경도','위도']]"
   ]
  }
 ],
 "metadata": {
  "kernelspec": {
   "display_name": "Python 3 (ipykernel)",
   "language": "python",
   "name": "python3"
  },
  "language_info": {
   "codemirror_mode": {
    "name": "ipython",
    "version": 3
   },
   "file_extension": ".py",
   "mimetype": "text/x-python",
   "name": "python",
   "nbconvert_exporter": "python",
   "pygments_lexer": "ipython3",
   "version": "3.9.12"
  }
 },
 "nbformat": 4,
 "nbformat_minor": 5
}
