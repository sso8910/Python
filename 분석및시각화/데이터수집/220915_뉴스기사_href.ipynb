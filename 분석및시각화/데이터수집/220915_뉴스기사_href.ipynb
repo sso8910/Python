{
 "cells": [
  {
   "cell_type": "markdown",
   "id": "6d4ce579",
   "metadata": {},
   "source": [
    "### 뉴스기사 페이지에서 href주소 따오기\n",
    "- 트렌드 분석에 잘 사용"
   ]
  },
  {
   "cell_type": "code",
   "execution_count": 3,
   "id": "cc845697",
   "metadata": {},
   "outputs": [],
   "source": [
    "from selenium import webdriver\n",
    "from bs4 import BeautifulSoup as bs\n",
    "from webdriver_manager.chrome import ChromeDriverManager\n",
    "import time\n",
    "#import pandas as pd\n",
    "#from tqdm import tqdm\n",
    "#from selenium.webdriver.common.keys import Keys"
   ]
  },
  {
   "cell_type": "code",
   "execution_count": 4,
   "id": "9d751601",
   "metadata": {},
   "outputs": [],
   "source": [
    "#url 첫번째 페이지 추출\n",
    "driver = webdriver.Chrome(ChromeDriverManager().install())\n",
    "driver.get(\"https://news.sbs.co.kr/news/newsflash.do?plink=SNB&cooper=SBSNEWS\")\n",
    "driver.maximize_window()"
   ]
  },
  {
   "cell_type": "code",
   "execution_count": 6,
   "id": "c3f01f3e",
   "metadata": {},
   "outputs": [],
   "source": [
    "soup = bs(driver.page_source, 'html.parser')"
   ]
  },
  {
   "cell_type": "code",
   "execution_count": 7,
   "id": "505d43ea",
   "metadata": {},
   "outputs": [],
   "source": [
    "#select사용\n",
    "serach = soup.select('a.news')"
   ]
  },
  {
   "cell_type": "code",
   "execution_count": 10,
   "id": "2ea78a69",
   "metadata": {},
   "outputs": [
    {
     "name": "stdout",
     "output_type": "stream",
     "text": [
      "https://news.sbs.co.kr//news/endPage.do?news_id=N1006896850\n",
      "https://news.sbs.co.kr//news/endPage.do?news_id=N1006896789\n",
      "https://news.sbs.co.kr//news/endPage.do?news_id=N1006896739\n",
      "https://news.sbs.co.kr//news/endPage.do?news_id=N1006896742\n",
      "https://news.sbs.co.kr//news/endPage.do?news_id=N1006896741\n",
      "https://news.sbs.co.kr//news/endPage.do?news_id=N1006896740\n",
      "https://news.sbs.co.kr//news/endPage.do?news_id=N1006896738\n",
      "https://news.sbs.co.kr//news/endPage.do?news_id=N1006896736\n",
      "https://news.sbs.co.kr//news/endPage.do?news_id=N1006896775\n",
      "https://news.sbs.co.kr//news/endPage.do?news_id=N1006896771\n"
     ]
    }
   ],
   "source": [
    "for i in serach:\n",
    "    print('https://news.sbs.co.kr/'+i['href'])"
   ]
  },
  {
   "cell_type": "code",
   "execution_count": 11,
   "id": "1e9249de",
   "metadata": {},
   "outputs": [],
   "source": [
    "#findall 사용\n",
    "search2 = soup.find_all('a',class_='news')"
   ]
  },
  {
   "cell_type": "code",
   "execution_count": 12,
   "id": "e820d338",
   "metadata": {},
   "outputs": [
    {
     "name": "stdout",
     "output_type": "stream",
     "text": [
      "https://news.sbs.co.kr//news/endPage.do?news_id=N1006896850\n",
      "https://news.sbs.co.kr//news/endPage.do?news_id=N1006896789\n",
      "https://news.sbs.co.kr//news/endPage.do?news_id=N1006896739\n",
      "https://news.sbs.co.kr//news/endPage.do?news_id=N1006896742\n",
      "https://news.sbs.co.kr//news/endPage.do?news_id=N1006896741\n",
      "https://news.sbs.co.kr//news/endPage.do?news_id=N1006896740\n",
      "https://news.sbs.co.kr//news/endPage.do?news_id=N1006896738\n",
      "https://news.sbs.co.kr//news/endPage.do?news_id=N1006896736\n",
      "https://news.sbs.co.kr//news/endPage.do?news_id=N1006896775\n",
      "https://news.sbs.co.kr//news/endPage.do?news_id=N1006896771\n"
     ]
    }
   ],
   "source": [
    "for i in search2:\n",
    "    print('https://news.sbs.co.kr/'+i['href'])"
   ]
  },
  {
   "cell_type": "code",
   "execution_count": null,
   "id": "a907f407",
   "metadata": {},
   "outputs": [],
   "source": [
    "# url 첫페이지 추출\n",
    "driver = webdriver.Chrome(ChromeDriverManager().install()) \n",
    "driver.get(\"https://news.sbs.co.kr/news/newsflash.do?plink=NEW&cooper=SBSNEWSMAIN\")\n",
    "\n",
    "#select 사용\n",
    "soup = bs(driver.page_source, 'html.parser')\n",
    "serach = soup.select('a.news')\n",
    "for i in serach:\n",
    "    print('https://news.sbs.co.kr/'+i['href'])\n",
    "\n",
    "#findall 사용\n",
    "search2 = soup.find_all('a', class_='news')\n",
    "for i in search2:\n",
    "    print('https://news.sbs.co.kr/'+i['href'])\n"
   ]
  },
  {
   "cell_type": "markdown",
   "id": "d2c43800",
   "metadata": {},
   "source": [
    "### 여러페이지 넘어가기\n",
    "- URL이 넘어갈 때, pageindex 숫자가 바뀌나 안바뀌나 먼저 확인하기"
   ]
  },
  {
   "cell_type": "code",
   "execution_count": 18,
   "id": "a4ad632c",
   "metadata": {},
   "outputs": [],
   "source": [
    "url_list=[]\n",
    "for i in range(1,6):\n",
    "    page_url = 'https://news.sbs.co.kr/news/newsflash.do?plink=SNB&cooper=SBSNEWS&pageIdx={}'.format(i)\n",
    "    driver.get(page_url)\n",
    "    time.sleep(1)  #웹 페이지가 바뀌면 반드시 로딩 시간을 주는게 좋다\n",
    "    \n",
    "    #객체화 진행하기_페이지 바뀌면 진행되야함\n",
    "    soup.bs=(driver.page_source, 'html.parser')\n",
    "    search = soup.select('a.news')\n",
    "    for i in search:\n",
    "        url_list.append('https://news.sbs.co.kr/'+i['href'])\n",
    "    \n",
    "    "
   ]
  },
  {
   "cell_type": "code",
   "execution_count": 19,
   "id": "63b8aa0c",
   "metadata": {},
   "outputs": [
    {
     "data": {
      "text/plain": [
       "50"
      ]
     },
     "execution_count": 19,
     "metadata": {},
     "output_type": "execute_result"
    }
   ],
   "source": [
    "len(url_list)"
   ]
  },
  {
   "cell_type": "markdown",
   "id": "8d546497",
   "metadata": {},
   "source": [
    "### 상세페이지 내 기사 제목+내용 추출해오기(url도 가져오면 좋음)"
   ]
  },
  {
   "cell_type": "code",
   "execution_count": 30,
   "id": "2d35c701",
   "metadata": {},
   "outputs": [],
   "source": [
    "title_list=[]\n",
    "contents_list=[]\n",
    "\n",
    "for url in url_list:\n",
    "    driver.get(url)\n",
    "    time.sleep(1)  #웹 페이지가 바뀌면 반드시 로딩 시간을 주는게 좋다\n",
    "    #객체화 진행하기_페이지 바뀌면 진행되야함\n",
    "    soup = bs(driver.page_source, 'html.parser')\n",
    "    \n",
    "    #기사제목\n",
    "    title = soup.select('h2.blind.ir')\n",
    "#    for i in title:\n",
    "#        title_list.append(i.text)\n",
    "    title_list.append(title[0].text)\n",
    "    \n",
    "    #기사내용\n",
    "    content = soup.select('div.text_area')\n",
    "#    for i in title:\n",
    "#        contents_list.append(i.text)\n",
    "    contents_list.append(content[0].text)"
   ]
  },
  {
   "cell_type": "code",
   "execution_count": 31,
   "id": "b496ccce",
   "metadata": {},
   "outputs": [
    {
     "data": {
      "text/plain": [
       "(50, 50)"
      ]
     },
     "execution_count": 31,
     "metadata": {},
     "output_type": "execute_result"
    }
   ],
   "source": [
    "len(title_list),len(contents_list)"
   ]
  }
 ],
 "metadata": {
  "kernelspec": {
   "display_name": "Python 3 (ipykernel)",
   "language": "python",
   "name": "python3"
  },
  "language_info": {
   "codemirror_mode": {
    "name": "ipython",
    "version": 3
   },
   "file_extension": ".py",
   "mimetype": "text/x-python",
   "name": "python",
   "nbconvert_exporter": "python",
   "pygments_lexer": "ipython3",
   "version": "3.9.12"
  }
 },
 "nbformat": 4,
 "nbformat_minor": 5
}
