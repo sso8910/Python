{
 "cells": [
  {
   "cell_type": "code",
   "execution_count": 1,
   "id": "21839297",
   "metadata": {},
   "outputs": [],
   "source": [
    "import numpy as np"
   ]
  },
  {
   "cell_type": "code",
   "execution_count": 5,
   "id": "aa66d304",
   "metadata": {},
   "outputs": [
    {
     "name": "stdout",
     "output_type": "stream",
     "text": [
      "[0. 0. 0. 0. 0. 0. 0. 0. 0. 0.]\n"
     ]
    }
   ],
   "source": [
    "z = np.zeros(10)\n",
    "print(z)"
   ]
  },
  {
   "cell_type": "code",
   "execution_count": 6,
   "id": "9a0efd80",
   "metadata": {},
   "outputs": [
    {
     "name": "stdout",
     "output_type": "stream",
     "text": [
      "[0. 0. 0. 0. 1. 0. 0. 0. 0. 0.]\n"
     ]
    }
   ],
   "source": [
    "z = np.zeros(10)\n",
    "z[4]=1\n",
    "print(z)"
   ]
  },
  {
   "cell_type": "code",
   "execution_count": 8,
   "id": "b69a87d1",
   "metadata": {},
   "outputs": [
    {
     "name": "stdout",
     "output_type": "stream",
     "text": [
      "[10 11 12 13 14 15 16 17 18 19 20 21 22 23 24 25 26 27 28 29 30 31 32 33\n",
      " 34 35 36 37 38 39 40 41 42 43 44 45 46 47 48 49]\n"
     ]
    }
   ],
   "source": [
    "z=np.arange(10,50)\n",
    "print(z)"
   ]
  },
  {
   "cell_type": "code",
   "execution_count": 12,
   "id": "1e518fe2",
   "metadata": {},
   "outputs": [
    {
     "name": "stdout",
     "output_type": "stream",
     "text": [
      "[[0 1 2]\n",
      " [3 4 5]\n",
      " [6 7 8]]\n"
     ]
    }
   ],
   "source": [
    "z=np.arange(9).reshape(3,3)\n",
    "print(z)"
   ]
  },
  {
   "cell_type": "code",
   "execution_count": 14,
   "id": "49f5157b",
   "metadata": {},
   "outputs": [
    {
     "name": "stdout",
     "output_type": "stream",
     "text": [
      "[[[0.20528977 0.34395341 0.60858849]\n",
      "  [0.26468183 0.98700344 0.75264521]\n",
      "  [0.88399707 0.08536681 0.04954885]]\n",
      "\n",
      " [[0.48606807 0.5144685  0.76167356]\n",
      "  [0.84302896 0.60408625 0.4345911 ]\n",
      "  [0.00248637 0.37148898 0.51048262]]\n",
      "\n",
      " [[0.03494309 0.9358496  0.02205581]\n",
      "  [0.52134612 0.09220268 0.7815146 ]\n",
      "  [0.61617158 0.62827534 0.97028236]]]\n"
     ]
    }
   ],
   "source": [
    "z=np.random.random((3,3,3))\n",
    "print(z)"
   ]
  },
  {
   "cell_type": "markdown",
   "id": "2c5e8f77",
   "metadata": {},
   "source": [
    "- 전체 요소가 30인 numpy 3차원 배열 만들기\n",
    "- 그 배열의 평균값 구하기"
   ]
  },
  {
   "cell_type": "code",
   "execution_count": 15,
   "id": "d18c0a65",
   "metadata": {},
   "outputs": [
    {
     "name": "stdout",
     "output_type": "stream",
     "text": [
      "[0.59711008 0.78629353 0.60368829 0.84231307 0.69988816 0.26820014\n",
      " 0.12515013 0.14252681 0.25310995 0.73534404 0.73667759 0.94537222\n",
      " 0.34161137 0.99732476 0.80880885 0.49592462 0.88890516 0.37587497\n",
      " 0.68718099 0.09240702 0.5577288  0.65260648 0.36753837 0.11578764\n",
      " 0.75693505 0.57425646 0.57134645 0.94289675 0.65805872 0.49182321]\n"
     ]
    }
   ],
   "source": [
    "z= np.random.random(30)\n",
    "print(z)"
   ]
  },
  {
   "cell_type": "code",
   "execution_count": 16,
   "id": "8a9349e1",
   "metadata": {},
   "outputs": [
    {
     "name": "stdout",
     "output_type": "stream",
     "text": [
      "0.570422988676642\n"
     ]
    }
   ],
   "source": [
    "m=z.mean()\n",
    "print(m)"
   ]
  },
  {
   "cell_type": "code",
   "execution_count": 17,
   "id": "6e8bfd9d",
   "metadata": {},
   "outputs": [],
   "source": [
    "mid_score = [10,20,30]\n",
    "final_score=[70,80,90]"
   ]
  },
  {
   "cell_type": "code",
   "execution_count": 18,
   "id": "b31db20f",
   "metadata": {},
   "outputs": [
    {
     "name": "stdout",
     "output_type": "stream",
     "text": [
      "[10, 20, 30, 70, 80, 90]\n"
     ]
    }
   ],
   "source": [
    "total=mid_score + final_score\n",
    "print(total)"
   ]
  },
  {
   "cell_type": "code",
   "execution_count": 19,
   "id": "9321f9ba",
   "metadata": {},
   "outputs": [],
   "source": [
    "mid_score = np.array([10,20,30])\n",
    "final_socre = np.array([70,80,90])"
   ]
  },
  {
   "cell_type": "code",
   "execution_count": 20,
   "id": "980f67b7",
   "metadata": {},
   "outputs": [
    {
     "name": "stdout",
     "output_type": "stream",
     "text": [
      "[ 80 100 120]\n"
     ]
    }
   ],
   "source": [
    "total = mid_score + final_score\n",
    "print(total)"
   ]
  },
  {
   "cell_type": "code",
   "execution_count": 21,
   "id": "4b1dc3d8",
   "metadata": {},
   "outputs": [
    {
     "name": "stdout",
     "output_type": "stream",
     "text": [
      "시험 성적의 합계 :  [ 80 100 120]\n"
     ]
    }
   ],
   "source": [
    "print(\"시험 성적의 합계 : \",total)"
   ]
  },
  {
   "cell_type": "code",
   "execution_count": 22,
   "id": "bc451b36",
   "metadata": {},
   "outputs": [
    {
     "name": "stdout",
     "output_type": "stream",
     "text": [
      "시험 성적의 평균 :  [40. 50. 60.]\n"
     ]
    }
   ],
   "source": [
    "print(\"시험 성적의 평균 : \",total/2)"
   ]
  },
  {
   "cell_type": "code",
   "execution_count": 23,
   "id": "aff92d0c",
   "metadata": {},
   "outputs": [],
   "source": [
    "array_a=[0,1,2,3,4,5,6,7,8,9]\n",
    "array_b=[0,1,2,3,4,5,6,7,8,9]\n",
    "array_c=[1,2,4,6,8]"
   ]
  },
  {
   "cell_type": "code",
   "execution_count": 25,
   "id": "849ad13b",
   "metadata": {},
   "outputs": [],
   "source": [
    "array_a = np.array([0,1,2,3,4,5,6,7,8,9])\n",
    "array_b = np.array([0,1,2,3,4,5,6,7,8,9])   #array_b=np.array(range(10))\n",
    "array_c = np.array([1,2,4,6,8])             #array_c=np.array(range(0,10,2))"
   ]
  },
  {
   "cell_type": "code",
   "execution_count": 26,
   "id": "8c03dcfd",
   "metadata": {},
   "outputs": [
    {
     "data": {
      "text/plain": [
       "(5,)"
      ]
     },
     "execution_count": 26,
     "metadata": {},
     "output_type": "execute_result"
    }
   ],
   "source": [
    "array_c.shape"
   ]
  },
  {
   "cell_type": "code",
   "execution_count": 27,
   "id": "c20f036b",
   "metadata": {},
   "outputs": [
    {
     "data": {
      "text/plain": [
       "1"
      ]
     },
     "execution_count": 27,
     "metadata": {},
     "output_type": "execute_result"
    }
   ],
   "source": [
    "array_c.ndim"
   ]
  },
  {
   "cell_type": "code",
   "execution_count": 28,
   "id": "f2046760",
   "metadata": {},
   "outputs": [
    {
     "data": {
      "text/plain": [
       "dtype('int32')"
      ]
     },
     "execution_count": 28,
     "metadata": {},
     "output_type": "execute_result"
    }
   ],
   "source": [
    "array_c.dtype"
   ]
  },
  {
   "cell_type": "code",
   "execution_count": 29,
   "id": "de7398de",
   "metadata": {},
   "outputs": [
    {
     "data": {
      "text/plain": [
       "5"
      ]
     },
     "execution_count": 29,
     "metadata": {},
     "output_type": "execute_result"
    }
   ],
   "source": [
    "array_c.size"
   ]
  },
  {
   "cell_type": "code",
   "execution_count": 30,
   "id": "fd7e8d45",
   "metadata": {},
   "outputs": [
    {
     "data": {
      "text/plain": [
       "4"
      ]
     },
     "execution_count": 30,
     "metadata": {},
     "output_type": "execute_result"
    }
   ],
   "source": [
    "array_c.itemsize #배열내의 원소크기가 4byte야"
   ]
  },
  {
   "cell_type": "code",
   "execution_count": 31,
   "id": "f8c0b0e1",
   "metadata": {},
   "outputs": [],
   "source": [
    "salary = np.array([220,250,230])"
   ]
  },
  {
   "cell_type": "code",
   "execution_count": 32,
   "id": "24f44881",
   "metadata": {},
   "outputs": [],
   "source": [
    "salary=salary+100"
   ]
  },
  {
   "cell_type": "code",
   "execution_count": 33,
   "id": "078cb0e6",
   "metadata": {},
   "outputs": [
    {
     "data": {
      "text/plain": [
       "array([320, 350, 330])"
      ]
     },
     "execution_count": 33,
     "metadata": {},
     "output_type": "execute_result"
    }
   ],
   "source": [
    "salary"
   ]
  },
  {
   "cell_type": "code",
   "execution_count": 34,
   "id": "0762deff",
   "metadata": {},
   "outputs": [
    {
     "name": "stdout",
     "output_type": "stream",
     "text": [
      "[640 700 660]\n"
     ]
    }
   ],
   "source": [
    "salary=salary*2\n",
    "print(salary)"
   ]
  },
  {
   "cell_type": "code",
   "execution_count": 35,
   "id": "e90b3a5c",
   "metadata": {},
   "outputs": [],
   "source": [
    "palyers=[[170,76.4],[183,86.2],[171,73.5],[176,80.1]]"
   ]
  },
  {
   "cell_type": "code",
   "execution_count": 41,
   "id": "67ffe2af",
   "metadata": {},
   "outputs": [],
   "source": [
    "np_players=np.array(palyers)"
   ]
  },
  {
   "cell_type": "code",
   "execution_count": 37,
   "id": "db0d205f",
   "metadata": {},
   "outputs": [
    {
     "data": {
      "text/plain": [
       "array([[170. ,  76.4],\n",
       "       [183. ,  86.2],\n",
       "       [171. ,  73.5],\n",
       "       [176. ,  80.1]])"
      ]
     },
     "execution_count": 37,
     "metadata": {},
     "output_type": "execute_result"
    }
   ],
   "source": [
    "np_players"
   ]
  },
  {
   "cell_type": "code",
   "execution_count": 45,
   "id": "f35789e5",
   "metadata": {},
   "outputs": [
    {
     "name": "stdout",
     "output_type": "stream",
     "text": [
      "몸무게가 80이상인 선수의 정보 [[183.   86.2]\n",
      " [176.   80.1]]\n"
     ]
    }
   ],
   "source": [
    "print(\"몸무게가 80이상인 선수의 정보\",np_players[np_players[:,1]>=80])"
   ]
  },
  {
   "cell_type": "code",
   "execution_count": 60,
   "id": "ee3a1731",
   "metadata": {},
   "outputs": [
    {
     "name": "stdout",
     "output_type": "stream",
     "text": [
      "키가 180이상인 선수의 정보 [[183.   86.2]]\n"
     ]
    }
   ],
   "source": [
    "print(\"키가 180이상인 선수의 정보\",np_players[np_players[:,0]>=180.0]) #다 가져오고, 첫번째 열 값이랑 비교할게"
   ]
  },
  {
   "cell_type": "code",
   "execution_count": 61,
   "id": "5d70527c",
   "metadata": {},
   "outputs": [],
   "source": [
    "revenue_in_yen = [320,250,500,180,300,200,370,110,400,600,350,150,450,220,310,420,160,270,440,550,\n",
    "                 170,330,280,330,580,100,355,420,570,220]"
   ]
  },
  {
   "cell_type": "code",
   "execution_count": 62,
   "id": "d6a367a3",
   "metadata": {},
   "outputs": [],
   "source": [
    "yen_array = np.array(revenue_in_yen)"
   ]
  },
  {
   "cell_type": "code",
   "execution_count": 63,
   "id": "0bdcafa0",
   "metadata": {},
   "outputs": [
    {
     "data": {
      "text/plain": [
       "30"
      ]
     },
     "execution_count": 63,
     "metadata": {},
     "output_type": "execute_result"
    }
   ],
   "source": [
    "yen_array.size"
   ]
  },
  {
   "cell_type": "code",
   "execution_count": 65,
   "id": "1a046555",
   "metadata": {},
   "outputs": [],
   "source": [
    "won_array = yen_array*9.7"
   ]
  },
  {
   "cell_type": "code",
   "execution_count": 66,
   "id": "90ef4a39",
   "metadata": {},
   "outputs": [
    {
     "data": {
      "text/plain": [
       "array([3104. , 2425. , 4850. , 1746. , 2910. , 1940. , 3589. , 1067. ,\n",
       "       3880. , 5820. , 3395. , 1455. , 4365. , 2134. , 3007. , 4074. ,\n",
       "       1552. , 2619. , 4268. , 5335. , 1649. , 3201. , 2716. , 3201. ,\n",
       "       5626. ,  970. , 3443.5, 4074. , 5529. , 2134. ])"
      ]
     },
     "execution_count": 66,
     "metadata": {},
     "output_type": "execute_result"
    }
   ],
   "source": [
    "won_array"
   ]
  },
  {
   "cell_type": "code",
   "execution_count": 67,
   "id": "044c9371",
   "metadata": {},
   "outputs": [],
   "source": [
    "dollar = [32,25,50,68,30,20,37,88,40,60,35,15,45,22,31,42,85,27,44,55,\n",
    "                 65,75,95,70,80,90,85,42,57,22]"
   ]
  },
  {
   "cell_type": "code",
   "execution_count": 68,
   "id": "ce7e6a8e",
   "metadata": {},
   "outputs": [],
   "source": [
    "dollar_array = np.array(dollar)"
   ]
  },
  {
   "cell_type": "code",
   "execution_count": 71,
   "id": "5ec1398c",
   "metadata": {},
   "outputs": [],
   "source": [
    "won_array2 = dollar_array*1391"
   ]
  },
  {
   "cell_type": "code",
   "execution_count": 72,
   "id": "aa1657f9",
   "metadata": {},
   "outputs": [
    {
     "data": {
      "text/plain": [
       "array([ 44512,  34775,  69550,  94588,  41730,  27820,  51467, 122408,\n",
       "        55640,  83460,  48685,  20865,  62595,  30602,  43121,  58422,\n",
       "       118235,  37557,  61204,  76505,  90415, 104325, 132145,  97370,\n",
       "       111280, 125190, 118235,  58422,  79287,  30602])"
      ]
     },
     "execution_count": 72,
     "metadata": {},
     "output_type": "execute_result"
    }
   ],
   "source": [
    "won_array2"
   ]
  },
  {
   "cell_type": "code",
   "execution_count": 73,
   "id": "3f783263",
   "metadata": {},
   "outputs": [],
   "source": [
    "total = won_array*9.7+won_array*1391"
   ]
  },
  {
   "cell_type": "code",
   "execution_count": 74,
   "id": "22f11598",
   "metadata": {
    "collapsed": true
   },
   "outputs": [
    {
     "data": {
      "text/plain": [
       "array([4347772.8 , 3396697.5 , 6793395.  , 2445622.2 , 4076037.  ,\n",
       "       2717358.  , 5027112.3 , 1494546.9 , 5434716.  , 8152074.  ,\n",
       "       4755376.5 , 2038018.5 , 6114055.5 , 2989093.8 , 4211904.9 ,\n",
       "       5706451.8 , 2173886.4 , 3668433.3 , 5978187.6 , 7472734.5 ,\n",
       "       2309754.3 , 4483640.7 , 3804301.2 , 4483640.7 , 7880338.2 ,\n",
       "       1358679.  , 4823310.45, 5706451.8 , 7744470.3 , 2989093.8 ])"
      ]
     },
     "execution_count": 74,
     "metadata": {},
     "output_type": "execute_result"
    }
   ],
   "source": [
    "total"
   ]
  },
  {
   "cell_type": "code",
   "execution_count": 75,
   "id": "3bf23b27",
   "metadata": {},
   "outputs": [
    {
     "data": {
      "text/plain": [
       "array([43477728.        , 33966975.        , 67933950.        ,\n",
       "       24456222.        , 40760370.        , 27173580.        ,\n",
       "       50271122.99999999, 14945469.        , 54347159.99999999,\n",
       "       81520740.        , 47553764.99999999, 20380185.        ,\n",
       "       61140555.        , 29890938.        , 42119049.        ,\n",
       "       57064517.99999999, 21738864.        , 36684333.        ,\n",
       "       59781876.        , 74727345.        , 23097542.99999999,\n",
       "       44836406.99999999, 38043012.        , 44836406.99999999,\n",
       "       78803382.        , 13586790.        , 48233104.49999999,\n",
       "       57064517.99999999, 77444703.        , 29890938.        ])"
      ]
     },
     "execution_count": 75,
     "metadata": {},
     "output_type": "execute_result"
    }
   ],
   "source": [
    "new_total=total*10\n",
    "new_total"
   ]
  },
  {
   "cell_type": "code",
   "execution_count": 78,
   "id": "4a465696",
   "metadata": {},
   "outputs": [
    {
     "data": {
      "text/plain": [
       "array([43477728, 33966975, 67933950, 24456221, 40760370, 27173579,\n",
       "       50271122, 14945469, 54347159, 81520740, 47553764, 20380185,\n",
       "       61140555, 29890938, 42119049, 57064517, 21738864, 36684333,\n",
       "       59781876, 74727345, 23097542, 44836406, 38043012, 44836406,\n",
       "       78803382, 13586789, 48233104, 57064517, 77444703, 29890938],\n",
       "      dtype=int64)"
      ]
     },
     "execution_count": 78,
     "metadata": {},
     "output_type": "execute_result"
    }
   ],
   "source": [
    "new_total=new_total.astype(\"int64\")\n",
    "new_total"
   ]
  },
  {
   "cell_type": "code",
   "execution_count": 80,
   "id": "7f8131cf",
   "metadata": {},
   "outputs": [
    {
     "data": {
      "text/plain": [
       "array([434777280, 339669750, 679339500, 244562210, 407603700, 271735790,\n",
       "       502711220, 149454690, 543471590, 815207400, 475537640, 203801850,\n",
       "       611405550, 298909380, 421190490, 570645170, 217388640, 366843330,\n",
       "       597818760, 747273450, 230975420, 448364060, 380430120, 448364060,\n",
       "       788033820, 135867890, 482331040, 570645170, 774447030, 298909380],\n",
       "      dtype=int64)"
      ]
     },
     "execution_count": 80,
     "metadata": {},
     "output_type": "execute_result"
    }
   ],
   "source": [
    "new_array= new_total*10\n",
    "new_array"
   ]
  },
  {
   "cell_type": "code",
   "execution_count": 82,
   "id": "b31ceef1",
   "metadata": {},
   "outputs": [],
   "source": [
    "sad_days_revenue=new_array[new_array<=500000000]"
   ]
  },
  {
   "cell_type": "code",
   "execution_count": 83,
   "id": "420ebc66",
   "metadata": {},
   "outputs": [
    {
     "data": {
      "text/plain": [
       "array([434777280, 339669750, 244562210, 407603700, 271735790, 149454690,\n",
       "       475537640, 203801850, 298909380, 421190490, 217388640, 366843330,\n",
       "       230975420, 448364060, 380430120, 448364060, 135867890, 482331040,\n",
       "       298909380], dtype=int64)"
      ]
     },
     "execution_count": 83,
     "metadata": {},
     "output_type": "execute_result"
    }
   ],
   "source": [
    "sad_days_revenue"
   ]
  }
 ],
 "metadata": {
  "kernelspec": {
   "display_name": "Python 3 (ipykernel)",
   "language": "python",
   "name": "python3"
  },
  "language_info": {
   "codemirror_mode": {
    "name": "ipython",
    "version": 3
   },
   "file_extension": ".py",
   "mimetype": "text/x-python",
   "name": "python",
   "nbconvert_exporter": "python",
   "pygments_lexer": "ipython3",
   "version": "3.9.12"
  }
 },
 "nbformat": 4,
 "nbformat_minor": 5
}
