{
 "cells": [
  {
   "cell_type": "code",
   "execution_count": 2,
   "id": "e8f4b51e",
   "metadata": {},
   "outputs": [],
   "source": [
    "import pandas as pd\n",
    "import numpy as np"
   ]
  },
  {
   "cell_type": "code",
   "execution_count": 4,
   "id": "478add67",
   "metadata": {},
   "outputs": [
    {
     "data": {
      "text/plain": [
       "array([ 2,  4,  6,  8, 10, 12, 14, 16, 18, 20, 22, 24, 26, 28, 30, 32, 34,\n",
       "       36, 38, 40, 42, 44, 46, 48, 50])"
      ]
     },
     "execution_count": 4,
     "metadata": {},
     "output_type": "execute_result"
    }
   ],
   "source": [
    "arr1 = np.arange(2,51,2)\n",
    "arr1"
   ]
  },
  {
   "cell_type": "code",
   "execution_count": 5,
   "id": "47be1363",
   "metadata": {},
   "outputs": [
    {
     "data": {
      "text/plain": [
       "array([[0., 0., 0., 0.],\n",
       "       [0., 0., 0., 0.],\n",
       "       [0., 0., 0., 0.],\n",
       "       [0., 0., 0., 0.]])"
      ]
     },
     "execution_count": 5,
     "metadata": {},
     "output_type": "execute_result"
    }
   ],
   "source": [
    "arr_ex01 = np.zeros((4,4))\n",
    "arr_ex01                           #기본형이 실수로 출력"
   ]
  },
  {
   "cell_type": "code",
   "execution_count": 6,
   "id": "b7a10994",
   "metadata": {},
   "outputs": [
    {
     "data": {
      "text/plain": [
       "array([[1., 1., 1., 1., 1., 1., 1., 1., 1., 1.],\n",
       "       [1., 1., 1., 1., 1., 1., 1., 1., 1., 1.],\n",
       "       [1., 1., 1., 1., 1., 1., 1., 1., 1., 1.],\n",
       "       [1., 1., 1., 1., 1., 1., 1., 1., 1., 1.],\n",
       "       [1., 1., 1., 1., 1., 1., 1., 1., 1., 1.],\n",
       "       [1., 1., 1., 1., 1., 1., 1., 1., 1., 1.],\n",
       "       [1., 1., 1., 1., 1., 1., 1., 1., 1., 1.],\n",
       "       [1., 1., 1., 1., 1., 1., 1., 1., 1., 1.],\n",
       "       [1., 1., 1., 1., 1., 1., 1., 1., 1., 1.],\n",
       "       [1., 1., 1., 1., 1., 1., 1., 1., 1., 1.]])"
      ]
     },
     "execution_count": 6,
     "metadata": {},
     "output_type": "execute_result"
    }
   ],
   "source": [
    "arr_ex02 = np.ones((10,10))\n",
    "arr_ex02"
   ]
  },
  {
   "cell_type": "code",
   "execution_count": 7,
   "id": "0cc6880f",
   "metadata": {},
   "outputs": [
    {
     "data": {
      "text/plain": [
       "array([[3, 3, 3, 3],\n",
       "       [3, 3, 3, 3],\n",
       "       [3, 3, 3, 3],\n",
       "       [3, 3, 3, 3],\n",
       "       [3, 3, 3, 3],\n",
       "       [3, 3, 3, 3],\n",
       "       [3, 3, 3, 3]])"
      ]
     },
     "execution_count": 7,
     "metadata": {},
     "output_type": "execute_result"
    }
   ],
   "source": [
    "arr_ex03 = np.full((7,4),3)\n",
    "arr_ex03                   #입력을 정수값으로 했기 때문에 정수로 출력"
   ]
  },
  {
   "cell_type": "code",
   "execution_count": 11,
   "id": "43557f64",
   "metadata": {},
   "outputs": [
    {
     "data": {
      "text/plain": [
       "array([ 3,  6,  9, 12, 15, 18, 21, 24, 27, 30, 33, 36, 39, 42, 45, 48, 51,\n",
       "       54, 57, 60, 63, 66, 69, 72, 75, 78, 81, 84, 87, 90, 93, 96, 99])"
      ]
     },
     "execution_count": 11,
     "metadata": {},
     "output_type": "execute_result"
    }
   ],
   "source": [
    "arr_ex04 = np.arange(3,101,3)\n",
    "arr_ex04"
   ]
  },
  {
   "cell_type": "code",
   "execution_count": 10,
   "id": "ac93cfad",
   "metadata": {},
   "outputs": [
    {
     "name": "stdout",
     "output_type": "stream",
     "text": [
      "33\n"
     ]
    }
   ],
   "source": [
    "print(arr_ex04.size)   #원소갯수구하기"
   ]
  },
  {
   "cell_type": "code",
   "execution_count": 12,
   "id": "d77dd45e",
   "metadata": {},
   "outputs": [
    {
     "name": "stdout",
     "output_type": "stream",
     "text": [
      "[[ 3  6  9 12 15 18 21 24 27 30 33]\n",
      " [36 39 42 45 48 51 54 57 60 63 66]\n",
      " [69 72 75 78 81 84 87 90 93 96 99]]\n"
     ]
    }
   ],
   "source": [
    "arr_ex05 = arr_ex04.reshape(3,11)\n",
    "print(arr_ex05)"
   ]
  },
  {
   "cell_type": "code",
   "execution_count": 13,
   "id": "c9a01c87",
   "metadata": {},
   "outputs": [
    {
     "name": "stdout",
     "output_type": "stream",
     "text": [
      "(3, 11)\n"
     ]
    }
   ],
   "source": [
    "print(arr_ex05.shape)"
   ]
  },
  {
   "cell_type": "code",
   "execution_count": 14,
   "id": "aa0db4e3",
   "metadata": {},
   "outputs": [],
   "source": [
    "import random"
   ]
  },
  {
   "cell_type": "markdown",
   "id": "bbee0a1d",
   "metadata": {},
   "source": [
    "- 0~1 사이의 값을 랜덤하게 가지는 6*4배열 생성\n",
    "- 1~100사이의 값을 랜덤하게 가지는 5*5배열 생성\n",
    "- astype을 사용하여 2번의 배열을 실수형태의 원소를 가지는 배열로 바꾸시오"
   ]
  },
  {
   "cell_type": "code",
   "execution_count": 22,
   "id": "d9584fee",
   "metadata": {},
   "outputs": [
    {
     "data": {
      "text/plain": [
       "array([[0.97278244, 0.37310503, 0.66992319, 0.78632652],\n",
       "       [0.59109765, 0.58328392, 0.35596246, 0.82221279],\n",
       "       [0.31009553, 0.61370819, 0.56696964, 0.00433905],\n",
       "       [0.62987679, 0.25939238, 0.56870872, 0.47568431],\n",
       "       [0.64034579, 0.96367364, 0.80914036, 0.56685798],\n",
       "       [0.81948739, 0.55667811, 0.09235189, 0.76956241]])"
      ]
     },
     "execution_count": 22,
     "metadata": {},
     "output_type": "execute_result"
    }
   ],
   "source": [
    "rand_arr = np.random.rand(6,4)\n",
    "rand_arr"
   ]
  },
  {
   "cell_type": "code",
   "execution_count": 21,
   "id": "f619e681",
   "metadata": {},
   "outputs": [
    {
     "data": {
      "text/plain": [
       "array([[53, 10, 74, 64, 46],\n",
       "       [22,  8, 50, 71, 77],\n",
       "       [57, 53, 21, 70, 69],\n",
       "       [65, 20, 84, 26, 39],\n",
       "       [89, 89, 99, 32, 83]])"
      ]
     },
     "execution_count": 21,
     "metadata": {},
     "output_type": "execute_result"
    }
   ],
   "source": [
    "randint_arr = np.random.randint(1,101,(5,5))\n",
    "randint_arr"
   ]
  },
  {
   "cell_type": "code",
   "execution_count": 23,
   "id": "3a2d461d",
   "metadata": {},
   "outputs": [
    {
     "data": {
      "text/plain": [
       "array([[53., 10., 74., 64., 46.],\n",
       "       [22.,  8., 50., 71., 77.],\n",
       "       [57., 53., 21., 70., 69.],\n",
       "       [65., 20., 84., 26., 39.],\n",
       "       [89., 89., 99., 32., 83.]])"
      ]
     },
     "execution_count": 23,
     "metadata": {},
     "output_type": "execute_result"
    }
   ],
   "source": [
    "arr_float = randint_arr.astype('float64')\n",
    "arr_float"
   ]
  },
  {
   "cell_type": "markdown",
   "id": "5f17ab71",
   "metadata": {},
   "source": [
    "- 주어진 배열에서 3,4,8,9 원소만 가져오기"
   ]
  },
  {
   "cell_type": "code",
   "execution_count": 25,
   "id": "3b546c4e",
   "metadata": {},
   "outputs": [
    {
     "name": "stdout",
     "output_type": "stream",
     "text": [
      "[[0 1 2 3 4]\n",
      " [5 6 7 8 9]]\n"
     ]
    }
   ],
   "source": [
    "x = np.arange(10).reshape(2,5)\n",
    "print(x)"
   ]
  },
  {
   "cell_type": "code",
   "execution_count": 27,
   "id": "8d2cab72",
   "metadata": {},
   "outputs": [
    {
     "data": {
      "text/plain": [
       "array([[3, 4],\n",
       "       [8, 9]])"
      ]
     },
     "execution_count": 27,
     "metadata": {},
     "output_type": "execute_result"
    }
   ],
   "source": [
    "x[:,3:]   #n차원의 배열에서 인덱싱하려면 [ 행구간(:)  , 열구간(:) ] 지정"
   ]
  },
  {
   "cell_type": "code",
   "execution_count": 28,
   "id": "8164dabd",
   "metadata": {},
   "outputs": [
    {
     "data": {
      "text/plain": [
       "array([6, 7, 8])"
      ]
     },
     "execution_count": 28,
     "metadata": {},
     "output_type": "execute_result"
    }
   ],
   "source": [
    "x[1,1:4]"
   ]
  },
  {
   "cell_type": "code",
   "execution_count": 29,
   "id": "59a347a6",
   "metadata": {},
   "outputs": [
    {
     "name": "stdout",
     "output_type": "stream",
     "text": [
      "[[ 0  1  2  3  4]\n",
      " [ 5  6  7  8  9]\n",
      " [10 11 12 13 14]]\n"
     ]
    }
   ],
   "source": [
    "y = np.arange(15).reshape(3,5)\n",
    "print(y)"
   ]
  },
  {
   "cell_type": "code",
   "execution_count": 34,
   "id": "7e8e57a8",
   "metadata": {},
   "outputs": [
    {
     "data": {
      "text/plain": [
       "array([ 3,  8, 13])"
      ]
     },
     "execution_count": 34,
     "metadata": {},
     "output_type": "execute_result"
    }
   ],
   "source": [
    "y[:,3]"
   ]
  },
  {
   "cell_type": "code",
   "execution_count": 35,
   "id": "eb92575d",
   "metadata": {},
   "outputs": [
    {
     "data": {
      "text/plain": [
       "array([5, 6, 7, 8, 9])"
      ]
     },
     "execution_count": 35,
     "metadata": {},
     "output_type": "execute_result"
    }
   ],
   "source": [
    "y[1,:]"
   ]
  },
  {
   "cell_type": "code",
   "execution_count": 37,
   "id": "3910fb41",
   "metadata": {},
   "outputs": [
    {
     "data": {
      "text/plain": [
       "array([[1, 2, 3],\n",
       "       [6, 7, 8]])"
      ]
     },
     "execution_count": 37,
     "metadata": {},
     "output_type": "execute_result"
    }
   ],
   "source": [
    "y[:2,1:4]"
   ]
  },
  {
   "cell_type": "code",
   "execution_count": 38,
   "id": "40898cbc",
   "metadata": {},
   "outputs": [
    {
     "data": {
      "text/plain": [
       "array([[ 1,  2,  3,  4],\n",
       "       [ 5,  6,  7,  8],\n",
       "       [ 9, 10, 11, 12]])"
      ]
     },
     "execution_count": 38,
     "metadata": {},
     "output_type": "execute_result"
    }
   ],
   "source": [
    "arr2d = np.arange(1,13).reshape(3,4)\n",
    "arr2d"
   ]
  },
  {
   "cell_type": "code",
   "execution_count": 39,
   "id": "3ebed54e",
   "metadata": {},
   "outputs": [
    {
     "data": {
      "text/plain": [
       "array([1, 2, 3, 4, 5])"
      ]
     },
     "execution_count": 39,
     "metadata": {},
     "output_type": "execute_result"
    }
   ],
   "source": [
    "arr2d[arr2d<=5]"
   ]
  },
  {
   "cell_type": "code",
   "execution_count": 41,
   "id": "9f9f8e70",
   "metadata": {},
   "outputs": [
    {
     "data": {
      "text/plain": [
       "array([ 3,  6,  9, 12])"
      ]
     },
     "execution_count": 41,
     "metadata": {},
     "output_type": "execute_result"
    }
   ],
   "source": [
    "# 3의 배수 추출하기\n",
    "arr2d[arr2d %3 == 0]  # & : And , | : OR"
   ]
  },
  {
   "cell_type": "code",
   "execution_count": 42,
   "id": "19fbdfe9",
   "metadata": {},
   "outputs": [
    {
     "data": {
      "text/plain": [
       "array([13, 58, 89, 18, 32, 73, 96,  7, 27, 47])"
      ]
     },
     "execution_count": 42,
     "metadata": {},
     "output_type": "execute_result"
    }
   ],
   "source": [
    "x = np.random.randint(1,100,size=10)\n",
    "x"
   ]
  },
  {
   "cell_type": "code",
   "execution_count": 43,
   "id": "6ff8760e",
   "metadata": {},
   "outputs": [
    {
     "data": {
      "text/plain": [
       "array([58, 18, 32, 96])"
      ]
     },
     "execution_count": 43,
     "metadata": {},
     "output_type": "execute_result"
    }
   ],
   "source": [
    "#2의 배수만 추출하기 \n",
    "x[x%2 ==0]"
   ]
  },
  {
   "cell_type": "code",
   "execution_count": 45,
   "id": "9a956597",
   "metadata": {},
   "outputs": [
    {
     "data": {
      "text/plain": [
       "array([89, 73, 96])"
      ]
     },
     "execution_count": 45,
     "metadata": {},
     "output_type": "execute_result"
    }
   ],
   "source": [
    "#60보다 큰 수 추출하기\n",
    "x[x>60]"
   ]
  },
  {
   "cell_type": "code",
   "execution_count": 46,
   "id": "13e05897",
   "metadata": {},
   "outputs": [
    {
     "data": {
      "text/plain": [
       "array([58, 32, 47])"
      ]
     },
     "execution_count": 46,
     "metadata": {},
     "output_type": "execute_result"
    }
   ],
   "source": [
    "# 30보다 크고 70보다 작은수 추출하기\n",
    "x[(x>30) &(x<70)]"
   ]
  },
  {
   "cell_type": "code",
   "execution_count": 50,
   "id": "a4122a0b",
   "metadata": {},
   "outputs": [
    {
     "data": {
      "text/plain": [
       "array([13, 89, 73, 96,  7, 27, 47])"
      ]
     },
     "execution_count": 50,
     "metadata": {},
     "output_type": "execute_result"
    }
   ],
   "source": [
    "# 60보다 크거나 홀수인 수 추출하기\n",
    "x[(x>60) | (x%2 !=0)]"
   ]
  },
  {
   "cell_type": "code",
   "execution_count": 51,
   "id": "6127a8bf",
   "metadata": {},
   "outputs": [],
   "source": [
    "temp = np.array(\n",
    "        [23.9, 24.4, 24.1, 25.4, 27.6, 29.7,\n",
    "         26.7, 25.1, 25.0, 22.7, 21.9, 23.6, \n",
    "         24.9, 25.9, 23.8, 24.7, 25.6, 26.9, \n",
    "         28.6, 28.0, 25.1, 26.7, 28.1, 26.5, \n",
    "         26.3, 25.9, 28.4, 26.1, 27.5, 28.1, 25.8])"
   ]
  },
  {
   "cell_type": "code",
   "execution_count": 52,
   "id": "1d42c090",
   "metadata": {},
   "outputs": [
    {
     "data": {
      "text/plain": [
       "31"
      ]
     },
     "execution_count": 52,
     "metadata": {},
     "output_type": "execute_result"
    }
   ],
   "source": [
    "len(temp)"
   ]
  },
  {
   "cell_type": "code",
   "execution_count": 54,
   "id": "67267f81",
   "metadata": {},
   "outputs": [
    {
     "name": "stdout",
     "output_type": "stream",
     "text": [
      "[25.4 27.6 29.7 26.7 25.1 25.9 25.6 26.9 28.6 28.  25.1 26.7 28.1 26.5\n",
      " 26.3 25.9 28.4 26.1 27.5 28.1 25.8]\n"
     ]
    }
   ],
   "source": [
    "#기온이 25도를 넘는 날은 몇 일인가?\n",
    "a=temp[(temp>25.0)]\n",
    "print(a)"
   ]
  },
  {
   "cell_type": "code",
   "execution_count": 55,
   "id": "c6b84b90",
   "metadata": {},
   "outputs": [
    {
     "data": {
      "text/plain": [
       "21"
      ]
     },
     "execution_count": 55,
     "metadata": {},
     "output_type": "execute_result"
    }
   ],
   "source": [
    "len(a)"
   ]
  },
  {
   "cell_type": "code",
   "execution_count": 62,
   "id": "ec3c4d42",
   "metadata": {},
   "outputs": [
    {
     "data": {
      "text/plain": [
       "21"
      ]
     },
     "execution_count": 62,
     "metadata": {},
     "output_type": "execute_result"
    }
   ],
   "source": [
    "len(temp[temp>25.0])"
   ]
  },
  {
   "cell_type": "code",
   "execution_count": 63,
   "id": "6168c7ab",
   "metadata": {},
   "outputs": [
    {
     "data": {
      "text/plain": [
       "21"
      ]
     },
     "execution_count": 63,
     "metadata": {},
     "output_type": "execute_result"
    }
   ],
   "source": [
    "np.sum(temp>25.0)    #boolean으로 보는법"
   ]
  },
  {
   "cell_type": "code",
   "execution_count": null,
   "id": "20dd6adb",
   "metadata": {},
   "outputs": [],
   "source": [
    "#기온이 25도를 넘는 날의 평균 기온은?"
   ]
  },
  {
   "cell_type": "code",
   "execution_count": 58,
   "id": "479c2e98",
   "metadata": {},
   "outputs": [
    {
     "data": {
      "text/plain": [
       "26.857142857142858"
      ]
     },
     "execution_count": 58,
     "metadata": {},
     "output_type": "execute_result"
    }
   ],
   "source": [
    "average=sum(a)/len(a)\n",
    "average"
   ]
  },
  {
   "cell_type": "code",
   "execution_count": 64,
   "id": "700252fe",
   "metadata": {},
   "outputs": [
    {
     "data": {
      "text/plain": [
       "26.857142857142858"
      ]
     },
     "execution_count": 64,
     "metadata": {},
     "output_type": "execute_result"
    }
   ],
   "source": [
    "np.mean(temp[temp>25.0])"
   ]
  },
  {
   "cell_type": "markdown",
   "id": "fd89cedb",
   "metadata": {},
   "source": [
    "### 정렬 : sort"
   ]
  },
  {
   "cell_type": "markdown",
   "id": "3545fac2",
   "metadata": {},
   "source": [
    "#### 1차원 정렬"
   ]
  },
  {
   "cell_type": "code",
   "execution_count": 65,
   "id": "238653be",
   "metadata": {},
   "outputs": [
    {
     "data": {
      "text/plain": [
       "array([ 1, 10,  5,  8,  2,  4,  3,  6,  8,  7,  9])"
      ]
     },
     "execution_count": 65,
     "metadata": {},
     "output_type": "execute_result"
    }
   ],
   "source": [
    "arr = np.array([1,10,5,8,2,4,3,6,8,7,9])\n",
    "arr"
   ]
  },
  {
   "cell_type": "code",
   "execution_count": 66,
   "id": "8425df1b",
   "metadata": {},
   "outputs": [
    {
     "data": {
      "text/plain": [
       "array([ 1,  2,  3,  4,  5,  6,  7,  8,  8,  9, 10])"
      ]
     },
     "execution_count": 66,
     "metadata": {},
     "output_type": "execute_result"
    }
   ],
   "source": [
    "np.sort(arr)"
   ]
  },
  {
   "cell_type": "code",
   "execution_count": 68,
   "id": "eec3ce72",
   "metadata": {},
   "outputs": [
    {
     "data": {
      "text/plain": [
       "array([ 1,  2,  3,  4,  5,  6,  7,  8,  8,  9, 10])"
      ]
     },
     "execution_count": 68,
     "metadata": {},
     "output_type": "execute_result"
    }
   ],
   "source": [
    "np.sort([1,10,5,8,2,4,3,6,8,7,9])"
   ]
  },
  {
   "cell_type": "code",
   "execution_count": 69,
   "id": "8041c8bc",
   "metadata": {},
   "outputs": [
    {
     "data": {
      "text/plain": [
       "array([10,  9,  8,  8,  7,  6,  5,  4,  3,  2,  1])"
      ]
     },
     "execution_count": 69,
     "metadata": {},
     "output_type": "execute_result"
    }
   ],
   "source": [
    "np.sort(arr)[::-1]   # 내림차순정렬 [::-1] 외우자아~!"
   ]
  },
  {
   "cell_type": "code",
   "execution_count": 70,
   "id": "422578c8",
   "metadata": {},
   "outputs": [
    {
     "data": {
      "text/plain": [
       "array([ 1, 10,  5,  8,  2,  4,  3,  6,  8,  7,  9])"
      ]
     },
     "execution_count": 70,
     "metadata": {},
     "output_type": "execute_result"
    }
   ],
   "source": [
    "arr"
   ]
  },
  {
   "cell_type": "code",
   "execution_count": 72,
   "id": "2beeb235",
   "metadata": {},
   "outputs": [
    {
     "data": {
      "text/plain": [
       "array([ 1,  2,  3,  4,  5,  6,  7,  8,  8,  9, 10])"
      ]
     },
     "execution_count": 72,
     "metadata": {},
     "output_type": "execute_result"
    }
   ],
   "source": [
    "arr2=np.sort(arr) #정렬된 변수는 일회성이기 때문에 새로운 변수에 저장해야 정렬된 순서로 사용 가능하다\n",
    "arr2"
   ]
  },
  {
   "cell_type": "markdown",
   "id": "59e94b7e",
   "metadata": {},
   "source": [
    "#### 2. N차원정렬"
   ]
  },
  {
   "cell_type": "code",
   "execution_count": 73,
   "id": "5675a048",
   "metadata": {},
   "outputs": [],
   "source": [
    "arr2d=np.array([[5,6,7,8],\n",
    "              [4,3,2,1],\n",
    "              [10,9,12,11]])"
   ]
  },
  {
   "cell_type": "code",
   "execution_count": 74,
   "id": "969d8d77",
   "metadata": {},
   "outputs": [
    {
     "data": {
      "text/plain": [
       "(3, 4)"
      ]
     },
     "execution_count": 74,
     "metadata": {},
     "output_type": "execute_result"
    }
   ],
   "source": [
    "arr2d.shape"
   ]
  },
  {
   "cell_type": "markdown",
   "id": "90da55aa",
   "metadata": {},
   "source": [
    "#### 2-1. 열정렬(왼쪽에서 오른쪽으로) - axis(축)\n"
   ]
  },
  {
   "cell_type": "code",
   "execution_count": 75,
   "id": "bed40ed1",
   "metadata": {},
   "outputs": [
    {
     "data": {
      "text/plain": [
       "array([[ 5,  6,  7,  8],\n",
       "       [ 1,  2,  3,  4],\n",
       "       [ 9, 10, 11, 12]])"
      ]
     },
     "execution_count": 75,
     "metadata": {},
     "output_type": "execute_result"
    }
   ],
   "source": [
    "np.sort(arr2d,axis=1)"
   ]
  },
  {
   "cell_type": "markdown",
   "id": "c6e4809d",
   "metadata": {},
   "source": [
    "#### 2-1. 행정렬(위에서 아래로)"
   ]
  },
  {
   "cell_type": "code",
   "execution_count": 77,
   "id": "dd6fad37",
   "metadata": {},
   "outputs": [
    {
     "data": {
      "text/plain": [
       "array([[ 4,  3,  2,  1],\n",
       "       [ 5,  6,  7,  8],\n",
       "       [10,  9, 12, 11]])"
      ]
     },
     "execution_count": 77,
     "metadata": {},
     "output_type": "execute_result"
    }
   ],
   "source": [
    "np.sort(arr2d,axis=0)"
   ]
  },
  {
   "cell_type": "code",
   "execution_count": 78,
   "id": "ff1bd755",
   "metadata": {},
   "outputs": [
    {
     "name": "stdout",
     "output_type": "stream",
     "text": [
      "[[ 2 72 90  3  9]\n",
      " [45  1 58 41 97]\n",
      " [10 56  8 68 89]]\n"
     ]
    }
   ],
   "source": [
    "y=np.random.randint(100,size=(3,5))\n",
    "print(y)"
   ]
  },
  {
   "cell_type": "markdown",
   "id": "c8310db2",
   "metadata": {},
   "source": [
    "- y원소들의 평균, 합, 최대값, 최소값, 분산, 중앙값, 표준편차를 구해봅시다"
   ]
  },
  {
   "cell_type": "code",
   "execution_count": 79,
   "id": "717eb776",
   "metadata": {},
   "outputs": [
    {
     "data": {
      "text/plain": [
       "43.266666666666666"
      ]
     },
     "execution_count": 79,
     "metadata": {},
     "output_type": "execute_result"
    }
   ],
   "source": [
    "np.mean(y)  # y.mean()이랑 같은값"
   ]
  },
  {
   "cell_type": "code",
   "execution_count": 80,
   "id": "1df58603",
   "metadata": {},
   "outputs": [
    {
     "data": {
      "text/plain": [
       "649"
      ]
     },
     "execution_count": 80,
     "metadata": {},
     "output_type": "execute_result"
    }
   ],
   "source": [
    "np.sum(y)"
   ]
  },
  {
   "cell_type": "code",
   "execution_count": 81,
   "id": "787f5bbb",
   "metadata": {},
   "outputs": [
    {
     "data": {
      "text/plain": [
       "97"
      ]
     },
     "execution_count": 81,
     "metadata": {},
     "output_type": "execute_result"
    }
   ],
   "source": [
    "np.max(y)"
   ]
  },
  {
   "cell_type": "code",
   "execution_count": 82,
   "id": "680a8578",
   "metadata": {},
   "outputs": [
    {
     "data": {
      "text/plain": [
       "1"
      ]
     },
     "execution_count": 82,
     "metadata": {},
     "output_type": "execute_result"
    }
   ],
   "source": [
    "np.min(y)"
   ]
  },
  {
   "cell_type": "code",
   "execution_count": 83,
   "id": "9fab2d76",
   "metadata": {},
   "outputs": [
    {
     "data": {
      "text/plain": [
       "1174.8622222222223"
      ]
     },
     "execution_count": 83,
     "metadata": {},
     "output_type": "execute_result"
    }
   ],
   "source": [
    "np.var(y)"
   ]
  },
  {
   "cell_type": "code",
   "execution_count": 87,
   "id": "0cdac840",
   "metadata": {},
   "outputs": [
    {
     "data": {
      "text/plain": [
       "45.0"
      ]
     },
     "execution_count": 87,
     "metadata": {},
     "output_type": "execute_result"
    }
   ],
   "source": [
    "np.median(y) #중앙값은 y.median()계산 불가"
   ]
  },
  {
   "cell_type": "code",
   "execution_count": 86,
   "id": "83d10d34",
   "metadata": {},
   "outputs": [
    {
     "data": {
      "text/plain": [
       "34.27626324765029"
      ]
     },
     "execution_count": 86,
     "metadata": {},
     "output_type": "execute_result"
    }
   ],
   "source": [
    "np.std(y)"
   ]
  }
 ],
 "metadata": {
  "kernelspec": {
   "display_name": "Python 3 (ipykernel)",
   "language": "python",
   "name": "python3"
  },
  "language_info": {
   "codemirror_mode": {
    "name": "ipython",
    "version": 3
   },
   "file_extension": ".py",
   "mimetype": "text/x-python",
   "name": "python",
   "nbconvert_exporter": "python",
   "pygments_lexer": "ipython3",
   "version": "3.9.12"
  }
 },
 "nbformat": 4,
 "nbformat_minor": 5
}
