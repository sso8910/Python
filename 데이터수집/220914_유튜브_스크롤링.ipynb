{
 "cells": [
  {
   "cell_type": "markdown",
   "id": "9c8daf6a",
   "metadata": {},
   "source": [
    "### 유튜브 채널 스크롤링"
   ]
  },
  {
   "cell_type": "code",
   "execution_count": 47,
   "id": "6191e8d2",
   "metadata": {},
   "outputs": [],
   "source": [
    "from selenium import webdriver\n",
    "from webdriver_manager.chrome import ChromeDriverManager\n",
    "import pandas as pd\n",
    "import time\n",
    "from tqdm import tqdm\n",
    "from selenium.webdriver.common.keys import Keys"
   ]
  },
  {
   "cell_type": "code",
   "execution_count": 48,
   "id": "5cf5f592",
   "metadata": {},
   "outputs": [],
   "source": [
    "driver = webdriver.Chrome(ChromeDriverManager().install())\n",
    "driver.get(\"https://www.youtube.com/c/%ED%8B%B0%ED%83%80%EC%9E%84%EC%A6%88TV/videos\")"
   ]
  },
  {
   "cell_type": "code",
   "execution_count": 49,
   "id": "3d48ce3d",
   "metadata": {},
   "outputs": [],
   "source": [
    "#title = driver.find_elements_by_xpath('//*[@id=\"video-title\"]') #xpath로 가져오는 법\n",
    "title = driver.find_elements_by_css_selector('#video-title') # CSS_셀렉터로 가져오는 법\n",
    "#title = driver.find_elements_by_css_selector('h3.style-scope ytd-grid-video-renderer >a')  #상위태그로 가져오는 법"
   ]
  },
  {
   "cell_type": "code",
   "execution_count": 50,
   "id": "25c13914",
   "metadata": {},
   "outputs": [],
   "source": [
    "view = driver.find_elements_by_xpath('//*//*[@id=\"metadata-line\"]/span[1]')"
   ]
  },
  {
   "cell_type": "code",
   "execution_count": 51,
   "id": "23491e21",
   "metadata": {},
   "outputs": [],
   "source": [
    "title_list=[]\n",
    "for i in title:\n",
    "    title_list.append(i.text)\n",
    "\n",
    "view_list=[]\n",
    "for i in view :\n",
    "    view_list.append(i.text)"
   ]
  },
  {
   "cell_type": "code",
   "execution_count": 52,
   "id": "4aa3ed8f",
   "metadata": {},
   "outputs": [
    {
     "data": {
      "text/plain": [
       "(30, 30)"
      ]
     },
     "execution_count": 52,
     "metadata": {},
     "output_type": "execute_result"
    }
   ],
   "source": [
    "len(title_list),len(view_list)"
   ]
  },
  {
   "cell_type": "markdown",
   "id": "7795bc84",
   "metadata": {},
   "source": [
    "### 스크롤링"
   ]
  },
  {
   "cell_type": "code",
   "execution_count": 55,
   "id": "20489fc9",
   "metadata": {},
   "outputs": [],
   "source": [
    "from bs4 import BeautifulSoup as bs"
   ]
  },
  {
   "cell_type": "code",
   "execution_count": 53,
   "id": "c1ee9cb2",
   "metadata": {},
   "outputs": [],
   "source": [
    "from selenium.webdriver.common.keys import Keys"
   ]
  },
  {
   "cell_type": "code",
   "execution_count": 62,
   "id": "0cc6d544",
   "metadata": {},
   "outputs": [],
   "source": [
    "body = driver.find_element_by_css_selector('body')\n",
    "\n",
    "while True:\n",
    "    last = bs(driver.page_source,'html.parser')                  #스크롤링하기전상태가져오기\n",
    "    for i in range(10): \n",
    "        body.send_keys(Keys.END)\n",
    "    new = bs(driver.page_source,'html.parser')\n",
    "    \n",
    "    if last == new :\n",
    "        break\n",
    "    else :\n",
    "        pass"
   ]
  },
  {
   "cell_type": "code",
   "execution_count": 68,
   "id": "8dec79f4",
   "metadata": {},
   "outputs": [],
   "source": [
    "title = driver.find_elements_by_xpath('//*[@id=\"video-title\"]')\n",
    "view = driver.find_elements_by_xpath('//*//*[@id=\"metadata-line\"]/span[1]')\n",
    "\n",
    "title_list=[]\n",
    "view_list=[]\n",
    "    \n",
    "title_list=[]\n",
    "for i in title:\n",
    "    title_list.append(i.text)\n",
    "\n",
    "view_list=[]\n",
    "for i in view :\n",
    "    string = i.text\n",
    "    string = string.replace('조회수','')\n",
    "    string = string.replace('회','')\n",
    "    string = string.replace('.','')\n",
    "    string = string.replace('천','000')\n",
    "    string = string.replace('만','0000')\n",
    "    string = int(string)\n",
    "    view_list.append(string)"
   ]
  },
  {
   "cell_type": "code",
   "execution_count": 69,
   "id": "01fee96d",
   "metadata": {},
   "outputs": [
    {
     "data": {
      "text/plain": [
       "(470, 470)"
      ]
     },
     "execution_count": 69,
     "metadata": {},
     "output_type": "execute_result"
    }
   ],
   "source": [
    "len(title_list),len(view_list)"
   ]
  },
  {
   "cell_type": "code",
   "execution_count": 85,
   "id": "1977274f",
   "metadata": {},
   "outputs": [],
   "source": [
    "data={'제목':title_list,'조회수':view_list}"
   ]
  },
  {
   "cell_type": "code",
   "execution_count": 86,
   "id": "61adf504",
   "metadata": {},
   "outputs": [],
   "source": [
    "vedio=pd.DataFrame(data)"
   ]
  },
  {
   "cell_type": "code",
   "execution_count": 87,
   "id": "df24ccb2",
   "metadata": {},
   "outputs": [],
   "source": [
    "vedio = vedio.sort_values(by=['조회수'], ascending = False)"
   ]
  },
  {
   "cell_type": "code",
   "execution_count": 88,
   "id": "3c385cce",
   "metadata": {},
   "outputs": [
    {
     "data": {
      "text/html": [
       "<div>\n",
       "<style scoped>\n",
       "    .dataframe tbody tr th:only-of-type {\n",
       "        vertical-align: middle;\n",
       "    }\n",
       "\n",
       "    .dataframe tbody tr th {\n",
       "        vertical-align: top;\n",
       "    }\n",
       "\n",
       "    .dataframe thead th {\n",
       "        text-align: right;\n",
       "    }\n",
       "</style>\n",
       "<table border=\"1\" class=\"dataframe\">\n",
       "  <thead>\n",
       "    <tr style=\"text-align: right;\">\n",
       "      <th></th>\n",
       "      <th>제목</th>\n",
       "      <th>조회수</th>\n",
       "    </tr>\n",
       "  </thead>\n",
       "  <tbody>\n",
       "    <tr>\n",
       "      <th>0</th>\n",
       "      <td>한중일 출신이 구글에서 더 올라가지 못하는 3가지 이유</td>\n",
       "      <td>1080000</td>\n",
       "    </tr>\n",
       "    <tr>\n",
       "      <th>1</th>\n",
       "      <td>제국에서 추격자로! 인텔의 발목 잡은, 인텔의 성공 전략</td>\n",
       "      <td>980000</td>\n",
       "    </tr>\n",
       "    <tr>\n",
       "      <th>2</th>\n",
       "      <td>엔비디아 GPU 기술의 집약체 Ampere 시리즈!</td>\n",
       "      <td>980000</td>\n",
       "    </tr>\n",
       "    <tr>\n",
       "      <th>3</th>\n",
       "      <td>[엔비디아 #1]왜 엔비디아를 미래를 책임질 회사라 하나?</td>\n",
       "      <td>950000</td>\n",
       "    </tr>\n",
       "    <tr>\n",
       "      <th>4</th>\n",
       "      <td>나이키는 이제 운동화 회사가 아니다</td>\n",
       "      <td>940000</td>\n",
       "    </tr>\n",
       "    <tr>\n",
       "      <th>...</th>\n",
       "      <td>...</td>\n",
       "      <td>...</td>\n",
       "    </tr>\n",
       "    <tr>\n",
       "      <th>465</th>\n",
       "      <td>국내 AI 스타트업들, AI로 이것까지 한다!</td>\n",
       "      <td>4000</td>\n",
       "    </tr>\n",
       "    <tr>\n",
       "      <th>466</th>\n",
       "      <td>“있으면 좋겠다는 것 말고, 없으면 안 되는 걸 하세요” [‘데일리호텔’ 창업자 신...</td>\n",
       "      <td>4000</td>\n",
       "    </tr>\n",
       "    <tr>\n",
       "      <th>467</th>\n",
       "      <td>Z세대와 일하는 법? ‘뿅뿅 지구오락실’이 답이다.</td>\n",
       "      <td>4000</td>\n",
       "    </tr>\n",
       "    <tr>\n",
       "      <th>468</th>\n",
       "      <td>유가가 오르면 정유사 이익도 늘어난다? 아니다!</td>\n",
       "      <td>3000</td>\n",
       "    </tr>\n",
       "    <tr>\n",
       "      <th>469</th>\n",
       "      <td>달라진 고객을 붙잡기 위한 3가지</td>\n",
       "      <td>2000</td>\n",
       "    </tr>\n",
       "  </tbody>\n",
       "</table>\n",
       "<p>470 rows × 2 columns</p>\n",
       "</div>"
      ],
      "text/plain": [
       "                                                    제목      조회수\n",
       "0                       한중일 출신이 구글에서 더 올라가지 못하는 3가지 이유  1080000\n",
       "1                      제국에서 추격자로! 인텔의 발목 잡은, 인텔의 성공 전략   980000\n",
       "2                         엔비디아 GPU 기술의 집약체 Ampere 시리즈!   980000\n",
       "3                     [엔비디아 #1]왜 엔비디아를 미래를 책임질 회사라 하나?   950000\n",
       "4                                  나이키는 이제 운동화 회사가 아니다   940000\n",
       "..                                                 ...      ...\n",
       "465                          국내 AI 스타트업들, AI로 이것까지 한다!     4000\n",
       "466  “있으면 좋겠다는 것 말고, 없으면 안 되는 걸 하세요” [‘데일리호텔’ 창업자 신...     4000\n",
       "467                       Z세대와 일하는 법? ‘뿅뿅 지구오락실’이 답이다.     4000\n",
       "468                         유가가 오르면 정유사 이익도 늘어난다? 아니다!     3000\n",
       "469                                 달라진 고객을 붙잡기 위한 3가지     2000\n",
       "\n",
       "[470 rows x 2 columns]"
      ]
     },
     "execution_count": 88,
     "metadata": {},
     "output_type": "execute_result"
    }
   ],
   "source": [
    "vedio.reset_index(drop=True)"
   ]
  },
  {
   "cell_type": "code",
   "execution_count": null,
   "id": "1d20289a",
   "metadata": {},
   "outputs": [],
   "source": []
  }
 ],
 "metadata": {
  "kernelspec": {
   "display_name": "Python 3 (ipykernel)",
   "language": "python",
   "name": "python3"
  },
  "language_info": {
   "codemirror_mode": {
    "name": "ipython",
    "version": 3
   },
   "file_extension": ".py",
   "mimetype": "text/x-python",
   "name": "python",
   "nbconvert_exporter": "python",
   "pygments_lexer": "ipython3",
   "version": "3.9.12"
  }
 },
 "nbformat": 4,
 "nbformat_minor": 5
}
