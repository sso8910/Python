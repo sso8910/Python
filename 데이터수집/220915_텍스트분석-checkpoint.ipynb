{
 "cells": [
  {
   "cell_type": "code",
   "execution_count": 1,
   "id": "c260ef2a",
   "metadata": {},
   "outputs": [
    {
     "data": {
      "text/plain": [
       "['설치']"
      ]
     },
     "execution_count": 1,
     "metadata": {},
     "output_type": "execute_result"
    }
   ],
   "source": [
    "from konlpy.tag import Okt\n",
    "okt=Okt()\n",
    "\n",
    "okt.morphs('설치')"
   ]
  },
  {
   "cell_type": "code",
   "execution_count": 2,
   "id": "041e50c9",
   "metadata": {},
   "outputs": [
    {
     "data": {
      "text/plain": [
       "['설치', '가', '잘', '되었는지', '확인', '해봅시다', '.']"
      ]
     },
     "execution_count": 2,
     "metadata": {},
     "output_type": "execute_result"
    }
   ],
   "source": [
    "okt.morphs('설치가 잘 되었는지 확인해봅시다.')"
   ]
  },
  {
   "cell_type": "code",
   "execution_count": 3,
   "id": "2ae6a6a2",
   "metadata": {},
   "outputs": [],
   "source": [
    "text= '나는 오늘 친구와 함께 영화를 볼 계획이다'"
   ]
  },
  {
   "cell_type": "code",
   "execution_count": 4,
   "id": "102f5408",
   "metadata": {},
   "outputs": [
    {
     "data": {
      "text/plain": [
       "[('나', 'Noun'),\n",
       " ('는', 'Josa'),\n",
       " ('오늘', 'Noun'),\n",
       " ('친구', 'Noun'),\n",
       " ('와', 'Josa'),\n",
       " ('함께', 'Adverb'),\n",
       " ('영화', 'Noun'),\n",
       " ('를', 'Josa'),\n",
       " ('볼', 'Noun'),\n",
       " ('계획', 'Noun'),\n",
       " ('이다', 'Josa')]"
      ]
     },
     "execution_count": 4,
     "metadata": {},
     "output_type": "execute_result"
    }
   ],
   "source": [
    "okt.pos(text)"
   ]
  },
  {
   "cell_type": "code",
   "execution_count": 5,
   "id": "eb5c3833",
   "metadata": {},
   "outputs": [
    {
     "data": {
      "text/plain": [
       "['나', '오늘', '친구', '영화', '볼', '계획']"
      ]
     },
     "execution_count": 5,
     "metadata": {},
     "output_type": "execute_result"
    }
   ],
   "source": [
    "okt.nouns(text)"
   ]
  },
  {
   "cell_type": "code",
   "execution_count": 20,
   "id": "d57cac27",
   "metadata": {},
   "outputs": [],
   "source": [
    "text2='나는 오늘 끝나고 맛있는거 먹을꺼얔ㅋㅋㅋ'"
   ]
  },
  {
   "cell_type": "code",
   "execution_count": 21,
   "id": "e2adb2fe",
   "metadata": {},
   "outputs": [
    {
     "data": {
      "text/plain": [
       "['나', '는', '오늘', '끝나다', '맛있다', '먹다', '얔', 'ㅋㅋㅋ']"
      ]
     },
     "execution_count": 21,
     "metadata": {},
     "output_type": "execute_result"
    }
   ],
   "source": [
    "okt.morphs(text2,stem=True) #어근화 진행해서 동사변경\n",
    "#okt.pos()"
   ]
  },
  {
   "cell_type": "code",
   "execution_count": 22,
   "id": "791a52ee",
   "metadata": {},
   "outputs": [
    {
     "data": {
      "text/plain": [
       "['나', '는', '오늘', '끝나고', '맛있는거', '먹을꺼야', 'ㅋㅋㅋ']"
      ]
     },
     "execution_count": 22,
     "metadata": {},
     "output_type": "execute_result"
    }
   ],
   "source": [
    "okt.morphs(text2, norm=True) #문장의 마지막만 정규화됨"
   ]
  },
  {
   "cell_type": "code",
   "execution_count": 23,
   "id": "4c6b1fee",
   "metadata": {},
   "outputs": [
    {
     "data": {
      "text/plain": [
       "['나', '는', '오늘', '끝나다', '맛있다', '먹다', 'ㅋㅋㅋ']"
      ]
     },
     "execution_count": 23,
     "metadata": {},
     "output_type": "execute_result"
    }
   ],
   "source": [
    "okt.morphs(text2,norm=True, stem=True) # 어간,문장마지막 다 정규화시킴"
   ]
  },
  {
   "cell_type": "code",
   "execution_count": 24,
   "id": "e37aa532",
   "metadata": {},
   "outputs": [
    {
     "data": {
      "text/plain": [
       "[('나', 'Noun'),\n",
       " ('는', 'Josa'),\n",
       " ('오늘', 'Noun'),\n",
       " ('끝나고', 'Verb'),\n",
       " ('맛있는거', 'Adjective'),\n",
       " ('먹을꺼', 'Verb'),\n",
       " ('얔', 'Noun'),\n",
       " ('ㅋㅋㅋ', 'KoreanParticle')]"
      ]
     },
     "execution_count": 24,
     "metadata": {},
     "output_type": "execute_result"
    }
   ],
   "source": [
    "okt.pos(text2)"
   ]
  },
  {
   "cell_type": "markdown",
   "id": "eaa38c64",
   "metadata": {},
   "source": [
    "### define 함수"
   ]
  },
  {
   "cell_type": "code",
   "execution_count": 29,
   "id": "cc5eb49e",
   "metadata": {},
   "outputs": [],
   "source": [
    "text= '나는 오늘 끝나고 저녁 맛있는거 먹을꺼얔ㅋㅋㅋ'"
   ]
  },
  {
   "cell_type": "code",
   "execution_count": 12,
   "id": "28da7e08",
   "metadata": {},
   "outputs": [],
   "source": [
    "def extract_nouns(string):   #string 대신 text, 변수형으로 적어주는게 좋음\n",
    "    nouns = okt.nouns(string)\n",
    "    return nouns"
   ]
  },
  {
   "cell_type": "code",
   "execution_count": 35,
   "id": "da98833a",
   "metadata": {},
   "outputs": [],
   "source": [
    "#불용어 리스트 \n",
    "stopwords=['있다', '하다', '되다', '먹다']"
   ]
  },
  {
   "cell_type": "code",
   "execution_count": 36,
   "id": "4fcbe9fc",
   "metadata": {},
   "outputs": [],
   "source": [
    "def extract_tag(string):\n",
    "    result_words=[]\n",
    "    result = okt.pos(string, stem=True, norm=True)\n",
    "    for word, tag in result:\n",
    "        if tag in ['Verb','Noun','Adjective']:\n",
    "            if word not in stopwords:\n",
    "                result_words.append(word)\n",
    "            \n",
    "    return result_words"
   ]
  },
  {
   "cell_type": "code",
   "execution_count": 37,
   "id": "0aca6860",
   "metadata": {},
   "outputs": [
    {
     "data": {
      "text/plain": [
       "['나', '오늘', '끝나다', '저녁', '맛있다']"
      ]
     },
     "execution_count": 37,
     "metadata": {},
     "output_type": "execute_result"
    }
   ],
   "source": [
    "extract_tag(text)"
   ]
  },
  {
   "cell_type": "code",
   "execution_count": 16,
   "id": "57fc8891",
   "metadata": {},
   "outputs": [
    {
     "data": {
      "text/plain": [
       "'Noun'"
      ]
     },
     "execution_count": 16,
     "metadata": {},
     "output_type": "execute_result"
    }
   ],
   "source": [
    "result=okt.pos(text)\n",
    "result[0][1]"
   ]
  },
  {
   "cell_type": "markdown",
   "id": "29f11efd",
   "metadata": {},
   "source": [
    "### 영어 (nltk)"
   ]
  },
  {
   "cell_type": "code",
   "execution_count": 39,
   "id": "81ca0811",
   "metadata": {},
   "outputs": [
    {
     "name": "stdout",
     "output_type": "stream",
     "text": [
      "Requirement already satisfied: nltk in c:\\users\\user\\anaconda3\\lib\\site-packages (3.7)\n",
      "Requirement already satisfied: tqdm in c:\\users\\user\\anaconda3\\lib\\site-packages (from nltk) (4.64.0)\n",
      "Requirement already satisfied: regex>=2021.8.3 in c:\\users\\user\\anaconda3\\lib\\site-packages (from nltk) (2022.3.15)\n",
      "Requirement already satisfied: joblib in c:\\users\\user\\anaconda3\\lib\\site-packages (from nltk) (1.1.0)\n",
      "Requirement already satisfied: click in c:\\users\\user\\anaconda3\\lib\\site-packages (from nltk) (8.0.4)\n",
      "Requirement already satisfied: colorama in c:\\users\\user\\anaconda3\\lib\\site-packages (from click->nltk) (0.4.4)\n"
     ]
    }
   ],
   "source": [
    "!pip install nltk"
   ]
  },
  {
   "cell_type": "code",
   "execution_count": 41,
   "id": "337226d3",
   "metadata": {},
   "outputs": [],
   "source": [
    "import nltk\n",
    "from nltk import pos_tag"
   ]
  },
  {
   "cell_type": "code",
   "execution_count": 42,
   "id": "aeae2bcf",
   "metadata": {},
   "outputs": [],
   "source": [
    "text = 'The little yellow dog barked at the Persian cat'"
   ]
  },
  {
   "cell_type": "code",
   "execution_count": 44,
   "id": "235deae8",
   "metadata": {},
   "outputs": [
    {
     "name": "stderr",
     "output_type": "stream",
     "text": [
      "[nltk_data] Downloading package punkt to\n",
      "[nltk_data]     C:\\Users\\user\\AppData\\Roaming\\nltk_data...\n",
      "[nltk_data]   Unzipping tokenizers\\punkt.zip.\n"
     ]
    },
    {
     "data": {
      "text/plain": [
       "True"
      ]
     },
     "execution_count": 44,
     "metadata": {},
     "output_type": "execute_result"
    }
   ],
   "source": [
    "nltk.download('punkt')"
   ]
  },
  {
   "cell_type": "code",
   "execution_count": 46,
   "id": "e8bfaf0d",
   "metadata": {},
   "outputs": [
    {
     "data": {
      "text/plain": [
       "['The', 'little', 'yellow', 'dog', 'barked', 'at', 'the', 'Persian', 'cat']"
      ]
     },
     "execution_count": 46,
     "metadata": {},
     "output_type": "execute_result"
    }
   ],
   "source": [
    "split_text = nltk.word_tokenize(text)\n",
    "split_text"
   ]
  },
  {
   "cell_type": "code",
   "execution_count": 48,
   "id": "35d2ca16",
   "metadata": {},
   "outputs": [
    {
     "name": "stderr",
     "output_type": "stream",
     "text": [
      "[nltk_data] Downloading package averaged_perceptron_tagger to\n",
      "[nltk_data]     C:\\Users\\user\\AppData\\Roaming\\nltk_data...\n",
      "[nltk_data]   Unzipping taggers\\averaged_perceptron_tagger.zip.\n"
     ]
    },
    {
     "data": {
      "text/plain": [
       "True"
      ]
     },
     "execution_count": 48,
     "metadata": {},
     "output_type": "execute_result"
    }
   ],
   "source": [
    "nltk.download('averaged_perceptron_tagger')"
   ]
  },
  {
   "cell_type": "code",
   "execution_count": 49,
   "id": "441b0282",
   "metadata": {},
   "outputs": [
    {
     "data": {
      "text/plain": [
       "[('The', 'DT'),\n",
       " ('little', 'JJ'),\n",
       " ('yellow', 'JJ'),\n",
       " ('dog', 'NN'),\n",
       " ('barked', 'VBD'),\n",
       " ('at', 'IN'),\n",
       " ('the', 'DT'),\n",
       " ('Persian', 'JJ'),\n",
       " ('cat', 'NN')]"
      ]
     },
     "execution_count": 49,
     "metadata": {},
     "output_type": "execute_result"
    }
   ],
   "source": [
    "nltk.pos_tag(split_text)"
   ]
  },
  {
   "cell_type": "code",
   "execution_count": 50,
   "id": "420dd92b",
   "metadata": {},
   "outputs": [
    {
     "name": "stderr",
     "output_type": "stream",
     "text": [
      "[nltk_data] Downloading package stopwords to\n",
      "[nltk_data]     C:\\Users\\user\\AppData\\Roaming\\nltk_data...\n",
      "[nltk_data]   Unzipping corpora\\stopwords.zip.\n"
     ]
    },
    {
     "data": {
      "text/plain": [
       "True"
      ]
     },
     "execution_count": 50,
     "metadata": {},
     "output_type": "execute_result"
    }
   ],
   "source": [
    "nltk.download('stopwords')"
   ]
  },
  {
   "cell_type": "code",
   "execution_count": 51,
   "id": "cec3154c",
   "metadata": {},
   "outputs": [
    {
     "data": {
      "text/plain": [
       "['i',\n",
       " 'me',\n",
       " 'my',\n",
       " 'myself',\n",
       " 'we',\n",
       " 'our',\n",
       " 'ours',\n",
       " 'ourselves',\n",
       " 'you',\n",
       " \"you're\",\n",
       " \"you've\",\n",
       " \"you'll\",\n",
       " \"you'd\",\n",
       " 'your',\n",
       " 'yours',\n",
       " 'yourself',\n",
       " 'yourselves',\n",
       " 'he',\n",
       " 'him',\n",
       " 'his',\n",
       " 'himself',\n",
       " 'she',\n",
       " \"she's\",\n",
       " 'her',\n",
       " 'hers',\n",
       " 'herself',\n",
       " 'it',\n",
       " \"it's\",\n",
       " 'its',\n",
       " 'itself',\n",
       " 'they',\n",
       " 'them',\n",
       " 'their',\n",
       " 'theirs',\n",
       " 'themselves',\n",
       " 'what',\n",
       " 'which',\n",
       " 'who',\n",
       " 'whom',\n",
       " 'this',\n",
       " 'that',\n",
       " \"that'll\",\n",
       " 'these',\n",
       " 'those',\n",
       " 'am',\n",
       " 'is',\n",
       " 'are',\n",
       " 'was',\n",
       " 'were',\n",
       " 'be',\n",
       " 'been',\n",
       " 'being',\n",
       " 'have',\n",
       " 'has',\n",
       " 'had',\n",
       " 'having',\n",
       " 'do',\n",
       " 'does',\n",
       " 'did',\n",
       " 'doing',\n",
       " 'a',\n",
       " 'an',\n",
       " 'the',\n",
       " 'and',\n",
       " 'but',\n",
       " 'if',\n",
       " 'or',\n",
       " 'because',\n",
       " 'as',\n",
       " 'until',\n",
       " 'while',\n",
       " 'of',\n",
       " 'at',\n",
       " 'by',\n",
       " 'for',\n",
       " 'with',\n",
       " 'about',\n",
       " 'against',\n",
       " 'between',\n",
       " 'into',\n",
       " 'through',\n",
       " 'during',\n",
       " 'before',\n",
       " 'after',\n",
       " 'above',\n",
       " 'below',\n",
       " 'to',\n",
       " 'from',\n",
       " 'up',\n",
       " 'down',\n",
       " 'in',\n",
       " 'out',\n",
       " 'on',\n",
       " 'off',\n",
       " 'over',\n",
       " 'under',\n",
       " 'again',\n",
       " 'further',\n",
       " 'then',\n",
       " 'once',\n",
       " 'here',\n",
       " 'there',\n",
       " 'when',\n",
       " 'where',\n",
       " 'why',\n",
       " 'how',\n",
       " 'all',\n",
       " 'any',\n",
       " 'both',\n",
       " 'each',\n",
       " 'few',\n",
       " 'more',\n",
       " 'most',\n",
       " 'other',\n",
       " 'some',\n",
       " 'such',\n",
       " 'no',\n",
       " 'nor',\n",
       " 'not',\n",
       " 'only',\n",
       " 'own',\n",
       " 'same',\n",
       " 'so',\n",
       " 'than',\n",
       " 'too',\n",
       " 'very',\n",
       " 's',\n",
       " 't',\n",
       " 'can',\n",
       " 'will',\n",
       " 'just',\n",
       " 'don',\n",
       " \"don't\",\n",
       " 'should',\n",
       " \"should've\",\n",
       " 'now',\n",
       " 'd',\n",
       " 'll',\n",
       " 'm',\n",
       " 'o',\n",
       " 're',\n",
       " 've',\n",
       " 'y',\n",
       " 'ain',\n",
       " 'aren',\n",
       " \"aren't\",\n",
       " 'couldn',\n",
       " \"couldn't\",\n",
       " 'didn',\n",
       " \"didn't\",\n",
       " 'doesn',\n",
       " \"doesn't\",\n",
       " 'hadn',\n",
       " \"hadn't\",\n",
       " 'hasn',\n",
       " \"hasn't\",\n",
       " 'haven',\n",
       " \"haven't\",\n",
       " 'isn',\n",
       " \"isn't\",\n",
       " 'ma',\n",
       " 'mightn',\n",
       " \"mightn't\",\n",
       " 'mustn',\n",
       " \"mustn't\",\n",
       " 'needn',\n",
       " \"needn't\",\n",
       " 'shan',\n",
       " \"shan't\",\n",
       " 'shouldn',\n",
       " \"shouldn't\",\n",
       " 'wasn',\n",
       " \"wasn't\",\n",
       " 'weren',\n",
       " \"weren't\",\n",
       " 'won',\n",
       " \"won't\",\n",
       " 'wouldn',\n",
       " \"wouldn't\"]"
      ]
     },
     "execution_count": 51,
     "metadata": {},
     "output_type": "execute_result"
    }
   ],
   "source": [
    "nltk.corpus.stopwords.words('english') #다 소문자로 되어 있고, text를 소문자로 변경하고 사용해야함"
   ]
  },
  {
   "cell_type": "code",
   "execution_count": 52,
   "id": "ee7474ed",
   "metadata": {},
   "outputs": [
    {
     "data": {
      "text/plain": [
       "'the little yellow dog barked at the persian cat'"
      ]
     },
     "execution_count": 52,
     "metadata": {},
     "output_type": "execute_result"
    }
   ],
   "source": [
    "text.lower()"
   ]
  },
  {
   "cell_type": "code",
   "execution_count": 69,
   "id": "104950ae",
   "metadata": {},
   "outputs": [],
   "source": [
    "stopwords=nltk.corpus.stopwords.words('english')"
   ]
  },
  {
   "cell_type": "code",
   "execution_count": 77,
   "id": "892465f1",
   "metadata": {},
   "outputs": [],
   "source": [
    "text='I Love you'"
   ]
  },
  {
   "cell_type": "code",
   "execution_count": 80,
   "id": "0a9583e4",
   "metadata": {},
   "outputs": [],
   "source": [
    "def extract_tags_english(string):\n",
    "    word_list=[]\n",
    "    #string = string.lower()\n",
    "    string = nltk.word_tokenize(string)\n",
    "    string = nltk.pos_tag(string)\n",
    "    \n",
    "    for word, tag in string:\n",
    "        if tag in ['NN','NNS','NNP','JJ','JJR','JJS','VB','VBD','VBG','VBN','VBP','VBZ']:\n",
    "            if word.lower() not in stopwords:\n",
    "                word_list.append(word)\n",
    "    return word_list"
   ]
  },
  {
   "cell_type": "code",
   "execution_count": 81,
   "id": "e00c71de",
   "metadata": {},
   "outputs": [
    {
     "data": {
      "text/plain": [
       "['Love']"
      ]
     },
     "execution_count": 81,
     "metadata": {},
     "output_type": "execute_result"
    }
   ],
   "source": [
    "extract_tags_english(text)"
   ]
  },
  {
   "cell_type": "markdown",
   "id": "cc2bff71",
   "metadata": {},
   "source": [
    "### Pickle 실습"
   ]
  },
  {
   "cell_type": "code",
   "execution_count": 82,
   "id": "1206e28f",
   "metadata": {},
   "outputs": [],
   "source": [
    "result = extract_tags_english(text)"
   ]
  },
  {
   "cell_type": "code",
   "execution_count": 83,
   "id": "04240d85",
   "metadata": {},
   "outputs": [
    {
     "data": {
      "text/plain": [
       "['Love']"
      ]
     },
     "execution_count": 83,
     "metadata": {},
     "output_type": "execute_result"
    }
   ],
   "source": [
    "result"
   ]
  },
  {
   "cell_type": "code",
   "execution_count": 84,
   "id": "939806bc",
   "metadata": {},
   "outputs": [],
   "source": [
    "import pickle"
   ]
  },
  {
   "cell_type": "code",
   "execution_count": 86,
   "id": "f914c739",
   "metadata": {},
   "outputs": [],
   "source": [
    "#저장\n",
    "with open('save_data.pkl','wb') as f:\n",
    "    pickle.dump(result,f)"
   ]
  },
  {
   "cell_type": "code",
   "execution_count": 87,
   "id": "09c0ee2e",
   "metadata": {},
   "outputs": [],
   "source": [
    "#불러오기\n",
    "with open('save_data.pkl','rb') as f:\n",
    "    data = pickle.load(f)"
   ]
  },
  {
   "cell_type": "code",
   "execution_count": 88,
   "id": "3c175c0c",
   "metadata": {},
   "outputs": [
    {
     "data": {
      "text/plain": [
       "['Love']"
      ]
     },
     "execution_count": 88,
     "metadata": {},
     "output_type": "execute_result"
    }
   ],
   "source": [
    "data"
   ]
  },
  {
   "cell_type": "markdown",
   "id": "6c860e2a",
   "metadata": {},
   "source": [
    "#### 스크랩핑이 안됩니다 ㅠㅠ 클래스가 없는경우\n",
    "- soup 써서 해결합니다!"
   ]
  },
  {
   "cell_type": "markdown",
   "id": "c7eac28f",
   "metadata": {},
   "source": [
    "dates=soup.find_all('span',{'data-hook':'review-date'})"
   ]
  }
 ],
 "metadata": {
  "kernelspec": {
   "display_name": "Python 3 (ipykernel)",
   "language": "python",
   "name": "python3"
  },
  "language_info": {
   "codemirror_mode": {
    "name": "ipython",
    "version": 3
   },
   "file_extension": ".py",
   "mimetype": "text/x-python",
   "name": "python",
   "nbconvert_exporter": "python",
   "pygments_lexer": "ipython3",
   "version": "3.9.12"
  }
 },
 "nbformat": 4,
 "nbformat_minor": 5
}
