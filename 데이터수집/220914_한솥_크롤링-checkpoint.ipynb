{
 "cells": [
  {
   "cell_type": "code",
   "execution_count": 15,
   "id": "59cc7fde",
   "metadata": {},
   "outputs": [],
   "source": [
    "from selenium import webdriver\n",
    "from webdriver_manager.chrome import ChromeDriverManager\n",
    "import pandas as pd"
   ]
  },
  {
   "cell_type": "code",
   "execution_count": 16,
   "id": "41fd76f3",
   "metadata": {},
   "outputs": [],
   "source": [
    "driver = webdriver.Chrome(ChromeDriverManager().install())"
   ]
  },
  {
   "cell_type": "code",
   "execution_count": 17,
   "id": "d164ca7f",
   "metadata": {},
   "outputs": [],
   "source": [
    "driver.get(\"https://www.hsd.co.kr/\")"
   ]
  },
  {
   "cell_type": "code",
   "execution_count": 18,
   "id": "7802458c",
   "metadata": {},
   "outputs": [],
   "source": [
    "#창 최대화하기\n",
    "driver.maximize_window()"
   ]
  },
  {
   "cell_type": "code",
   "execution_count": 19,
   "id": "eed9e32b",
   "metadata": {},
   "outputs": [],
   "source": [
    "#전체메뉴 xpath주소\n",
    "menu = driver.find_element_by_xpath('//*[@id=\"gnb\"]/div[2]/ul/li[3]/p/a')\n",
    "all_menu=driver.find_element_by_xpath('//*[@id=\"gnb\"]/div[2]/ul/li[3]/div/ul/li[1]/a')"
   ]
  },
  {
   "cell_type": "markdown",
   "id": "98cdee2b",
   "metadata": {},
   "source": [
    "### 액션체인만들기"
   ]
  },
  {
   "cell_type": "code",
   "execution_count": 20,
   "id": "532d1033",
   "metadata": {},
   "outputs": [],
   "source": [
    "from selenium.webdriver.common.action_chains import ActionChains"
   ]
  },
  {
   "cell_type": "code",
   "execution_count": 21,
   "id": "3345b41b",
   "metadata": {},
   "outputs": [],
   "source": [
    "#액션만들기\n",
    "actions=ActionChains(driver)\n",
    "#메뉴버튼 \n",
    "actions.move_to_element(menu)\n",
    "#전체메뉴클릭하기\n",
    "actions.click(all_menu)\n",
    "actions.perform()"
   ]
  },
  {
   "cell_type": "markdown",
   "id": "b9dae6a9",
   "metadata": {},
   "source": [
    "### 메뉴이름/가격수집+더보기버튼(while문 사용)_쌤"
   ]
  },
  {
   "cell_type": "code",
   "execution_count": 46,
   "id": "a9f8116f",
   "metadata": {},
   "outputs": [],
   "source": [
    "#더보기버튼_누르기\n",
    "while True:\n",
    "    try:\n",
    "        btn=driver.find_element_by_css_selector('#btn_more > span > a')\n",
    "        btn.click()\n",
    "    except:\n",
    "        break"
   ]
  },
  {
   "cell_type": "code",
   "execution_count": 48,
   "id": "cba60c2e",
   "metadata": {},
   "outputs": [],
   "source": [
    "#메뉴 뽑기\n",
    "#name = driver.find_element_by_css_selector('#menuList_457 > div > div.item-text > h4')\n",
    "title = driver.find_elements_by_css_selector('h4.h.fz_03')"
   ]
  },
  {
   "cell_type": "code",
   "execution_count": 49,
   "id": "c8290032",
   "metadata": {},
   "outputs": [
    {
     "name": "stdout",
     "output_type": "stream",
     "text": [
      "데미햄버그 불고기 파스타\n",
      "데미햄버그 불고기 덮밥\n",
      "아보카도 게맛살 명란비빔밥\n",
      "아보카도 소고기 명란비빔밥\n",
      "핫 치즈 닭갈비덮밥\n",
      "오리지널 치즈 닭갈비덮밥\n",
      "매화(순살 고등어 간장구이)\n",
      "진달래\n",
      "개나리(순살 고등어 간장구이)\n",
      "돈까스도련님고기고기\n",
      "탕수육도련님고기고기\n",
      "새치 고기고기\n",
      "돈치 고기고기\n",
      "오븐구이 오리도시락\n",
      "숯불직화구이\n",
      "소불고기\n",
      "메가치킨제육\n",
      "칠리 찹쌀탕수육도련님\n",
      "동백\n",
      "치킨제육\n",
      "돈까스도련님\n",
      "제육볶음\n",
      "돈치스팸 도시락\n",
      "제육 김치찌개 정식\n",
      "제육 김치 부대찌개 정식\n",
      "돈치스팸 김치 부대찌개 정식\n",
      "빅치킨마요 김치 부대찌개 정식\n",
      "치킨마요 김치 부대찌개 정식\n",
      "빅치킨마요 김치찌개 정식\n",
      "치킨마요 김치찌개 정식\n",
      "메가스팸마요\n",
      "스팸마요\n",
      "메가치킨마요\n",
      "왕치킨마요\n",
      "빅치킨마요\n",
      "치킨마요\n",
      "참치마요\n",
      "돈치마요\n",
      "돈까스 카레\n",
      "스팸 김치볶음밥\n",
      "김치볶음밥\n",
      "스팸철판볶음밥\n",
      "소불고기 철판볶음밥\n",
      "나시고랭\n",
      "묵은지 김치찌개\n",
      "김치 부대찌개\n",
      "숯불직화구이 덮밥\n",
      "마파두부 덮밥\n",
      "왕카레돈까스덮밥\n",
      "새우돈까스 덮밥\n",
      "돈까스 덮밥\n",
      "열무 감초고추장 비빔밥\n",
      "열무 두부강된장 비빔밥\n",
      "소불고기 감초고추장 비빔밥\n",
      "시골제육 두부강된장 비빔밥\n",
      "참치야채 감초고추장\n",
      "튼튼도시락\n",
      "토네이도 소세지 파스타\n",
      "트리플 치즈 파스타\n",
      "토마토 미트 파스타\n",
      "반찬 계란말이\n",
      "반찬 묵은지김치찌개\n",
      "반찬 카레\n",
      "반찬 순살 고등어데리야끼\n",
      "반찬 김치 부대찌개\n",
      "반찬 치킨\n",
      "반찬 고기고기\n",
      "반찬 돈까스 도련님\n",
      "반찬 제육볶음\n",
      "반찬 토네이도 소세지\n",
      "반찬 반달돈까스\n",
      "뉴 감자고로케\n",
      "미니 찹쌀핫도그\n",
      "미니 찹쌀탕수육\n",
      "케이준후라이\n",
      "고메이 크림 고로케\n",
      "후라이드 순살(소)_스리라차마요소스\n",
      "후라이드 순살(중)\n",
      "후라이드 순살(소)_양념치킨소스\n",
      "후라이드 순살(소)_케이준소스\n",
      "오리지널 닭강정(중)\n",
      "오리지널 닭강정(소)\n",
      "무생채\n",
      "열무김치\n",
      "오징어젓갈\n",
      "한솥 두부강된장소스\n",
      "한솥 감초볶음고추장소스\n",
      "볶음김치\n",
      "김치\n",
      "무말랭이 무침\n",
      "한솥밥\n",
      "현미밥\n",
      "리얼 티라미수 찰떡\n",
      "리얼꿀 미니호떡\n"
     ]
    }
   ],
   "source": [
    "for i in title:\n",
    "    print(i.text)"
   ]
  },
  {
   "cell_type": "code",
   "execution_count": null,
   "id": "97a44bd1",
   "metadata": {},
   "outputs": [],
   "source": [
    "#가격 뽑기"
   ]
  },
  {
   "cell_type": "code",
   "execution_count": null,
   "id": "814da76b",
   "metadata": {},
   "outputs": [],
   "source": [
    "#menuList_457 > div > div.item-text > div > strong"
   ]
  },
  {
   "cell_type": "code",
   "execution_count": 53,
   "id": "d5bc1fd5",
   "metadata": {},
   "outputs": [],
   "source": [
    "price = driver.find_elements_by_css_selector('div.item-price>strong')"
   ]
  },
  {
   "cell_type": "code",
   "execution_count": 54,
   "id": "bb0be559",
   "metadata": {},
   "outputs": [
    {
     "name": "stdout",
     "output_type": "stream",
     "text": [
      "5,200\n",
      "4,800\n",
      "6,500\n",
      "6,500\n",
      "5,900\n",
      "5,900\n",
      "10,000\n",
      "7,500\n",
      "8,000\n",
      "6,000\n",
      "5,800\n",
      "6,700\n",
      "5,800\n",
      "6,900\n",
      "6,500\n",
      "5,400\n",
      "7,000\n",
      "4,200\n",
      "5,800\n",
      "4,700\n",
      "4,500\n",
      "4,200\n",
      "4,900\n",
      "8,200\n",
      "8,500\n",
      "8,500\n",
      "7,500\n",
      "6,900\n",
      "7,000\n",
      "6,500\n",
      "5,600\n",
      "3,700\n",
      "5,800\n",
      "4,800\n",
      "4,100\n",
      "3,500\n",
      "3,200\n",
      "3,800\n",
      "4,500\n",
      "4,700\n",
      "3,900\n",
      "4,500\n",
      "4,700\n",
      "6,000\n",
      "4,500\n",
      "5,800\n",
      "5,900\n",
      "5,000\n",
      "5,900\n",
      "4,100\n",
      "4,000\n",
      "4,500\n",
      "4,900\n",
      "5,200\n",
      "5,000\n",
      "3,300\n",
      "5,000\n",
      "5,500\n",
      "5,500\n",
      "4,500\n",
      "2,500\n",
      "4,000\n",
      "2,800\n",
      "3,600\n",
      "4,500\n",
      "3,600\n",
      "3,400\n",
      "3,800\n",
      "3,200\n",
      "2,600\n",
      "2,800\n",
      "2,700\n",
      "2,500\n",
      "2,200\n",
      "1,700\n",
      "3,500\n",
      "4,000\n",
      "7,500\n",
      "4,000\n",
      "4,000\n",
      "8,000\n",
      "3,400\n",
      "400\n",
      "500\n",
      "500\n",
      "1,800\n",
      "500\n",
      "500\n",
      "400\n",
      "400\n",
      "1,000\n",
      "1,700\n",
      "1,500\n",
      "2,200\n"
     ]
    }
   ],
   "source": [
    "for i in price:\n",
    "    print(i.text)"
   ]
  },
  {
   "cell_type": "code",
   "execution_count": 56,
   "id": "d23caf84",
   "metadata": {},
   "outputs": [],
   "source": [
    "import time"
   ]
  },
  {
   "cell_type": "code",
   "execution_count": 57,
   "id": "30beaffd",
   "metadata": {},
   "outputs": [],
   "source": [
    "#전체정리\n",
    "\n",
    "#더보기버튼_누르기\n",
    "while True:\n",
    "    try:\n",
    "        btn=driver.find_element_by_css_selector('#btn_more > span > a')\n",
    "        btn.click()\n",
    "        time.sleep(1)  #여기에 time을 넣는 이유는 더보기가 나오고 끝인지 확인하는 시간을 줌\n",
    "    except:\n",
    "        break\n",
    "\n",
    "        \n",
    "#메뉴 뽑기\n",
    "title = driver.find_elements_by_css_selector('h4.h.fz_03')\n",
    "\n",
    "#가격\n",
    "price = driver.find_elements_by_css_selector('div.item-price>strong')"
   ]
  },
  {
   "cell_type": "code",
   "execution_count": 59,
   "id": "779fd43d",
   "metadata": {},
   "outputs": [],
   "source": [
    "title_list=[]\n",
    "for i in title:\n",
    "    title_list.append(i.text)\n",
    "\n",
    "price_list=[]\n",
    "for i in price:\n",
    "    price_list.append(i.text)"
   ]
  },
  {
   "cell_type": "code",
   "execution_count": 60,
   "id": "03d9b93b",
   "metadata": {},
   "outputs": [],
   "source": [
    "data={'메뉴명':title_list,'가격':price_list}"
   ]
  },
  {
   "cell_type": "code",
   "execution_count": 61,
   "id": "fb0272f8",
   "metadata": {},
   "outputs": [
    {
     "data": {
      "text/html": [
       "<div>\n",
       "<style scoped>\n",
       "    .dataframe tbody tr th:only-of-type {\n",
       "        vertical-align: middle;\n",
       "    }\n",
       "\n",
       "    .dataframe tbody tr th {\n",
       "        vertical-align: top;\n",
       "    }\n",
       "\n",
       "    .dataframe thead th {\n",
       "        text-align: right;\n",
       "    }\n",
       "</style>\n",
       "<table border=\"1\" class=\"dataframe\">\n",
       "  <thead>\n",
       "    <tr style=\"text-align: right;\">\n",
       "      <th></th>\n",
       "      <th>메뉴명</th>\n",
       "      <th>가격</th>\n",
       "    </tr>\n",
       "  </thead>\n",
       "  <tbody>\n",
       "    <tr>\n",
       "      <th>0</th>\n",
       "      <td>데미햄버그 불고기 파스타</td>\n",
       "      <td>5,200</td>\n",
       "    </tr>\n",
       "    <tr>\n",
       "      <th>1</th>\n",
       "      <td>데미햄버그 불고기 덮밥</td>\n",
       "      <td>4,800</td>\n",
       "    </tr>\n",
       "    <tr>\n",
       "      <th>2</th>\n",
       "      <td>아보카도 게맛살 명란비빔밥</td>\n",
       "      <td>6,500</td>\n",
       "    </tr>\n",
       "    <tr>\n",
       "      <th>3</th>\n",
       "      <td>아보카도 소고기 명란비빔밥</td>\n",
       "      <td>6,500</td>\n",
       "    </tr>\n",
       "    <tr>\n",
       "      <th>4</th>\n",
       "      <td>핫 치즈 닭갈비덮밥</td>\n",
       "      <td>5,900</td>\n",
       "    </tr>\n",
       "    <tr>\n",
       "      <th>...</th>\n",
       "      <td>...</td>\n",
       "      <td>...</td>\n",
       "    </tr>\n",
       "    <tr>\n",
       "      <th>89</th>\n",
       "      <td>무말랭이 무침</td>\n",
       "      <td>400</td>\n",
       "    </tr>\n",
       "    <tr>\n",
       "      <th>90</th>\n",
       "      <td>한솥밥</td>\n",
       "      <td>1,000</td>\n",
       "    </tr>\n",
       "    <tr>\n",
       "      <th>91</th>\n",
       "      <td>현미밥</td>\n",
       "      <td>1,700</td>\n",
       "    </tr>\n",
       "    <tr>\n",
       "      <th>92</th>\n",
       "      <td>리얼 티라미수 찰떡</td>\n",
       "      <td>1,500</td>\n",
       "    </tr>\n",
       "    <tr>\n",
       "      <th>93</th>\n",
       "      <td>리얼꿀 미니호떡</td>\n",
       "      <td>2,200</td>\n",
       "    </tr>\n",
       "  </tbody>\n",
       "</table>\n",
       "<p>94 rows × 2 columns</p>\n",
       "</div>"
      ],
      "text/plain": [
       "               메뉴명     가격\n",
       "0    데미햄버그 불고기 파스타  5,200\n",
       "1     데미햄버그 불고기 덮밥  4,800\n",
       "2   아보카도 게맛살 명란비빔밥  6,500\n",
       "3   아보카도 소고기 명란비빔밥  6,500\n",
       "4       핫 치즈 닭갈비덮밥  5,900\n",
       "..             ...    ...\n",
       "89         무말랭이 무침    400\n",
       "90             한솥밥  1,000\n",
       "91             현미밥  1,700\n",
       "92      리얼 티라미수 찰떡  1,500\n",
       "93        리얼꿀 미니호떡  2,200\n",
       "\n",
       "[94 rows x 2 columns]"
      ]
     },
     "execution_count": 61,
     "metadata": {},
     "output_type": "execute_result"
    }
   ],
   "source": [
    "food=pd.DataFrame(data)\n",
    "food"
   ]
  },
  {
   "cell_type": "markdown",
   "id": "bdfb2451",
   "metadata": {},
   "source": [
    "### soup으로 하는법(셀레니움+숩 혼용)"
   ]
  },
  {
   "cell_type": "code",
   "execution_count": 62,
   "id": "bbd2335d",
   "metadata": {},
   "outputs": [],
   "source": [
    "from bs4 import BeautifulSoup as bs"
   ]
  },
  {
   "cell_type": "code",
   "execution_count": 63,
   "id": "cbc0b76a",
   "metadata": {},
   "outputs": [],
   "source": [
    "driver = webdriver.Chrome(ChromeDriverManager().install())\n",
    "driver.get(\"https://www.hsd.co.kr/\")\n",
    "driver.maximize_window()"
   ]
  },
  {
   "cell_type": "code",
   "execution_count": 64,
   "id": "68f7e644",
   "metadata": {},
   "outputs": [],
   "source": [
    "#전체메뉴 xpath주소\n",
    "menu = driver.find_element_by_xpath('//*[@id=\"gnb\"]/div[2]/ul/li[3]/p/a')\n",
    "all_menu=driver.find_element_by_xpath('//*[@id=\"gnb\"]/div[2]/ul/li[3]/div/ul/li[1]/a')"
   ]
  },
  {
   "cell_type": "code",
   "execution_count": 65,
   "id": "5dfe27a9",
   "metadata": {},
   "outputs": [],
   "source": [
    "#액션만들기\n",
    "actions=ActionChains(driver)\n",
    "#메뉴버튼 \n",
    "actions.move_to_element(menu)\n",
    "#전체메뉴클릭하기\n",
    "actions.click(all_menu)\n",
    "actions.perform()"
   ]
  },
  {
   "cell_type": "code",
   "execution_count": 66,
   "id": "f6548807",
   "metadata": {},
   "outputs": [],
   "source": [
    "#더보기버튼_누르기\n",
    "while True:\n",
    "    try:\n",
    "        btn=driver.find_element_by_css_selector('#btn_more > span > a')\n",
    "        btn.click()\n",
    "        time.sleep(1)  #여기에 time을 넣는 이유는 더보기가 나오고 끝인지 확인하는 시간을 줌\n",
    "    except:\n",
    "        break\n"
   ]
  },
  {
   "cell_type": "code",
   "execution_count": 69,
   "id": "3e866e62",
   "metadata": {},
   "outputs": [],
   "source": [
    "soup = bs(driver.page_source,'html.parser')"
   ]
  },
  {
   "cell_type": "code",
   "execution_count": 71,
   "id": "409d5fbe",
   "metadata": {},
   "outputs": [],
   "source": [
    "title_bs=soup.select('h4.h.fz_03')"
   ]
  },
  {
   "cell_type": "code",
   "execution_count": 73,
   "id": "e56d7b4c",
   "metadata": {},
   "outputs": [],
   "source": [
    "price_bs=soup.select('div.item-price>strong')"
   ]
  },
  {
   "cell_type": "code",
   "execution_count": 74,
   "id": "e1dba2d8",
   "metadata": {},
   "outputs": [
    {
     "data": {
      "text/plain": [
       "94"
      ]
     },
     "execution_count": 74,
     "metadata": {},
     "output_type": "execute_result"
    }
   ],
   "source": [
    "len(price_bs)"
   ]
  }
 ],
 "metadata": {
  "kernelspec": {
   "display_name": "Python 3 (ipykernel)",
   "language": "python",
   "name": "python3"
  },
  "language_info": {
   "codemirror_mode": {
    "name": "ipython",
    "version": 3
   },
   "file_extension": ".py",
   "mimetype": "text/x-python",
   "name": "python",
   "nbconvert_exporter": "python",
   "pygments_lexer": "ipython3",
   "version": "3.9.12"
  }
 },
 "nbformat": 4,
 "nbformat_minor": 5
}
