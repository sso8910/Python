{
 "cells": [
  {
   "cell_type": "markdown",
   "id": "58f1a680",
   "metadata": {},
   "source": [
    "### 맛집 이름, 평점"
   ]
  },
  {
   "cell_type": "code",
   "execution_count": 1,
   "id": "68b750da",
   "metadata": {},
   "outputs": [],
   "source": [
    "from selenium import webdriver\n",
    "from bs4 import BeautifulSoup as bs\n",
    "from webdriver_manager.chrome import ChromeDriverManager\n",
    "import pandas as pd\n",
    "import time\n",
    "from tqdm import tqdm\n",
    "from selenium.webdriver.common.keys import Keys"
   ]
  },
  {
   "cell_type": "code",
   "execution_count": 7,
   "id": "7ce6d919",
   "metadata": {},
   "outputs": [],
   "source": [
    "driver = webdriver.Chrome(ChromeDriverManager().install())\n",
    "driver.get(\"https://map.kakao.com/\")\n",
    "driver.maximize_window()"
   ]
  },
  {
   "cell_type": "code",
   "execution_count": 8,
   "id": "01ad0088",
   "metadata": {},
   "outputs": [],
   "source": [
    "click_blue = driver.find_element_by_css_selector('body > div.coach_layer.coach_layer_type1 > div > div > div > span')\n",
    "click_blue.click()"
   ]
  },
  {
   "cell_type": "code",
   "execution_count": 9,
   "id": "2c2c4eee",
   "metadata": {},
   "outputs": [],
   "source": [
    "search = driver.find_element_by_css_selector('#search\\.keyword\\.query')"
   ]
  },
  {
   "cell_type": "code",
   "execution_count": 10,
   "id": "1b77212d",
   "metadata": {},
   "outputs": [],
   "source": [
    "search.send_keys('맛집')\n",
    "search.send_keys(Keys.ENTER)\n",
    "time.sleep(1)"
   ]
  },
  {
   "cell_type": "code",
   "execution_count": 11,
   "id": "6defdde9",
   "metadata": {},
   "outputs": [],
   "source": [
    "#장소 더보기\n",
    "more = driver.find_element_by_css_selector('#info\\.search\\.place\\.more')\n",
    "more.click()\n",
    "time.sleep(2)"
   ]
  },
  {
   "cell_type": "code",
   "execution_count": null,
   "id": "1035ce83",
   "metadata": {},
   "outputs": [],
   "source": [
    "#name = driver.find_elements_by_css_selector('a.link_name')\n",
    "#star = driver.find_elements_by_css_selector('span.score > em')"
   ]
  },
  {
   "cell_type": "code",
   "execution_count": null,
   "id": "44511e02",
   "metadata": {},
   "outputs": [],
   "source": [
    "#title = driver.find_elements_by_css_selector('strong.tit_name>a.link_name')\n",
    "#rating = driver.find_elements_by_css_selector('span.score > em')"
   ]
  },
  {
   "cell_type": "markdown",
   "id": "9a99b0b3",
   "metadata": {},
   "source": [
    "### 페이지 넘어가기"
   ]
  },
  {
   "cell_type": "code",
   "execution_count": 12,
   "id": "28f0538b",
   "metadata": {},
   "outputs": [],
   "source": [
    "title_list=[]\n",
    "rating_list=[]\n",
    "\n",
    "while True :\n",
    "    try:\n",
    "        for i in range(1,6):\n",
    "            page = driver.find_element_by_css_selector('#info\\.search\\.page\\.no{}'.format(i))\n",
    "            page.click()\n",
    "            time.sleep(1)\n",
    "    \n",
    "            #장소\n",
    "            title = driver.find_elements_by_css_selector('strong.tit_name>a.link_name')\n",
    "            #별점\n",
    "            rating = driver.find_elements_by_css_selector('span.score > em')\n",
    "\n",
    "            for i in title:\n",
    "                title_list.append(i.text)\n",
    "            for i in rating:\n",
    "                rating_list.append(i.text)\n",
    "            time.sleep(2)\n",
    "\n",
    "        more = driver.find_element_by_css_selector('#info\\.search\\.page\\.next')\n",
    "        more.click()\n",
    "        time.sleep(2)\n",
    "    except:\n",
    "        break"
   ]
  },
  {
   "cell_type": "code",
   "execution_count": 13,
   "id": "563c9ea6",
   "metadata": {},
   "outputs": [
    {
     "data": {
      "text/plain": [
       "(500, 500)"
      ]
     },
     "execution_count": 13,
     "metadata": {},
     "output_type": "execute_result"
    }
   ],
   "source": [
    "len(title_list),len(rating_list)"
   ]
  },
  {
   "cell_type": "code",
   "execution_count": 14,
   "id": "f0a1f006",
   "metadata": {},
   "outputs": [],
   "source": [
    "data={'상호명':title_list,'평점':rating_list}"
   ]
  },
  {
   "cell_type": "code",
   "execution_count": 16,
   "id": "129a3812",
   "metadata": {},
   "outputs": [
    {
     "data": {
      "text/html": [
       "<div>\n",
       "<style scoped>\n",
       "    .dataframe tbody tr th:only-of-type {\n",
       "        vertical-align: middle;\n",
       "    }\n",
       "\n",
       "    .dataframe tbody tr th {\n",
       "        vertical-align: top;\n",
       "    }\n",
       "\n",
       "    .dataframe thead th {\n",
       "        text-align: right;\n",
       "    }\n",
       "</style>\n",
       "<table border=\"1\" class=\"dataframe\">\n",
       "  <thead>\n",
       "    <tr style=\"text-align: right;\">\n",
       "      <th></th>\n",
       "      <th>상호명</th>\n",
       "      <th>평점</th>\n",
       "    </tr>\n",
       "  </thead>\n",
       "  <tbody>\n",
       "    <tr>\n",
       "      <th>0</th>\n",
       "      <td>오징어야</td>\n",
       "      <td>3.9</td>\n",
       "    </tr>\n",
       "    <tr>\n",
       "      <th>1</th>\n",
       "      <td>노량해전</td>\n",
       "      <td>3.6</td>\n",
       "    </tr>\n",
       "    <tr>\n",
       "      <th>2</th>\n",
       "      <td>다독이네숯불구이</td>\n",
       "      <td>4.8</td>\n",
       "    </tr>\n",
       "    <tr>\n",
       "      <th>3</th>\n",
       "      <td>운봉산장</td>\n",
       "      <td>4.3</td>\n",
       "    </tr>\n",
       "    <tr>\n",
       "      <th>4</th>\n",
       "      <td>골든볼9 본점</td>\n",
       "      <td>3.2</td>\n",
       "    </tr>\n",
       "    <tr>\n",
       "      <th>...</th>\n",
       "      <td>...</td>\n",
       "      <td>...</td>\n",
       "    </tr>\n",
       "    <tr>\n",
       "      <th>495</th>\n",
       "      <td>좌충우돌닭강정 노량진점</td>\n",
       "      <td>5.0</td>\n",
       "    </tr>\n",
       "    <tr>\n",
       "      <th>496</th>\n",
       "      <td>정가네밥상</td>\n",
       "      <td>4.0</td>\n",
       "    </tr>\n",
       "    <tr>\n",
       "      <th>497</th>\n",
       "      <td>까르페디엠</td>\n",
       "      <td>3.4</td>\n",
       "    </tr>\n",
       "    <tr>\n",
       "      <th>498</th>\n",
       "      <td>하하코식당여의도</td>\n",
       "      <td>3.8</td>\n",
       "    </tr>\n",
       "    <tr>\n",
       "      <th>499</th>\n",
       "      <td>해운대</td>\n",
       "      <td>2.3</td>\n",
       "    </tr>\n",
       "  </tbody>\n",
       "</table>\n",
       "<p>500 rows × 2 columns</p>\n",
       "</div>"
      ],
      "text/plain": [
       "              상호명   평점\n",
       "0            오징어야  3.9\n",
       "1            노량해전  3.6\n",
       "2        다독이네숯불구이  4.8\n",
       "3            운봉산장  4.3\n",
       "4         골든볼9 본점  3.2\n",
       "..            ...  ...\n",
       "495  좌충우돌닭강정 노량진점  5.0\n",
       "496         정가네밥상  4.0\n",
       "497         까르페디엠  3.4\n",
       "498      하하코식당여의도  3.8\n",
       "499           해운대  2.3\n",
       "\n",
       "[500 rows x 2 columns]"
      ]
     },
     "execution_count": 16,
     "metadata": {},
     "output_type": "execute_result"
    }
   ],
   "source": [
    "store=pd.DataFrame(data)\n",
    "store"
   ]
  },
  {
   "cell_type": "code",
   "execution_count": 17,
   "id": "395e34ec",
   "metadata": {},
   "outputs": [
    {
     "data": {
      "text/html": [
       "<div>\n",
       "<style scoped>\n",
       "    .dataframe tbody tr th:only-of-type {\n",
       "        vertical-align: middle;\n",
       "    }\n",
       "\n",
       "    .dataframe tbody tr th {\n",
       "        vertical-align: top;\n",
       "    }\n",
       "\n",
       "    .dataframe thead th {\n",
       "        text-align: right;\n",
       "    }\n",
       "</style>\n",
       "<table border=\"1\" class=\"dataframe\">\n",
       "  <thead>\n",
       "    <tr style=\"text-align: right;\">\n",
       "      <th></th>\n",
       "      <th>상호명</th>\n",
       "      <th>평점</th>\n",
       "    </tr>\n",
       "  </thead>\n",
       "  <tbody>\n",
       "    <tr>\n",
       "      <th>0</th>\n",
       "      <td>스마일명품찹쌀꽈배기</td>\n",
       "      <td>5.0</td>\n",
       "    </tr>\n",
       "    <tr>\n",
       "      <th>1</th>\n",
       "      <td>섬마을</td>\n",
       "      <td>5.0</td>\n",
       "    </tr>\n",
       "    <tr>\n",
       "      <th>2</th>\n",
       "      <td>신전떡볶이 노량진점</td>\n",
       "      <td>5.0</td>\n",
       "    </tr>\n",
       "    <tr>\n",
       "      <th>3</th>\n",
       "      <td>야마토</td>\n",
       "      <td>5.0</td>\n",
       "    </tr>\n",
       "    <tr>\n",
       "      <th>4</th>\n",
       "      <td>자담치킨 노량진1점</td>\n",
       "      <td>5.0</td>\n",
       "    </tr>\n",
       "    <tr>\n",
       "      <th>...</th>\n",
       "      <td>...</td>\n",
       "      <td>...</td>\n",
       "    </tr>\n",
       "    <tr>\n",
       "      <th>495</th>\n",
       "      <td>로지노돈부리</td>\n",
       "      <td></td>\n",
       "    </tr>\n",
       "    <tr>\n",
       "      <th>496</th>\n",
       "      <td>마루</td>\n",
       "      <td></td>\n",
       "    </tr>\n",
       "    <tr>\n",
       "      <th>497</th>\n",
       "      <td>오꼬노미스토리</td>\n",
       "      <td></td>\n",
       "    </tr>\n",
       "    <tr>\n",
       "      <th>498</th>\n",
       "      <td>두꺼비식당</td>\n",
       "      <td></td>\n",
       "    </tr>\n",
       "    <tr>\n",
       "      <th>499</th>\n",
       "      <td>벚꽃스시 상도점</td>\n",
       "      <td></td>\n",
       "    </tr>\n",
       "  </tbody>\n",
       "</table>\n",
       "<p>500 rows × 2 columns</p>\n",
       "</div>"
      ],
      "text/plain": [
       "            상호명   평점\n",
       "0    스마일명품찹쌀꽈배기  5.0\n",
       "1           섬마을  5.0\n",
       "2    신전떡볶이 노량진점  5.0\n",
       "3           야마토  5.0\n",
       "4    자담치킨 노량진1점  5.0\n",
       "..          ...  ...\n",
       "495      로지노돈부리     \n",
       "496          마루     \n",
       "497     오꼬노미스토리     \n",
       "498       두꺼비식당     \n",
       "499    벚꽃스시 상도점     \n",
       "\n",
       "[500 rows x 2 columns]"
      ]
     },
     "execution_count": 17,
     "metadata": {},
     "output_type": "execute_result"
    }
   ],
   "source": [
    "store = store.sort_values(by=['평점'], ascending = False)\n",
    "store.reset_index(drop=True)"
   ]
  }
 ],
 "metadata": {
  "kernelspec": {
   "display_name": "Python 3 (ipykernel)",
   "language": "python",
   "name": "python3"
  },
  "language_info": {
   "codemirror_mode": {
    "name": "ipython",
    "version": 3
   },
   "file_extension": ".py",
   "mimetype": "text/x-python",
   "name": "python",
   "nbconvert_exporter": "python",
   "pygments_lexer": "ipython3",
   "version": "3.9.12"
  }
 },
 "nbformat": 4,
 "nbformat_minor": 5
}
