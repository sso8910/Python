{
 "cells": [
  {
   "cell_type": "markdown",
   "id": "5a7e2bfb",
   "metadata": {},
   "source": [
    "###  if문"
   ]
  },
  {
   "cell_type": "code",
   "execution_count": 2,
   "id": "9f86fe93",
   "metadata": {},
   "outputs": [
    {
     "name": "stdout",
     "output_type": "stream",
     "text": [
      "오늘 날씨는 어때요?눈]\n",
      "챙길거없어\n"
     ]
    }
   ],
   "source": [
    "weather = input(\"오늘 날씨는 어때요?\")  \n",
    "#str으로 입력받고, int(input()):숫자로입력받음\n",
    "if weather == \"비\" or weather==\"눈\":\n",
    "    print(\"우산챙겨\")\n",
    "elif weather == \"미세먼지\": #elif여러개 작성가능\n",
    "    print(\"마스크챙겨\")\n",
    "else:\n",
    "    print(\"챙길거없어\")\n",
    "\n",
    "# 조건을 쓸 때는 and,or를 써서 연결"
   ]
  },
  {
   "cell_type": "markdown",
   "id": "cf66cb50",
   "metadata": {},
   "source": [
    "### for문"
   ]
  },
  {
   "cell_type": "code",
   "execution_count": 4,
   "id": "3eb60257",
   "metadata": {},
   "outputs": [
    {
     "name": "stdout",
     "output_type": "stream",
     "text": [
      "대기번호 : 1\n",
      "대기번호 : 2\n",
      "대기번호 : 3\n",
      "대기번호 : 4\n",
      "대기번호 : 5\n"
     ]
    }
   ],
   "source": [
    "#for waiting_no in[1,2,3,4]:\n",
    "#    print(\"대기번호 : {0}\".format(waiting_no))\n",
    "    \n",
    "for waiting_no in range(1,6):\n",
    "        print(\"대기번호 : {0}\".format(waiting_no))"
   ]
  },
  {
   "cell_type": "markdown",
   "id": "3dff2ca9",
   "metadata": {},
   "source": [
    "### while문\n",
    "- 조건에 맞을 때까지 계속 돌아감"
   ]
  },
  {
   "cell_type": "code",
   "execution_count": 5,
   "id": "94256882",
   "metadata": {},
   "outputs": [
    {
     "name": "stdout",
     "output_type": "stream",
     "text": [
      "토르,커피가 준비되었습니다.5번 남았어요\n",
      "토르,커피가 준비되었습니다.4번 남았어요\n",
      "토르,커피가 준비되었습니다.3번 남았어요\n",
      "토르,커피가 준비되었습니다.2번 남았어요\n",
      "토르,커피가 준비되었습니다.1번 남았어요\n",
      "커피는 폐기처분되었습니다.\n"
     ]
    }
   ],
   "source": [
    "customer=\"토르\"\n",
    "index = 5\n",
    "while index>=1:\n",
    "    print(\"{0},커피가 준비되었습니다.{1}번 남았어요\".format(customer,index))\n",
    "    index-=1\n",
    "    if index==0:\n",
    "        print(\"커피는 폐기처분되었습니다.\")"
   ]
  },
  {
   "cell_type": "markdown",
   "id": "44df166a",
   "metadata": {},
   "source": [
    "### continue와 break"
   ]
  },
  {
   "cell_type": "code",
   "execution_count": 7,
   "id": "dde60bda",
   "metadata": {},
   "outputs": [
    {
     "name": "stdout",
     "output_type": "stream",
     "text": [
      "1,책을 읽어봐\n",
      "3,책을 읽어봐\n",
      "4,책을 읽어봐\n",
      "6,책을 읽어봐\n",
      "수업여기까지.7는 교무실로\n"
     ]
    }
   ],
   "source": [
    "absent = [2,5] #결석\n",
    "no_book = [7] #책 깜빡\n",
    "for student in range(1,11):\n",
    "    if student in absent:\n",
    "        continue\n",
    "    elif student in no_book:\n",
    "        print(\"수업여기까지.{0}는 교무실로\".format(student))\n",
    "        break\n",
    "    print(\"{0},책을 읽어봐\".format(student))"
   ]
  },
  {
   "cell_type": "markdown",
   "id": "6dec06a0",
   "metadata": {},
   "source": [
    "### 한 줄 for문"
   ]
  },
  {
   "cell_type": "code",
   "execution_count": 8,
   "id": "de333e62",
   "metadata": {},
   "outputs": [
    {
     "name": "stdout",
     "output_type": "stream",
     "text": [
      "[1, 2, 3, 4, 5]\n",
      "[101, 102, 103, 104, 105]\n"
     ]
    }
   ],
   "source": [
    "students=[1,2,3,4,5]\n",
    "print(students)\n",
    "students=[i+100 for i in students]\n",
    "print(students)"
   ]
  },
  {
   "cell_type": "code",
   "execution_count": 14,
   "id": "bda8ba45",
   "metadata": {},
   "outputs": [
    {
     "name": "stdout",
     "output_type": "stream",
     "text": [
      "[] 1번째 손님(소요시간:50분)\n",
      "[] 2번째 손님(소요시간:32분)\n",
      "[0] 3번째 손님(소요시간:15분)\n",
      "[] 4번째 손님(소요시간:27분)\n",
      "[] 5번째 손님(소요시간:42분)\n",
      "[] 6번째 손님(소요시간:18분)\n",
      "[] 7번째 손님(소요시간:16분)\n",
      "[] 8번째 손님(소요시간:39분)\n",
      "[] 9번째 손님(소요시간:34분)\n",
      "[] 10번째 손님(소요시간:18분)\n",
      "[] 11번째 손님(소요시간:38분)\n",
      "[] 12번째 손님(소요시간:35분)\n",
      "[] 13번째 손님(소요시간:17분)\n",
      "[] 14번째 손님(소요시간:20분)\n",
      "[] 15번째 손님(소요시간:16분)\n",
      "[] 16번째 손님(소요시간:29분)\n",
      "[] 17번째 손님(소요시간:23분)\n",
      "[] 18번째 손님(소요시간:20분)\n",
      "[] 19번째 손님(소요시간:26분)\n",
      "[0] 20번째 손님(소요시간:5분)\n",
      "[] 21번째 손님(소요시간:28분)\n",
      "[] 22번째 손님(소요시간:23분)\n",
      "[] 23번째 손님(소요시간:43분)\n",
      "[] 24번째 손님(소요시간:39분)\n",
      "[] 25번째 손님(소요시간:47분)\n",
      "[] 26번째 손님(소요시간:23분)\n",
      "[0] 27번째 손님(소요시간:6분)\n",
      "[] 28번째 손님(소요시간:23분)\n",
      "[] 29번째 손님(소요시간:37분)\n",
      "[] 30번째 손님(소요시간:22분)\n",
      "[] 31번째 손님(소요시간:22분)\n",
      "[] 32번째 손님(소요시간:19분)\n",
      "[] 33번째 손님(소요시간:39분)\n",
      "[] 34번째 손님(소요시간:38분)\n",
      "[] 35번째 손님(소요시간:39분)\n",
      "[0] 36번째 손님(소요시간:8분)\n",
      "[] 37번째 손님(소요시간:33분)\n",
      "[] 38번째 손님(소요시간:35분)\n",
      "[] 39번째 손님(소요시간:30분)\n",
      "[] 40번째 손님(소요시간:23분)\n",
      "[] 41번째 손님(소요시간:22분)\n",
      "[] 42번째 손님(소요시간:27분)\n",
      "[] 43번째 손님(소요시간:26분)\n",
      "[0] 44번째 손님(소요시간:8분)\n",
      "[] 45번째 손님(소요시간:45분)\n",
      "[] 46번째 손님(소요시간:26분)\n",
      "[0] 47번째 손님(소요시간:5분)\n",
      "[0] 48번째 손님(소요시간:5분)\n",
      "[] 49번째 손님(소요시간:46분)\n",
      "[] 50번째 손님(소요시간:28분)\n",
      "총 탑승 승객 : 7명\n"
     ]
    }
   ],
   "source": [
    "from random import *\n",
    "cnt = 0 #총탑승승객\n",
    "for i in range(1,51) : #1~50명 승객 \n",
    "    time=randrange(5,51) #5~50분소요시간\n",
    "    if 5<=time<=15 :\n",
    "        print(\"[0] {0}번째 손님(소요시간:{1}분)\".format(i,time))\n",
    "        cnt+=1\n",
    "    else:\n",
    "         print(\"[] {0}번째 손님(소요시간:{1}분)\".format(i,time))\n",
    "print(\"총 탑승 승객 : {0}명\".format(cnt))"
   ]
  },
  {
   "cell_type": "markdown",
   "id": "a5c08803",
   "metadata": {},
   "source": [
    "### 함수"
   ]
  },
  {
   "cell_type": "code",
   "execution_count": 15,
   "id": "bf9c5d5e",
   "metadata": {},
   "outputs": [],
   "source": [
    "def open_account() :   #함수를 선언할 때 def 사용\n",
    "    print(\"새로운계좌생성\")"
   ]
  },
  {
   "cell_type": "code",
   "execution_count": 16,
   "id": "a026e123",
   "metadata": {},
   "outputs": [
    {
     "name": "stdout",
     "output_type": "stream",
     "text": [
      "새로운계좌생성\n"
     ]
    }
   ],
   "source": [
    "open_account()"
   ]
  },
  {
   "cell_type": "code",
   "execution_count": 21,
   "id": "83a6358a",
   "metadata": {},
   "outputs": [
    {
     "name": "stdout",
     "output_type": "stream",
     "text": [
      "입금완료.잔액은1000원\n",
      "수수료100원, 잔액400원\n"
     ]
    }
   ],
   "source": [
    "def deposit(balance,money): #입금\n",
    "    print(\"입금완료.잔액은{0}원\".format(balance+money))\n",
    "    return balance+money\n",
    "\n",
    "def withdraw(balance,money): #출금\n",
    "    if balance>=money:\n",
    "        print(\"출금완료.잔액은{0}원\".format(balance-money))\n",
    "        return balance-money\n",
    "    else:\n",
    "        print(\"출금불가.잔액{0}원\".format(balance))\n",
    "        return balance\n",
    "def withdraw_night(balance,money) : #저녁에 출금 수수료 붙을 때\n",
    "    commission = 100\n",
    "    return commission,balance - money - commission\n",
    "balance=0\n",
    "balance=deposit(balance,1000)\n",
    "commission,balance=withdraw_night(balance,500)\n",
    "print(\"수수료{0}원, 잔액{1}원\".format(commission,balance))"
   ]
  },
  {
   "cell_type": "markdown",
   "id": "9a683d5b",
   "metadata": {},
   "source": [
    "### 가변함수"
   ]
  },
  {
   "cell_type": "code",
   "execution_count": 22,
   "id": "43b856b7",
   "metadata": {},
   "outputs": [
    {
     "name": "stdout",
     "output_type": "stream",
     "text": [
      "이름 : 유재석\t 나이:20\t파이썬자바CC++자바스크립트\n",
      "이름 : 김태호\t 나이:25\tKotlinSwift\n"
     ]
    }
   ],
   "source": [
    "def profile(name,age,*language) :\n",
    "    print(\"이름 : {0}\\t 나이:{1}\\t\".format(name,age),end=\"\")\n",
    "    for lang in language:\n",
    "        print(lang,end=\"\")\n",
    "    print()\n",
    "profile(\"유재석\",20,\"파이썬\",\"자바\",\"C\",\"C++\",\"자바스크립트\")\n",
    "profile(\"김태호\",25,\"Kotlin\",\"Swift\")"
   ]
  },
  {
   "cell_type": "code",
   "execution_count": null,
   "id": "399f3eae",
   "metadata": {},
   "outputs": [],
   "source": []
  }
 ],
 "metadata": {
  "kernelspec": {
   "display_name": "Python 3 (ipykernel)",
   "language": "python",
   "name": "python3"
  },
  "language_info": {
   "codemirror_mode": {
    "name": "ipython",
    "version": 3
   },
   "file_extension": ".py",
   "mimetype": "text/x-python",
   "name": "python",
   "nbconvert_exporter": "python",
   "pygments_lexer": "ipython3",
   "version": "3.9.12"
  }
 },
 "nbformat": 4,
 "nbformat_minor": 5
}
